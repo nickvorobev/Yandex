{
 "cells": [
  {
   "cell_type": "markdown",
   "metadata": {},
   "source": [
    "# Приоритизация гипотез для увеличения выручки интернет-магазина. А/В тест"
   ]
  },
  {
   "cell_type": "markdown",
   "metadata": {},
   "source": [
    "Есть список гипотез для увеличения выручки интернет-магазина.\n",
    "Необходимо приоритизировать гипотезы, запустить A/B-тест и проанализировать результаты.\n",
    "\n",
    "**План**:\n",
    "\n",
    "* Фреймворк ICE.\n",
    "* Фреймворк RICE.\n",
    "* Отличия в приоритизации гипотез при применении RICE и ICE.\n",
    "* Кумулятивная выручка по группам.\n",
    "* Кумулятивный средний чек по группам.\n",
    "* График относительного изменения кумулятивного среднего чека группы B к группе A.\n",
    "* График кумулятивной конверсии по группам.\n",
    "* График относительного изменения кумулятивной конверсии группы B к группе A.\n",
    "* Точечный график количества заказов по пользователям.\n",
    "* 95-й и 99-й перцентили количества заказов на пользователя. \n",
    "* Точечный график стоимостей заказов.\n",
    "* 95-й и 99-й перцентили стоимости заказов.\n",
    "* Статистическая значимость различий в конверсии между группами по «сырым» данным.\n",
    "* Статистическая значимость различий в среднем чеке заказа между группами по «сырым» данным.\n",
    "* Статистическая значимость различий в конверсии между группами по «очищенным» данным.\n",
    "* Статистическую значимость различий в среднем чеке заказа между группами по «очищенным» данным.\n",
    "* Вывод\n",
    "\n",
    "**Описание данных:**\n",
    "\n",
    "Файл /datasets/hypothesis.csv. \n",
    "* Hypothesis — краткое описание гипотезы;\n",
    "* Reach — охват пользователей по 10-балльной шкале;\n",
    "* Impact — влияние на пользователей по 10-балльной шкале;\n",
    "* Confidence — уверенность в гипотезе по 10-балльной шкале;\n",
    "* Efforts — затраты ресурсов на проверку гипотезы по 10-балльной шкале. Чем больше значение Efforts, тем дороже проверка гипотезы.\n",
    "\n",
    "Файл /datasets/orders.csv. \n",
    "* transactionId — идентификатор заказа;\n",
    "* visitorId — идентификатор пользователя, совершившего заказ;\n",
    "* date — дата, когда был совершён заказ;\n",
    "* revenue — выручка заказа;\n",
    "* group — группа A/B-теста, в которую попал заказ.\n",
    "\n",
    "Файл /datasets/visitors.csv.\n",
    "* date — дата;\n",
    "* group — группа A/B-теста;\n",
    "* visitors — количество пользователей в указанную дату в указанной группе A/B-теста"
   ]
  },
  {
   "cell_type": "markdown",
   "metadata": {},
   "source": [
    "## Предобработка данных"
   ]
  },
  {
   "cell_type": "code",
   "execution_count": 1,
   "metadata": {},
   "outputs": [],
   "source": [
    "# импортируем библиотеки\n",
    "import pandas as pd\n",
    "import matplotlib.pyplot as plt\n",
    "import datetime as dt\n",
    "import seaborn as sns\n",
    "import numpy as np\n",
    "from scipy import stats as st\n",
    "from pandas.plotting import register_matplotlib_converters\n",
    "import warnings"
   ]
  },
  {
   "cell_type": "code",
   "execution_count": 2,
   "metadata": {},
   "outputs": [],
   "source": [
    "# читаем датасеты\n",
    "hypothesis = pd.read_csv('/datasets/hypothesis.csv')\n",
    "orders = pd.read_csv('/datasets/orders.csv')\n",
    "visitors = pd.read_csv('/datasets/visitors.csv')"
   ]
  },
  {
   "cell_type": "code",
   "execution_count": 3,
   "metadata": {},
   "outputs": [
    {
     "name": "stdout",
     "output_type": "stream",
     "text": [
      "<class 'pandas.core.frame.DataFrame'>\n",
      "RangeIndex: 9 entries, 0 to 8\n",
      "Data columns (total 5 columns):\n",
      " #   Column      Non-Null Count  Dtype \n",
      "---  ------      --------------  ----- \n",
      " 0   Hypothesis  9 non-null      object\n",
      " 1   Reach       9 non-null      int64 \n",
      " 2   Impact      9 non-null      int64 \n",
      " 3   Confidence  9 non-null      int64 \n",
      " 4   Efforts     9 non-null      int64 \n",
      "dtypes: int64(4), object(1)\n",
      "memory usage: 488.0+ bytes\n"
     ]
    },
    {
     "data": {
      "text/html": [
       "<div>\n",
       "<style scoped>\n",
       "    .dataframe tbody tr th:only-of-type {\n",
       "        vertical-align: middle;\n",
       "    }\n",
       "\n",
       "    .dataframe tbody tr th {\n",
       "        vertical-align: top;\n",
       "    }\n",
       "\n",
       "    .dataframe thead th {\n",
       "        text-align: right;\n",
       "    }\n",
       "</style>\n",
       "<table border=\"1\" class=\"dataframe\">\n",
       "  <thead>\n",
       "    <tr style=\"text-align: right;\">\n",
       "      <th></th>\n",
       "      <th>Hypothesis</th>\n",
       "      <th>Reach</th>\n",
       "      <th>Impact</th>\n",
       "      <th>Confidence</th>\n",
       "      <th>Efforts</th>\n",
       "    </tr>\n",
       "  </thead>\n",
       "  <tbody>\n",
       "    <tr>\n",
       "      <th>0</th>\n",
       "      <td>Добавить два новых канала привлечения трафика,...</td>\n",
       "      <td>3</td>\n",
       "      <td>10</td>\n",
       "      <td>8</td>\n",
       "      <td>6</td>\n",
       "    </tr>\n",
       "    <tr>\n",
       "      <th>1</th>\n",
       "      <td>Запустить собственную службу доставки, что сок...</td>\n",
       "      <td>2</td>\n",
       "      <td>5</td>\n",
       "      <td>4</td>\n",
       "      <td>10</td>\n",
       "    </tr>\n",
       "    <tr>\n",
       "      <th>2</th>\n",
       "      <td>Добавить блоки рекомендаций товаров на сайт ин...</td>\n",
       "      <td>8</td>\n",
       "      <td>3</td>\n",
       "      <td>7</td>\n",
       "      <td>3</td>\n",
       "    </tr>\n",
       "    <tr>\n",
       "      <th>3</th>\n",
       "      <td>Изменить структура категорий, что увеличит кон...</td>\n",
       "      <td>8</td>\n",
       "      <td>3</td>\n",
       "      <td>3</td>\n",
       "      <td>8</td>\n",
       "    </tr>\n",
       "    <tr>\n",
       "      <th>4</th>\n",
       "      <td>Изменить цвет фона главной страницы, чтобы уве...</td>\n",
       "      <td>3</td>\n",
       "      <td>1</td>\n",
       "      <td>1</td>\n",
       "      <td>1</td>\n",
       "    </tr>\n",
       "    <tr>\n",
       "      <th>5</th>\n",
       "      <td>Добавить страницу отзывов клиентов о магазине,...</td>\n",
       "      <td>3</td>\n",
       "      <td>2</td>\n",
       "      <td>2</td>\n",
       "      <td>3</td>\n",
       "    </tr>\n",
       "    <tr>\n",
       "      <th>6</th>\n",
       "      <td>Показать на главной странице баннеры с актуаль...</td>\n",
       "      <td>5</td>\n",
       "      <td>3</td>\n",
       "      <td>8</td>\n",
       "      <td>3</td>\n",
       "    </tr>\n",
       "    <tr>\n",
       "      <th>7</th>\n",
       "      <td>Добавить форму подписки на все основные страни...</td>\n",
       "      <td>10</td>\n",
       "      <td>7</td>\n",
       "      <td>8</td>\n",
       "      <td>5</td>\n",
       "    </tr>\n",
       "    <tr>\n",
       "      <th>8</th>\n",
       "      <td>Запустить акцию, дающую скидку на товар в день...</td>\n",
       "      <td>1</td>\n",
       "      <td>9</td>\n",
       "      <td>9</td>\n",
       "      <td>5</td>\n",
       "    </tr>\n",
       "  </tbody>\n",
       "</table>\n",
       "</div>"
      ],
      "text/plain": [
       "                                          Hypothesis  Reach  Impact  \\\n",
       "0  Добавить два новых канала привлечения трафика,...      3      10   \n",
       "1  Запустить собственную службу доставки, что сок...      2       5   \n",
       "2  Добавить блоки рекомендаций товаров на сайт ин...      8       3   \n",
       "3  Изменить структура категорий, что увеличит кон...      8       3   \n",
       "4  Изменить цвет фона главной страницы, чтобы уве...      3       1   \n",
       "5  Добавить страницу отзывов клиентов о магазине,...      3       2   \n",
       "6  Показать на главной странице баннеры с актуаль...      5       3   \n",
       "7  Добавить форму подписки на все основные страни...     10       7   \n",
       "8  Запустить акцию, дающую скидку на товар в день...      1       9   \n",
       "\n",
       "   Confidence  Efforts  \n",
       "0           8        6  \n",
       "1           4       10  \n",
       "2           7        3  \n",
       "3           3        8  \n",
       "4           1        1  \n",
       "5           2        3  \n",
       "6           8        3  \n",
       "7           8        5  \n",
       "8           9        5  "
      ]
     },
     "execution_count": 3,
     "metadata": {},
     "output_type": "execute_result"
    }
   ],
   "source": [
    "# изучаем датасеты\n",
    "hypothesis.info()\n",
    "hypothesis"
   ]
  },
  {
   "cell_type": "code",
   "execution_count": 4,
   "metadata": {
    "scrolled": true
   },
   "outputs": [
    {
     "name": "stdout",
     "output_type": "stream",
     "text": [
      "<class 'pandas.core.frame.DataFrame'>\n",
      "RangeIndex: 1197 entries, 0 to 1196\n",
      "Data columns (total 5 columns):\n",
      " #   Column         Non-Null Count  Dtype \n",
      "---  ------         --------------  ----- \n",
      " 0   transactionId  1197 non-null   int64 \n",
      " 1   visitorId      1197 non-null   int64 \n",
      " 2   date           1197 non-null   object\n",
      " 3   revenue        1197 non-null   int64 \n",
      " 4   group          1197 non-null   object\n",
      "dtypes: int64(3), object(2)\n",
      "memory usage: 46.9+ KB\n"
     ]
    },
    {
     "data": {
      "text/html": [
       "<div>\n",
       "<style scoped>\n",
       "    .dataframe tbody tr th:only-of-type {\n",
       "        vertical-align: middle;\n",
       "    }\n",
       "\n",
       "    .dataframe tbody tr th {\n",
       "        vertical-align: top;\n",
       "    }\n",
       "\n",
       "    .dataframe thead th {\n",
       "        text-align: right;\n",
       "    }\n",
       "</style>\n",
       "<table border=\"1\" class=\"dataframe\">\n",
       "  <thead>\n",
       "    <tr style=\"text-align: right;\">\n",
       "      <th></th>\n",
       "      <th>transactionId</th>\n",
       "      <th>visitorId</th>\n",
       "      <th>date</th>\n",
       "      <th>revenue</th>\n",
       "      <th>group</th>\n",
       "    </tr>\n",
       "  </thead>\n",
       "  <tbody>\n",
       "    <tr>\n",
       "      <th>0</th>\n",
       "      <td>3667963787</td>\n",
       "      <td>3312258926</td>\n",
       "      <td>2019-08-15</td>\n",
       "      <td>1650</td>\n",
       "      <td>B</td>\n",
       "    </tr>\n",
       "    <tr>\n",
       "      <th>1</th>\n",
       "      <td>2804400009</td>\n",
       "      <td>3642806036</td>\n",
       "      <td>2019-08-15</td>\n",
       "      <td>730</td>\n",
       "      <td>B</td>\n",
       "    </tr>\n",
       "    <tr>\n",
       "      <th>2</th>\n",
       "      <td>2961555356</td>\n",
       "      <td>4069496402</td>\n",
       "      <td>2019-08-15</td>\n",
       "      <td>400</td>\n",
       "      <td>A</td>\n",
       "    </tr>\n",
       "    <tr>\n",
       "      <th>3</th>\n",
       "      <td>3797467345</td>\n",
       "      <td>1196621759</td>\n",
       "      <td>2019-08-15</td>\n",
       "      <td>9759</td>\n",
       "      <td>B</td>\n",
       "    </tr>\n",
       "    <tr>\n",
       "      <th>4</th>\n",
       "      <td>2282983706</td>\n",
       "      <td>2322279887</td>\n",
       "      <td>2019-08-15</td>\n",
       "      <td>2308</td>\n",
       "      <td>B</td>\n",
       "    </tr>\n",
       "  </tbody>\n",
       "</table>\n",
       "</div>"
      ],
      "text/plain": [
       "   transactionId   visitorId        date  revenue group\n",
       "0     3667963787  3312258926  2019-08-15     1650     B\n",
       "1     2804400009  3642806036  2019-08-15      730     B\n",
       "2     2961555356  4069496402  2019-08-15      400     A\n",
       "3     3797467345  1196621759  2019-08-15     9759     B\n",
       "4     2282983706  2322279887  2019-08-15     2308     B"
      ]
     },
     "execution_count": 4,
     "metadata": {},
     "output_type": "execute_result"
    }
   ],
   "source": [
    "orders.info()\n",
    "orders.head()"
   ]
  },
  {
   "cell_type": "code",
   "execution_count": 5,
   "metadata": {},
   "outputs": [
    {
     "name": "stdout",
     "output_type": "stream",
     "text": [
      "<class 'pandas.core.frame.DataFrame'>\n",
      "RangeIndex: 62 entries, 0 to 61\n",
      "Data columns (total 3 columns):\n",
      " #   Column    Non-Null Count  Dtype \n",
      "---  ------    --------------  ----- \n",
      " 0   date      62 non-null     object\n",
      " 1   group     62 non-null     object\n",
      " 2   visitors  62 non-null     int64 \n",
      "dtypes: int64(1), object(2)\n",
      "memory usage: 1.6+ KB\n"
     ]
    },
    {
     "data": {
      "text/html": [
       "<div>\n",
       "<style scoped>\n",
       "    .dataframe tbody tr th:only-of-type {\n",
       "        vertical-align: middle;\n",
       "    }\n",
       "\n",
       "    .dataframe tbody tr th {\n",
       "        vertical-align: top;\n",
       "    }\n",
       "\n",
       "    .dataframe thead th {\n",
       "        text-align: right;\n",
       "    }\n",
       "</style>\n",
       "<table border=\"1\" class=\"dataframe\">\n",
       "  <thead>\n",
       "    <tr style=\"text-align: right;\">\n",
       "      <th></th>\n",
       "      <th>date</th>\n",
       "      <th>group</th>\n",
       "      <th>visitors</th>\n",
       "    </tr>\n",
       "  </thead>\n",
       "  <tbody>\n",
       "    <tr>\n",
       "      <th>0</th>\n",
       "      <td>2019-08-01</td>\n",
       "      <td>A</td>\n",
       "      <td>719</td>\n",
       "    </tr>\n",
       "    <tr>\n",
       "      <th>1</th>\n",
       "      <td>2019-08-02</td>\n",
       "      <td>A</td>\n",
       "      <td>619</td>\n",
       "    </tr>\n",
       "    <tr>\n",
       "      <th>2</th>\n",
       "      <td>2019-08-03</td>\n",
       "      <td>A</td>\n",
       "      <td>507</td>\n",
       "    </tr>\n",
       "    <tr>\n",
       "      <th>3</th>\n",
       "      <td>2019-08-04</td>\n",
       "      <td>A</td>\n",
       "      <td>717</td>\n",
       "    </tr>\n",
       "    <tr>\n",
       "      <th>4</th>\n",
       "      <td>2019-08-05</td>\n",
       "      <td>A</td>\n",
       "      <td>756</td>\n",
       "    </tr>\n",
       "  </tbody>\n",
       "</table>\n",
       "</div>"
      ],
      "text/plain": [
       "         date group  visitors\n",
       "0  2019-08-01     A       719\n",
       "1  2019-08-02     A       619\n",
       "2  2019-08-03     A       507\n",
       "3  2019-08-04     A       717\n",
       "4  2019-08-05     A       756"
      ]
     },
     "execution_count": 5,
     "metadata": {},
     "output_type": "execute_result"
    }
   ],
   "source": [
    "visitors.info()\n",
    "visitors.head()"
   ]
  },
  {
   "cell_type": "markdown",
   "metadata": {},
   "source": [
    "### Оформление и изменение типов данных"
   ]
  },
  {
   "cell_type": "code",
   "execution_count": 6,
   "metadata": {},
   "outputs": [],
   "source": [
    "# приводим название столбцов к единому стилю\n",
    "hypothesis.columns = hypothesis.columns.str.lower()\n",
    "orders = orders.rename(columns={'transactionId' : 'transaction_id', 'visitorId' : 'visitor_id'})\n",
    "# изменяем тип данных с object на datetime\n",
    "orders['date'] = orders['date'].map(\n",
    "    lambda x: dt.datetime.strptime(x, '%Y-%m-%d')\n",
    ")\n",
    "\n",
    "visitors['date'] = visitors['date'].map(\n",
    "    lambda x: dt.datetime.strptime(x, '%Y-%m-%d')\n",
    ")"
   ]
  },
  {
   "cell_type": "markdown",
   "metadata": {},
   "source": [
    "### Пропуски и дубликаты"
   ]
  },
  {
   "cell_type": "markdown",
   "metadata": {},
   "source": [
    "Пропуски я смотрю глазками обычно, когда вызываю info(). Перейду сразу к дубликатам."
   ]
  },
  {
   "cell_type": "code",
   "execution_count": 7,
   "metadata": {},
   "outputs": [
    {
     "data": {
      "text/html": [
       "<div>\n",
       "<style scoped>\n",
       "    .dataframe tbody tr th:only-of-type {\n",
       "        vertical-align: middle;\n",
       "    }\n",
       "\n",
       "    .dataframe tbody tr th {\n",
       "        vertical-align: top;\n",
       "    }\n",
       "\n",
       "    .dataframe thead th {\n",
       "        text-align: right;\n",
       "    }\n",
       "</style>\n",
       "<table border=\"1\" class=\"dataframe\">\n",
       "  <thead>\n",
       "    <tr style=\"text-align: right;\">\n",
       "      <th></th>\n",
       "      <th>transaction_id</th>\n",
       "      <th>visitor_id</th>\n",
       "      <th>date</th>\n",
       "      <th>revenue</th>\n",
       "      <th>group</th>\n",
       "    </tr>\n",
       "  </thead>\n",
       "  <tbody>\n",
       "    <tr>\n",
       "      <th>0</th>\n",
       "      <td>3667963787</td>\n",
       "      <td>3312258926</td>\n",
       "      <td>2019-08-15</td>\n",
       "      <td>1650</td>\n",
       "      <td>B</td>\n",
       "    </tr>\n",
       "    <tr>\n",
       "      <th>1</th>\n",
       "      <td>2804400009</td>\n",
       "      <td>3642806036</td>\n",
       "      <td>2019-08-15</td>\n",
       "      <td>730</td>\n",
       "      <td>B</td>\n",
       "    </tr>\n",
       "    <tr>\n",
       "      <th>2</th>\n",
       "      <td>2961555356</td>\n",
       "      <td>4069496402</td>\n",
       "      <td>2019-08-15</td>\n",
       "      <td>400</td>\n",
       "      <td>A</td>\n",
       "    </tr>\n",
       "    <tr>\n",
       "      <th>3</th>\n",
       "      <td>3797467345</td>\n",
       "      <td>1196621759</td>\n",
       "      <td>2019-08-15</td>\n",
       "      <td>9759</td>\n",
       "      <td>B</td>\n",
       "    </tr>\n",
       "    <tr>\n",
       "      <th>4</th>\n",
       "      <td>2282983706</td>\n",
       "      <td>2322279887</td>\n",
       "      <td>2019-08-15</td>\n",
       "      <td>2308</td>\n",
       "      <td>B</td>\n",
       "    </tr>\n",
       "  </tbody>\n",
       "</table>\n",
       "</div>"
      ],
      "text/plain": [
       "   transaction_id  visitor_id       date  revenue group\n",
       "0      3667963787  3312258926 2019-08-15     1650     B\n",
       "1      2804400009  3642806036 2019-08-15      730     B\n",
       "2      2961555356  4069496402 2019-08-15      400     A\n",
       "3      3797467345  1196621759 2019-08-15     9759     B\n",
       "4      2282983706  2322279887 2019-08-15     2308     B"
      ]
     },
     "execution_count": 7,
     "metadata": {},
     "output_type": "execute_result"
    }
   ],
   "source": [
    "orders.head()"
   ]
  },
  {
   "cell_type": "code",
   "execution_count": 8,
   "metadata": {},
   "outputs": [
    {
     "name": "stdout",
     "output_type": "stream",
     "text": [
      "0\n",
      "166\n"
     ]
    },
    {
     "data": {
      "text/plain": [
       "31"
      ]
     },
     "execution_count": 8,
     "metadata": {},
     "output_type": "execute_result"
    }
   ],
   "source": [
    "print(orders['transaction_id'].duplicated().sum())\n",
    "print(orders['visitor_id'].duplicated().sum())\n",
    "visitors['date'].duplicated().sum()"
   ]
  },
  {
   "cell_type": "markdown",
   "metadata": {},
   "source": [
    "В orders я проверил на дубликаты id транзакций, там нет дубликатов. Есть дубликаты в дате и id посетителей, но это не страшно, некоторые клиенты могли покупать за один день несколько раз. Есть также дубликаты в дате датафрейма visitors - 31 дубликат. Это объясняется тем, что для каждой группы (А,В) дата дублируется. Это нормально. Числовые признаки на дубликаты считаю проверять нет смысла."
   ]
  },
  {
   "cell_type": "markdown",
   "metadata": {},
   "source": [
    "### Количество групп в тесте"
   ]
  },
  {
   "cell_type": "code",
   "execution_count": 9,
   "metadata": {
    "scrolled": true
   },
   "outputs": [
    {
     "name": "stdout",
     "output_type": "stream",
     "text": [
      "B    640\n",
      "A    557\n",
      "Name: group, dtype: int64\n"
     ]
    },
    {
     "data": {
      "text/plain": [
       "A    31\n",
       "B    31\n",
       "Name: group, dtype: int64"
      ]
     },
     "execution_count": 9,
     "metadata": {},
     "output_type": "execute_result"
    }
   ],
   "source": [
    "print(orders['group'].value_counts())\n",
    "visitors['group'].value_counts()"
   ]
  },
  {
   "cell_type": "markdown",
   "metadata": {},
   "source": [
    "Всего две группы участвуют в тесте."
   ]
  },
  {
   "cell_type": "markdown",
   "metadata": {},
   "source": [
    "### Распределение количества пользователей и период данных"
   ]
  },
  {
   "cell_type": "code",
   "execution_count": 10,
   "metadata": {},
   "outputs": [
    {
     "name": "stdout",
     "output_type": "stream",
     "text": [
      "2019-08-01 00:00:00\n",
      "2019-08-31 00:00:00\n"
     ]
    }
   ],
   "source": [
    "print(orders['date'].min())\n",
    "print(orders['date'].max())"
   ]
  },
  {
   "cell_type": "code",
   "execution_count": 11,
   "metadata": {},
   "outputs": [
    {
     "name": "stdout",
     "output_type": "stream",
     "text": [
      "2019-08-01 00:00:00\n",
      "2019-08-31 00:00:00\n"
     ]
    }
   ],
   "source": [
    "min_date = visitors['date'].min()\n",
    "max_date = visitors['date'].max()\n",
    "print(min_date)\n",
    "print(max_date)"
   ]
  },
  {
   "cell_type": "code",
   "execution_count": 12,
   "metadata": {},
   "outputs": [
    {
     "data": {
      "text/html": [
       "<div>\n",
       "<style scoped>\n",
       "    .dataframe tbody tr th:only-of-type {\n",
       "        vertical-align: middle;\n",
       "    }\n",
       "\n",
       "    .dataframe tbody tr th {\n",
       "        vertical-align: top;\n",
       "    }\n",
       "\n",
       "    .dataframe thead th {\n",
       "        text-align: right;\n",
       "    }\n",
       "</style>\n",
       "<table border=\"1\" class=\"dataframe\">\n",
       "  <thead>\n",
       "    <tr style=\"text-align: right;\">\n",
       "      <th></th>\n",
       "      <th>date</th>\n",
       "      <th>group</th>\n",
       "      <th>visitors</th>\n",
       "    </tr>\n",
       "  </thead>\n",
       "  <tbody>\n",
       "    <tr>\n",
       "      <th>0</th>\n",
       "      <td>2019-08-01</td>\n",
       "      <td>A</td>\n",
       "      <td>719</td>\n",
       "    </tr>\n",
       "    <tr>\n",
       "      <th>1</th>\n",
       "      <td>2019-08-02</td>\n",
       "      <td>A</td>\n",
       "      <td>619</td>\n",
       "    </tr>\n",
       "    <tr>\n",
       "      <th>2</th>\n",
       "      <td>2019-08-03</td>\n",
       "      <td>A</td>\n",
       "      <td>507</td>\n",
       "    </tr>\n",
       "    <tr>\n",
       "      <th>3</th>\n",
       "      <td>2019-08-04</td>\n",
       "      <td>A</td>\n",
       "      <td>717</td>\n",
       "    </tr>\n",
       "    <tr>\n",
       "      <th>4</th>\n",
       "      <td>2019-08-05</td>\n",
       "      <td>A</td>\n",
       "      <td>756</td>\n",
       "    </tr>\n",
       "  </tbody>\n",
       "</table>\n",
       "</div>"
      ],
      "text/plain": [
       "        date group  visitors\n",
       "0 2019-08-01     A       719\n",
       "1 2019-08-02     A       619\n",
       "2 2019-08-03     A       507\n",
       "3 2019-08-04     A       717\n",
       "4 2019-08-05     A       756"
      ]
     },
     "execution_count": 12,
     "metadata": {},
     "output_type": "execute_result"
    }
   ],
   "source": [
    "visitors.head()"
   ]
  },
  {
   "cell_type": "code",
   "execution_count": 13,
   "metadata": {
    "scrolled": false
   },
   "outputs": [
    {
     "data": {
      "image/png": "[encoded data removed]",
      "text/plain": [
       "<Figure size 432x288 with 1 Axes>"
      ]
     },
     "metadata": {
      "needs_background": "light"
     },
     "output_type": "display_data"
    }
   ],
   "source": [
    "visitors.query('group == \"A\"')['visitors'].hist(bins=15);\n",
    "visitors.query('group == \"B\"')['visitors'].hist(bins=15, alpha=0.7)\n",
    "plt.xlabel(\"Number of users\")\n",
    "plt.ylabel(\"Frequency\");"
   ]
  },
  {
   "cell_type": "markdown",
   "metadata": {},
   "source": [
    "### Проверка на попадание в разные группы одинх и тех же пользователей"
   ]
  },
  {
   "cell_type": "code",
   "execution_count": 14,
   "metadata": {},
   "outputs": [
    {
     "data": {
      "text/plain": [
       "2      True\n",
       "7     False\n",
       "8     False\n",
       "10    False\n",
       "12    False\n",
       "Name: visitor_id, dtype: bool"
      ]
     },
     "execution_count": 14,
     "metadata": {},
     "output_type": "execute_result"
    }
   ],
   "source": [
    "dubl = orders[orders['group'] == 'A']['visitor_id'].isin(orders[orders['group'] == 'B']['visitor_id'])\n",
    "dubl.head()"
   ]
  },
  {
   "cell_type": "markdown",
   "metadata": {},
   "source": [
    "89 пользователей в двух группах одновременно. Я удалю их из обеих."
   ]
  },
  {
   "cell_type": "code",
   "execution_count": 15,
   "metadata": {},
   "outputs": [
    {
     "data": {
      "text/plain": [
       "2       4069496402\n",
       "26       199603092\n",
       "29      3803269165\n",
       "33      2378935119\n",
       "41       237748145\n",
       "           ...    \n",
       "1167    4186807279\n",
       "1173    2712142231\n",
       "1178    2949041841\n",
       "1183     963407295\n",
       "1195    1614305549\n",
       "Name: visitor_id, Length: 89, dtype: int64"
      ]
     },
     "execution_count": 15,
     "metadata": {},
     "output_type": "execute_result"
    }
   ],
   "source": [
    "abnormal_id = orders[orders['group']=='A'][dubl]['visitor_id']\n",
    "abnormal_id"
   ]
  },
  {
   "cell_type": "code",
   "execution_count": 16,
   "metadata": {},
   "outputs": [
    {
     "data": {
      "text/plain": [
       "False    468\n",
       "Name: visitor_id, dtype: int64"
      ]
     },
     "execution_count": 16,
     "metadata": {},
     "output_type": "execute_result"
    }
   ],
   "source": [
    "orders = orders[~orders['visitor_id'].isin(abnormal_id)]\n",
    "orders[orders['group'] == 'A']['visitor_id'].isin(orders[orders['group'] == 'B']['visitor_id']).value_counts()"
   ]
  },
  {
   "cell_type": "markdown",
   "metadata": {},
   "source": [
    "## Фреймворк ICE"
   ]
  },
  {
   "cell_type": "code",
   "execution_count": 17,
   "metadata": {
    "scrolled": true
   },
   "outputs": [
    {
     "data": {
      "text/html": [
       "<div>\n",
       "<style scoped>\n",
       "    .dataframe tbody tr th:only-of-type {\n",
       "        vertical-align: middle;\n",
       "    }\n",
       "\n",
       "    .dataframe tbody tr th {\n",
       "        vertical-align: top;\n",
       "    }\n",
       "\n",
       "    .dataframe thead th {\n",
       "        text-align: right;\n",
       "    }\n",
       "</style>\n",
       "<table border=\"1\" class=\"dataframe\">\n",
       "  <thead>\n",
       "    <tr style=\"text-align: right;\">\n",
       "      <th></th>\n",
       "      <th>hypothesis</th>\n",
       "      <th>reach</th>\n",
       "      <th>impact</th>\n",
       "      <th>confidence</th>\n",
       "      <th>efforts</th>\n",
       "      <th>ice</th>\n",
       "    </tr>\n",
       "  </thead>\n",
       "  <tbody>\n",
       "    <tr>\n",
       "      <th>8</th>\n",
       "      <td>Запустить акцию, дающую скидку на товар в день рождения</td>\n",
       "      <td>1</td>\n",
       "      <td>9</td>\n",
       "      <td>9</td>\n",
       "      <td>5</td>\n",
       "      <td>16.20</td>\n",
       "    </tr>\n",
       "    <tr>\n",
       "      <th>0</th>\n",
       "      <td>Добавить два новых канала привлечения трафика, что позволит привлекать на 30% больше пользователей</td>\n",
       "      <td>3</td>\n",
       "      <td>10</td>\n",
       "      <td>8</td>\n",
       "      <td>6</td>\n",
       "      <td>13.33</td>\n",
       "    </tr>\n",
       "    <tr>\n",
       "      <th>7</th>\n",
       "      <td>Добавить форму подписки на все основные страницы, чтобы собрать базу клиентов для email-рассылок</td>\n",
       "      <td>10</td>\n",
       "      <td>7</td>\n",
       "      <td>8</td>\n",
       "      <td>5</td>\n",
       "      <td>11.20</td>\n",
       "    </tr>\n",
       "    <tr>\n",
       "      <th>6</th>\n",
       "      <td>Показать на главной странице баннеры с актуальными акциями и распродажами, чтобы увеличить конверсию</td>\n",
       "      <td>5</td>\n",
       "      <td>3</td>\n",
       "      <td>8</td>\n",
       "      <td>3</td>\n",
       "      <td>8.00</td>\n",
       "    </tr>\n",
       "    <tr>\n",
       "      <th>2</th>\n",
       "      <td>Добавить блоки рекомендаций товаров на сайт интернет магазина, чтобы повысить конверсию и средний чек заказа</td>\n",
       "      <td>8</td>\n",
       "      <td>3</td>\n",
       "      <td>7</td>\n",
       "      <td>3</td>\n",
       "      <td>7.00</td>\n",
       "    </tr>\n",
       "    <tr>\n",
       "      <th>1</th>\n",
       "      <td>Запустить собственную службу доставки, что сократит срок доставки заказов</td>\n",
       "      <td>2</td>\n",
       "      <td>5</td>\n",
       "      <td>4</td>\n",
       "      <td>10</td>\n",
       "      <td>2.00</td>\n",
       "    </tr>\n",
       "    <tr>\n",
       "      <th>5</th>\n",
       "      <td>Добавить страницу отзывов клиентов о магазине, что позволит увеличить количество заказов</td>\n",
       "      <td>3</td>\n",
       "      <td>2</td>\n",
       "      <td>2</td>\n",
       "      <td>3</td>\n",
       "      <td>1.33</td>\n",
       "    </tr>\n",
       "    <tr>\n",
       "      <th>3</th>\n",
       "      <td>Изменить структура категорий, что увеличит конверсию, т.к. пользователи быстрее найдут нужный товар</td>\n",
       "      <td>8</td>\n",
       "      <td>3</td>\n",
       "      <td>3</td>\n",
       "      <td>8</td>\n",
       "      <td>1.12</td>\n",
       "    </tr>\n",
       "    <tr>\n",
       "      <th>4</th>\n",
       "      <td>Изменить цвет фона главной страницы, чтобы увеличить вовлеченность пользователей</td>\n",
       "      <td>3</td>\n",
       "      <td>1</td>\n",
       "      <td>1</td>\n",
       "      <td>1</td>\n",
       "      <td>1.00</td>\n",
       "    </tr>\n",
       "  </tbody>\n",
       "</table>\n",
       "</div>"
      ],
      "text/plain": [
       "                                                                                                     hypothesis  \\\n",
       "8                                                       Запустить акцию, дающую скидку на товар в день рождения   \n",
       "0            Добавить два новых канала привлечения трафика, что позволит привлекать на 30% больше пользователей   \n",
       "7              Добавить форму подписки на все основные страницы, чтобы собрать базу клиентов для email-рассылок   \n",
       "6          Показать на главной странице баннеры с актуальными акциями и распродажами, чтобы увеличить конверсию   \n",
       "2  Добавить блоки рекомендаций товаров на сайт интернет магазина, чтобы повысить конверсию и средний чек заказа   \n",
       "1                                     Запустить собственную службу доставки, что сократит срок доставки заказов   \n",
       "5                      Добавить страницу отзывов клиентов о магазине, что позволит увеличить количество заказов   \n",
       "3           Изменить структура категорий, что увеличит конверсию, т.к. пользователи быстрее найдут нужный товар   \n",
       "4                              Изменить цвет фона главной страницы, чтобы увеличить вовлеченность пользователей   \n",
       "\n",
       "   reach  impact  confidence  efforts    ice  \n",
       "8      1       9           9        5  16.20  \n",
       "0      3      10           8        6  13.33  \n",
       "7     10       7           8        5  11.20  \n",
       "6      5       3           8        3   8.00  \n",
       "2      8       3           7        3   7.00  \n",
       "1      2       5           4       10   2.00  \n",
       "5      3       2           2        3   1.33  \n",
       "3      8       3           3        8   1.12  \n",
       "4      3       1           1        1   1.00  "
      ]
     },
     "execution_count": 17,
     "metadata": {},
     "output_type": "execute_result"
    }
   ],
   "source": [
    "pd.options.display.max_colwidth = 210\n",
    "hypothesis['ice'] = ((hypothesis['impact'] * hypothesis['confidence']) / \n",
    "                     hypothesis['efforts']\n",
    "                    ).round(2)\n",
    "hypothesis.sort_values(by='ice', ascending=False)"
   ]
  },
  {
   "cell_type": "markdown",
   "metadata": {},
   "source": [
    "## Фреймворк RICE"
   ]
  },
  {
   "cell_type": "code",
   "execution_count": 18,
   "metadata": {
    "scrolled": true
   },
   "outputs": [
    {
     "data": {
      "text/html": [
       "<div>\n",
       "<style scoped>\n",
       "    .dataframe tbody tr th:only-of-type {\n",
       "        vertical-align: middle;\n",
       "    }\n",
       "\n",
       "    .dataframe tbody tr th {\n",
       "        vertical-align: top;\n",
       "    }\n",
       "\n",
       "    .dataframe thead th {\n",
       "        text-align: right;\n",
       "    }\n",
       "</style>\n",
       "<table border=\"1\" class=\"dataframe\">\n",
       "  <thead>\n",
       "    <tr style=\"text-align: right;\">\n",
       "      <th></th>\n",
       "      <th>hypothesis</th>\n",
       "      <th>ice</th>\n",
       "      <th>rice</th>\n",
       "    </tr>\n",
       "  </thead>\n",
       "  <tbody>\n",
       "    <tr>\n",
       "      <th>7</th>\n",
       "      <td>Добавить форму подписки на все основные страницы, чтобы собрать базу клиентов для email-рассылок</td>\n",
       "      <td>11.20</td>\n",
       "      <td>112.0</td>\n",
       "    </tr>\n",
       "    <tr>\n",
       "      <th>2</th>\n",
       "      <td>Добавить блоки рекомендаций товаров на сайт интернет магазина, чтобы повысить конверсию и средний чек заказа</td>\n",
       "      <td>7.00</td>\n",
       "      <td>56.0</td>\n",
       "    </tr>\n",
       "    <tr>\n",
       "      <th>0</th>\n",
       "      <td>Добавить два новых канала привлечения трафика, что позволит привлекать на 30% больше пользователей</td>\n",
       "      <td>13.33</td>\n",
       "      <td>40.0</td>\n",
       "    </tr>\n",
       "    <tr>\n",
       "      <th>6</th>\n",
       "      <td>Показать на главной странице баннеры с актуальными акциями и распродажами, чтобы увеличить конверсию</td>\n",
       "      <td>8.00</td>\n",
       "      <td>40.0</td>\n",
       "    </tr>\n",
       "    <tr>\n",
       "      <th>8</th>\n",
       "      <td>Запустить акцию, дающую скидку на товар в день рождения</td>\n",
       "      <td>16.20</td>\n",
       "      <td>16.2</td>\n",
       "    </tr>\n",
       "    <tr>\n",
       "      <th>3</th>\n",
       "      <td>Изменить структура категорий, что увеличит конверсию, т.к. пользователи быстрее найдут нужный товар</td>\n",
       "      <td>1.12</td>\n",
       "      <td>9.0</td>\n",
       "    </tr>\n",
       "    <tr>\n",
       "      <th>1</th>\n",
       "      <td>Запустить собственную службу доставки, что сократит срок доставки заказов</td>\n",
       "      <td>2.00</td>\n",
       "      <td>4.0</td>\n",
       "    </tr>\n",
       "    <tr>\n",
       "      <th>5</th>\n",
       "      <td>Добавить страницу отзывов клиентов о магазине, что позволит увеличить количество заказов</td>\n",
       "      <td>1.33</td>\n",
       "      <td>4.0</td>\n",
       "    </tr>\n",
       "    <tr>\n",
       "      <th>4</th>\n",
       "      <td>Изменить цвет фона главной страницы, чтобы увеличить вовлеченность пользователей</td>\n",
       "      <td>1.00</td>\n",
       "      <td>3.0</td>\n",
       "    </tr>\n",
       "  </tbody>\n",
       "</table>\n",
       "</div>"
      ],
      "text/plain": [
       "                                                                                                     hypothesis  \\\n",
       "7              Добавить форму подписки на все основные страницы, чтобы собрать базу клиентов для email-рассылок   \n",
       "2  Добавить блоки рекомендаций товаров на сайт интернет магазина, чтобы повысить конверсию и средний чек заказа   \n",
       "0            Добавить два новых канала привлечения трафика, что позволит привлекать на 30% больше пользователей   \n",
       "6          Показать на главной странице баннеры с актуальными акциями и распродажами, чтобы увеличить конверсию   \n",
       "8                                                       Запустить акцию, дающую скидку на товар в день рождения   \n",
       "3           Изменить структура категорий, что увеличит конверсию, т.к. пользователи быстрее найдут нужный товар   \n",
       "1                                     Запустить собственную службу доставки, что сократит срок доставки заказов   \n",
       "5                      Добавить страницу отзывов клиентов о магазине, что позволит увеличить количество заказов   \n",
       "4                              Изменить цвет фона главной страницы, чтобы увеличить вовлеченность пользователей   \n",
       "\n",
       "     ice   rice  \n",
       "7  11.20  112.0  \n",
       "2   7.00   56.0  \n",
       "0  13.33   40.0  \n",
       "6   8.00   40.0  \n",
       "8  16.20   16.2  \n",
       "3   1.12    9.0  \n",
       "1   2.00    4.0  \n",
       "5   1.33    4.0  \n",
       "4   1.00    3.0  "
      ]
     },
     "execution_count": 18,
     "metadata": {},
     "output_type": "execute_result"
    }
   ],
   "source": [
    "hypothesis['rice'] = ((hypothesis['reach'] * hypothesis['impact'] * \n",
    "                       hypothesis['confidence']) / hypothesis['efforts']).round(2)\n",
    "hypothesis[['hypothesis', 'ice', 'rice']].sort_values(by=['rice', 'ice'], ascending=False)"
   ]
  },
  {
   "cell_type": "markdown",
   "metadata": {},
   "source": [
    "ICE (от англ. impact, confidence, effort / ease «влияние, уверенность, усилия / простота») - фреймворк для расчета ранга пририотизации гипотезы. Умножаем *Impact*(насколько сильно изменение повлияет на пользователей, их опыт и удовлетворение от продукта) на *Сonfidence* (уверенность, что это изменение повлияет на пользователей именно так) и делим на *Efforts* (сколько стоит протестировать эту гипотезу).\n",
    "\n",
    "У RICE в числителе добавляется множитель *Reach* (скольких пользователей затронет изменение).\n",
    "\n",
    "Разница между приоритизацией методами ICE и RICE обусловлена тем, что в ICE не учитывается параметр reach - охват пользователей. \n",
    "\n",
    "Например, гипотеза о запуске акций (8) наиболее эффективна, но затронет лишь малую часть пользователей. В то время, как гипотеза 7 о добавлении формы на все страницы охватит большое количество пользователей при хорошем импакте и малых затратах. Разница RICE по этим двум гипотезам почти сто баллов."
   ]
  },
  {
   "cell_type": "code",
   "execution_count": 19,
   "metadata": {},
   "outputs": [
    {
     "data": {
      "image/png": "[encoded data removed]",
      "text/plain": [
       "<Figure size 576x576 with 1 Axes>"
      ]
     },
     "metadata": {
      "needs_background": "light"
     },
     "output_type": "display_data"
    }
   ],
   "source": [
    "plt.rcParams[\"figure.figsize\"] = (8,8)\n",
    "markers = ['o', 'v', 's', 'P', 'D']\n",
    "for j,i in enumerate(hypothesis.columns):\n",
    "    if i not in ['hypothesis', 'rice', 'ice']:\n",
    "        plt.scatter(x=hypothesis.index, y=hypothesis[i], label=i, alpha=0.6, marker=markers[j]) \n",
    "plt.grid()\n",
    "plt.title('Metric mapping plot')\n",
    "plt.xlabel(\"Hypothesis number\")\n",
    "plt.ylabel(\"Metrics estimates\")\n",
    "plt.legend();"
   ]
  },
  {
   "cell_type": "markdown",
   "metadata": {},
   "source": [
    "## Кумулятивная выручка по группам"
   ]
  },
  {
   "cell_type": "code",
   "execution_count": 20,
   "metadata": {
    "scrolled": false
   },
   "outputs": [
    {
     "data": {
      "text/html": [
       "<div>\n",
       "<style scoped>\n",
       "    .dataframe tbody tr th:only-of-type {\n",
       "        vertical-align: middle;\n",
       "    }\n",
       "\n",
       "    .dataframe tbody tr th {\n",
       "        vertical-align: top;\n",
       "    }\n",
       "\n",
       "    .dataframe thead th {\n",
       "        text-align: right;\n",
       "    }\n",
       "</style>\n",
       "<table border=\"1\" class=\"dataframe\">\n",
       "  <thead>\n",
       "    <tr style=\"text-align: right;\">\n",
       "      <th></th>\n",
       "      <th>date</th>\n",
       "      <th>group</th>\n",
       "      <th>transaction_id</th>\n",
       "      <th>visitor_id</th>\n",
       "      <th>revenue</th>\n",
       "    </tr>\n",
       "  </thead>\n",
       "  <tbody>\n",
       "    <tr>\n",
       "      <th>55</th>\n",
       "      <td>2019-08-01</td>\n",
       "      <td>A</td>\n",
       "      <td>23</td>\n",
       "      <td>19</td>\n",
       "      <td>142779</td>\n",
       "    </tr>\n",
       "    <tr>\n",
       "      <th>66</th>\n",
       "      <td>2019-08-01</td>\n",
       "      <td>B</td>\n",
       "      <td>17</td>\n",
       "      <td>17</td>\n",
       "      <td>59758</td>\n",
       "    </tr>\n",
       "    <tr>\n",
       "      <th>175</th>\n",
       "      <td>2019-08-02</td>\n",
       "      <td>A</td>\n",
       "      <td>42</td>\n",
       "      <td>36</td>\n",
       "      <td>234381</td>\n",
       "    </tr>\n",
       "    <tr>\n",
       "      <th>173</th>\n",
       "      <td>2019-08-02</td>\n",
       "      <td>B</td>\n",
       "      <td>40</td>\n",
       "      <td>39</td>\n",
       "      <td>221801</td>\n",
       "    </tr>\n",
       "    <tr>\n",
       "      <th>291</th>\n",
       "      <td>2019-08-03</td>\n",
       "      <td>A</td>\n",
       "      <td>66</td>\n",
       "      <td>60</td>\n",
       "      <td>346854</td>\n",
       "    </tr>\n",
       "    <tr>\n",
       "      <th>383</th>\n",
       "      <td>2019-08-03</td>\n",
       "      <td>B</td>\n",
       "      <td>54</td>\n",
       "      <td>53</td>\n",
       "      <td>288850</td>\n",
       "    </tr>\n",
       "    <tr>\n",
       "      <th>499</th>\n",
       "      <td>2019-08-04</td>\n",
       "      <td>A</td>\n",
       "      <td>77</td>\n",
       "      <td>71</td>\n",
       "      <td>388030</td>\n",
       "    </tr>\n",
       "    <tr>\n",
       "      <th>498</th>\n",
       "      <td>2019-08-04</td>\n",
       "      <td>B</td>\n",
       "      <td>68</td>\n",
       "      <td>66</td>\n",
       "      <td>385740</td>\n",
       "    </tr>\n",
       "    <tr>\n",
       "      <th>719</th>\n",
       "      <td>2019-08-05</td>\n",
       "      <td>A</td>\n",
       "      <td>99</td>\n",
       "      <td>92</td>\n",
       "      <td>474413</td>\n",
       "    </tr>\n",
       "    <tr>\n",
       "      <th>699</th>\n",
       "      <td>2019-08-05</td>\n",
       "      <td>B</td>\n",
       "      <td>89</td>\n",
       "      <td>87</td>\n",
       "      <td>475648</td>\n",
       "    </tr>\n",
       "  </tbody>\n",
       "</table>\n",
       "</div>"
      ],
      "text/plain": [
       "          date group  transaction_id  visitor_id  revenue\n",
       "55  2019-08-01     A              23          19   142779\n",
       "66  2019-08-01     B              17          17    59758\n",
       "175 2019-08-02     A              42          36   234381\n",
       "173 2019-08-02     B              40          39   221801\n",
       "291 2019-08-03     A              66          60   346854\n",
       "383 2019-08-03     B              54          53   288850\n",
       "499 2019-08-04     A              77          71   388030\n",
       "498 2019-08-04     B              68          66   385740\n",
       "719 2019-08-05     A              99          92   474413\n",
       "699 2019-08-05     B              89          87   475648"
      ]
     },
     "execution_count": 20,
     "metadata": {},
     "output_type": "execute_result"
    },
    {
     "data": {
      "image/png": "[encoded data removed]",
      "text/plain": [
       "<Figure size 576x576 with 1 Axes>"
      ]
     },
     "metadata": {
      "needs_background": "light"
     },
     "output_type": "display_data"
    }
   ],
   "source": [
    "# создаем переменную с уникальными датами и группами\n",
    "dates_groups = orders[['date', 'group']].drop_duplicates()\n",
    "# агрегируем выручку\n",
    "orders_agg = dates_groups.apply(\n",
    "    lambda x: orders[\n",
    "        np.logical_and(\n",
    "            orders['date'] <= x['date'], orders['group'] == x['group']\n",
    "        )\n",
    "    ].agg(\n",
    "        {\n",
    "            'date': 'max',\n",
    "            'group': 'max',\n",
    "            'transaction_id': 'nunique',\n",
    "            'visitor_id': 'nunique',\n",
    "            'revenue': 'sum',\n",
    "        }\n",
    "    ),\n",
    "    axis=1,\n",
    ").sort_values(by=['date', 'group'])\n",
    "# агрегируем число пользоватлей\n",
    "visitors_agg = dates_groups.apply(\n",
    "    lambda x: visitors[\n",
    "        np.logical_and(\n",
    "            visitors['date'] <= x['date'], visitors['group'] == x['group']\n",
    "        )\n",
    "    ].agg({'date': 'max', 'group': 'max', 'visitors': 'sum'}),\n",
    "    axis=1,\n",
    ").sort_values(by=['date', 'group'])\n",
    "# соединяем датафрейм выручки с количеством пользователей. \n",
    "# Получаем полный датафрейм с кумулятивной выручкой и числом пользователей по датам.\n",
    "cumulative_df = orders_agg.merge(\n",
    "    visitors_agg, left_on=['date', 'group'], right_on=['date', 'group']\n",
    ")\n",
    "cumulative_df.columns = [\n",
    "    'date',\n",
    "    'group',\n",
    "    'orders',\n",
    "    'buyers',\n",
    "    'revenue',\n",
    "    'visitors',\n",
    "]\n",
    "# делим кумулятивный датафрейм по выручке и сегментам А и В\n",
    "cumulative_rev_a = cumulative_df.query('group == \"A\"')[['date', 'revenue', 'orders']]\n",
    "cumulative_rev_b = cumulative_df.query('group == \"B\"')[['date', 'revenue', 'orders']]\n",
    "# строим график кумулятивной выручки по сегментам\n",
    "plt.plot(cumulative_rev_a['date'], cumulative_rev_a['revenue'], label='A')\n",
    "plt.plot(cumulative_rev_b['date'], cumulative_rev_b['revenue'], label='B')\n",
    "plt.grid()\n",
    "plt.xticks(rotation=45)\n",
    "plt.title('Group Revenue')\n",
    "plt.xlabel(\"Date\")\n",
    "plt.ylabel(\"Revenue\")\n",
    "plt.legend()\n",
    "orders_agg.head(10)"
   ]
  },
  {
   "cell_type": "markdown",
   "metadata": {},
   "source": [
    "Выручка группы В, начиная с 5-ого августа превышает выручку группы А, 13 августа выручка по обеим группам равна. Примерно 18 августа наблюдается скачок в группе В, далее график растет линейно. В группе А никаких скачков не наблюдается. \n",
    "\n",
    "Возможно, скачок в группе В связан с аномально крупными заказами. Необходимо это проверить."
   ]
  },
  {
   "cell_type": "markdown",
   "metadata": {},
   "source": [
    "## Кумулятивный средний чек по группам"
   ]
  },
  {
   "cell_type": "code",
   "execution_count": 21,
   "metadata": {
    "scrolled": false
   },
   "outputs": [
    {
     "data": {
      "image/png": "[encoded data removed]",
      "text/plain": [
       "<Figure size 576x576 with 1 Axes>"
      ]
     },
     "metadata": {
      "needs_background": "light"
     },
     "output_type": "display_data"
    }
   ],
   "source": [
    "# строим график кумулятивного среднего чека по сегментам\n",
    "plt.plot(cumulative_rev_a['date'], \n",
    "         cumulative_rev_a['revenue']/cumulative_rev_a['orders'], label='A')\n",
    "plt.plot(cumulative_rev_b['date'], \n",
    "         cumulative_rev_b['revenue']/cumulative_rev_b['orders'], label='B')\n",
    "plt.grid()\n",
    "plt.xticks(rotation=45)\n",
    "plt.title('Average check by groups')\n",
    "plt.xlabel(\"Date\")\n",
    "plt.ylabel(\"Average check\")\n",
    "plt.legend();"
   ]
  },
  {
   "cell_type": "markdown",
   "metadata": {},
   "source": [
    "Средние чеки по обеим группам сильно колеблются до 14 августа. Как и в графике с выручкой мы видим скачок 18 августа у группы В, но в отличие от того графика, здесь после скачка идет снижение - почти до 9000, у группы А почти 7500. Таким образом мы нивелировали влияние крупных заказов на последующие дни.\n",
    "\n",
    "Снижение после скачка еще больше указывает на возможную аномалию в данных группы В. Также группе В нужно больше данных, чтобы прийти к реальному среднему чеку и установиться на его уровне."
   ]
  },
  {
   "cell_type": "markdown",
   "metadata": {},
   "source": [
    "## Относительное изменение кумулятивного среднего чека группы B к группе A"
   ]
  },
  {
   "cell_type": "code",
   "execution_count": 22,
   "metadata": {
    "scrolled": false
   },
   "outputs": [
    {
     "data": {
      "image/png": "[encoded data removed]",
      "text/plain": [
       "<Figure size 576x576 with 1 Axes>"
      ]
     },
     "metadata": {
      "needs_background": "light"
     },
     "output_type": "display_data"
    }
   ],
   "source": [
    "# соединяем выручку кумулятивную по А и В в один датафрейм\n",
    "cumulative_rev = cumulative_rev_a.merge(cumulative_rev_b, \n",
    "                                        left_on='date', right_on='date',\n",
    "                                        how='left', suffixes=['_a', '_b'])\n",
    "\n",
    "# cтроим отношение средних чеков\n",
    "plt.plot(cumulative_rev['date'], (cumulative_rev['revenue_b']/cumulative_rev['orders_b'])/\n",
    "         (cumulative_rev['revenue_a']/cumulative_rev['orders_a'])-1)\n",
    "plt.grid()\n",
    "plt.xticks(rotation=45)\n",
    "plt.title('The ratio of the average check of group B to group A')\n",
    "plt.xlabel(\"Date\")\n",
    "plt.ylabel(\"Ratio average check B to A\")\n",
    "# добавляем ось X\n",
    "plt.axhline(y=0, color='black', linestyle='--');"
   ]
  },
  {
   "cell_type": "markdown",
   "metadata": {},
   "source": [
    "Видим три всплеска, где средний чек группы В больше чека группы А:\n",
    "\n",
    "1. 1-3 августа\n",
    "2. 5-7 августа\n",
    "3. 18-19 августа\n",
    "\n",
    "Наиболее резкий и подозрительный третий. Эти даты надо исследовать на аномалии."
   ]
  },
  {
   "cell_type": "markdown",
   "metadata": {},
   "source": [
    "## Конверсия по группам"
   ]
  },
  {
   "cell_type": "code",
   "execution_count": 23,
   "metadata": {},
   "outputs": [
    {
     "data": {
      "text/html": [
       "<div>\n",
       "<style scoped>\n",
       "    .dataframe tbody tr th:only-of-type {\n",
       "        vertical-align: middle;\n",
       "    }\n",
       "\n",
       "    .dataframe tbody tr th {\n",
       "        vertical-align: top;\n",
       "    }\n",
       "\n",
       "    .dataframe thead th {\n",
       "        text-align: right;\n",
       "    }\n",
       "</style>\n",
       "<table border=\"1\" class=\"dataframe\">\n",
       "  <thead>\n",
       "    <tr style=\"text-align: right;\">\n",
       "      <th></th>\n",
       "      <th>date</th>\n",
       "      <th>group</th>\n",
       "      <th>orders</th>\n",
       "      <th>buyers</th>\n",
       "      <th>revenue</th>\n",
       "      <th>visitors</th>\n",
       "    </tr>\n",
       "  </thead>\n",
       "  <tbody>\n",
       "    <tr>\n",
       "      <th>0</th>\n",
       "      <td>2019-08-01</td>\n",
       "      <td>A</td>\n",
       "      <td>23</td>\n",
       "      <td>19</td>\n",
       "      <td>142779</td>\n",
       "      <td>719</td>\n",
       "    </tr>\n",
       "    <tr>\n",
       "      <th>1</th>\n",
       "      <td>2019-08-01</td>\n",
       "      <td>B</td>\n",
       "      <td>17</td>\n",
       "      <td>17</td>\n",
       "      <td>59758</td>\n",
       "      <td>713</td>\n",
       "    </tr>\n",
       "    <tr>\n",
       "      <th>2</th>\n",
       "      <td>2019-08-02</td>\n",
       "      <td>A</td>\n",
       "      <td>42</td>\n",
       "      <td>36</td>\n",
       "      <td>234381</td>\n",
       "      <td>1338</td>\n",
       "    </tr>\n",
       "    <tr>\n",
       "      <th>3</th>\n",
       "      <td>2019-08-02</td>\n",
       "      <td>B</td>\n",
       "      <td>40</td>\n",
       "      <td>39</td>\n",
       "      <td>221801</td>\n",
       "      <td>1294</td>\n",
       "    </tr>\n",
       "    <tr>\n",
       "      <th>4</th>\n",
       "      <td>2019-08-03</td>\n",
       "      <td>A</td>\n",
       "      <td>66</td>\n",
       "      <td>60</td>\n",
       "      <td>346854</td>\n",
       "      <td>1845</td>\n",
       "    </tr>\n",
       "    <tr>\n",
       "      <th>...</th>\n",
       "      <td>...</td>\n",
       "      <td>...</td>\n",
       "      <td>...</td>\n",
       "      <td>...</td>\n",
       "      <td>...</td>\n",
       "      <td>...</td>\n",
       "    </tr>\n",
       "    <tr>\n",
       "      <th>57</th>\n",
       "      <td>2019-08-29</td>\n",
       "      <td>B</td>\n",
       "      <td>510</td>\n",
       "      <td>490</td>\n",
       "      <td>4746610</td>\n",
       "      <td>17708</td>\n",
       "    </tr>\n",
       "    <tr>\n",
       "      <th>58</th>\n",
       "      <td>2019-08-30</td>\n",
       "      <td>A</td>\n",
       "      <td>460</td>\n",
       "      <td>437</td>\n",
       "      <td>3311413</td>\n",
       "      <td>18037</td>\n",
       "    </tr>\n",
       "    <tr>\n",
       "      <th>59</th>\n",
       "      <td>2019-08-30</td>\n",
       "      <td>B</td>\n",
       "      <td>531</td>\n",
       "      <td>511</td>\n",
       "      <td>4955833</td>\n",
       "      <td>18198</td>\n",
       "    </tr>\n",
       "    <tr>\n",
       "      <th>60</th>\n",
       "      <td>2019-08-31</td>\n",
       "      <td>A</td>\n",
       "      <td>468</td>\n",
       "      <td>445</td>\n",
       "      <td>3364656</td>\n",
       "      <td>18736</td>\n",
       "    </tr>\n",
       "    <tr>\n",
       "      <th>61</th>\n",
       "      <td>2019-08-31</td>\n",
       "      <td>B</td>\n",
       "      <td>548</td>\n",
       "      <td>528</td>\n",
       "      <td>5068972</td>\n",
       "      <td>18916</td>\n",
       "    </tr>\n",
       "  </tbody>\n",
       "</table>\n",
       "<p>62 rows × 6 columns</p>\n",
       "</div>"
      ],
      "text/plain": [
       "         date group  orders  buyers  revenue  visitors\n",
       "0  2019-08-01     A      23      19   142779       719\n",
       "1  2019-08-01     B      17      17    59758       713\n",
       "2  2019-08-02     A      42      36   234381      1338\n",
       "3  2019-08-02     B      40      39   221801      1294\n",
       "4  2019-08-03     A      66      60   346854      1845\n",
       "..        ...   ...     ...     ...      ...       ...\n",
       "57 2019-08-29     B     510     490  4746610     17708\n",
       "58 2019-08-30     A     460     437  3311413     18037\n",
       "59 2019-08-30     B     531     511  4955833     18198\n",
       "60 2019-08-31     A     468     445  3364656     18736\n",
       "61 2019-08-31     B     548     528  5068972     18916\n",
       "\n",
       "[62 rows x 6 columns]"
      ]
     },
     "execution_count": 23,
     "metadata": {},
     "output_type": "execute_result"
    }
   ],
   "source": [
    "cumulative_df"
   ]
  },
  {
   "cell_type": "code",
   "execution_count": 23,
   "metadata": {
    "scrolled": false
   },
   "outputs": [
    {
     "data": {
      "image/png": "[encoded data removed]",
      "text/plain": [
       "<Figure size 576x576 with 1 Axes>"
      ]
     },
     "metadata": {
      "needs_background": "light"
     },
     "output_type": "display_data"
    }
   ],
   "source": [
    "# считаем кумулятивную конверсию\n",
    "cumulative_df['conversion'] = cumulative_df['orders']/cumulative_df['visitors']\n",
    "\n",
    "# отделяем данные по группе A\n",
    "cumulative_df_a = cumulative_df[cumulative_df['group']=='A']\n",
    "\n",
    "# отделяем данные по группе B\n",
    "cumulative_df_b = cumulative_df[cumulative_df['group']=='B']\n",
    "\n",
    "# строим графики\n",
    "plt.plot(cumulative_df_a['date'], cumulative_df_a['conversion'], label='A')\n",
    "plt.plot(cumulative_df_b['date'], cumulative_df_b['conversion'], label='B')\n",
    "plt.grid()\n",
    "plt.xticks(rotation=45)\n",
    "plt.title('Group conversion')\n",
    "plt.xlabel(\"Date\")\n",
    "plt.ylabel(\"Conversion %\")\n",
    "plt.legend()\n",
    "\n",
    "# задаем масштаб осей\n",
    "plt.axis([dt.datetime(2019, 8, 1), dt.datetime(2019, 9, 1), 0, 0.05]);"
   ]
  },
  {
   "cell_type": "markdown",
   "metadata": {},
   "source": [
    "Примерно с 6 августа группа В по конверсии обходит группу А, далее есть колебания, которые к 1 сентябрю практически угасают. \n",
    "\n",
    "Конверсия групп меняется в диапазоне от 2 до 3 процентов. Группа И фиксируется на 2.9%, группа А на 2.6% "
   ]
  },
  {
   "cell_type": "markdown",
   "metadata": {},
   "source": [
    "## Относительное изменение конверсии группы B к группе A"
   ]
  },
  {
   "cell_type": "code",
   "execution_count": 24,
   "metadata": {
    "scrolled": false
   },
   "outputs": [
    {
     "data": {
      "image/png": "[encoded data removed]",
      "text/plain": [
       "<Figure size 576x576 with 1 Axes>"
      ]
     },
     "metadata": {
      "needs_background": "light"
     },
     "output_type": "display_data"
    }
   ],
   "source": [
    "# общий датафрейм по конверсии по группам А и В\n",
    "cumulative_conv = cumulative_df_a[['date','conversion']].merge(cumulative_df_b[['date','conversion']], \n",
    "                                                               left_on='date', right_on='date', \n",
    "                                                               how='left', suffixes=['_a', '_b'])\n",
    "\n",
    "plt.plot(cumulative_conv['date'], cumulative_conv['conversion_b']/cumulative_conv['conversion_a']-1)\n",
    "plt.grid()\n",
    "plt.xticks(rotation=45)\n",
    "plt.title('The ratio conversion of group B to group A')\n",
    "plt.xlabel(\"Date\")\n",
    "plt.ylabel(\"Ratio conversion B to A, %\")\n",
    "\n",
    "plt.axhline(y=0, color='black', linestyle='--')\n",
    "plt.axhline(y=0.12, color='grey', linestyle='--')\n",
    "plt.axis([dt.datetime(2019, 8, 1), dt.datetime(2019, 9, 1), -0.3, 0.3]); "
   ]
  },
  {
   "cell_type": "markdown",
   "metadata": {},
   "source": [
    "Практически с первых дней группа В лидировала. К 1 сентября она стала больше группы А примерно на 12%. Я бы не сказал, что значение зафиксировалось окончательно, возможно, тесту надо больше времени."
   ]
  },
  {
   "cell_type": "markdown",
   "metadata": {},
   "source": [
    "## Точечный график количества заказов по пользователям"
   ]
  },
  {
   "cell_type": "code",
   "execution_count": 25,
   "metadata": {},
   "outputs": [
    {
     "data": {
      "text/html": [
       "<div>\n",
       "<style scoped>\n",
       "    .dataframe tbody tr th:only-of-type {\n",
       "        vertical-align: middle;\n",
       "    }\n",
       "\n",
       "    .dataframe tbody tr th {\n",
       "        vertical-align: top;\n",
       "    }\n",
       "\n",
       "    .dataframe thead th {\n",
       "        text-align: right;\n",
       "    }\n",
       "</style>\n",
       "<table border=\"1\" class=\"dataframe\">\n",
       "  <thead>\n",
       "    <tr style=\"text-align: right;\">\n",
       "      <th></th>\n",
       "      <th>visitor_id</th>\n",
       "      <th>orders</th>\n",
       "    </tr>\n",
       "  </thead>\n",
       "  <tbody>\n",
       "    <tr>\n",
       "      <th>908</th>\n",
       "      <td>3967698036</td>\n",
       "      <td>3</td>\n",
       "    </tr>\n",
       "    <tr>\n",
       "      <th>55</th>\n",
       "      <td>249864742</td>\n",
       "      <td>3</td>\n",
       "    </tr>\n",
       "    <tr>\n",
       "      <th>478</th>\n",
       "      <td>2108163459</td>\n",
       "      <td>3</td>\n",
       "    </tr>\n",
       "    <tr>\n",
       "      <th>687</th>\n",
       "      <td>2988190573</td>\n",
       "      <td>3</td>\n",
       "    </tr>\n",
       "    <tr>\n",
       "      <th>890</th>\n",
       "      <td>3908431265</td>\n",
       "      <td>3</td>\n",
       "    </tr>\n",
       "    <tr>\n",
       "      <th>138</th>\n",
       "      <td>611059232</td>\n",
       "      <td>3</td>\n",
       "    </tr>\n",
       "    <tr>\n",
       "      <th>632</th>\n",
       "      <td>2742574263</td>\n",
       "      <td>3</td>\n",
       "    </tr>\n",
       "    <tr>\n",
       "      <th>157</th>\n",
       "      <td>678354126</td>\n",
       "      <td>2</td>\n",
       "    </tr>\n",
       "    <tr>\n",
       "      <th>323</th>\n",
       "      <td>1404560065</td>\n",
       "      <td>2</td>\n",
       "    </tr>\n",
       "    <tr>\n",
       "      <th>452</th>\n",
       "      <td>1985475298</td>\n",
       "      <td>2</td>\n",
       "    </tr>\n",
       "  </tbody>\n",
       "</table>\n",
       "</div>"
      ],
      "text/plain": [
       "     visitor_id  orders\n",
       "908  3967698036       3\n",
       "55    249864742       3\n",
       "478  2108163459       3\n",
       "687  2988190573       3\n",
       "890  3908431265       3\n",
       "138   611059232       3\n",
       "632  2742574263       3\n",
       "157   678354126       2\n",
       "323  1404560065       2\n",
       "452  1985475298       2"
      ]
     },
     "metadata": {},
     "output_type": "display_data"
    },
    {
     "data": {
      "image/png": "[encoded data removed]",
      "text/plain": [
       "<Figure size 576x576 with 1 Axes>"
      ]
     },
     "metadata": {
      "needs_background": "light"
     },
     "output_type": "display_data"
    }
   ],
   "source": [
    "# количетсво уникальных заказов по пользователям\n",
    "users_orders = (orders.groupby('visitor_id', as_index=False)\n",
    "                .agg({'transaction_id' : 'nunique'})\n",
    "               )\n",
    "users_orders.columns = ['visitor_id', 'orders']\n",
    "display(users_orders.sort_values(by='orders', ascending=False).head(10))\n",
    "# точечный график количества заказов по пользователям\n",
    "x_values = pd.Series(range(0, len(users_orders)))\n",
    "plt.scatter(x=x_values, y=users_orders['orders'])\n",
    "plt.grid()\n",
    "plt.title('Scatter plot of the number of orders by users')\n",
    "plt.xlabel(\"Number users\")\n",
    "plt.ylabel(\"Number orders\");"
   ]
  },
  {
   "cell_type": "markdown",
   "metadata": {},
   "source": [
    "3 заказа для одного пользователя уже редкость. Возможно стоит их принять за аномальные. Надо посмотреть по перцентилям."
   ]
  },
  {
   "cell_type": "markdown",
   "metadata": {},
   "source": [
    "## 95-й и 99-й перцентили количества заказов на пользователя."
   ]
  },
  {
   "cell_type": "code",
   "execution_count": 26,
   "metadata": {},
   "outputs": [
    {
     "name": "stdout",
     "output_type": "stream",
     "text": [
      "[1. 2.]\n"
     ]
    }
   ],
   "source": [
    "print(np.percentile(users_orders['orders'], [95,99]))\n",
    "perc_orders = list(np.percentile(users_orders['orders'], [95,99]))"
   ]
  },
  {
   "cell_type": "markdown",
   "metadata": {},
   "source": [
    "Не более 5% пользователей совершили более одного заказа. Я приму 2 и более заказов за аномалию и исключу из дальнейшего исследования."
   ]
  },
  {
   "cell_type": "markdown",
   "metadata": {},
   "source": [
    "## Точечный график стоимостей заказов"
   ]
  },
  {
   "cell_type": "code",
   "execution_count": 27,
   "metadata": {
    "scrolled": false
   },
   "outputs": [
    {
     "data": {
      "text/html": [
       "<div>\n",
       "<style scoped>\n",
       "    .dataframe tbody tr th:only-of-type {\n",
       "        vertical-align: middle;\n",
       "    }\n",
       "\n",
       "    .dataframe tbody tr th {\n",
       "        vertical-align: top;\n",
       "    }\n",
       "\n",
       "    .dataframe thead th {\n",
       "        text-align: right;\n",
       "    }\n",
       "</style>\n",
       "<table border=\"1\" class=\"dataframe\">\n",
       "  <thead>\n",
       "    <tr style=\"text-align: right;\">\n",
       "      <th></th>\n",
       "      <th>transaction_id</th>\n",
       "      <th>visitor_id</th>\n",
       "      <th>date</th>\n",
       "      <th>revenue</th>\n",
       "      <th>group</th>\n",
       "    </tr>\n",
       "  </thead>\n",
       "  <tbody>\n",
       "    <tr>\n",
       "      <th>425</th>\n",
       "      <td>590470918</td>\n",
       "      <td>1920142716</td>\n",
       "      <td>2019-08-19</td>\n",
       "      <td>1294500</td>\n",
       "      <td>B</td>\n",
       "    </tr>\n",
       "    <tr>\n",
       "      <th>1196</th>\n",
       "      <td>3936777065</td>\n",
       "      <td>2108080724</td>\n",
       "      <td>2019-08-15</td>\n",
       "      <td>202740</td>\n",
       "      <td>B</td>\n",
       "    </tr>\n",
       "    <tr>\n",
       "      <th>1136</th>\n",
       "      <td>666610489</td>\n",
       "      <td>1307669133</td>\n",
       "      <td>2019-08-13</td>\n",
       "      <td>92550</td>\n",
       "      <td>A</td>\n",
       "    </tr>\n",
       "    <tr>\n",
       "      <th>744</th>\n",
       "      <td>3668308183</td>\n",
       "      <td>888512513</td>\n",
       "      <td>2019-08-27</td>\n",
       "      <td>86620</td>\n",
       "      <td>B</td>\n",
       "    </tr>\n",
       "    <tr>\n",
       "      <th>743</th>\n",
       "      <td>3603576309</td>\n",
       "      <td>4133034833</td>\n",
       "      <td>2019-08-09</td>\n",
       "      <td>67990</td>\n",
       "      <td>A</td>\n",
       "    </tr>\n",
       "    <tr>\n",
       "      <th>1103</th>\n",
       "      <td>1348774318</td>\n",
       "      <td>1164614297</td>\n",
       "      <td>2019-08-12</td>\n",
       "      <td>66350</td>\n",
       "      <td>A</td>\n",
       "    </tr>\n",
       "    <tr>\n",
       "      <th>1099</th>\n",
       "      <td>316924019</td>\n",
       "      <td>148427295</td>\n",
       "      <td>2019-08-12</td>\n",
       "      <td>65710</td>\n",
       "      <td>A</td>\n",
       "    </tr>\n",
       "    <tr>\n",
       "      <th>949</th>\n",
       "      <td>1347999392</td>\n",
       "      <td>887908475</td>\n",
       "      <td>2019-08-21</td>\n",
       "      <td>60450</td>\n",
       "      <td>A</td>\n",
       "    </tr>\n",
       "    <tr>\n",
       "      <th>940</th>\n",
       "      <td>2420050534</td>\n",
       "      <td>4003628586</td>\n",
       "      <td>2019-08-08</td>\n",
       "      <td>58550</td>\n",
       "      <td>B</td>\n",
       "    </tr>\n",
       "    <tr>\n",
       "      <th>131</th>\n",
       "      <td>3163614039</td>\n",
       "      <td>2254586615</td>\n",
       "      <td>2019-08-22</td>\n",
       "      <td>53904</td>\n",
       "      <td>A</td>\n",
       "    </tr>\n",
       "  </tbody>\n",
       "</table>\n",
       "</div>"
      ],
      "text/plain": [
       "      transaction_id  visitor_id       date  revenue group\n",
       "425        590470918  1920142716 2019-08-19  1294500     B\n",
       "1196      3936777065  2108080724 2019-08-15   202740     B\n",
       "1136       666610489  1307669133 2019-08-13    92550     A\n",
       "744       3668308183   888512513 2019-08-27    86620     B\n",
       "743       3603576309  4133034833 2019-08-09    67990     A\n",
       "1103      1348774318  1164614297 2019-08-12    66350     A\n",
       "1099       316924019   148427295 2019-08-12    65710     A\n",
       "949       1347999392   887908475 2019-08-21    60450     A\n",
       "940       2420050534  4003628586 2019-08-08    58550     B\n",
       "131       3163614039  2254586615 2019-08-22    53904     A"
      ]
     },
     "execution_count": 27,
     "metadata": {},
     "output_type": "execute_result"
    },
    {
     "data": {
      "image/png": "[encoded data removed]",
      "text/plain": [
       "<Figure size 576x576 with 1 Axes>"
      ]
     },
     "metadata": {
      "needs_background": "light"
     },
     "output_type": "display_data"
    }
   ],
   "source": [
    "x_values = pd.Series(range(0, len(orders['revenue'])))\n",
    "plt.scatter(x_values, orders['revenue'])\n",
    "plt.grid()\n",
    "plt.title('Scatter plot of the revenue by users')\n",
    "plt.xlabel(\"Number users\")\n",
    "plt.ylabel(\"Amount of purchases\");\n",
    "orders.sort_values(by='revenue', ascending=False).head(10)"
   ]
  },
  {
   "cell_type": "markdown",
   "metadata": {},
   "source": [
    "Ярко выражены два выброса: 1.3 миллиона и 200 тысяч. Посмотрим перцентили."
   ]
  },
  {
   "cell_type": "markdown",
   "metadata": {},
   "source": [
    "## 95-й и 99-й перцентили стоимости заказов"
   ]
  },
  {
   "cell_type": "code",
   "execution_count": 28,
   "metadata": {},
   "outputs": [
    {
     "name": "stdout",
     "output_type": "stream",
     "text": [
      "[26785. 53904.]\n"
     ]
    }
   ],
   "source": [
    "print(np.percentile(orders['revenue'], [95,99]))\n",
    "perc_rev = list(np.percentile(orders['revenue'], [95,99]))"
   ]
  },
  {
   "cell_type": "markdown",
   "metadata": {},
   "source": [
    "Не более 5% пользователей делали заказы на сумму свыше 28 000. Я приму 26786 и более за аномалию и исключу из дальнейшего исследования."
   ]
  },
  {
   "cell_type": "markdown",
   "metadata": {},
   "source": [
    "## Статистическая значимость различий в конверсии по «сырым» данным"
   ]
  },
  {
   "cell_type": "code",
   "execution_count": 29,
   "metadata": {},
   "outputs": [],
   "source": [
    "# фильтруем в отдельной переменной дату и число пользователей группы А\n",
    "visitors_a_daily = visitors[visitors['group'] == 'A'][['date', 'visitors']]\n",
    "visitors_a_daily.columns = ['date', 'visitors_per_a']\n",
    "# кумулятивная сумма пользователей по дате\n",
    "visitors_a_cummulative = visitors_a_daily.apply(\n",
    "    lambda x: visitors_a_daily[visitors_a_daily['date'] <= x['date']].agg(\n",
    "        {'date': 'max', 'visitors_per_a': 'sum'}\n",
    "    ),\n",
    "    axis=1,\n",
    ")\n",
    "visitors_a_cummulative.columns = ['date', 'visitors_cummulative_a']\n",
    "# то же для сегмента В\n",
    "visitors_b_daily = visitors[visitors['group'] == 'B'][['date', 'visitors']]\n",
    "visitors_b_daily.columns = ['date', 'visitors_per_b']\n",
    "\n",
    "visitors_b_cummulative = visitors_b_daily.apply(\n",
    "    lambda x: visitors_b_daily[visitors_b_daily['date'] <= x['date']].agg(\n",
    "        {'date': 'max', 'visitors_per_b': 'sum'}\n",
    "    ),\n",
    "    axis=1,\n",
    ")\n",
    "visitors_b_cummulative.columns = ['date', 'visitors_cummulative_b']\n"
   ]
  },
  {
   "cell_type": "code",
   "execution_count": 30,
   "metadata": {},
   "outputs": [],
   "source": [
    "# то же что и с чилом пользователей только по выручке\n",
    "orders_a_daily = (\n",
    "    orders[orders['group'] == 'A'][['date', 'transaction_id', 'visitor_id', 'revenue']]\n",
    "    .groupby('date', as_index=False)\n",
    "    .agg({'transaction_id': pd.Series.nunique, 'revenue': 'sum'})\n",
    ")\n",
    "orders_a_daily.columns = ['date', 'orders_per_a', 'revenue_per_a']\n",
    "\n",
    "orders_a_cummulative = orders_a_daily.apply(\n",
    "    lambda x: orders_a_daily[orders_a_daily['date'] <= x['date']].agg(\n",
    "        {'date': 'max', 'orders_per_a': 'sum', 'revenue_per_a': 'sum'}\n",
    "    ),\n",
    "    axis=1,\n",
    ").sort_values(by=['date'])\n",
    "orders_a_cummulative.columns = ['date','orders_cummulative_a','revenue_cummulative_a']\n",
    "\n",
    "orders_b_daily = (\n",
    "    orders[orders['group'] == 'B'][['date', 'transaction_id', 'visitor_id', 'revenue']]\n",
    "    .groupby('date', as_index=False)\n",
    "    .agg({'transaction_id': pd.Series.nunique, 'revenue': 'sum'})\n",
    ")\n",
    "orders_b_daily.columns = ['date', 'orders_per_b', 'revenue_per_b']\n",
    "\n",
    "orders_b_cummulative = orders_b_daily.apply(\n",
    "    lambda x: orders_b_daily[orders_b_daily['date'] <= x['date']].agg(\n",
    "        {'date': 'max', 'orders_per_b': 'sum', 'revenue_per_b': 'sum'}\n",
    "    ),\n",
    "    axis=1,\n",
    ").sort_values(by=['date'])\n",
    "orders_b_cummulative.columns = ['date','orders_cummulative_b','revenue_cummulative_b']\n"
   ]
  },
  {
   "cell_type": "code",
   "execution_count": 31,
   "metadata": {},
   "outputs": [
    {
     "data": {
      "text/html": [
       "<div>\n",
       "<style scoped>\n",
       "    .dataframe tbody tr th:only-of-type {\n",
       "        vertical-align: middle;\n",
       "    }\n",
       "\n",
       "    .dataframe tbody tr th {\n",
       "        vertical-align: top;\n",
       "    }\n",
       "\n",
       "    .dataframe thead th {\n",
       "        text-align: right;\n",
       "    }\n",
       "</style>\n",
       "<table border=\"1\" class=\"dataframe\">\n",
       "  <thead>\n",
       "    <tr style=\"text-align: right;\">\n",
       "      <th></th>\n",
       "      <th>date</th>\n",
       "      <th>orders_per_a</th>\n",
       "      <th>revenue_per_a</th>\n",
       "      <th>orders_per_b</th>\n",
       "      <th>revenue_per_b</th>\n",
       "      <th>orders_cummulative_a</th>\n",
       "      <th>revenue_cummulative_a</th>\n",
       "      <th>orders_cummulative_b</th>\n",
       "      <th>revenue_cummulative_b</th>\n",
       "      <th>visitors_per_a</th>\n",
       "      <th>visitors_per_b</th>\n",
       "      <th>visitors_cummulative_a</th>\n",
       "      <th>visitors_cummulative_b</th>\n",
       "    </tr>\n",
       "  </thead>\n",
       "  <tbody>\n",
       "    <tr>\n",
       "      <th>0</th>\n",
       "      <td>2019-08-01</td>\n",
       "      <td>23</td>\n",
       "      <td>142779</td>\n",
       "      <td>17</td>\n",
       "      <td>59758</td>\n",
       "      <td>23</td>\n",
       "      <td>142779</td>\n",
       "      <td>17</td>\n",
       "      <td>59758</td>\n",
       "      <td>719</td>\n",
       "      <td>713</td>\n",
       "      <td>719</td>\n",
       "      <td>713</td>\n",
       "    </tr>\n",
       "    <tr>\n",
       "      <th>1</th>\n",
       "      <td>2019-08-02</td>\n",
       "      <td>19</td>\n",
       "      <td>91602</td>\n",
       "      <td>23</td>\n",
       "      <td>162043</td>\n",
       "      <td>42</td>\n",
       "      <td>234381</td>\n",
       "      <td>40</td>\n",
       "      <td>221801</td>\n",
       "      <td>619</td>\n",
       "      <td>581</td>\n",
       "      <td>1338</td>\n",
       "      <td>1294</td>\n",
       "    </tr>\n",
       "    <tr>\n",
       "      <th>2</th>\n",
       "      <td>2019-08-03</td>\n",
       "      <td>24</td>\n",
       "      <td>112473</td>\n",
       "      <td>14</td>\n",
       "      <td>67049</td>\n",
       "      <td>66</td>\n",
       "      <td>346854</td>\n",
       "      <td>54</td>\n",
       "      <td>288850</td>\n",
       "      <td>507</td>\n",
       "      <td>509</td>\n",
       "      <td>1845</td>\n",
       "      <td>1803</td>\n",
       "    </tr>\n",
       "    <tr>\n",
       "      <th>3</th>\n",
       "      <td>2019-08-04</td>\n",
       "      <td>11</td>\n",
       "      <td>41176</td>\n",
       "      <td>14</td>\n",
       "      <td>96890</td>\n",
       "      <td>77</td>\n",
       "      <td>388030</td>\n",
       "      <td>68</td>\n",
       "      <td>385740</td>\n",
       "      <td>717</td>\n",
       "      <td>770</td>\n",
       "      <td>2562</td>\n",
       "      <td>2573</td>\n",
       "    </tr>\n",
       "    <tr>\n",
       "      <th>4</th>\n",
       "      <td>2019-08-05</td>\n",
       "      <td>22</td>\n",
       "      <td>86383</td>\n",
       "      <td>21</td>\n",
       "      <td>89908</td>\n",
       "      <td>99</td>\n",
       "      <td>474413</td>\n",
       "      <td>89</td>\n",
       "      <td>475648</td>\n",
       "      <td>756</td>\n",
       "      <td>707</td>\n",
       "      <td>3318</td>\n",
       "      <td>3280</td>\n",
       "    </tr>\n",
       "  </tbody>\n",
       "</table>\n",
       "</div>"
      ],
      "text/plain": [
       "        date  orders_per_a  revenue_per_a  orders_per_b  revenue_per_b  \\\n",
       "0 2019-08-01            23         142779            17          59758   \n",
       "1 2019-08-02            19          91602            23         162043   \n",
       "2 2019-08-03            24         112473            14          67049   \n",
       "3 2019-08-04            11          41176            14          96890   \n",
       "4 2019-08-05            22          86383            21          89908   \n",
       "\n",
       "   orders_cummulative_a  revenue_cummulative_a  orders_cummulative_b  \\\n",
       "0                    23                 142779                    17   \n",
       "1                    42                 234381                    40   \n",
       "2                    66                 346854                    54   \n",
       "3                    77                 388030                    68   \n",
       "4                    99                 474413                    89   \n",
       "\n",
       "   revenue_cummulative_b  visitors_per_a  visitors_per_b  \\\n",
       "0                  59758             719             713   \n",
       "1                 221801             619             581   \n",
       "2                 288850             507             509   \n",
       "3                 385740             717             770   \n",
       "4                 475648             756             707   \n",
       "\n",
       "   visitors_cummulative_a  visitors_cummulative_b  \n",
       "0                     719                     713  \n",
       "1                    1338                    1294  \n",
       "2                    1845                    1803  \n",
       "3                    2562                    2573  \n",
       "4                    3318                    3280  "
      ]
     },
     "execution_count": 31,
     "metadata": {},
     "output_type": "execute_result"
    }
   ],
   "source": [
    "# соединяем предыдущие кумулятивные датафреймы в один\n",
    "data = (\n",
    "    orders_a_daily.merge(\n",
    "        orders_b_daily, left_on='date', right_on='date', how='left'\n",
    "    )\n",
    "    .merge(orders_a_cummulative, left_on='date', right_on='date', how='left')\n",
    "    .merge(orders_b_cummulative, left_on='date', right_on='date', how='left')\n",
    "    .merge(visitors_a_daily, left_on='date', right_on='date', how='left')\n",
    "    .merge(visitors_b_daily, left_on='date', right_on='date', how='left')\n",
    "    .merge(visitors_a_cummulative, left_on='date', right_on='date', how='left')\n",
    "    .merge(visitors_b_cummulative, left_on='date', right_on='date', how='left')\n",
    ")\n",
    "\n",
    "data.head()"
   ]
  },
  {
   "cell_type": "code",
   "execution_count": 32,
   "metadata": {},
   "outputs": [],
   "source": [
    "# количество уникальных заказов у пользователей по группам.\n",
    "users_orders_a = (\n",
    "    orders[orders['group'] == 'A']\n",
    "    .groupby('visitor_id', as_index=False)\n",
    "    .agg({'transaction_id': pd.Series.nunique})\n",
    ")\n",
    "users_orders_a.columns = ['visitor_id', 'orders']\n",
    "\n",
    "users_orders_b = (\n",
    "    orders[orders['group'] == 'B']\n",
    "    .groupby('visitor_id', as_index=False)\n",
    "    .agg({'transaction_id': pd.Series.nunique})\n",
    ")\n",
    "users_orders_b.columns = ['visitor_id', 'orders']"
   ]
  },
  {
   "cell_type": "code",
   "execution_count": 33,
   "metadata": {
    "scrolled": true
   },
   "outputs": [
    {
     "name": "stdout",
     "output_type": "stream",
     "text": [
      "0.011018084110014696\n",
      "Относительный прирост средней конверсии группы B: 0.160\n"
     ]
    }
   ],
   "source": [
    "# Последовательно объединяем по заказам пользователей сегментов А и В\n",
    "# Присвоили нули тем, у кого нет заказов\n",
    "sample_a = pd.concat(\n",
    "    [\n",
    "        users_orders_a['orders'],\n",
    "        pd.Series(\n",
    "            0,\n",
    "            index=np.arange(\n",
    "                data['visitors_per_a'].sum() - len(users_orders_a['orders'])\n",
    "            ),\n",
    "            name='orders',\n",
    "        ),\n",
    "    ],\n",
    "    axis=0,\n",
    ")\n",
    "\n",
    "sample_b = pd.concat(\n",
    "    [\n",
    "        users_orders_b['orders'],\n",
    "        pd.Series(\n",
    "            0,\n",
    "            index=np.arange(\n",
    "                data['visitors_per_b'].sum() - len(users_orders_b['orders'])\n",
    "            ),\n",
    "            name='orders',\n",
    "        ),\n",
    "    ],\n",
    "    axis=0,\n",
    ")\n",
    "# Вычисляем p-value по Манну-Уитни и прирост средней конверсии сегмента В\n",
    "print(st.mannwhitneyu(sample_a, sample_b)[1])\n",
    "print(\"Относительный прирост средней конверсии группы B: {0:.3f}\".format(sample_b.mean() / sample_a.mean() - 1))"
   ]
  },
  {
   "cell_type": "markdown",
   "metadata": {},
   "source": [
    "**Нулевая гипотеза:** пропорции конверсии из посетителей в покупатели в группах А, В равны.\n",
    "\n",
    "**Альтернативная гипотеза:** пропорции конверсии из посетителей в покупатели в группах А, В различны.\n",
    "\n",
    "Уровень значимости: alpha = 0.05. Я выбираю такое значение alpha, так как считаю, что в данном исследование последствия ошибки первого рода не критичны.\n",
    "\n",
    "P-value не превышает уровень значимости в 5% (1.1%). Значит между средними конверсиями групп А и В по сырым данным есть статистически значимые отличия. Исходя из этих данных отвергаем нулевую гипотезу. \n",
    "\n",
    "Относительное различие средних конверсий между группами А и В 16%. Выводы надо сделать после анализа очищенных данных."
   ]
  },
  {
   "cell_type": "markdown",
   "metadata": {},
   "source": [
    "## Статистическая значимость различий в среднем чеке между группами по «сырым» данным"
   ]
  },
  {
   "cell_type": "code",
   "execution_count": 34,
   "metadata": {},
   "outputs": [
    {
     "name": "stdout",
     "output_type": "stream",
     "text": [
      "0.8294908998149533\n",
      "Относительный прирост среднего чека группы B: 0.287\n"
     ]
    }
   ],
   "source": [
    "# То же только со средним чеком\n",
    "print(st.mannwhitneyu(orders[orders['group']=='A']['revenue'], \n",
    "      orders[orders['group']=='B']['revenue'])[1])\n",
    "print('Относительный прирост среднего чека группы B: {0:.3f}'\n",
    "      .format(orders[orders['group']=='B']['revenue']\n",
    "      .mean()/orders[orders['group']=='A']['revenue'].mean()-1))"
   ]
  },
  {
   "cell_type": "markdown",
   "metadata": {},
   "source": [
    "**Нулевая гипотеза:** средний чек у покупателей в группах А, В одинаковый.\n",
    "\n",
    "**Альтернативная гипотеза:** средний чек у покупателей в группах А, В различный.\n",
    "\n",
    "P-value превышает уровень значимости в 5% (83%). Значит между средними чеками групп А и В по сырым данным статистически значимых отличий нет. \n",
    "\n",
    "Однако относительное различие среднего чека между группами А и В целых 28.7%. Это много. Выводы надо сделать после анализа очищенных данных"
   ]
  },
  {
   "cell_type": "markdown",
   "metadata": {},
   "source": [
    "## Статистическая значимость различий в конверсии между группами по «очищенным» данным"
   ]
  },
  {
   "cell_type": "markdown",
   "metadata": {},
   "source": [
    "Я возьму верхний предел по количеству заказов - 1, по сумме заказа - 27 000. Данные больше этих значений я отсеку."
   ]
  },
  {
   "cell_type": "code",
   "execution_count": 35,
   "metadata": {},
   "outputs": [
    {
     "data": {
      "text/plain": [
       "568     113298937\n",
       "1099    148427295\n",
       "928     204675465\n",
       "33      249864742\n",
       "684     358944393\n",
       "Name: visitor_id, dtype: int64"
      ]
     },
     "execution_count": 35,
     "metadata": {},
     "output_type": "execute_result"
    }
   ],
   "source": [
    "order_max = perc_orders[0]\n",
    "rev_max = perc_rev[0]\n",
    "# переменная с аномальным количеством заказов\n",
    "many_orders = pd.concat(\n",
    "    [\n",
    "        users_orders_a[users_orders_a['orders'] > order_max]['visitor_id'],\n",
    "        users_orders_b[users_orders_b['orders'] > order_max]['visitor_id'],\n",
    "    ],\n",
    "    axis=0,\n",
    ")\n",
    "# переменная с аномальной суммой заказа\n",
    "expensive_orders = orders[orders['revenue'] > rev_max]['visitor_id']\n",
    "abnormal_users = (\n",
    "    pd.concat([many_orders, expensive_orders], axis=0)\n",
    "    .drop_duplicates()\n",
    "    .sort_values()\n",
    ")\n",
    "abnormal_users.head(5)"
   ]
  },
  {
   "cell_type": "code",
   "execution_count": 36,
   "metadata": {},
   "outputs": [],
   "source": [
    "# Последовательно объединяем по заказам пользователей сегментов А и В по очищенным данным\n",
    "# Присвоили нули тем, у кого нет заказов\n",
    "sample_a_filtered = pd.concat(\n",
    "    [\n",
    "        users_orders_a[\n",
    "            np.logical_not(users_orders_a['visitor_id'].isin(abnormal_users))\n",
    "        ]['orders'],\n",
    "        pd.Series(\n",
    "            0,\n",
    "            index=np.arange(\n",
    "                data['visitors_per_a'].sum() - len(users_orders_a['orders'])\n",
    "            ),\n",
    "            name='orders',\n",
    "        ),\n",
    "    ],\n",
    "    axis=0,\n",
    ")\n",
    "\n",
    "sample_b_filtered = pd.concat(\n",
    "    [\n",
    "        users_orders_b[\n",
    "            np.logical_not(users_orders_b['visitor_id'].isin(abnormal_users))\n",
    "        ]['orders'],\n",
    "        pd.Series(\n",
    "            0,\n",
    "            index=np.arange(\n",
    "                data['visitors_per_b'].sum() - len(users_orders_b['orders'])\n",
    "            ),\n",
    "            name='orders',\n",
    "        ),\n",
    "    ],\n",
    "    axis=0,\n",
    ")"
   ]
  },
  {
   "cell_type": "code",
   "execution_count": 37,
   "metadata": {},
   "outputs": [
    {
     "name": "stdout",
     "output_type": "stream",
     "text": [
      "0.01593020716573973\n",
      "0.174\n"
     ]
    }
   ],
   "source": [
    "# Вычисляем p-value по Манну-Уитни и прирост средней конверсии сегмента В по очищенным данным\n",
    "print(st.mannwhitneyu(sample_a_filtered, sample_b_filtered)[1])\n",
    "print('{0:.3f}'.format(sample_b_filtered.mean()/sample_a_filtered.mean()-1))"
   ]
  },
  {
   "cell_type": "markdown",
   "metadata": {},
   "source": [
    "По очищенным данным также отвергаем нулевую гипотезу. Группа В лучше группы А по средней конверсии на 17.4%"
   ]
  },
  {
   "cell_type": "markdown",
   "metadata": {},
   "source": [
    "## Cтатистическая значимость различий в среднем чеке заказа между группами по «очищенным» данным"
   ]
  },
  {
   "cell_type": "code",
   "execution_count": 38,
   "metadata": {},
   "outputs": [
    {
     "name": "stdout",
     "output_type": "stream",
     "text": [
      "0.7271286894009963\n",
      "-0.034\n"
     ]
    }
   ],
   "source": [
    "# То же только со средним чеком\n",
    "print(\n",
    "        st.mannwhitneyu(\n",
    "            orders[\n",
    "                np.logical_and(\n",
    "                    orders['group'] == 'A',\n",
    "                    np.logical_not(orders['visitor_id'].isin(abnormal_users)),\n",
    "                )\n",
    "            ]['revenue'],\n",
    "            orders[\n",
    "                np.logical_and(\n",
    "                    orders['group'] == 'B',\n",
    "                    np.logical_not(orders['visitor_id'].isin(abnormal_users)),\n",
    "                )\n",
    "            ]['revenue'],\n",
    "        )[1]\n",
    "    )\n",
    "\n",
    "\n",
    "print(\n",
    "    \"{0:.3f}\".format(\n",
    "        orders[\n",
    "            np.logical_and(\n",
    "                orders['group'] == 'B',\n",
    "                np.logical_not(orders['visitor_id'].isin(abnormal_users)),\n",
    "            )\n",
    "        ]['revenue'].mean()\n",
    "        / orders[\n",
    "            np.logical_and(\n",
    "                orders['group'] == 'A',\n",
    "                np.logical_not(orders['visitor_id'].isin(abnormal_users)),\n",
    "            )\n",
    "        ]['revenue'].mean()\n",
    "        - 1\n",
    "    )\n",
    ")"
   ]
  },
  {
   "cell_type": "markdown",
   "metadata": {},
   "source": [
    "Не отвергаем нулевую гипотезу: 72% p-value. Отличие в -3.4% (против +25% при сырых данных) по среднему чеку между группами статистически не значимо."
   ]
  },
  {
   "cell_type": "markdown",
   "metadata": {},
   "source": [
    "## Вывод"
   ]
  },
  {
   "cell_type": "code",
   "execution_count": 39,
   "metadata": {},
   "outputs": [
    {
     "data": {
      "text/plain": [
       "transaction_id    548\n",
       "visitor_id        548\n",
       "date              548\n",
       "revenue           548\n",
       "group             548\n",
       "dtype: int64"
      ]
     },
     "execution_count": 39,
     "metadata": {},
     "output_type": "execute_result"
    }
   ],
   "source": [
    "orders.query('group == \"B\"').count()"
   ]
  },
  {
   "cell_type": "code",
   "execution_count": 40,
   "metadata": {},
   "outputs": [
    {
     "data": {
      "text/plain": [
       "transaction_id    468\n",
       "visitor_id        468\n",
       "date              468\n",
       "revenue           468\n",
       "group             468\n",
       "dtype: int64"
      ]
     },
     "execution_count": 40,
     "metadata": {},
     "output_type": "execute_result"
    }
   ],
   "source": [
    "orders.query('group == \"A\"').count()"
   ]
  },
  {
   "cell_type": "code",
   "execution_count": 41,
   "metadata": {},
   "outputs": [
    {
     "data": {
      "text/plain": [
       "607.2903225806451"
      ]
     },
     "execution_count": 41,
     "metadata": {},
     "output_type": "execute_result"
    }
   ],
   "source": [
    "visitors['visitors'].mean()"
   ]
  },
  {
   "cell_type": "markdown",
   "metadata": {},
   "source": [
    "Исходя из проверок гипотез по очищенным данным получается:\n",
    "\n",
    "1. Средняя конверсия пользователей группы В лучше группы А на 17.4%\n",
    "2. Средний чек у группы А выше на 3.4% чем у группы В.\n",
    "\n",
    "Несмотря на то, что конверсия у группы В высокая, качество пользователей не изменилось, они покупают примерно на ту же сумму (72% вероятность того, что средние чеки в группах одинаковые).\n",
    "\n",
    "График различия среднего чека колеблется. Сделать из этого графика определённые выводы нельзя.\n",
    "\n",
    "Графики кумулятивного чека и относительного изменения конверсии группы B к группе A зафиксировались даже по сырым данным.\n",
    "\n",
    "**ВЫВОД:**\n",
    "\n",
    "Несмотря на то, что улучшений по среднему чеку нет, есть улучшения по конверсии из пользователей в покупатели - 17.4% - и это не случайное значение. Я признаю тест успешным и завершу его. В любом случае продолжать тест и \"подглядывать\" нет смысла, лучше уж потом запустить его заново, если что."
   ]
  }
 ],
 "metadata": {
  "ExecuteTimeLog": [
   {
    "duration": 1301,
    "start_time": "2022-07-19T09:48:55.942Z"
   },
   {
    "duration": 58,
    "start_time": "2022-07-19T09:49:25.193Z"
   },
   {
    "duration": 20,
    "start_time": "2022-07-19T09:49:45.213Z"
   },
   {
    "duration": 3,
    "start_time": "2022-07-19T09:51:26.263Z"
   },
   {
    "duration": 2,
    "start_time": "2022-07-19T09:59:43.289Z"
   },
   {
    "duration": 147,
    "start_time": "2022-07-19T09:59:43.293Z"
   },
   {
    "duration": 14,
    "start_time": "2022-07-19T09:59:43.442Z"
   },
   {
    "duration": 4,
    "start_time": "2022-07-19T09:59:50.838Z"
   },
   {
    "duration": 8,
    "start_time": "2022-07-19T10:02:14.794Z"
   },
   {
    "duration": 13,
    "start_time": "2022-07-19T10:02:20.659Z"
   },
   {
    "duration": 10,
    "start_time": "2022-07-19T10:03:23.754Z"
   },
   {
    "duration": 12,
    "start_time": "2022-07-19T10:04:07.484Z"
   },
   {
    "duration": 11,
    "start_time": "2022-07-19T10:08:09.853Z"
   },
   {
    "duration": 15,
    "start_time": "2022-07-19T10:27:45.458Z"
   },
   {
    "duration": 14,
    "start_time": "2022-07-19T10:28:19.913Z"
   },
   {
    "duration": 1222,
    "start_time": "2022-07-19T12:14:23.396Z"
   },
   {
    "duration": 182,
    "start_time": "2022-07-19T12:14:24.619Z"
   },
   {
    "duration": 18,
    "start_time": "2022-07-19T12:14:24.803Z"
   },
   {
    "duration": 16,
    "start_time": "2022-07-19T12:14:24.822Z"
   },
   {
    "duration": 23,
    "start_time": "2022-07-19T12:14:24.839Z"
   },
   {
    "duration": 401,
    "start_time": "2022-07-19T12:14:24.863Z"
   },
   {
    "duration": 0,
    "start_time": "2022-07-19T12:14:25.266Z"
   },
   {
    "duration": 13,
    "start_time": "2022-07-19T12:14:32.116Z"
   },
   {
    "duration": 12,
    "start_time": "2022-07-19T12:14:37.531Z"
   },
   {
    "duration": 6,
    "start_time": "2022-07-19T12:15:09.315Z"
   },
   {
    "duration": 9,
    "start_time": "2022-07-19T12:15:22.755Z"
   },
   {
    "duration": 11,
    "start_time": "2022-07-19T12:17:07.411Z"
   },
   {
    "duration": 1038,
    "start_time": "2022-07-19T12:19:18.117Z"
   },
   {
    "duration": 68,
    "start_time": "2022-07-19T12:19:19.156Z"
   },
   {
    "duration": 17,
    "start_time": "2022-07-19T12:19:19.226Z"
   },
   {
    "duration": 17,
    "start_time": "2022-07-19T12:19:19.244Z"
   },
   {
    "duration": 16,
    "start_time": "2022-07-19T12:19:19.263Z"
   },
   {
    "duration": 1098,
    "start_time": "2022-07-19T12:20:36.610Z"
   },
   {
    "duration": 69,
    "start_time": "2022-07-19T12:20:37.710Z"
   },
   {
    "duration": 17,
    "start_time": "2022-07-19T12:20:37.780Z"
   },
   {
    "duration": 14,
    "start_time": "2022-07-19T12:20:37.798Z"
   },
   {
    "duration": 17,
    "start_time": "2022-07-19T12:20:37.813Z"
   },
   {
    "duration": 396,
    "start_time": "2022-07-19T12:27:08.940Z"
   },
   {
    "duration": 317,
    "start_time": "2022-07-19T12:27:49.536Z"
   },
   {
    "duration": 393,
    "start_time": "2022-07-19T12:28:10.215Z"
   },
   {
    "duration": 1069,
    "start_time": "2022-07-19T12:29:13.492Z"
   },
   {
    "duration": 69,
    "start_time": "2022-07-19T12:29:14.564Z"
   },
   {
    "duration": 19,
    "start_time": "2022-07-19T12:29:14.634Z"
   },
   {
    "duration": 15,
    "start_time": "2022-07-19T12:29:14.655Z"
   },
   {
    "duration": 12,
    "start_time": "2022-07-19T12:29:14.671Z"
   },
   {
    "duration": 13,
    "start_time": "2022-07-19T12:29:22.763Z"
   },
   {
    "duration": 3,
    "start_time": "2022-07-19T12:29:49.493Z"
   },
   {
    "duration": 72,
    "start_time": "2022-07-19T12:29:49.498Z"
   },
   {
    "duration": 15,
    "start_time": "2022-07-19T12:29:49.572Z"
   },
   {
    "duration": 32,
    "start_time": "2022-07-19T12:29:49.588Z"
   },
   {
    "duration": 29,
    "start_time": "2022-07-19T12:29:49.621Z"
   },
   {
    "duration": 19,
    "start_time": "2022-07-19T12:29:49.651Z"
   },
   {
    "duration": 25,
    "start_time": "2022-07-19T12:29:49.672Z"
   },
   {
    "duration": 12,
    "start_time": "2022-07-19T12:29:49.699Z"
   },
   {
    "duration": 18,
    "start_time": "2022-07-19T12:29:49.712Z"
   },
   {
    "duration": 157,
    "start_time": "2022-07-19T12:31:45.877Z"
   },
   {
    "duration": 361,
    "start_time": "2022-07-19T12:39:05.198Z"
   },
   {
    "duration": 335,
    "start_time": "2022-07-19T12:47:06.808Z"
   },
   {
    "duration": 316,
    "start_time": "2022-07-19T12:47:27.608Z"
   },
   {
    "duration": 305,
    "start_time": "2022-07-19T12:48:48.308Z"
   },
   {
    "duration": 298,
    "start_time": "2022-07-19T12:49:28.915Z"
   },
   {
    "duration": 331,
    "start_time": "2022-07-19T12:50:50.893Z"
   },
   {
    "duration": 356,
    "start_time": "2022-07-19T12:55:17.838Z"
   },
   {
    "duration": 388,
    "start_time": "2022-07-19T12:55:32.535Z"
   },
   {
    "duration": 9,
    "start_time": "2022-07-19T13:02:52.689Z"
   },
   {
    "duration": 416,
    "start_time": "2022-07-19T13:04:39.070Z"
   },
   {
    "duration": 424,
    "start_time": "2022-07-19T13:05:58.274Z"
   },
   {
    "duration": 173,
    "start_time": "2022-07-19T13:08:01.748Z"
   },
   {
    "duration": 1365,
    "start_time": "2022-07-19T14:56:55.866Z"
   },
   {
    "duration": 195,
    "start_time": "2022-07-19T14:56:57.234Z"
   },
   {
    "duration": 21,
    "start_time": "2022-07-19T14:56:57.431Z"
   },
   {
    "duration": 13,
    "start_time": "2022-07-19T14:56:57.454Z"
   },
   {
    "duration": 13,
    "start_time": "2022-07-19T14:56:57.469Z"
   },
   {
    "duration": 13,
    "start_time": "2022-07-19T14:56:57.484Z"
   },
   {
    "duration": 35,
    "start_time": "2022-07-19T14:56:57.499Z"
   },
   {
    "duration": 9,
    "start_time": "2022-07-19T14:56:57.536Z"
   },
   {
    "duration": 18,
    "start_time": "2022-07-19T14:56:57.546Z"
   },
   {
    "duration": 14,
    "start_time": "2022-07-19T14:56:57.566Z"
   },
   {
    "duration": 556,
    "start_time": "2022-07-19T14:56:57.582Z"
   },
   {
    "duration": 214,
    "start_time": "2022-07-19T14:56:58.139Z"
   },
   {
    "duration": 10,
    "start_time": "2022-07-19T15:03:35.744Z"
   },
   {
    "duration": 11,
    "start_time": "2022-07-19T15:03:52.643Z"
   },
   {
    "duration": 316,
    "start_time": "2022-07-19T15:08:10.275Z"
   },
   {
    "duration": 293,
    "start_time": "2022-07-19T15:08:15.207Z"
   },
   {
    "duration": 295,
    "start_time": "2022-07-19T15:08:42.831Z"
   },
   {
    "duration": 332,
    "start_time": "2022-07-19T15:08:52.594Z"
   },
   {
    "duration": 344,
    "start_time": "2022-07-19T15:14:17.104Z"
   },
   {
    "duration": 268,
    "start_time": "2022-07-19T15:16:50.032Z"
   },
   {
    "duration": 99,
    "start_time": "2022-07-19T15:21:55.980Z"
   },
   {
    "duration": 214,
    "start_time": "2022-07-19T15:22:14.068Z"
   },
   {
    "duration": 203,
    "start_time": "2022-07-19T15:22:20.329Z"
   },
   {
    "duration": 241,
    "start_time": "2022-07-19T15:25:01.082Z"
   },
   {
    "duration": 217,
    "start_time": "2022-07-19T15:25:34.466Z"
   },
   {
    "duration": 179,
    "start_time": "2022-07-19T15:25:40.881Z"
   },
   {
    "duration": 5,
    "start_time": "2022-07-19T15:25:51.594Z"
   },
   {
    "duration": 61,
    "start_time": "2022-07-19T15:26:05.042Z"
   },
   {
    "duration": 5,
    "start_time": "2022-07-19T15:26:13.515Z"
   },
   {
    "duration": 211,
    "start_time": "2022-07-19T15:26:27.228Z"
   },
   {
    "duration": 181,
    "start_time": "2022-07-19T15:26:38.673Z"
   },
   {
    "duration": 206,
    "start_time": "2022-07-19T15:26:58.229Z"
   },
   {
    "duration": 188,
    "start_time": "2022-07-19T15:29:20.610Z"
   },
   {
    "duration": 285,
    "start_time": "2022-07-19T15:38:35.640Z"
   },
   {
    "duration": 394,
    "start_time": "2022-07-19T15:38:54.903Z"
   },
   {
    "duration": 279,
    "start_time": "2022-07-19T15:39:21.583Z"
   },
   {
    "duration": 252,
    "start_time": "2022-07-19T15:41:41.961Z"
   },
   {
    "duration": 270,
    "start_time": "2022-07-19T15:41:49.645Z"
   },
   {
    "duration": 262,
    "start_time": "2022-07-19T15:41:57.752Z"
   },
   {
    "duration": 8,
    "start_time": "2022-07-19T15:50:44.356Z"
   },
   {
    "duration": 17,
    "start_time": "2022-07-19T15:51:56.647Z"
   },
   {
    "duration": 11,
    "start_time": "2022-07-19T15:52:07.373Z"
   },
   {
    "duration": 9,
    "start_time": "2022-07-19T15:52:36.242Z"
   },
   {
    "duration": 10,
    "start_time": "2022-07-19T15:52:47.108Z"
   },
   {
    "duration": 55,
    "start_time": "2022-07-19T15:53:29.572Z"
   },
   {
    "duration": 12,
    "start_time": "2022-07-19T15:53:50.111Z"
   },
   {
    "duration": 129,
    "start_time": "2022-07-19T15:55:06.389Z"
   },
   {
    "duration": 138,
    "start_time": "2022-07-19T15:55:17.427Z"
   },
   {
    "duration": 140,
    "start_time": "2022-07-19T15:56:25.514Z"
   },
   {
    "duration": 132,
    "start_time": "2022-07-19T15:56:29.254Z"
   },
   {
    "duration": 5,
    "start_time": "2022-07-19T16:17:59.022Z"
   },
   {
    "duration": 4,
    "start_time": "2022-07-19T16:18:09.715Z"
   },
   {
    "duration": 146,
    "start_time": "2022-07-19T16:21:52.072Z"
   },
   {
    "duration": 147,
    "start_time": "2022-07-19T16:25:47.936Z"
   },
   {
    "duration": 4,
    "start_time": "2022-07-19T16:27:16.358Z"
   },
   {
    "duration": 13,
    "start_time": "2022-07-19T16:38:02.010Z"
   },
   {
    "duration": 45,
    "start_time": "2022-07-19T16:39:39.901Z"
   },
   {
    "duration": 9,
    "start_time": "2022-07-19T16:41:28.370Z"
   },
   {
    "duration": 85,
    "start_time": "2022-07-19T16:43:40.998Z"
   },
   {
    "duration": 117,
    "start_time": "2022-07-19T16:47:06.783Z"
   },
   {
    "duration": 106,
    "start_time": "2022-07-19T16:47:48.134Z"
   },
   {
    "duration": 21,
    "start_time": "2022-07-19T16:47:51.534Z"
   },
   {
    "duration": 88,
    "start_time": "2022-07-19T16:48:05.135Z"
   },
   {
    "duration": 8,
    "start_time": "2022-07-19T16:48:05.648Z"
   },
   {
    "duration": 114,
    "start_time": "2022-07-19T16:48:06.094Z"
   },
   {
    "duration": 19,
    "start_time": "2022-07-19T16:48:06.822Z"
   },
   {
    "duration": 28,
    "start_time": "2022-07-19T16:48:16.938Z"
   },
   {
    "duration": 118,
    "start_time": "2022-07-19T16:50:53.198Z"
   },
   {
    "duration": 15,
    "start_time": "2022-07-19T16:53:11.337Z"
   },
   {
    "duration": 28,
    "start_time": "2022-07-19T16:54:18.439Z"
   },
   {
    "duration": 11,
    "start_time": "2022-07-19T16:57:08.280Z"
   },
   {
    "duration": 26,
    "start_time": "2022-07-19T17:04:56.202Z"
   },
   {
    "duration": 10,
    "start_time": "2022-07-19T17:08:17.870Z"
   },
   {
    "duration": 7,
    "start_time": "2022-07-19T17:13:48.892Z"
   },
   {
    "duration": 11,
    "start_time": "2022-07-19T17:15:35.367Z"
   },
   {
    "duration": 8,
    "start_time": "2022-07-19T17:19:25.213Z"
   },
   {
    "duration": 21,
    "start_time": "2022-07-19T17:19:54.030Z"
   },
   {
    "duration": 13,
    "start_time": "2022-07-19T17:24:54.088Z"
   },
   {
    "duration": 1106,
    "start_time": "2022-07-19T17:32:56.079Z"
   },
   {
    "duration": 77,
    "start_time": "2022-07-19T17:32:57.187Z"
   },
   {
    "duration": 18,
    "start_time": "2022-07-19T17:32:57.266Z"
   },
   {
    "duration": 14,
    "start_time": "2022-07-19T17:32:57.286Z"
   },
   {
    "duration": 16,
    "start_time": "2022-07-19T17:32:57.301Z"
   },
   {
    "duration": 15,
    "start_time": "2022-07-19T17:32:57.319Z"
   },
   {
    "duration": 15,
    "start_time": "2022-07-19T17:32:57.335Z"
   },
   {
    "duration": 20,
    "start_time": "2022-07-19T17:32:57.351Z"
   },
   {
    "duration": 25,
    "start_time": "2022-07-19T17:32:57.374Z"
   },
   {
    "duration": 12,
    "start_time": "2022-07-19T17:32:57.402Z"
   },
   {
    "duration": 575,
    "start_time": "2022-07-19T17:32:57.416Z"
   },
   {
    "duration": 195,
    "start_time": "2022-07-19T17:32:57.993Z"
   },
   {
    "duration": 324,
    "start_time": "2022-07-19T17:32:58.190Z"
   },
   {
    "duration": 187,
    "start_time": "2022-07-19T17:32:58.516Z"
   },
   {
    "duration": 306,
    "start_time": "2022-07-19T17:32:58.704Z"
   },
   {
    "duration": 19,
    "start_time": "2022-07-19T17:32:59.012Z"
   },
   {
    "duration": 154,
    "start_time": "2022-07-19T17:32:59.033Z"
   },
   {
    "duration": 4,
    "start_time": "2022-07-19T17:32:59.189Z"
   },
   {
    "duration": 168,
    "start_time": "2022-07-19T17:32:59.194Z"
   },
   {
    "duration": 3,
    "start_time": "2022-07-19T17:32:59.364Z"
   },
   {
    "duration": 8,
    "start_time": "2022-07-19T17:32:59.369Z"
   },
   {
    "duration": 178,
    "start_time": "2022-07-19T17:32:59.378Z"
   },
   {
    "duration": 12,
    "start_time": "2022-07-19T17:32:59.557Z"
   },
   {
    "duration": 113,
    "start_time": "2022-07-19T17:32:59.570Z"
   },
   {
    "duration": 26,
    "start_time": "2022-07-19T17:32:59.685Z"
   },
   {
    "duration": 137,
    "start_time": "2022-07-19T17:32:59.724Z"
   },
   {
    "duration": 26,
    "start_time": "2022-07-19T17:32:59.863Z"
   },
   {
    "duration": 10,
    "start_time": "2022-07-19T17:32:59.891Z"
   },
   {
    "duration": 23,
    "start_time": "2022-07-19T17:32:59.903Z"
   },
   {
    "duration": 13,
    "start_time": "2022-07-19T17:32:59.927Z"
   },
   {
    "duration": 7,
    "start_time": "2022-07-19T17:32:59.942Z"
   },
   {
    "duration": 25,
    "start_time": "2022-07-19T17:32:59.951Z"
   },
   {
    "duration": 13,
    "start_time": "2022-07-19T17:32:59.977Z"
   },
   {
    "duration": 463,
    "start_time": "2022-07-19T17:41:58.190Z"
   },
   {
    "duration": 193,
    "start_time": "2022-07-19T17:42:44.196Z"
   },
   {
    "duration": 180,
    "start_time": "2022-07-19T17:42:51.363Z"
   },
   {
    "duration": 10,
    "start_time": "2022-07-19T18:11:10.064Z"
   },
   {
    "duration": 9,
    "start_time": "2022-07-19T18:11:18.533Z"
   },
   {
    "duration": 9,
    "start_time": "2022-07-19T18:12:43.405Z"
   },
   {
    "duration": 7,
    "start_time": "2022-07-19T18:29:25.340Z"
   },
   {
    "duration": 4,
    "start_time": "2022-07-19T18:29:49.047Z"
   },
   {
    "duration": 1202,
    "start_time": "2022-07-19T18:55:01.108Z"
   },
   {
    "duration": 84,
    "start_time": "2022-07-19T18:55:02.312Z"
   },
   {
    "duration": 20,
    "start_time": "2022-07-19T18:55:02.398Z"
   },
   {
    "duration": 16,
    "start_time": "2022-07-19T18:55:02.420Z"
   },
   {
    "duration": 17,
    "start_time": "2022-07-19T18:55:02.438Z"
   },
   {
    "duration": 14,
    "start_time": "2022-07-19T18:55:02.457Z"
   },
   {
    "duration": 33,
    "start_time": "2022-07-19T18:55:02.472Z"
   },
   {
    "duration": 10,
    "start_time": "2022-07-19T18:55:02.506Z"
   },
   {
    "duration": 581,
    "start_time": "2022-07-19T18:55:02.523Z"
   },
   {
    "duration": 205,
    "start_time": "2022-07-19T18:55:03.107Z"
   },
   {
    "duration": 316,
    "start_time": "2022-07-19T18:55:03.313Z"
   },
   {
    "duration": 205,
    "start_time": "2022-07-19T18:55:03.630Z"
   },
   {
    "duration": 296,
    "start_time": "2022-07-19T18:55:03.837Z"
   },
   {
    "duration": 150,
    "start_time": "2022-07-19T18:55:04.135Z"
   },
   {
    "duration": 5,
    "start_time": "2022-07-19T18:55:04.287Z"
   },
   {
    "duration": 177,
    "start_time": "2022-07-19T18:55:04.294Z"
   },
   {
    "duration": 4,
    "start_time": "2022-07-19T18:55:04.473Z"
   },
   {
    "duration": 188,
    "start_time": "2022-07-19T18:55:04.478Z"
   },
   {
    "duration": 113,
    "start_time": "2022-07-19T18:55:04.668Z"
   },
   {
    "duration": 26,
    "start_time": "2022-07-19T18:55:04.783Z"
   },
   {
    "duration": 141,
    "start_time": "2022-07-19T18:55:04.811Z"
   },
   {
    "duration": 28,
    "start_time": "2022-07-19T18:55:04.953Z"
   },
   {
    "duration": 11,
    "start_time": "2022-07-19T18:55:04.982Z"
   },
   {
    "duration": 31,
    "start_time": "2022-07-19T18:55:04.994Z"
   },
   {
    "duration": 8,
    "start_time": "2022-07-19T18:55:05.027Z"
   },
   {
    "duration": 24,
    "start_time": "2022-07-19T18:55:05.037Z"
   },
   {
    "duration": 13,
    "start_time": "2022-07-19T18:55:05.063Z"
   },
   {
    "duration": 8,
    "start_time": "2022-07-19T18:55:05.079Z"
   },
   {
    "duration": 36,
    "start_time": "2022-07-19T18:55:05.089Z"
   },
   {
    "duration": 4,
    "start_time": "2022-07-19T18:55:05.126Z"
   },
   {
    "duration": 1225,
    "start_time": "2022-07-20T16:43:00.119Z"
   },
   {
    "duration": 81,
    "start_time": "2022-07-20T16:43:01.346Z"
   },
   {
    "duration": 20,
    "start_time": "2022-07-20T16:43:01.429Z"
   },
   {
    "duration": 40,
    "start_time": "2022-07-20T16:43:01.450Z"
   },
   {
    "duration": 41,
    "start_time": "2022-07-20T16:43:01.492Z"
   },
   {
    "duration": 63,
    "start_time": "2022-07-20T16:43:01.534Z"
   },
   {
    "duration": 59,
    "start_time": "2022-07-20T16:43:01.599Z"
   },
   {
    "duration": 20,
    "start_time": "2022-07-20T16:43:01.660Z"
   },
   {
    "duration": 637,
    "start_time": "2022-07-20T16:43:01.682Z"
   },
   {
    "duration": 228,
    "start_time": "2022-07-20T16:43:02.321Z"
   },
   {
    "duration": 317,
    "start_time": "2022-07-20T16:43:02.551Z"
   },
   {
    "duration": 220,
    "start_time": "2022-07-20T16:43:02.870Z"
   },
   {
    "duration": 337,
    "start_time": "2022-07-20T16:43:03.091Z"
   },
   {
    "duration": 152,
    "start_time": "2022-07-20T16:43:03.431Z"
   },
   {
    "duration": 5,
    "start_time": "2022-07-20T16:43:03.584Z"
   },
   {
    "duration": 187,
    "start_time": "2022-07-20T16:43:03.590Z"
   },
   {
    "duration": 4,
    "start_time": "2022-07-20T16:43:03.779Z"
   },
   {
    "duration": 183,
    "start_time": "2022-07-20T16:43:03.785Z"
   },
   {
    "duration": 124,
    "start_time": "2022-07-20T16:43:03.970Z"
   },
   {
    "duration": 28,
    "start_time": "2022-07-20T16:43:04.096Z"
   },
   {
    "duration": 150,
    "start_time": "2022-07-20T16:43:04.126Z"
   },
   {
    "duration": 26,
    "start_time": "2022-07-20T16:43:04.278Z"
   },
   {
    "duration": 11,
    "start_time": "2022-07-20T16:43:04.305Z"
   },
   {
    "duration": 32,
    "start_time": "2022-07-20T16:43:04.317Z"
   },
   {
    "duration": 10,
    "start_time": "2022-07-20T16:43:04.350Z"
   },
   {
    "duration": 22,
    "start_time": "2022-07-20T16:43:04.362Z"
   },
   {
    "duration": 15,
    "start_time": "2022-07-20T16:43:04.386Z"
   },
   {
    "duration": 38,
    "start_time": "2022-07-20T16:43:04.402Z"
   },
   {
    "duration": 9,
    "start_time": "2022-07-20T16:43:04.442Z"
   },
   {
    "duration": 9,
    "start_time": "2022-07-20T16:43:04.453Z"
   },
   {
    "duration": 51,
    "start_time": "2022-07-20T17:32:42.309Z"
   },
   {
    "duration": 1326,
    "start_time": "2022-07-20T17:32:47.394Z"
   },
   {
    "duration": 214,
    "start_time": "2022-07-20T17:32:48.722Z"
   },
   {
    "duration": 21,
    "start_time": "2022-07-20T17:32:48.937Z"
   },
   {
    "duration": 15,
    "start_time": "2022-07-20T17:32:48.960Z"
   },
   {
    "duration": 15,
    "start_time": "2022-07-20T17:32:48.977Z"
   },
   {
    "duration": 16,
    "start_time": "2022-07-20T17:32:48.994Z"
   },
   {
    "duration": 14,
    "start_time": "2022-07-20T17:32:52.363Z"
   },
   {
    "duration": 13,
    "start_time": "2022-07-20T17:33:25.176Z"
   },
   {
    "duration": 72,
    "start_time": "2022-07-20T17:50:39.623Z"
   },
   {
    "duration": 1388,
    "start_time": "2022-07-20T17:51:10.720Z"
   },
   {
    "duration": 138,
    "start_time": "2022-07-20T17:51:22.077Z"
   },
   {
    "duration": 167,
    "start_time": "2022-07-20T17:52:38.732Z"
   },
   {
    "duration": 160,
    "start_time": "2022-07-20T17:53:10.134Z"
   },
   {
    "duration": 4,
    "start_time": "2022-07-20T17:53:51.918Z"
   },
   {
    "duration": 151,
    "start_time": "2022-07-20T17:56:07.177Z"
   },
   {
    "duration": 300,
    "start_time": "2022-07-20T17:56:36.551Z"
   },
   {
    "duration": 273,
    "start_time": "2022-07-20T17:59:07.102Z"
   },
   {
    "duration": 261,
    "start_time": "2022-07-20T18:01:22.975Z"
   },
   {
    "duration": 279,
    "start_time": "2022-07-20T18:03:17.918Z"
   },
   {
    "duration": 373,
    "start_time": "2022-07-20T18:06:00.934Z"
   },
   {
    "duration": 9,
    "start_time": "2022-07-20T18:12:27.743Z"
   },
   {
    "duration": 5,
    "start_time": "2022-07-20T18:12:38.077Z"
   },
   {
    "duration": 6,
    "start_time": "2022-07-20T18:12:44.919Z"
   },
   {
    "duration": 8,
    "start_time": "2022-07-20T18:13:02.557Z"
   },
   {
    "duration": 8,
    "start_time": "2022-07-20T18:13:18.581Z"
   },
   {
    "duration": 5,
    "start_time": "2022-07-20T18:13:25.989Z"
   },
   {
    "duration": 8,
    "start_time": "2022-07-20T18:13:30.949Z"
   },
   {
    "duration": 7,
    "start_time": "2022-07-20T18:13:56.468Z"
   },
   {
    "duration": 10,
    "start_time": "2022-07-20T18:14:34.629Z"
   },
   {
    "duration": 11,
    "start_time": "2022-07-20T18:15:08.469Z"
   },
   {
    "duration": 9,
    "start_time": "2022-07-20T18:15:15.182Z"
   },
   {
    "duration": 5,
    "start_time": "2022-07-20T18:20:28.026Z"
   },
   {
    "duration": 7,
    "start_time": "2022-07-20T18:20:44.820Z"
   },
   {
    "duration": 245,
    "start_time": "2022-07-20T18:22:43.338Z"
   },
   {
    "duration": 264,
    "start_time": "2022-07-20T18:22:47.728Z"
   },
   {
    "duration": 156,
    "start_time": "2022-07-20T18:24:14.449Z"
   },
   {
    "duration": 134,
    "start_time": "2022-07-20T18:24:24.022Z"
   },
   {
    "duration": 319,
    "start_time": "2022-07-20T18:24:36.401Z"
   },
   {
    "duration": 243,
    "start_time": "2022-07-20T18:24:39.992Z"
   },
   {
    "duration": 94,
    "start_time": "2022-07-20T18:30:33.186Z"
   },
   {
    "duration": 172,
    "start_time": "2022-07-20T18:31:01.387Z"
   },
   {
    "duration": 159,
    "start_time": "2022-07-20T18:33:52.210Z"
   },
   {
    "duration": 24,
    "start_time": "2022-07-20T18:34:02.195Z"
   },
   {
    "duration": 149,
    "start_time": "2022-07-20T18:34:42.684Z"
   },
   {
    "duration": 144,
    "start_time": "2022-07-20T18:35:23.038Z"
   },
   {
    "duration": 15,
    "start_time": "2022-07-20T18:35:49.978Z"
   },
   {
    "duration": 16,
    "start_time": "2022-07-20T18:36:37.002Z"
   },
   {
    "duration": 13,
    "start_time": "2022-07-20T18:36:57.026Z"
   },
   {
    "duration": 145,
    "start_time": "2022-07-20T18:37:13.225Z"
   },
   {
    "duration": 142,
    "start_time": "2022-07-20T18:38:14.554Z"
   },
   {
    "duration": 293,
    "start_time": "2022-07-20T18:38:29.497Z"
   },
   {
    "duration": 1954,
    "start_time": "2022-07-20T18:39:54.731Z"
   },
   {
    "duration": 0,
    "start_time": "2022-07-20T18:40:30.027Z"
   },
   {
    "duration": 4122,
    "start_time": "2022-07-20T18:40:41.630Z"
   },
   {
    "duration": 481,
    "start_time": "2022-07-20T18:41:06.533Z"
   },
   {
    "duration": 218,
    "start_time": "2022-07-20T18:41:25.872Z"
   },
   {
    "duration": 235,
    "start_time": "2022-07-20T18:42:27.729Z"
   },
   {
    "duration": 263,
    "start_time": "2022-07-20T18:42:48.729Z"
   },
   {
    "duration": 213,
    "start_time": "2022-07-20T18:47:37.728Z"
   },
   {
    "duration": 210,
    "start_time": "2022-07-20T18:47:49.567Z"
   },
   {
    "duration": 244,
    "start_time": "2022-07-20T18:48:14.120Z"
   },
   {
    "duration": 239,
    "start_time": "2022-07-20T18:48:23.225Z"
   },
   {
    "duration": 231,
    "start_time": "2022-07-20T18:48:38.522Z"
   },
   {
    "duration": 7,
    "start_time": "2022-07-20T18:51:25.600Z"
   },
   {
    "duration": 4,
    "start_time": "2022-07-20T18:51:32.879Z"
   },
   {
    "duration": 4,
    "start_time": "2022-07-20T18:51:45.480Z"
   },
   {
    "duration": 4,
    "start_time": "2022-07-20T18:52:20.938Z"
   },
   {
    "duration": 6,
    "start_time": "2022-07-20T18:52:50.033Z"
   },
   {
    "duration": 4,
    "start_time": "2022-07-20T18:52:50.437Z"
   },
   {
    "duration": 10,
    "start_time": "2022-07-20T18:55:11.227Z"
   },
   {
    "duration": 173,
    "start_time": "2022-07-20T18:55:41.627Z"
   },
   {
    "duration": 178,
    "start_time": "2022-07-20T18:55:44.792Z"
   },
   {
    "duration": 271,
    "start_time": "2022-07-20T18:56:04.125Z"
   },
   {
    "duration": 198,
    "start_time": "2022-07-20T18:56:09.952Z"
   },
   {
    "duration": 174,
    "start_time": "2022-07-20T18:56:13.768Z"
   },
   {
    "duration": 208,
    "start_time": "2022-07-20T18:56:28.229Z"
   },
   {
    "duration": 202,
    "start_time": "2022-07-20T18:56:37.425Z"
   },
   {
    "duration": 221,
    "start_time": "2022-07-20T18:56:42.568Z"
   },
   {
    "duration": 212,
    "start_time": "2022-07-20T18:56:46.000Z"
   },
   {
    "duration": 419,
    "start_time": "2022-07-20T19:04:39.527Z"
   },
   {
    "duration": 202,
    "start_time": "2022-07-20T19:05:34.969Z"
   },
   {
    "duration": 164,
    "start_time": "2022-07-20T19:06:05.635Z"
   },
   {
    "duration": 316,
    "start_time": "2022-07-20T19:06:12.858Z"
   },
   {
    "duration": 11,
    "start_time": "2022-07-20T19:09:44.226Z"
   },
   {
    "duration": 8,
    "start_time": "2022-07-20T19:15:40.452Z"
   },
   {
    "duration": 11,
    "start_time": "2022-07-20T19:15:46.491Z"
   },
   {
    "duration": 9,
    "start_time": "2022-07-20T19:17:55.130Z"
   },
   {
    "duration": 9,
    "start_time": "2022-07-20T19:18:07.355Z"
   },
   {
    "duration": 18,
    "start_time": "2022-07-20T19:18:18.729Z"
   },
   {
    "duration": 10,
    "start_time": "2022-07-20T19:18:56.684Z"
   },
   {
    "duration": 7,
    "start_time": "2022-07-20T19:19:07.436Z"
   },
   {
    "duration": 9,
    "start_time": "2022-07-20T19:20:01.396Z"
   },
   {
    "duration": 12,
    "start_time": "2022-07-20T19:20:09.677Z"
   },
   {
    "duration": 8,
    "start_time": "2022-07-20T19:20:18.384Z"
   },
   {
    "duration": 11,
    "start_time": "2022-07-20T19:20:49.438Z"
   },
   {
    "duration": 11,
    "start_time": "2022-07-20T19:21:00.260Z"
   },
   {
    "duration": 10,
    "start_time": "2022-07-20T19:21:30.949Z"
   },
   {
    "duration": 13,
    "start_time": "2022-07-20T19:21:46.427Z"
   },
   {
    "duration": 1297,
    "start_time": "2022-07-20T19:22:01.544Z"
   },
   {
    "duration": 112,
    "start_time": "2022-07-20T19:22:02.843Z"
   },
   {
    "duration": 24,
    "start_time": "2022-07-20T19:22:02.956Z"
   },
   {
    "duration": 16,
    "start_time": "2022-07-20T19:22:02.982Z"
   },
   {
    "duration": 52,
    "start_time": "2022-07-20T19:22:03.000Z"
   },
   {
    "duration": 23,
    "start_time": "2022-07-20T19:22:03.054Z"
   },
   {
    "duration": 11,
    "start_time": "2022-07-20T19:22:03.079Z"
   },
   {
    "duration": 13,
    "start_time": "2022-07-20T19:22:03.092Z"
   },
   {
    "duration": 45,
    "start_time": "2022-07-20T19:22:03.106Z"
   },
   {
    "duration": 6,
    "start_time": "2022-07-20T19:22:03.153Z"
   },
   {
    "duration": 6,
    "start_time": "2022-07-20T19:22:03.160Z"
   },
   {
    "duration": 11,
    "start_time": "2022-07-20T19:22:03.167Z"
   },
   {
    "duration": 210,
    "start_time": "2022-07-20T19:22:03.179Z"
   },
   {
    "duration": 20,
    "start_time": "2022-07-20T19:22:03.391Z"
   },
   {
    "duration": 11,
    "start_time": "2022-07-20T19:22:03.424Z"
   },
   {
    "duration": 7,
    "start_time": "2022-07-20T19:22:06.041Z"
   },
   {
    "duration": 119,
    "start_time": "2022-07-20T19:22:15.168Z"
   },
   {
    "duration": 31,
    "start_time": "2022-07-20T19:22:21.903Z"
   },
   {
    "duration": 1339,
    "start_time": "2022-07-20T19:22:41.090Z"
   },
   {
    "duration": 105,
    "start_time": "2022-07-20T19:22:42.438Z"
   },
   {
    "duration": 24,
    "start_time": "2022-07-20T19:22:42.546Z"
   },
   {
    "duration": 19,
    "start_time": "2022-07-20T19:22:42.572Z"
   },
   {
    "duration": 32,
    "start_time": "2022-07-20T19:22:42.592Z"
   },
   {
    "duration": 37,
    "start_time": "2022-07-20T19:22:42.626Z"
   },
   {
    "duration": 23,
    "start_time": "2022-07-20T19:22:42.665Z"
   },
   {
    "duration": 20,
    "start_time": "2022-07-20T19:22:42.690Z"
   },
   {
    "duration": 41,
    "start_time": "2022-07-20T19:22:42.712Z"
   },
   {
    "duration": 7,
    "start_time": "2022-07-20T19:22:42.756Z"
   },
   {
    "duration": 11,
    "start_time": "2022-07-20T19:22:42.765Z"
   },
   {
    "duration": 22,
    "start_time": "2022-07-20T19:22:42.778Z"
   },
   {
    "duration": 245,
    "start_time": "2022-07-20T19:22:42.802Z"
   },
   {
    "duration": 11,
    "start_time": "2022-07-20T19:22:43.050Z"
   },
   {
    "duration": 9,
    "start_time": "2022-07-20T19:22:43.063Z"
   },
   {
    "duration": 10,
    "start_time": "2022-07-20T19:22:43.074Z"
   },
   {
    "duration": 9,
    "start_time": "2022-07-20T19:22:50.323Z"
   },
   {
    "duration": 3,
    "start_time": "2022-07-20T19:28:19.054Z"
   },
   {
    "duration": 102,
    "start_time": "2022-07-20T19:28:19.059Z"
   },
   {
    "duration": 17,
    "start_time": "2022-07-20T19:28:19.163Z"
   },
   {
    "duration": 34,
    "start_time": "2022-07-20T19:28:19.182Z"
   },
   {
    "duration": 22,
    "start_time": "2022-07-20T19:28:19.218Z"
   },
   {
    "duration": 30,
    "start_time": "2022-07-20T19:28:19.242Z"
   },
   {
    "duration": 14,
    "start_time": "2022-07-20T19:28:19.274Z"
   },
   {
    "duration": 21,
    "start_time": "2022-07-20T19:28:19.291Z"
   },
   {
    "duration": 16,
    "start_time": "2022-07-20T19:28:19.314Z"
   },
   {
    "duration": 25,
    "start_time": "2022-07-20T19:28:19.331Z"
   },
   {
    "duration": 19,
    "start_time": "2022-07-20T19:28:19.358Z"
   },
   {
    "duration": 31,
    "start_time": "2022-07-20T19:28:19.379Z"
   },
   {
    "duration": 183,
    "start_time": "2022-07-20T19:28:19.413Z"
   },
   {
    "duration": 12,
    "start_time": "2022-07-20T19:28:19.598Z"
   },
   {
    "duration": 28,
    "start_time": "2022-07-20T19:28:19.612Z"
   },
   {
    "duration": 15,
    "start_time": "2022-07-20T19:28:19.642Z"
   },
   {
    "duration": 10,
    "start_time": "2022-07-20T19:28:19.659Z"
   },
   {
    "duration": 33,
    "start_time": "2022-07-20T19:28:19.671Z"
   },
   {
    "duration": 22,
    "start_time": "2022-07-20T19:28:19.706Z"
   },
   {
    "duration": 231,
    "start_time": "2022-07-20T19:28:19.729Z"
   },
   {
    "duration": 630,
    "start_time": "2022-07-20T19:28:19.962Z"
   },
   {
    "duration": 228,
    "start_time": "2022-07-20T19:28:20.594Z"
   },
   {
    "duration": 324,
    "start_time": "2022-07-20T19:28:20.825Z"
   },
   {
    "duration": 222,
    "start_time": "2022-07-20T19:28:21.150Z"
   },
   {
    "duration": 443,
    "start_time": "2022-07-20T19:28:21.374Z"
   },
   {
    "duration": 158,
    "start_time": "2022-07-20T19:28:21.819Z"
   },
   {
    "duration": 4,
    "start_time": "2022-07-20T19:28:21.979Z"
   },
   {
    "duration": 192,
    "start_time": "2022-07-20T19:28:21.985Z"
   },
   {
    "duration": 4,
    "start_time": "2022-07-20T19:28:22.179Z"
   },
   {
    "duration": 110,
    "start_time": "2022-07-20T19:28:22.185Z"
   },
   {
    "duration": 126,
    "start_time": "2022-07-20T19:28:22.297Z"
   },
   {
    "duration": 31,
    "start_time": "2022-07-20T19:28:22.425Z"
   },
   {
    "duration": 182,
    "start_time": "2022-07-20T19:28:22.458Z"
   },
   {
    "duration": 27,
    "start_time": "2022-07-20T19:28:22.642Z"
   },
   {
    "duration": 33,
    "start_time": "2022-07-20T19:28:22.671Z"
   },
   {
    "duration": 17,
    "start_time": "2022-07-20T19:28:27.335Z"
   },
   {
    "duration": 12,
    "start_time": "2022-07-20T19:28:33.504Z"
   },
   {
    "duration": 10,
    "start_time": "2022-07-20T19:28:44.555Z"
   },
   {
    "duration": 12,
    "start_time": "2022-07-20T19:28:59.367Z"
   },
   {
    "duration": 8,
    "start_time": "2022-07-20T19:30:50.366Z"
   },
   {
    "duration": 6,
    "start_time": "2022-07-20T19:31:15.351Z"
   },
   {
    "duration": 17,
    "start_time": "2022-07-20T19:31:15.790Z"
   },
   {
    "duration": 6,
    "start_time": "2022-07-20T19:31:35.759Z"
   },
   {
    "duration": 9,
    "start_time": "2022-07-20T19:31:58.276Z"
   },
   {
    "duration": 9,
    "start_time": "2022-07-20T19:32:21.143Z"
   },
   {
    "duration": 7,
    "start_time": "2022-07-20T19:32:32.351Z"
   },
   {
    "duration": 7,
    "start_time": "2022-07-20T19:32:38.735Z"
   },
   {
    "duration": 1195,
    "start_time": "2022-07-20T19:32:50.050Z"
   },
   {
    "duration": 89,
    "start_time": "2022-07-20T19:32:51.247Z"
   },
   {
    "duration": 22,
    "start_time": "2022-07-20T19:32:51.338Z"
   },
   {
    "duration": 17,
    "start_time": "2022-07-20T19:32:51.362Z"
   },
   {
    "duration": 16,
    "start_time": "2022-07-20T19:32:51.381Z"
   },
   {
    "duration": 42,
    "start_time": "2022-07-20T19:32:51.398Z"
   },
   {
    "duration": 12,
    "start_time": "2022-07-20T19:32:51.442Z"
   },
   {
    "duration": 9,
    "start_time": "2022-07-20T19:32:51.455Z"
   },
   {
    "duration": 7,
    "start_time": "2022-07-20T19:32:51.466Z"
   },
   {
    "duration": 5,
    "start_time": "2022-07-20T19:32:51.475Z"
   },
   {
    "duration": 8,
    "start_time": "2022-07-20T19:32:51.481Z"
   },
   {
    "duration": 25,
    "start_time": "2022-07-20T19:32:51.491Z"
   },
   {
    "duration": 218,
    "start_time": "2022-07-20T19:32:51.517Z"
   },
   {
    "duration": 9,
    "start_time": "2022-07-20T19:32:51.737Z"
   },
   {
    "duration": 8,
    "start_time": "2022-07-20T19:32:53.771Z"
   },
   {
    "duration": 7,
    "start_time": "2022-07-20T19:32:55.585Z"
   },
   {
    "duration": 6,
    "start_time": "2022-07-20T19:34:33.829Z"
   },
   {
    "duration": 4,
    "start_time": "2022-07-20T19:34:34.422Z"
   },
   {
    "duration": 1218,
    "start_time": "2022-07-20T19:36:18.137Z"
   },
   {
    "duration": 80,
    "start_time": "2022-07-20T19:36:19.358Z"
   },
   {
    "duration": 23,
    "start_time": "2022-07-20T19:36:19.440Z"
   },
   {
    "duration": 19,
    "start_time": "2022-07-20T19:36:19.467Z"
   },
   {
    "duration": 35,
    "start_time": "2022-07-20T19:36:19.488Z"
   },
   {
    "duration": 20,
    "start_time": "2022-07-20T19:36:19.525Z"
   },
   {
    "duration": 15,
    "start_time": "2022-07-20T19:36:19.547Z"
   },
   {
    "duration": 10,
    "start_time": "2022-07-20T19:36:19.564Z"
   },
   {
    "duration": 22,
    "start_time": "2022-07-20T19:36:19.576Z"
   },
   {
    "duration": 16,
    "start_time": "2022-07-20T19:36:19.610Z"
   },
   {
    "duration": 9,
    "start_time": "2022-07-20T19:36:19.628Z"
   },
   {
    "duration": 12,
    "start_time": "2022-07-20T19:36:19.638Z"
   },
   {
    "duration": 202,
    "start_time": "2022-07-20T19:36:19.652Z"
   },
   {
    "duration": 8,
    "start_time": "2022-07-20T19:36:19.856Z"
   },
   {
    "duration": 16,
    "start_time": "2022-07-20T19:36:19.866Z"
   },
   {
    "duration": 28,
    "start_time": "2022-07-20T19:36:19.884Z"
   },
   {
    "duration": 15,
    "start_time": "2022-07-20T19:36:19.914Z"
   },
   {
    "duration": 20,
    "start_time": "2022-07-20T19:36:19.931Z"
   },
   {
    "duration": 234,
    "start_time": "2022-07-20T19:36:19.952Z"
   },
   {
    "duration": 591,
    "start_time": "2022-07-20T19:36:32.669Z"
   },
   {
    "duration": 223,
    "start_time": "2022-07-20T19:38:13.555Z"
   },
   {
    "duration": 197,
    "start_time": "2022-07-20T19:39:12.996Z"
   },
   {
    "duration": 231,
    "start_time": "2022-07-20T19:40:36.406Z"
   },
   {
    "duration": 528,
    "start_time": "2022-07-20T19:41:32.424Z"
   },
   {
    "duration": 327,
    "start_time": "2022-07-20T19:42:24.469Z"
   },
   {
    "duration": 256,
    "start_time": "2022-07-20T19:42:42.100Z"
   },
   {
    "duration": 296,
    "start_time": "2022-07-20T19:43:13.230Z"
   },
   {
    "duration": 329,
    "start_time": "2022-07-20T19:43:22.990Z"
   },
   {
    "duration": 237,
    "start_time": "2022-07-20T19:44:09.185Z"
   },
   {
    "duration": 352,
    "start_time": "2022-07-20T19:44:48.569Z"
   },
   {
    "duration": 176,
    "start_time": "2022-07-20T19:47:13.317Z"
   },
   {
    "duration": 180,
    "start_time": "2022-07-20T19:48:46.670Z"
   },
   {
    "duration": 105,
    "start_time": "2022-07-20T19:58:44.005Z"
   },
   {
    "duration": 1190,
    "start_time": "2022-07-20T19:58:57.625Z"
   },
   {
    "duration": 81,
    "start_time": "2022-07-20T19:58:58.817Z"
   },
   {
    "duration": 19,
    "start_time": "2022-07-20T19:58:58.900Z"
   },
   {
    "duration": 15,
    "start_time": "2022-07-20T19:58:58.921Z"
   },
   {
    "duration": 17,
    "start_time": "2022-07-20T19:58:58.938Z"
   },
   {
    "duration": 18,
    "start_time": "2022-07-20T19:58:58.956Z"
   },
   {
    "duration": 34,
    "start_time": "2022-07-20T19:58:58.976Z"
   },
   {
    "duration": 10,
    "start_time": "2022-07-20T19:58:59.012Z"
   },
   {
    "duration": 14,
    "start_time": "2022-07-20T19:58:59.024Z"
   },
   {
    "duration": 6,
    "start_time": "2022-07-20T19:58:59.040Z"
   },
   {
    "duration": 5,
    "start_time": "2022-07-20T19:58:59.048Z"
   },
   {
    "duration": 20,
    "start_time": "2022-07-20T19:58:59.054Z"
   },
   {
    "duration": 224,
    "start_time": "2022-07-20T19:58:59.076Z"
   },
   {
    "duration": 9,
    "start_time": "2022-07-20T19:58:59.303Z"
   },
   {
    "duration": 8,
    "start_time": "2022-07-20T19:58:59.314Z"
   },
   {
    "duration": 5,
    "start_time": "2022-07-20T19:58:59.323Z"
   },
   {
    "duration": 14,
    "start_time": "2022-07-20T19:58:59.330Z"
   },
   {
    "duration": 14,
    "start_time": "2022-07-20T19:58:59.346Z"
   },
   {
    "duration": 236,
    "start_time": "2022-07-20T19:58:59.362Z"
   },
   {
    "duration": 610,
    "start_time": "2022-07-20T19:58:59.603Z"
   },
   {
    "duration": 243,
    "start_time": "2022-07-20T19:59:00.216Z"
   },
   {
    "duration": 331,
    "start_time": "2022-07-20T19:59:00.461Z"
   },
   {
    "duration": 240,
    "start_time": "2022-07-20T19:59:00.794Z"
   },
   {
    "duration": 303,
    "start_time": "2022-07-20T19:59:01.036Z"
   },
   {
    "duration": 272,
    "start_time": "2022-07-20T19:59:01.341Z"
   },
   {
    "duration": 5,
    "start_time": "2022-07-20T19:59:01.614Z"
   },
   {
    "duration": 185,
    "start_time": "2022-07-20T19:59:01.621Z"
   },
   {
    "duration": 4,
    "start_time": "2022-07-20T19:59:01.809Z"
   },
   {
    "duration": 105,
    "start_time": "2022-07-20T19:59:01.815Z"
   },
   {
    "duration": 128,
    "start_time": "2022-07-20T19:59:01.921Z"
   },
   {
    "duration": 32,
    "start_time": "2022-07-20T19:59:02.050Z"
   },
   {
    "duration": 162,
    "start_time": "2022-07-20T19:59:02.083Z"
   },
   {
    "duration": 28,
    "start_time": "2022-07-20T19:59:02.246Z"
   },
   {
    "duration": 28,
    "start_time": "2022-07-20T19:59:02.276Z"
   },
   {
    "duration": 9,
    "start_time": "2022-07-20T19:59:02.306Z"
   },
   {
    "duration": 13,
    "start_time": "2022-07-20T19:59:02.317Z"
   },
   {
    "duration": 24,
    "start_time": "2022-07-20T19:59:04.730Z"
   },
   {
    "duration": 1175,
    "start_time": "2022-07-20T19:59:55.737Z"
   },
   {
    "duration": 79,
    "start_time": "2022-07-20T19:59:56.914Z"
   },
   {
    "duration": 19,
    "start_time": "2022-07-20T19:59:56.995Z"
   },
   {
    "duration": 15,
    "start_time": "2022-07-20T19:59:57.016Z"
   },
   {
    "duration": 14,
    "start_time": "2022-07-20T19:59:57.032Z"
   },
   {
    "duration": 16,
    "start_time": "2022-07-20T19:59:57.047Z"
   },
   {
    "duration": 39,
    "start_time": "2022-07-20T19:59:57.065Z"
   },
   {
    "duration": 7,
    "start_time": "2022-07-20T19:59:57.106Z"
   },
   {
    "duration": 6,
    "start_time": "2022-07-20T19:59:57.115Z"
   },
   {
    "duration": 5,
    "start_time": "2022-07-20T19:59:57.124Z"
   },
   {
    "duration": 5,
    "start_time": "2022-07-20T19:59:57.130Z"
   },
   {
    "duration": 12,
    "start_time": "2022-07-20T19:59:57.137Z"
   },
   {
    "duration": 209,
    "start_time": "2022-07-20T19:59:57.151Z"
   },
   {
    "duration": 8,
    "start_time": "2022-07-20T19:59:57.362Z"
   },
   {
    "duration": 10,
    "start_time": "2022-07-20T19:59:57.372Z"
   },
   {
    "duration": 21,
    "start_time": "2022-07-20T19:59:57.384Z"
   },
   {
    "duration": 13,
    "start_time": "2022-07-20T19:59:57.406Z"
   },
   {
    "duration": 14,
    "start_time": "2022-07-20T19:59:57.421Z"
   },
   {
    "duration": 213,
    "start_time": "2022-07-20T19:59:57.436Z"
   },
   {
    "duration": 607,
    "start_time": "2022-07-20T19:59:57.651Z"
   },
   {
    "duration": 231,
    "start_time": "2022-07-20T19:59:58.260Z"
   },
   {
    "duration": 306,
    "start_time": "2022-07-20T19:59:58.504Z"
   },
   {
    "duration": 223,
    "start_time": "2022-07-20T19:59:58.812Z"
   },
   {
    "duration": 299,
    "start_time": "2022-07-20T19:59:59.037Z"
   },
   {
    "duration": 270,
    "start_time": "2022-07-20T19:59:59.338Z"
   },
   {
    "duration": 4,
    "start_time": "2022-07-20T19:59:59.610Z"
   },
   {
    "duration": 172,
    "start_time": "2022-07-20T19:59:59.616Z"
   },
   {
    "duration": 4,
    "start_time": "2022-07-20T19:59:59.791Z"
   },
   {
    "duration": 105,
    "start_time": "2022-07-20T19:59:59.804Z"
   },
   {
    "duration": 133,
    "start_time": "2022-07-20T19:59:59.911Z"
   },
   {
    "duration": 29,
    "start_time": "2022-07-20T20:00:00.045Z"
   },
   {
    "duration": 162,
    "start_time": "2022-07-20T20:00:00.075Z"
   },
   {
    "duration": 27,
    "start_time": "2022-07-20T20:00:00.239Z"
   },
   {
    "duration": 21,
    "start_time": "2022-07-20T20:00:00.267Z"
   },
   {
    "duration": 95,
    "start_time": "2022-07-20T20:01:48.832Z"
   },
   {
    "duration": 12,
    "start_time": "2022-07-20T20:01:56.944Z"
   },
   {
    "duration": 7,
    "start_time": "2022-07-20T20:02:04.768Z"
   },
   {
    "duration": 7,
    "start_time": "2022-07-20T20:02:21.647Z"
   },
   {
    "duration": 6,
    "start_time": "2022-07-20T20:02:54.592Z"
   },
   {
    "duration": 7,
    "start_time": "2022-07-20T20:02:57.479Z"
   },
   {
    "duration": 6,
    "start_time": "2022-07-20T20:04:23.229Z"
   },
   {
    "duration": 9,
    "start_time": "2022-07-20T20:05:07.994Z"
   },
   {
    "duration": 6,
    "start_time": "2022-07-20T20:05:17.129Z"
   },
   {
    "duration": 4,
    "start_time": "2022-07-20T20:05:24.562Z"
   },
   {
    "duration": 7,
    "start_time": "2022-07-20T20:09:10.355Z"
   },
   {
    "duration": 10,
    "start_time": "2022-07-20T20:10:58.861Z"
   },
   {
    "duration": 1216,
    "start_time": "2022-07-20T20:11:38.319Z"
   },
   {
    "duration": 86,
    "start_time": "2022-07-20T20:11:39.537Z"
   },
   {
    "duration": 22,
    "start_time": "2022-07-20T20:11:39.625Z"
   },
   {
    "duration": 15,
    "start_time": "2022-07-20T20:11:39.649Z"
   },
   {
    "duration": 22,
    "start_time": "2022-07-20T20:11:39.668Z"
   },
   {
    "duration": 22,
    "start_time": "2022-07-20T20:11:39.705Z"
   },
   {
    "duration": 10,
    "start_time": "2022-07-20T20:11:39.729Z"
   },
   {
    "duration": 8,
    "start_time": "2022-07-20T20:11:39.740Z"
   },
   {
    "duration": 8,
    "start_time": "2022-07-20T20:11:39.750Z"
   },
   {
    "duration": 11,
    "start_time": "2022-07-20T20:11:39.760Z"
   },
   {
    "duration": 35,
    "start_time": "2022-07-20T20:11:39.773Z"
   },
   {
    "duration": 22,
    "start_time": "2022-07-20T20:11:39.810Z"
   },
   {
    "duration": 221,
    "start_time": "2022-07-20T20:11:39.834Z"
   },
   {
    "duration": 10,
    "start_time": "2022-07-20T20:11:40.058Z"
   },
   {
    "duration": 9,
    "start_time": "2022-07-20T20:11:40.069Z"
   },
   {
    "duration": 30,
    "start_time": "2022-07-20T20:11:40.080Z"
   },
   {
    "duration": 17,
    "start_time": "2022-07-20T20:11:40.111Z"
   },
   {
    "duration": 26,
    "start_time": "2022-07-20T20:11:40.130Z"
   },
   {
    "duration": 241,
    "start_time": "2022-07-20T20:11:40.158Z"
   },
   {
    "duration": 656,
    "start_time": "2022-07-20T20:11:40.404Z"
   },
   {
    "duration": 270,
    "start_time": "2022-07-20T20:11:41.062Z"
   },
   {
    "duration": 303,
    "start_time": "2022-07-20T20:11:41.334Z"
   },
   {
    "duration": 244,
    "start_time": "2022-07-20T20:11:41.638Z"
   },
   {
    "duration": 355,
    "start_time": "2022-07-20T20:11:41.884Z"
   },
   {
    "duration": 264,
    "start_time": "2022-07-20T20:11:42.240Z"
   },
   {
    "duration": 6,
    "start_time": "2022-07-20T20:11:42.506Z"
   },
   {
    "duration": 179,
    "start_time": "2022-07-20T20:11:42.514Z"
   },
   {
    "duration": 11,
    "start_time": "2022-07-20T20:11:42.695Z"
   },
   {
    "duration": 119,
    "start_time": "2022-07-20T20:11:42.709Z"
   },
   {
    "duration": 142,
    "start_time": "2022-07-20T20:11:42.830Z"
   },
   {
    "duration": 51,
    "start_time": "2022-07-20T20:11:42.974Z"
   },
   {
    "duration": 146,
    "start_time": "2022-07-20T20:11:43.026Z"
   },
   {
    "duration": 33,
    "start_time": "2022-07-20T20:11:43.174Z"
   },
   {
    "duration": 12,
    "start_time": "2022-07-20T20:11:43.209Z"
   },
   {
    "duration": 5,
    "start_time": "2022-07-20T20:11:45.891Z"
   },
   {
    "duration": 23,
    "start_time": "2022-07-20T20:16:01.493Z"
   },
   {
    "duration": 5,
    "start_time": "2022-07-20T20:17:02.752Z"
   },
   {
    "duration": 11,
    "start_time": "2022-07-20T20:17:07.078Z"
   },
   {
    "duration": 1175,
    "start_time": "2022-07-20T20:19:40.745Z"
   },
   {
    "duration": 79,
    "start_time": "2022-07-20T20:19:41.923Z"
   },
   {
    "duration": 34,
    "start_time": "2022-07-20T20:19:42.004Z"
   },
   {
    "duration": 16,
    "start_time": "2022-07-20T20:19:42.040Z"
   },
   {
    "duration": 21,
    "start_time": "2022-07-20T20:19:42.057Z"
   },
   {
    "duration": 36,
    "start_time": "2022-07-20T20:19:42.080Z"
   },
   {
    "duration": 17,
    "start_time": "2022-07-20T20:19:42.118Z"
   },
   {
    "duration": 12,
    "start_time": "2022-07-20T20:19:42.136Z"
   },
   {
    "duration": 22,
    "start_time": "2022-07-20T20:19:42.149Z"
   },
   {
    "duration": 9,
    "start_time": "2022-07-20T20:19:42.174Z"
   },
   {
    "duration": 35,
    "start_time": "2022-07-20T20:19:42.185Z"
   },
   {
    "duration": 13,
    "start_time": "2022-07-20T20:19:42.222Z"
   },
   {
    "duration": 196,
    "start_time": "2022-07-20T20:19:42.236Z"
   },
   {
    "duration": 9,
    "start_time": "2022-07-20T20:19:42.435Z"
   },
   {
    "duration": 42,
    "start_time": "2022-07-20T20:19:42.446Z"
   },
   {
    "duration": 40,
    "start_time": "2022-07-20T20:19:42.489Z"
   },
   {
    "duration": 26,
    "start_time": "2022-07-20T20:19:42.530Z"
   },
   {
    "duration": 23,
    "start_time": "2022-07-20T20:19:42.557Z"
   },
   {
    "duration": 231,
    "start_time": "2022-07-20T20:19:42.581Z"
   },
   {
    "duration": 643,
    "start_time": "2022-07-20T20:19:42.814Z"
   },
   {
    "duration": 235,
    "start_time": "2022-07-20T20:19:43.459Z"
   },
   {
    "duration": 328,
    "start_time": "2022-07-20T20:19:43.696Z"
   },
   {
    "duration": 216,
    "start_time": "2022-07-20T20:19:44.026Z"
   },
   {
    "duration": 301,
    "start_time": "2022-07-20T20:19:44.243Z"
   },
   {
    "duration": 279,
    "start_time": "2022-07-20T20:19:44.546Z"
   },
   {
    "duration": 6,
    "start_time": "2022-07-20T20:19:44.827Z"
   },
   {
    "duration": 190,
    "start_time": "2022-07-20T20:19:44.835Z"
   },
   {
    "duration": 6,
    "start_time": "2022-07-20T20:19:45.030Z"
   },
   {
    "duration": 131,
    "start_time": "2022-07-20T20:19:45.038Z"
   },
   {
    "duration": 126,
    "start_time": "2022-07-20T20:19:45.171Z"
   },
   {
    "duration": 51,
    "start_time": "2022-07-20T20:19:45.298Z"
   },
   {
    "duration": 167,
    "start_time": "2022-07-20T20:19:45.351Z"
   },
   {
    "duration": 35,
    "start_time": "2022-07-20T20:19:45.521Z"
   },
   {
    "duration": 10,
    "start_time": "2022-07-20T20:19:45.558Z"
   },
   {
    "duration": 12,
    "start_time": "2022-07-20T20:19:45.570Z"
   },
   {
    "duration": 37,
    "start_time": "2022-07-20T20:19:45.584Z"
   },
   {
    "duration": 21,
    "start_time": "2022-07-20T20:19:45.622Z"
   },
   {
    "duration": 119,
    "start_time": "2022-07-20T20:19:45.645Z"
   },
   {
    "duration": 0,
    "start_time": "2022-07-20T20:19:45.766Z"
   },
   {
    "duration": 0,
    "start_time": "2022-07-20T20:19:45.767Z"
   },
   {
    "duration": 0,
    "start_time": "2022-07-20T20:19:45.768Z"
   },
   {
    "duration": 11,
    "start_time": "2022-07-20T20:21:03.557Z"
   },
   {
    "duration": 12,
    "start_time": "2022-07-20T20:21:08.914Z"
   },
   {
    "duration": 24,
    "start_time": "2022-07-20T20:21:11.782Z"
   },
   {
    "duration": 12,
    "start_time": "2022-07-20T20:21:31.974Z"
   },
   {
    "duration": 9,
    "start_time": "2022-07-20T20:21:35.230Z"
   },
   {
    "duration": 23,
    "start_time": "2022-07-20T20:21:35.869Z"
   },
   {
    "duration": 19,
    "start_time": "2022-07-20T20:21:54.590Z"
   },
   {
    "duration": 17,
    "start_time": "2022-07-20T20:22:24.422Z"
   },
   {
    "duration": 15,
    "start_time": "2022-07-20T20:22:39.895Z"
   },
   {
    "duration": 15,
    "start_time": "2022-07-20T20:31:47.651Z"
   },
   {
    "duration": 16,
    "start_time": "2022-07-20T20:31:50.213Z"
   },
   {
    "duration": 30,
    "start_time": "2022-07-20T20:31:52.334Z"
   },
   {
    "duration": 151,
    "start_time": "2022-07-20T20:32:21.369Z"
   },
   {
    "duration": 12,
    "start_time": "2022-07-20T20:32:37.340Z"
   },
   {
    "duration": 10,
    "start_time": "2022-07-20T20:32:40.322Z"
   },
   {
    "duration": 20,
    "start_time": "2022-07-20T20:32:41.443Z"
   },
   {
    "duration": 12,
    "start_time": "2022-07-20T20:33:18.804Z"
   },
   {
    "duration": 10,
    "start_time": "2022-07-20T20:33:21.092Z"
   },
   {
    "duration": 31,
    "start_time": "2022-07-20T20:33:23.035Z"
   },
   {
    "duration": 15,
    "start_time": "2022-07-20T20:33:38.338Z"
   },
   {
    "duration": 1205,
    "start_time": "2022-07-20T20:48:08.189Z"
   },
   {
    "duration": 79,
    "start_time": "2022-07-20T20:48:09.396Z"
   },
   {
    "duration": 21,
    "start_time": "2022-07-20T20:48:09.477Z"
   },
   {
    "duration": 16,
    "start_time": "2022-07-20T20:48:09.499Z"
   },
   {
    "duration": 19,
    "start_time": "2022-07-20T20:48:09.517Z"
   },
   {
    "duration": 19,
    "start_time": "2022-07-20T20:48:09.538Z"
   },
   {
    "duration": 14,
    "start_time": "2022-07-20T20:48:09.559Z"
   },
   {
    "duration": 8,
    "start_time": "2022-07-20T20:48:09.575Z"
   },
   {
    "duration": 7,
    "start_time": "2022-07-20T20:48:09.605Z"
   },
   {
    "duration": 7,
    "start_time": "2022-07-20T20:48:09.615Z"
   },
   {
    "duration": 7,
    "start_time": "2022-07-20T20:48:09.624Z"
   },
   {
    "duration": 10,
    "start_time": "2022-07-20T20:48:09.633Z"
   },
   {
    "duration": 225,
    "start_time": "2022-07-20T20:48:09.645Z"
   },
   {
    "duration": 10,
    "start_time": "2022-07-20T20:48:09.871Z"
   },
   {
    "duration": 7,
    "start_time": "2022-07-20T20:48:09.882Z"
   },
   {
    "duration": 22,
    "start_time": "2022-07-20T20:48:09.890Z"
   },
   {
    "duration": 14,
    "start_time": "2022-07-20T20:48:09.913Z"
   },
   {
    "duration": 20,
    "start_time": "2022-07-20T20:48:09.929Z"
   },
   {
    "duration": 255,
    "start_time": "2022-07-20T20:48:09.951Z"
   },
   {
    "duration": 602,
    "start_time": "2022-07-20T20:48:10.208Z"
   },
   {
    "duration": 232,
    "start_time": "2022-07-20T20:48:10.812Z"
   },
   {
    "duration": 342,
    "start_time": "2022-07-20T20:48:11.046Z"
   },
   {
    "duration": 226,
    "start_time": "2022-07-20T20:48:11.390Z"
   },
   {
    "duration": 314,
    "start_time": "2022-07-20T20:48:11.618Z"
   },
   {
    "duration": 278,
    "start_time": "2022-07-20T20:48:11.933Z"
   },
   {
    "duration": 5,
    "start_time": "2022-07-20T20:48:12.213Z"
   },
   {
    "duration": 189,
    "start_time": "2022-07-20T20:48:12.219Z"
   },
   {
    "duration": 5,
    "start_time": "2022-07-20T20:48:12.411Z"
   },
   {
    "duration": 108,
    "start_time": "2022-07-20T20:48:12.417Z"
   },
   {
    "duration": 135,
    "start_time": "2022-07-20T20:48:12.527Z"
   },
   {
    "duration": 50,
    "start_time": "2022-07-20T20:48:12.664Z"
   },
   {
    "duration": 146,
    "start_time": "2022-07-20T20:48:12.716Z"
   },
   {
    "duration": 27,
    "start_time": "2022-07-20T20:48:12.864Z"
   },
   {
    "duration": 21,
    "start_time": "2022-07-20T20:48:12.894Z"
   },
   {
    "duration": 13,
    "start_time": "2022-07-20T20:48:12.918Z"
   },
   {
    "duration": 9,
    "start_time": "2022-07-20T20:48:12.932Z"
   },
   {
    "duration": 22,
    "start_time": "2022-07-20T20:48:12.943Z"
   },
   {
    "duration": 45,
    "start_time": "2022-07-20T20:48:12.967Z"
   },
   {
    "duration": 9,
    "start_time": "2022-07-20T20:48:13.014Z"
   },
   {
    "duration": 10,
    "start_time": "2022-07-20T20:48:13.025Z"
   },
   {
    "duration": 9,
    "start_time": "2022-07-20T20:48:13.037Z"
   },
   {
    "duration": 1135,
    "start_time": "2022-07-21T16:56:00.878Z"
   },
   {
    "duration": 84,
    "start_time": "2022-07-21T16:56:02.015Z"
   },
   {
    "duration": 26,
    "start_time": "2022-07-21T16:56:02.100Z"
   },
   {
    "duration": 25,
    "start_time": "2022-07-21T16:56:02.129Z"
   },
   {
    "duration": 26,
    "start_time": "2022-07-21T16:56:02.156Z"
   },
   {
    "duration": 26,
    "start_time": "2022-07-21T16:56:02.184Z"
   },
   {
    "duration": 38,
    "start_time": "2022-07-21T16:56:02.212Z"
   },
   {
    "duration": 19,
    "start_time": "2022-07-21T16:56:02.252Z"
   },
   {
    "duration": 9,
    "start_time": "2022-07-21T16:56:02.272Z"
   },
   {
    "duration": 18,
    "start_time": "2022-07-21T16:56:02.283Z"
   },
   {
    "duration": 12,
    "start_time": "2022-07-21T16:56:02.302Z"
   },
   {
    "duration": 30,
    "start_time": "2022-07-21T16:56:02.315Z"
   },
   {
    "duration": 225,
    "start_time": "2022-07-21T16:56:02.347Z"
   },
   {
    "duration": 13,
    "start_time": "2022-07-21T16:56:02.574Z"
   },
   {
    "duration": 15,
    "start_time": "2022-07-21T16:56:02.591Z"
   },
   {
    "duration": 20,
    "start_time": "2022-07-21T16:56:02.609Z"
   },
   {
    "duration": 15,
    "start_time": "2022-07-21T16:56:02.631Z"
   },
   {
    "duration": 20,
    "start_time": "2022-07-21T16:56:02.648Z"
   },
   {
    "duration": 222,
    "start_time": "2022-07-21T16:56:02.670Z"
   },
   {
    "duration": 564,
    "start_time": "2022-07-21T16:56:02.894Z"
   },
   {
    "duration": 230,
    "start_time": "2022-07-21T16:56:03.459Z"
   },
   {
    "duration": 335,
    "start_time": "2022-07-21T16:56:03.691Z"
   },
   {
    "duration": 220,
    "start_time": "2022-07-21T16:56:04.027Z"
   },
   {
    "duration": 289,
    "start_time": "2022-07-21T16:56:04.249Z"
   },
   {
    "duration": 260,
    "start_time": "2022-07-21T16:56:04.541Z"
   },
   {
    "duration": 6,
    "start_time": "2022-07-21T16:56:04.803Z"
   },
   {
    "duration": 198,
    "start_time": "2022-07-21T16:56:04.810Z"
   },
   {
    "duration": 13,
    "start_time": "2022-07-21T16:56:05.011Z"
   },
   {
    "duration": 101,
    "start_time": "2022-07-21T16:56:05.025Z"
   },
   {
    "duration": 123,
    "start_time": "2022-07-21T16:56:05.128Z"
   },
   {
    "duration": 29,
    "start_time": "2022-07-21T16:56:05.253Z"
   },
   {
    "duration": 173,
    "start_time": "2022-07-21T16:56:05.284Z"
   },
   {
    "duration": 27,
    "start_time": "2022-07-21T16:56:05.458Z"
   },
   {
    "duration": 10,
    "start_time": "2022-07-21T16:56:05.487Z"
   },
   {
    "duration": 34,
    "start_time": "2022-07-21T16:56:05.498Z"
   },
   {
    "duration": 21,
    "start_time": "2022-07-21T16:56:05.534Z"
   },
   {
    "duration": 21,
    "start_time": "2022-07-21T16:56:05.557Z"
   },
   {
    "duration": 14,
    "start_time": "2022-07-21T16:56:05.579Z"
   },
   {
    "duration": 34,
    "start_time": "2022-07-21T16:56:05.595Z"
   },
   {
    "duration": 10,
    "start_time": "2022-07-21T16:56:05.631Z"
   },
   {
    "duration": 11,
    "start_time": "2022-07-21T16:56:05.643Z"
   },
   {
    "duration": 1167,
    "start_time": "2022-08-09T15:16:01.320Z"
   },
   {
    "duration": 186,
    "start_time": "2022-08-09T15:16:02.489Z"
   },
   {
    "duration": 20,
    "start_time": "2022-08-09T15:16:02.677Z"
   },
   {
    "duration": 24,
    "start_time": "2022-08-09T15:16:02.699Z"
   },
   {
    "duration": 24,
    "start_time": "2022-08-09T15:16:02.724Z"
   },
   {
    "duration": 16,
    "start_time": "2022-08-09T15:16:02.750Z"
   },
   {
    "duration": 15,
    "start_time": "2022-08-09T15:16:02.768Z"
   },
   {
    "duration": 17,
    "start_time": "2022-08-09T15:16:02.784Z"
   },
   {
    "duration": 11,
    "start_time": "2022-08-09T15:16:02.802Z"
   },
   {
    "duration": 6,
    "start_time": "2022-08-09T15:16:02.815Z"
   },
   {
    "duration": 8,
    "start_time": "2022-08-09T15:16:02.822Z"
   },
   {
    "duration": 12,
    "start_time": "2022-08-09T15:16:02.831Z"
   },
   {
    "duration": 211,
    "start_time": "2022-08-09T15:16:02.845Z"
   },
   {
    "duration": 9,
    "start_time": "2022-08-09T15:16:03.058Z"
   },
   {
    "duration": 10,
    "start_time": "2022-08-09T15:16:05.875Z"
   },
   {
    "duration": 6,
    "start_time": "2022-08-09T15:16:49.825Z"
   },
   {
    "duration": 5,
    "start_time": "2022-08-09T15:16:57.393Z"
   },
   {
    "duration": 8,
    "start_time": "2022-08-09T15:17:19.418Z"
   },
   {
    "duration": 1047,
    "start_time": "2022-08-09T17:36:46.834Z"
   },
   {
    "duration": 75,
    "start_time": "2022-08-09T17:36:47.882Z"
   },
   {
    "duration": 18,
    "start_time": "2022-08-09T17:36:47.958Z"
   },
   {
    "duration": 14,
    "start_time": "2022-08-09T17:36:47.978Z"
   },
   {
    "duration": 15,
    "start_time": "2022-08-09T17:36:47.993Z"
   },
   {
    "duration": 14,
    "start_time": "2022-08-09T17:36:48.009Z"
   },
   {
    "duration": 18,
    "start_time": "2022-08-09T17:36:48.025Z"
   },
   {
    "duration": 11,
    "start_time": "2022-08-09T17:36:48.045Z"
   },
   {
    "duration": 29,
    "start_time": "2022-08-09T17:36:48.058Z"
   },
   {
    "duration": 3,
    "start_time": "2022-08-09T17:36:48.090Z"
   },
   {
    "duration": 13,
    "start_time": "2022-08-09T17:36:48.095Z"
   },
   {
    "duration": 9,
    "start_time": "2022-08-09T17:36:48.109Z"
   },
   {
    "duration": 181,
    "start_time": "2022-08-09T17:36:48.120Z"
   },
   {
    "duration": 7,
    "start_time": "2022-08-09T17:36:48.303Z"
   },
   {
    "duration": 7,
    "start_time": "2022-08-09T17:36:48.311Z"
   },
   {
    "duration": 8,
    "start_time": "2022-08-09T17:36:48.320Z"
   },
   {
    "duration": 11,
    "start_time": "2022-08-09T17:36:48.330Z"
   },
   {
    "duration": 49,
    "start_time": "2022-08-09T17:36:48.342Z"
   },
   {
    "duration": 184,
    "start_time": "2022-08-09T17:36:48.392Z"
   },
   {
    "duration": 531,
    "start_time": "2022-08-09T17:36:48.577Z"
   },
   {
    "duration": 211,
    "start_time": "2022-08-09T17:36:49.110Z"
   },
   {
    "duration": 274,
    "start_time": "2022-08-09T17:36:49.322Z"
   },
   {
    "duration": 214,
    "start_time": "2022-08-09T17:36:49.598Z"
   },
   {
    "duration": 285,
    "start_time": "2022-08-09T17:36:49.814Z"
   },
   {
    "duration": 232,
    "start_time": "2022-08-09T17:36:50.100Z"
   },
   {
    "duration": 5,
    "start_time": "2022-08-09T17:36:50.333Z"
   },
   {
    "duration": 164,
    "start_time": "2022-08-09T17:36:50.339Z"
   },
   {
    "duration": 5,
    "start_time": "2022-08-09T17:36:50.506Z"
   },
   {
    "duration": 100,
    "start_time": "2022-08-09T17:36:50.512Z"
   },
   {
    "duration": 109,
    "start_time": "2022-08-09T17:36:50.614Z"
   },
   {
    "duration": 27,
    "start_time": "2022-08-09T17:36:50.725Z"
   },
   {
    "duration": 125,
    "start_time": "2022-08-09T17:36:50.753Z"
   },
   {
    "duration": 30,
    "start_time": "2022-08-09T17:36:50.880Z"
   },
   {
    "duration": 9,
    "start_time": "2022-08-09T17:36:50.912Z"
   },
   {
    "duration": 9,
    "start_time": "2022-08-09T17:36:50.922Z"
   },
   {
    "duration": 10,
    "start_time": "2022-08-09T17:36:50.933Z"
   },
   {
    "duration": 59,
    "start_time": "2022-08-09T17:36:50.944Z"
   },
   {
    "duration": 12,
    "start_time": "2022-08-09T17:36:51.004Z"
   },
   {
    "duration": 8,
    "start_time": "2022-08-09T17:36:51.018Z"
   },
   {
    "duration": 7,
    "start_time": "2022-08-09T17:36:51.028Z"
   },
   {
    "duration": 6,
    "start_time": "2022-08-09T17:36:51.037Z"
   },
   {
    "duration": 1079,
    "start_time": "2022-08-09T17:37:10.385Z"
   },
   {
    "duration": 74,
    "start_time": "2022-08-09T17:37:11.465Z"
   },
   {
    "duration": 19,
    "start_time": "2022-08-09T17:37:11.541Z"
   },
   {
    "duration": 13,
    "start_time": "2022-08-09T17:37:11.562Z"
   },
   {
    "duration": 15,
    "start_time": "2022-08-09T17:37:11.577Z"
   },
   {
    "duration": 17,
    "start_time": "2022-08-09T17:37:11.593Z"
   },
   {
    "duration": 14,
    "start_time": "2022-08-09T17:37:11.612Z"
   },
   {
    "duration": 12,
    "start_time": "2022-08-09T17:37:11.627Z"
   },
   {
    "duration": 9,
    "start_time": "2022-08-09T17:37:11.641Z"
   },
   {
    "duration": 5,
    "start_time": "2022-08-09T17:37:11.653Z"
   },
   {
    "duration": 30,
    "start_time": "2022-08-09T17:37:11.660Z"
   },
   {
    "duration": 11,
    "start_time": "2022-08-09T17:37:11.692Z"
   },
   {
    "duration": 212,
    "start_time": "2022-08-09T17:37:11.706Z"
   },
   {
    "duration": 10,
    "start_time": "2022-08-09T17:37:11.920Z"
   },
   {
    "duration": 11,
    "start_time": "2022-08-09T17:37:11.931Z"
   },
   {
    "duration": 9,
    "start_time": "2022-08-09T17:37:11.944Z"
   },
   {
    "duration": 41,
    "start_time": "2022-08-09T17:37:11.955Z"
   },
   {
    "duration": 16,
    "start_time": "2022-08-09T17:37:11.998Z"
   },
   {
    "duration": 216,
    "start_time": "2022-08-09T17:37:12.017Z"
   },
   {
    "duration": 546,
    "start_time": "2022-08-09T17:37:12.235Z"
   },
   {
    "duration": 232,
    "start_time": "2022-08-09T17:37:12.786Z"
   },
   {
    "duration": 304,
    "start_time": "2022-08-09T17:37:13.019Z"
   },
   {
    "duration": 11,
    "start_time": "2022-08-09T17:37:21.010Z"
   }
  ],
  "kernelspec": {
   "display_name": "Python 3 (ipykernel)",
   "language": "python",
   "name": "python3"
  },
  "language_info": {
   "codemirror_mode": {
    "name": "ipython",
    "version": 3
   },
   "file_extension": ".py",
   "mimetype": "text/x-python",
   "name": "python",
   "nbconvert_exporter": "python",
   "pygments_lexer": "ipython3",
   "version": "3.9.7"
  },
  "toc": {
   "base_numbering": 1,
   "nav_menu": {},
   "number_sections": true,
   "sideBar": true,
   "skip_h1_title": true,
   "title_cell": "Table of Contents",
   "title_sidebar": "Contents",
   "toc_cell": false,
   "toc_position": {
    "height": "calc(100% - 180px)",
    "left": "10px",
    "top": "150px",
    "width": "366.391px"
   },
   "toc_section_display": true,
   "toc_window_display": false
  }
 },
 "nbformat": 4,
 "nbformat_minor": 2
}
