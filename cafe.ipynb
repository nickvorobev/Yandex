{
 "cells": [
  {
   "cell_type": "markdown",
   "metadata": {},
   "source": [
    "# Рынок заведений общественного питания Москвы"
   ]
  },
  {
   "cell_type": "markdown",
   "metadata": {},
   "source": [
    "Открываем небольшое кафе в Москве. Оно оригинальное — гостей должны обслуживать роботы. Чтобы представить проект инвесторам, необходимо исследовать рынок.\n",
    "\n",
    "Имеем данные о заведениях общественного питания в Москве.\n",
    "\n",
    "**Описание данных:**\n",
    "\n",
    "Таблица rest_data:\n",
    "* id — идентификатор объекта;\n",
    "* object_name — название объекта общественного питания;\n",
    "* chain — сетевой ресторан;\n",
    "* object_type — тип объекта общественного питания;\n",
    "* address — адрес;\n",
    "* number — количество посадочных мест."
   ]
  },
  {
   "cell_type": "markdown",
   "metadata": {},
   "source": [
    "План:\n",
    "\n",
    "1. [Загрузка и предобработка данных](#pred)\n",
    "2. [Соотношение видов объектов общественного питания по количеству](#2)\n",
    "3. [Соотношение сетевых и несетевых заведений по количеству](#3)\n",
    "4. [Сетевые виды объектов общественного питания](#4)\n",
    "5. [Анализ сетевых заведений по посадочным местам](#5)\n",
    "6. [Среднее количество посадочных мест по типу заведения](#6)\n",
    "7. [Топ-10 улиц по количеству объектов общественного питания](#7)\n",
    "8. [Число улиц с одним объектом общественного питания](#8)\n",
    "9. [Топ-10 районов с улицами, на которых 1 заведение общепита](#9)\n",
    "10.[Вывод](#10)"
   ]
  },
  {
   "cell_type": "markdown",
   "metadata": {},
   "source": [
    "## Предобработка данных <a id=\"pred\"></a>"
   ]
  },
  {
   "cell_type": "code",
   "execution_count": 1,
   "metadata": {},
   "outputs": [],
   "source": [
    "# Импорт библиотек\n",
    "import pandas as pd\n",
    "import matplotlib.pyplot as plt\n",
    "import seaborn as sns\n",
    "import numpy as np\n",
    "import plotly.express as px\n",
    "from io import BytesIO\n",
    "import requests"
   ]
  },
  {
   "cell_type": "code",
   "execution_count": 2,
   "metadata": {},
   "outputs": [],
   "source": [
    "# Чтение файла\n",
    "df = pd.read_csv('/datasets/rest_data.csv')"
   ]
  },
  {
   "cell_type": "code",
   "execution_count": 3,
   "metadata": {},
   "outputs": [
    {
     "name": "stdout",
     "output_type": "stream",
     "text": [
      "<class 'pandas.core.frame.DataFrame'>\n",
      "RangeIndex: 15366 entries, 0 to 15365\n",
      "Data columns (total 6 columns):\n",
      " #   Column       Non-Null Count  Dtype \n",
      "---  ------       --------------  ----- \n",
      " 0   id           15366 non-null  int64 \n",
      " 1   object_name  15366 non-null  object\n",
      " 2   chain        15366 non-null  object\n",
      " 3   object_type  15366 non-null  object\n",
      " 4   address      15366 non-null  object\n",
      " 5   number       15366 non-null  int64 \n",
      "dtypes: int64(2), object(4)\n",
      "memory usage: 720.4+ KB\n"
     ]
    },
    {
     "data": {
      "text/html": [
       "<div>\n",
       "<style scoped>\n",
       "    .dataframe tbody tr th:only-of-type {\n",
       "        vertical-align: middle;\n",
       "    }\n",
       "\n",
       "    .dataframe tbody tr th {\n",
       "        vertical-align: top;\n",
       "    }\n",
       "\n",
       "    .dataframe thead th {\n",
       "        text-align: right;\n",
       "    }\n",
       "</style>\n",
       "<table border=\"1\" class=\"dataframe\">\n",
       "  <thead>\n",
       "    <tr style=\"text-align: right;\">\n",
       "      <th></th>\n",
       "      <th>id</th>\n",
       "      <th>object_name</th>\n",
       "      <th>chain</th>\n",
       "      <th>object_type</th>\n",
       "      <th>address</th>\n",
       "      <th>number</th>\n",
       "    </tr>\n",
       "  </thead>\n",
       "  <tbody>\n",
       "    <tr>\n",
       "      <th>0</th>\n",
       "      <td>151635</td>\n",
       "      <td>СМЕТАНА</td>\n",
       "      <td>нет</td>\n",
       "      <td>кафе</td>\n",
       "      <td>город Москва, улица Егора Абакумова, дом 9</td>\n",
       "      <td>48</td>\n",
       "    </tr>\n",
       "    <tr>\n",
       "      <th>1</th>\n",
       "      <td>77874</td>\n",
       "      <td>Родник</td>\n",
       "      <td>нет</td>\n",
       "      <td>кафе</td>\n",
       "      <td>город Москва, улица Талалихина, дом 2/1, корпус 1</td>\n",
       "      <td>35</td>\n",
       "    </tr>\n",
       "    <tr>\n",
       "      <th>2</th>\n",
       "      <td>24309</td>\n",
       "      <td>Кафе «Академия»</td>\n",
       "      <td>нет</td>\n",
       "      <td>кафе</td>\n",
       "      <td>город Москва, Абельмановская улица, дом 6</td>\n",
       "      <td>95</td>\n",
       "    </tr>\n",
       "    <tr>\n",
       "      <th>3</th>\n",
       "      <td>21894</td>\n",
       "      <td>ПИЦЦЕТОРИЯ</td>\n",
       "      <td>да</td>\n",
       "      <td>кафе</td>\n",
       "      <td>город Москва, Абрамцевская улица, дом 1</td>\n",
       "      <td>40</td>\n",
       "    </tr>\n",
       "    <tr>\n",
       "      <th>4</th>\n",
       "      <td>119365</td>\n",
       "      <td>Кафе «Вишневая метель»</td>\n",
       "      <td>нет</td>\n",
       "      <td>кафе</td>\n",
       "      <td>город Москва, Абрамцевская улица, дом 9, корпус 1</td>\n",
       "      <td>50</td>\n",
       "    </tr>\n",
       "  </tbody>\n",
       "</table>\n",
       "</div>"
      ],
      "text/plain": [
       "       id             object_name chain object_type  \\\n",
       "0  151635                 СМЕТАНА   нет        кафе   \n",
       "1   77874                  Родник   нет        кафе   \n",
       "2   24309         Кафе «Академия»   нет        кафе   \n",
       "3   21894              ПИЦЦЕТОРИЯ    да        кафе   \n",
       "4  119365  Кафе «Вишневая метель»   нет        кафе   \n",
       "\n",
       "                                             address  number  \n",
       "0         город Москва, улица Егора Абакумова, дом 9      48  \n",
       "1  город Москва, улица Талалихина, дом 2/1, корпус 1      35  \n",
       "2          город Москва, Абельмановская улица, дом 6      95  \n",
       "3            город Москва, Абрамцевская улица, дом 1      40  \n",
       "4  город Москва, Абрамцевская улица, дом 9, корпус 1      50  "
      ]
     },
     "execution_count": 3,
     "metadata": {},
     "output_type": "execute_result"
    }
   ],
   "source": [
    "# предварительный анализ на пропуски и тип данных\n",
    "df.info()\n",
    "df.head()"
   ]
  },
  {
   "cell_type": "markdown",
   "metadata": {},
   "source": [
    "### Пропуски"
   ]
  },
  {
   "cell_type": "code",
   "execution_count": 4,
   "metadata": {},
   "outputs": [
    {
     "data": {
      "text/plain": [
       "id             0\n",
       "object_name    0\n",
       "chain          0\n",
       "object_type    0\n",
       "address        0\n",
       "number         0\n",
       "dtype: int64"
      ]
     },
     "execution_count": 4,
     "metadata": {},
     "output_type": "execute_result"
    }
   ],
   "source": [
    "df.isna().sum()"
   ]
  },
  {
   "cell_type": "markdown",
   "metadata": {},
   "source": [
    "### Дубликаты"
   ]
  },
  {
   "cell_type": "code",
   "execution_count": 5,
   "metadata": {},
   "outputs": [
    {
     "name": "stdout",
     "output_type": "stream",
     "text": [
      "4973\n",
      "6258\n"
     ]
    },
    {
     "data": {
      "text/plain": [
       "0"
      ]
     },
     "execution_count": 5,
     "metadata": {},
     "output_type": "execute_result"
    }
   ],
   "source": [
    "print(df['object_name'].duplicated().sum())\n",
    "print(df['address'].duplicated().sum())\n",
    "df.duplicated().sum()"
   ]
  },
  {
   "cell_type": "code",
   "execution_count": 6,
   "metadata": {},
   "outputs": [
    {
     "data": {
      "text/plain": [
       "count        15366\n",
       "unique       10393\n",
       "top       Столовая\n",
       "freq           267\n",
       "Name: object_name, dtype: object"
      ]
     },
     "execution_count": 6,
     "metadata": {},
     "output_type": "execute_result"
    }
   ],
   "source": [
    "df['object_name'].describe()"
   ]
  },
  {
   "cell_type": "code",
   "execution_count": 7,
   "metadata": {
    "scrolled": true
   },
   "outputs": [
    {
     "data": {
      "text/plain": [
       "count                                      15366\n",
       "unique                                      9108\n",
       "top       город Москва, Ходынский бульвар, дом 4\n",
       "freq                                          95\n",
       "Name: address, dtype: object"
      ]
     },
     "execution_count": 7,
     "metadata": {},
     "output_type": "execute_result"
    }
   ],
   "source": [
    "df['address'].describe()"
   ]
  },
  {
   "cell_type": "code",
   "execution_count": 8,
   "metadata": {},
   "outputs": [
    {
     "data": {
      "text/plain": [
       "кафе                                 6099\n",
       "столовая                             2587\n",
       "ресторан                             2285\n",
       "предприятие быстрого обслуживания    1923\n",
       "бар                                   856\n",
       "буфет                                 585\n",
       "кафетерий                             398\n",
       "закусочная                            360\n",
       "магазин (отдел кулинарии)             273\n",
       "Name: object_type, dtype: int64"
      ]
     },
     "execution_count": 8,
     "metadata": {},
     "output_type": "execute_result"
    }
   ],
   "source": [
    "df['object_type'].value_counts()"
   ]
  },
  {
   "cell_type": "code",
   "execution_count": 9,
   "metadata": {
    "scrolled": true
   },
   "outputs": [
    {
     "data": {
      "text/html": [
       "<div>\n",
       "<style scoped>\n",
       "    .dataframe tbody tr th:only-of-type {\n",
       "        vertical-align: middle;\n",
       "    }\n",
       "\n",
       "    .dataframe tbody tr th {\n",
       "        vertical-align: top;\n",
       "    }\n",
       "\n",
       "    .dataframe thead th {\n",
       "        text-align: right;\n",
       "    }\n",
       "</style>\n",
       "<table border=\"1\" class=\"dataframe\">\n",
       "  <thead>\n",
       "    <tr style=\"text-align: right;\">\n",
       "      <th></th>\n",
       "      <th>id</th>\n",
       "      <th>object_name</th>\n",
       "      <th>chain</th>\n",
       "      <th>object_type</th>\n",
       "      <th>address</th>\n",
       "      <th>number</th>\n",
       "    </tr>\n",
       "  </thead>\n",
       "  <tbody>\n",
       "    <tr>\n",
       "      <th>113</th>\n",
       "      <td>28608</td>\n",
       "      <td>КОМБИНАТ ПИТАНИЯ МГТУ ИМ.Н.Э.БАУМАНА</td>\n",
       "      <td>нет</td>\n",
       "      <td>буфет</td>\n",
       "      <td>город Москва, Бригадирский переулок, дом 3-5</td>\n",
       "      <td>34</td>\n",
       "    </tr>\n",
       "    <tr>\n",
       "      <th>114</th>\n",
       "      <td>28613</td>\n",
       "      <td>КОМБИНАТ ПИТАНИЯ МГТУ ИМ.Н.Э.БАУМАНА</td>\n",
       "      <td>нет</td>\n",
       "      <td>закусочная</td>\n",
       "      <td>город Москва, Бригадирский переулок, дом 3-5</td>\n",
       "      <td>216</td>\n",
       "    </tr>\n",
       "    <tr>\n",
       "      <th>115</th>\n",
       "      <td>28614</td>\n",
       "      <td>КОМБИНАТ ПИТАНИЯ МГТУ ИМ.Н.Э.БАУМАНА</td>\n",
       "      <td>нет</td>\n",
       "      <td>буфет</td>\n",
       "      <td>город Москва, Бригадирский переулок, дом 3-5</td>\n",
       "      <td>12</td>\n",
       "    </tr>\n",
       "    <tr>\n",
       "      <th>576</th>\n",
       "      <td>149218</td>\n",
       "      <td>Общественное питание</td>\n",
       "      <td>нет</td>\n",
       "      <td>кафе</td>\n",
       "      <td>город Москва, Павелецкая площадь, дом 1</td>\n",
       "      <td>40</td>\n",
       "    </tr>\n",
       "    <tr>\n",
       "      <th>579</th>\n",
       "      <td>149227</td>\n",
       "      <td>Общественное питание</td>\n",
       "      <td>нет</td>\n",
       "      <td>столовая</td>\n",
       "      <td>город Москва, Павелецкая площадь, дом 1</td>\n",
       "      <td>70</td>\n",
       "    </tr>\n",
       "    <tr>\n",
       "      <th>580</th>\n",
       "      <td>149205</td>\n",
       "      <td>Общественное питание</td>\n",
       "      <td>нет</td>\n",
       "      <td>кафе</td>\n",
       "      <td>город Москва, Павелецкая площадь, дом 1</td>\n",
       "      <td>35</td>\n",
       "    </tr>\n",
       "    <tr>\n",
       "      <th>581</th>\n",
       "      <td>149131</td>\n",
       "      <td>Общественное питание</td>\n",
       "      <td>нет</td>\n",
       "      <td>кафе</td>\n",
       "      <td>город Москва, Павелецкая площадь, дом 1</td>\n",
       "      <td>39</td>\n",
       "    </tr>\n",
       "    <tr>\n",
       "      <th>1408</th>\n",
       "      <td>22982</td>\n",
       "      <td>Альфорно</td>\n",
       "      <td>нет</td>\n",
       "      <td>кафе</td>\n",
       "      <td>город Москва, город Зеленоград, корпус 438</td>\n",
       "      <td>49</td>\n",
       "    </tr>\n",
       "    <tr>\n",
       "      <th>1409</th>\n",
       "      <td>151267</td>\n",
       "      <td>Альфорно</td>\n",
       "      <td>нет</td>\n",
       "      <td>кафе</td>\n",
       "      <td>город Москва, город Зеленоград, корпус 438</td>\n",
       "      <td>45</td>\n",
       "    </tr>\n",
       "    <tr>\n",
       "      <th>1647</th>\n",
       "      <td>151866</td>\n",
       "      <td>Ресторан «Практика By Darvin»</td>\n",
       "      <td>нет</td>\n",
       "      <td>бар</td>\n",
       "      <td>город Москва, Большая Грузинская улица, дом 37, строение 2</td>\n",
       "      <td>45</td>\n",
       "    </tr>\n",
       "    <tr>\n",
       "      <th>1648</th>\n",
       "      <td>151871</td>\n",
       "      <td>Ресторан «Практика By Darvin»</td>\n",
       "      <td>нет</td>\n",
       "      <td>кафе</td>\n",
       "      <td>город Москва, Большая Грузинская улица, дом 37, строение 2</td>\n",
       "      <td>50</td>\n",
       "    </tr>\n",
       "    <tr>\n",
       "      <th>2105</th>\n",
       "      <td>25836</td>\n",
       "      <td>Третьяков</td>\n",
       "      <td>нет</td>\n",
       "      <td>кафе</td>\n",
       "      <td>город Москва, Кадашёвская набережная, дом 6/1/2, строение 3</td>\n",
       "      <td>45</td>\n",
       "    </tr>\n",
       "    <tr>\n",
       "      <th>2374</th>\n",
       "      <td>28603</td>\n",
       "      <td>КОМБИНАТ ПИТАНИЯ МГТУ ИМ.Н.Э.БАУМАНА</td>\n",
       "      <td>нет</td>\n",
       "      <td>столовая</td>\n",
       "      <td>город Москва, 2-я Бауманская улица, дом 5, строение 1</td>\n",
       "      <td>100</td>\n",
       "    </tr>\n",
       "    <tr>\n",
       "      <th>2375</th>\n",
       "      <td>28604</td>\n",
       "      <td>КОМБИНАТ ПИТАНИЯ МГТУ ИМ.Н.Э.БАУМАНА</td>\n",
       "      <td>нет</td>\n",
       "      <td>столовая</td>\n",
       "      <td>город Москва, 2-я Бауманская улица, дом 5, строение 1</td>\n",
       "      <td>150</td>\n",
       "    </tr>\n",
       "    <tr>\n",
       "      <th>2376</th>\n",
       "      <td>28605</td>\n",
       "      <td>КОМБИНАТ ПИТАНИЯ МГТУ ИМ.Н.Э.БАУМАНА</td>\n",
       "      <td>нет</td>\n",
       "      <td>кафетерий</td>\n",
       "      <td>город Москва, 2-я Бауманская улица, дом 5, строение 1</td>\n",
       "      <td>35</td>\n",
       "    </tr>\n",
       "  </tbody>\n",
       "</table>\n",
       "</div>"
      ],
      "text/plain": [
       "          id                           object_name chain object_type  \\\n",
       "113    28608  КОМБИНАТ ПИТАНИЯ МГТУ ИМ.Н.Э.БАУМАНА   нет       буфет   \n",
       "114    28613  КОМБИНАТ ПИТАНИЯ МГТУ ИМ.Н.Э.БАУМАНА   нет  закусочная   \n",
       "115    28614  КОМБИНАТ ПИТАНИЯ МГТУ ИМ.Н.Э.БАУМАНА   нет       буфет   \n",
       "576   149218                  Общественное питание   нет        кафе   \n",
       "579   149227                  Общественное питание   нет    столовая   \n",
       "580   149205                  Общественное питание   нет        кафе   \n",
       "581   149131                  Общественное питание   нет        кафе   \n",
       "1408   22982                              Альфорно   нет        кафе   \n",
       "1409  151267                              Альфорно   нет        кафе   \n",
       "1647  151866         Ресторан «Практика By Darvin»   нет         бар   \n",
       "1648  151871         Ресторан «Практика By Darvin»   нет        кафе   \n",
       "2105   25836                             Третьяков   нет        кафе   \n",
       "2374   28603  КОМБИНАТ ПИТАНИЯ МГТУ ИМ.Н.Э.БАУМАНА   нет    столовая   \n",
       "2375   28604  КОМБИНАТ ПИТАНИЯ МГТУ ИМ.Н.Э.БАУМАНА   нет    столовая   \n",
       "2376   28605  КОМБИНАТ ПИТАНИЯ МГТУ ИМ.Н.Э.БАУМАНА   нет   кафетерий   \n",
       "\n",
       "                                                          address  number  \n",
       "113                  город Москва, Бригадирский переулок, дом 3-5      34  \n",
       "114                  город Москва, Бригадирский переулок, дом 3-5     216  \n",
       "115                  город Москва, Бригадирский переулок, дом 3-5      12  \n",
       "576                       город Москва, Павелецкая площадь, дом 1      40  \n",
       "579                       город Москва, Павелецкая площадь, дом 1      70  \n",
       "580                       город Москва, Павелецкая площадь, дом 1      35  \n",
       "581                       город Москва, Павелецкая площадь, дом 1      39  \n",
       "1408                   город Москва, город Зеленоград, корпус 438      49  \n",
       "1409                   город Москва, город Зеленоград, корпус 438      45  \n",
       "1647   город Москва, Большая Грузинская улица, дом 37, строение 2      45  \n",
       "1648   город Москва, Большая Грузинская улица, дом 37, строение 2      50  \n",
       "2105  город Москва, Кадашёвская набережная, дом 6/1/2, строение 3      45  \n",
       "2374        город Москва, 2-я Бауманская улица, дом 5, строение 1     100  \n",
       "2375        город Москва, 2-я Бауманская улица, дом 5, строение 1     150  \n",
       "2376        город Москва, 2-я Бауманская улица, дом 5, строение 1      35  "
      ]
     },
     "execution_count": 9,
     "metadata": {},
     "output_type": "execute_result"
    }
   ],
   "source": [
    "pd.options.display.max_colwidth = 210\n",
    "df[df.duplicated(['object_name', 'address'], keep=False)].head(15)"
   ]
  },
  {
   "cell_type": "markdown",
   "metadata": {},
   "source": [
    "Есть дубликаты в названиях и адресах. Не думаю, что это критично, несколько кафе могут быть в одном здании. Есть универистетские столовые. Название ресторанов также могут повторяться.\n",
    "\n",
    "Самый часто повторяющийся адрес: город Москва, Ходынский бульвар, дом 4 - 95 раз\n",
    "\n",
    "Самое часто повторяющееся название: Столовая - 267 раз."
   ]
  },
  {
   "cell_type": "markdown",
   "metadata": {},
   "source": [
    "### Аномалии"
   ]
  },
  {
   "cell_type": "code",
   "execution_count": 10,
   "metadata": {
    "scrolled": false
   },
   "outputs": [
    {
     "data": {
      "text/html": [
       "<div>\n",
       "<style scoped>\n",
       "    .dataframe tbody tr th:only-of-type {\n",
       "        vertical-align: middle;\n",
       "    }\n",
       "\n",
       "    .dataframe tbody tr th {\n",
       "        vertical-align: top;\n",
       "    }\n",
       "\n",
       "    .dataframe thead th {\n",
       "        text-align: right;\n",
       "    }\n",
       "</style>\n",
       "<table border=\"1\" class=\"dataframe\">\n",
       "  <thead>\n",
       "    <tr style=\"text-align: right;\">\n",
       "      <th></th>\n",
       "      <th>id</th>\n",
       "      <th>number</th>\n",
       "    </tr>\n",
       "  </thead>\n",
       "  <tbody>\n",
       "    <tr>\n",
       "      <th>count</th>\n",
       "      <td>15366.000000</td>\n",
       "      <td>15366.000000</td>\n",
       "    </tr>\n",
       "    <tr>\n",
       "      <th>mean</th>\n",
       "      <td>119720.066901</td>\n",
       "      <td>59.547182</td>\n",
       "    </tr>\n",
       "    <tr>\n",
       "      <th>std</th>\n",
       "      <td>73036.130732</td>\n",
       "      <td>74.736833</td>\n",
       "    </tr>\n",
       "    <tr>\n",
       "      <th>min</th>\n",
       "      <td>838.000000</td>\n",
       "      <td>0.000000</td>\n",
       "    </tr>\n",
       "    <tr>\n",
       "      <th>25%</th>\n",
       "      <td>28524.000000</td>\n",
       "      <td>12.000000</td>\n",
       "    </tr>\n",
       "    <tr>\n",
       "      <th>50%</th>\n",
       "      <td>144974.500000</td>\n",
       "      <td>40.000000</td>\n",
       "    </tr>\n",
       "    <tr>\n",
       "      <th>75%</th>\n",
       "      <td>184262.250000</td>\n",
       "      <td>80.000000</td>\n",
       "    </tr>\n",
       "    <tr>\n",
       "      <th>max</th>\n",
       "      <td>223439.000000</td>\n",
       "      <td>1700.000000</td>\n",
       "    </tr>\n",
       "  </tbody>\n",
       "</table>\n",
       "</div>"
      ],
      "text/plain": [
       "                  id        number\n",
       "count   15366.000000  15366.000000\n",
       "mean   119720.066901     59.547182\n",
       "std     73036.130732     74.736833\n",
       "min       838.000000      0.000000\n",
       "25%     28524.000000     12.000000\n",
       "50%    144974.500000     40.000000\n",
       "75%    184262.250000     80.000000\n",
       "max    223439.000000   1700.000000"
      ]
     },
     "execution_count": 10,
     "metadata": {},
     "output_type": "execute_result"
    }
   ],
   "source": [
    "df.describe()"
   ]
  },
  {
   "cell_type": "code",
   "execution_count": 11,
   "metadata": {},
   "outputs": [
    {
     "data": {
      "text/plain": [
       "1621"
      ]
     },
     "execution_count": 11,
     "metadata": {},
     "output_type": "execute_result"
    }
   ],
   "source": [
    "df.query('number==0')['number'].count()"
   ]
  },
  {
   "cell_type": "code",
   "execution_count": 12,
   "metadata": {},
   "outputs": [
    {
     "data": {
      "text/plain": [
       "предприятие быстрого обслуживания    704\n",
       "кафе                                 310\n",
       "закусочная                           189\n",
       "магазин (отдел кулинарии)            145\n",
       "кафетерий                            113\n",
       "буфет                                 68\n",
       "ресторан                              45\n",
       "бар                                   28\n",
       "столовая                              19\n",
       "Name: object_type, dtype: int64"
      ]
     },
     "execution_count": 12,
     "metadata": {},
     "output_type": "execute_result"
    }
   ],
   "source": [
    "df.query('number==0')['object_type'].value_counts()"
   ]
  },
  {
   "cell_type": "code",
   "execution_count": 13,
   "metadata": {},
   "outputs": [
    {
     "data": {
      "text/html": [
       "<div>\n",
       "<style scoped>\n",
       "    .dataframe tbody tr th:only-of-type {\n",
       "        vertical-align: middle;\n",
       "    }\n",
       "\n",
       "    .dataframe tbody tr th {\n",
       "        vertical-align: top;\n",
       "    }\n",
       "\n",
       "    .dataframe thead th {\n",
       "        text-align: right;\n",
       "    }\n",
       "</style>\n",
       "<table border=\"1\" class=\"dataframe\">\n",
       "  <thead>\n",
       "    <tr style=\"text-align: right;\">\n",
       "      <th></th>\n",
       "      <th>id</th>\n",
       "      <th>object_name</th>\n",
       "      <th>chain</th>\n",
       "      <th>object_type</th>\n",
       "      <th>address</th>\n",
       "      <th>number</th>\n",
       "    </tr>\n",
       "  </thead>\n",
       "  <tbody>\n",
       "    <tr>\n",
       "      <th>1873</th>\n",
       "      <td>79718</td>\n",
       "      <td>Макдоналдс</td>\n",
       "      <td>да</td>\n",
       "      <td>ресторан</td>\n",
       "      <td>город Москва, поселение Московский, деревня Говорово, дом 1Б/Н</td>\n",
       "      <td>0</td>\n",
       "    </tr>\n",
       "    <tr>\n",
       "      <th>4490</th>\n",
       "      <td>152298</td>\n",
       "      <td>Фудмаркет. Яшечкина</td>\n",
       "      <td>нет</td>\n",
       "      <td>ресторан</td>\n",
       "      <td>город Москва, улица Новый Арбат, дом 21</td>\n",
       "      <td>0</td>\n",
       "    </tr>\n",
       "    <tr>\n",
       "      <th>4491</th>\n",
       "      <td>152299</td>\n",
       "      <td>Фудмаркет. Грачева</td>\n",
       "      <td>нет</td>\n",
       "      <td>ресторан</td>\n",
       "      <td>город Москва, улица Новый Арбат, дом 21</td>\n",
       "      <td>0</td>\n",
       "    </tr>\n",
       "    <tr>\n",
       "      <th>4492</th>\n",
       "      <td>152305</td>\n",
       "      <td>Фудмаркет. Шапиро</td>\n",
       "      <td>нет</td>\n",
       "      <td>ресторан</td>\n",
       "      <td>город Москва, улица Новый Арбат, дом 21</td>\n",
       "      <td>0</td>\n",
       "    </tr>\n",
       "    <tr>\n",
       "      <th>4493</th>\n",
       "      <td>152307</td>\n",
       "      <td>Фудмаркет. Салпагарова</td>\n",
       "      <td>нет</td>\n",
       "      <td>ресторан</td>\n",
       "      <td>город Москва, улица Новый Арбат, дом 21</td>\n",
       "      <td>0</td>\n",
       "    </tr>\n",
       "    <tr>\n",
       "      <th>4501</th>\n",
       "      <td>152255</td>\n",
       "      <td>Фудмаркет.Швыдкой</td>\n",
       "      <td>нет</td>\n",
       "      <td>ресторан</td>\n",
       "      <td>город Москва, улица Новый Арбат, дом 21</td>\n",
       "      <td>0</td>\n",
       "    </tr>\n",
       "    <tr>\n",
       "      <th>4502</th>\n",
       "      <td>152222</td>\n",
       "      <td>Фудмаркет.Паритова</td>\n",
       "      <td>нет</td>\n",
       "      <td>ресторан</td>\n",
       "      <td>город Москва, улица Новый Арбат, дом 21</td>\n",
       "      <td>0</td>\n",
       "    </tr>\n",
       "    <tr>\n",
       "      <th>4503</th>\n",
       "      <td>152224</td>\n",
       "      <td>Фудмаркет. Рогачикова</td>\n",
       "      <td>нет</td>\n",
       "      <td>ресторан</td>\n",
       "      <td>город Москва, улица Новый Арбат, дом 21</td>\n",
       "      <td>0</td>\n",
       "    </tr>\n",
       "    <tr>\n",
       "      <th>4504</th>\n",
       "      <td>152216</td>\n",
       "      <td>Фудмаркет. Галичкин</td>\n",
       "      <td>нет</td>\n",
       "      <td>ресторан</td>\n",
       "      <td>город Москва, улица Новый Арбат, дом 21</td>\n",
       "      <td>0</td>\n",
       "    </tr>\n",
       "    <tr>\n",
       "      <th>6113</th>\n",
       "      <td>27193</td>\n",
       "      <td>МАКСИМАЛЬНЫЙ РЕСТОРАН</td>\n",
       "      <td>нет</td>\n",
       "      <td>ресторан</td>\n",
       "      <td>город Москва, Профсоюзная улица, дом 61А</td>\n",
       "      <td>0</td>\n",
       "    </tr>\n",
       "    <tr>\n",
       "      <th>6117</th>\n",
       "      <td>89735</td>\n",
       "      <td>МАКДОНАЛДС</td>\n",
       "      <td>да</td>\n",
       "      <td>ресторан</td>\n",
       "      <td>город Москва, Профсоюзная улица, дом 61А</td>\n",
       "      <td>0</td>\n",
       "    </tr>\n",
       "    <tr>\n",
       "      <th>8494</th>\n",
       "      <td>152879</td>\n",
       "      <td>Shvilli (реторан Швили)</td>\n",
       "      <td>нет</td>\n",
       "      <td>ресторан</td>\n",
       "      <td>город Москва, поселение Сосенское, Калужское шоссе, 22-й километр, дом 10</td>\n",
       "      <td>0</td>\n",
       "    </tr>\n",
       "    <tr>\n",
       "      <th>8747</th>\n",
       "      <td>154514</td>\n",
       "      <td>Макдоналдс</td>\n",
       "      <td>да</td>\n",
       "      <td>ресторан</td>\n",
       "      <td>город Москва, Хорошёвское шоссе, дом 27</td>\n",
       "      <td>0</td>\n",
       "    </tr>\n",
       "    <tr>\n",
       "      <th>8751</th>\n",
       "      <td>154529</td>\n",
       "      <td>Бургер Кинг</td>\n",
       "      <td>да</td>\n",
       "      <td>ресторан</td>\n",
       "      <td>город Москва, Хорошёвское шоссе, дом 27</td>\n",
       "      <td>0</td>\n",
       "    </tr>\n",
       "    <tr>\n",
       "      <th>8754</th>\n",
       "      <td>154534</td>\n",
       "      <td>KFC</td>\n",
       "      <td>да</td>\n",
       "      <td>ресторан</td>\n",
       "      <td>город Москва, Хорошёвское шоссе, дом 27</td>\n",
       "      <td>0</td>\n",
       "    </tr>\n",
       "  </tbody>\n",
       "</table>\n",
       "</div>"
      ],
      "text/plain": [
       "          id              object_name chain object_type  \\\n",
       "1873   79718               Макдоналдс    да    ресторан   \n",
       "4490  152298      Фудмаркет. Яшечкина   нет    ресторан   \n",
       "4491  152299       Фудмаркет. Грачева   нет    ресторан   \n",
       "4492  152305        Фудмаркет. Шапиро   нет    ресторан   \n",
       "4493  152307   Фудмаркет. Салпагарова   нет    ресторан   \n",
       "4501  152255        Фудмаркет.Швыдкой   нет    ресторан   \n",
       "4502  152222       Фудмаркет.Паритова   нет    ресторан   \n",
       "4503  152224    Фудмаркет. Рогачикова   нет    ресторан   \n",
       "4504  152216      Фудмаркет. Галичкин   нет    ресторан   \n",
       "6113   27193    МАКСИМАЛЬНЫЙ РЕСТОРАН   нет    ресторан   \n",
       "6117   89735               МАКДОНАЛДС    да    ресторан   \n",
       "8494  152879  Shvilli (реторан Швили)   нет    ресторан   \n",
       "8747  154514               Макдоналдс    да    ресторан   \n",
       "8751  154529              Бургер Кинг    да    ресторан   \n",
       "8754  154534                      KFC    да    ресторан   \n",
       "\n",
       "                                                                        address  \\\n",
       "1873             город Москва, поселение Московский, деревня Говорово, дом 1Б/Н   \n",
       "4490                                    город Москва, улица Новый Арбат, дом 21   \n",
       "4491                                    город Москва, улица Новый Арбат, дом 21   \n",
       "4492                                    город Москва, улица Новый Арбат, дом 21   \n",
       "4493                                    город Москва, улица Новый Арбат, дом 21   \n",
       "4501                                    город Москва, улица Новый Арбат, дом 21   \n",
       "4502                                    город Москва, улица Новый Арбат, дом 21   \n",
       "4503                                    город Москва, улица Новый Арбат, дом 21   \n",
       "4504                                    город Москва, улица Новый Арбат, дом 21   \n",
       "6113                                   город Москва, Профсоюзная улица, дом 61А   \n",
       "6117                                   город Москва, Профсоюзная улица, дом 61А   \n",
       "8494  город Москва, поселение Сосенское, Калужское шоссе, 22-й километр, дом 10   \n",
       "8747                                    город Москва, Хорошёвское шоссе, дом 27   \n",
       "8751                                    город Москва, Хорошёвское шоссе, дом 27   \n",
       "8754                                    город Москва, Хорошёвское шоссе, дом 27   \n",
       "\n",
       "      number  \n",
       "1873       0  \n",
       "4490       0  \n",
       "4491       0  \n",
       "4492       0  \n",
       "4493       0  \n",
       "4501       0  \n",
       "4502       0  \n",
       "4503       0  \n",
       "4504       0  \n",
       "6113       0  \n",
       "6117       0  \n",
       "8494       0  \n",
       "8747       0  \n",
       "8751       0  \n",
       "8754       0  "
      ]
     },
     "execution_count": 13,
     "metadata": {},
     "output_type": "execute_result"
    }
   ],
   "source": [
    "df.query('number==0 and object_type == \"ресторан\"').head(15)"
   ]
  },
  {
   "cell_type": "code",
   "execution_count": 14,
   "metadata": {
    "scrolled": true
   },
   "outputs": [
    {
     "name": "stdout",
     "output_type": "stream",
     "text": [
      "[214. 300.]\n"
     ]
    }
   ],
   "source": [
    "print(np.percentile(df['number'], [95,99]))"
   ]
  },
  {
   "cell_type": "code",
   "execution_count": 15,
   "metadata": {},
   "outputs": [
    {
     "data": {
      "text/plain": [
       "470"
      ]
     },
     "execution_count": 15,
     "metadata": {},
     "output_type": "execute_result"
    }
   ],
   "source": [
    "df.query('number==0 and object_type in [\"ресторан\", \"кафе\", \"бар\", \"столовая\", \"буфет\"]')['number'].count()"
   ]
  },
  {
   "cell_type": "code",
   "execution_count": 16,
   "metadata": {},
   "outputs": [
    {
     "data": {
      "text/plain": [
       "286"
      ]
     },
     "execution_count": 16,
     "metadata": {},
     "output_type": "execute_result"
    }
   ],
   "source": [
    "df.query('number>250')['number'].count()"
   ]
  },
  {
   "cell_type": "markdown",
   "metadata": {},
   "source": [
    "Есть заведения без посадочных мест. Всего их 10.5% от общей выборки. \n",
    "\n",
    "Предположу, что в заведения без посадочных мест - это доставка и еда на вынос, также могут быть стоячие места у барной стойки, к примеру. Ничего не буду делать с этими данными.\n",
    "\n",
    "Я удалю заведения превышающие 250 посадочных мест, так как в данных всего 5% заведение, у которых посадочных мест больше 214. Приму за аномалию. Итого я потеряю 5% данных."
   ]
  },
  {
   "cell_type": "code",
   "execution_count": 17,
   "metadata": {},
   "outputs": [
    {
     "name": "stdout",
     "output_type": "stream",
     "text": [
      "<class 'pandas.core.frame.DataFrame'>\n",
      "Int64Index: 15080 entries, 0 to 15365\n",
      "Data columns (total 6 columns):\n",
      " #   Column       Non-Null Count  Dtype \n",
      "---  ------       --------------  ----- \n",
      " 0   id           15080 non-null  int64 \n",
      " 1   object_name  15080 non-null  object\n",
      " 2   chain        15080 non-null  object\n",
      " 3   object_type  15080 non-null  object\n",
      " 4   address      15080 non-null  object\n",
      " 5   number       15080 non-null  int64 \n",
      "dtypes: int64(2), object(4)\n",
      "memory usage: 824.7+ KB\n"
     ]
    }
   ],
   "source": [
    "df = df.query('~(number>250)')\n",
    "df.info()"
   ]
  },
  {
   "cell_type": "code",
   "execution_count": 18,
   "metadata": {
    "scrolled": true
   },
   "outputs": [
    {
     "data": {
      "text/plain": [
       "Столовая                    261\n",
       "Кафе                        236\n",
       "Шаурма                      234\n",
       "KFC                         154\n",
       "Шоколадница                 142\n",
       "Бургер Кинг                 122\n",
       "Макдоналдс                  121\n",
       "Домино'с Пицца               86\n",
       "Теремок                      84\n",
       "Крошка Картошка              82\n",
       "Пекарня                      76\n",
       "Милти                        65\n",
       "Суши Wok                     61\n",
       "Буфет                        59\n",
       "Папа Джонс                   50\n",
       "СТОЛОВАЯ                     49\n",
       "Кофе с собой                 44\n",
       "Школьно-базовая столовая     41\n",
       "КАФЕ                         41\n",
       "Чайхона №1                   36\n",
       "Выпечка                      36\n",
       "Кафетерий                    35\n",
       "Хинкальная                   35\n",
       "Якитория                     33\n",
       "Додо Пицца                   31\n",
       "Кофе Хаус                    31\n",
       "Starbucks                    30\n",
       "Subway                       29\n",
       "Кофейня                      29\n",
       "МАКДОНАЛДС                   28\n",
       "Name: object_name, dtype: int64"
      ]
     },
     "execution_count": 18,
     "metadata": {},
     "output_type": "execute_result"
    }
   ],
   "source": [
    "df['object_name'].value_counts().head(30)"
   ]
  },
  {
   "cell_type": "code",
   "execution_count": 19,
   "metadata": {},
   "outputs": [],
   "source": [
    "df['object_name'] = df['object_name'].str.lower()"
   ]
  },
  {
   "cell_type": "code",
   "execution_count": 20,
   "metadata": {
    "scrolled": true
   },
   "outputs": [
    {
     "data": {
      "text/plain": [
       "столовая                                312\n",
       "кафе                                    278\n",
       "шаурма                                  250\n",
       "шоколадница                             158\n",
       "kfc                                     154\n",
       "макдоналдс                              149\n",
       "бургер кинг                             137\n",
       "теремок                                  94\n",
       "крошка картошка                          90\n",
       "домино'с пицца                           90\n",
       "буфет                                    82\n",
       "пекарня                                  82\n",
       "милти                                    72\n",
       "суши wok                                 72\n",
       "папа джонс                               51\n",
       "додо пицца                               49\n",
       "кофе с собой                             46\n",
       "школьно-базовая столовая                 41\n",
       "донер кебаб                              41\n",
       "кафетерий                                40\n",
       "хинкальная                               38\n",
       "якитория                                 37\n",
       "чайхона №1                               37\n",
       "выпечка                                  36\n",
       "кофе хаус                                35\n",
       "subway                                   34\n",
       "кофейня                                  33\n",
       "тануки                                   32\n",
       "хлеб насущный                            32\n",
       "starbucks                                30\n",
       "прайм стар                               26\n",
       "бистро                                   25\n",
       "cofix                                    25\n",
       "пиццерия                                 24\n",
       "мята lounge                              24\n",
       "иль патио                                23\n",
       "кулинария                                23\n",
       "му-му                                    22\n",
       "бар                                      22\n",
       "старбакс                                 21\n",
       "донер                                    20\n",
       "сабвей                                   19\n",
       "пицца хат                                18\n",
       "кафе «шоколадница»                       18\n",
       "андерсон                                 18\n",
       "кофе                                     16\n",
       "чайхона                                  16\n",
       "кулинарная лавка братьев караваевых      16\n",
       "комбинат питания мгту им.н.э.баумана     16\n",
       "сушишоп                                  15\n",
       "алло пицца                               15\n",
       "кофемания                                15\n",
       "французская пекарня                      15\n",
       "азбука вкуса                             15\n",
       "столовая при гбоу школа 171              15\n",
       "вьетнамская кухня                        15\n",
       "пицца паоло                              15\n",
       "стардогs                                 14\n",
       "школа                                    14\n",
       "чайхана                                  14\n",
       "Name: object_name, dtype: int64"
      ]
     },
     "execution_count": 20,
     "metadata": {},
     "output_type": "execute_result"
    }
   ],
   "source": [
    "df['object_name'].value_counts().head(60)"
   ]
  },
  {
   "cell_type": "code",
   "execution_count": 21,
   "metadata": {},
   "outputs": [
    {
     "data": {
      "text/plain": [
       "id             27\n",
       "object_name    27\n",
       "chain          27\n",
       "object_type    27\n",
       "address        27\n",
       "number         27\n",
       "dtype: int64"
      ]
     },
     "execution_count": 21,
     "metadata": {},
     "output_type": "execute_result"
    }
   ],
   "source": [
    "df.query('object_name.str.contains(\"сабвей|сабвэй\")').count()"
   ]
  },
  {
   "cell_type": "code",
   "execution_count": 22,
   "metadata": {},
   "outputs": [],
   "source": [
    "pat = ['старбакс', 'макдональдс', 'кафе «шоколадница»', 'сабвей', 'сабвэй']\n",
    "repl = ['starbucks', 'макдоналдс', 'шоколадница', 'subway', 'subway']\n",
    "for i in range(len(pat)):\n",
    "    df['object_name'] = df['object_name'].str.replace(pat[i], repl[i])\n"
   ]
  },
  {
   "cell_type": "markdown",
   "metadata": {},
   "source": [
    "Чтобы избежать искажения в данных, я привел названия заведений к одному виду, заменил названия с ошибкой на правильные у самых популярных.\n",
    "\n",
    "У сетевых компаний есть несколько типов заведений. Например, у макдоналдса есть и кафе, и фастфуд, и рестораны. Я не понял до конца, могут ли сетевые корпорации вроде макдоналдса открывать заведения разных типов. Например где-то по документам будет фастфуд, а где-то кафе. Понятно, что Макдоналдс позиционируется, как фастфуд, но чисто юридически каждая ли его точка зарегистрирована, как придприятие быстрого обслуживания? Может, там есть какие-то юридические уловки. Я оставлю все, как есть."
   ]
  },
  {
   "cell_type": "markdown",
   "metadata": {},
   "source": [
    "### Неявные дубликаты"
   ]
  },
  {
   "cell_type": "code",
   "execution_count": 23,
   "metadata": {
    "scrolled": true
   },
   "outputs": [
    {
     "name": "stdout",
     "output_type": "stream",
     "text": [
      "85\n",
      "<class 'pandas.core.frame.DataFrame'>\n",
      "Int64Index: 14995 entries, 0 to 15365\n",
      "Data columns (total 6 columns):\n",
      " #   Column       Non-Null Count  Dtype \n",
      "---  ------       --------------  ----- \n",
      " 0   id           14995 non-null  int64 \n",
      " 1   object_name  14995 non-null  object\n",
      " 2   chain        14995 non-null  object\n",
      " 3   object_type  14995 non-null  object\n",
      " 4   address      14995 non-null  object\n",
      " 5   number       14995 non-null  int64 \n",
      "dtypes: int64(2), object(4)\n",
      "memory usage: 820.0+ KB\n"
     ]
    }
   ],
   "source": [
    "# Дубликаты по всем признакам, кроме id\n",
    "print(df[df.duplicated(['object_name', 'chain', 'object_type', 'address', 'number'])]['object_name'].count())\n",
    "# Удаление найденных дубликатов\n",
    "df = df.drop_duplicates(subset=['object_name', 'chain', 'object_type', 'address', 'number'])\n",
    "df.info()"
   ]
  },
  {
   "cell_type": "markdown",
   "metadata": {},
   "source": [
    "85 неявных дубликатов было найдено. То есть был присвоен уникальный id, но по всем остальным признакам полное совпадение. Я удалил их, это меньше процента данных."
   ]
  },
  {
   "cell_type": "markdown",
   "metadata": {},
   "source": [
    "## Анализ данных"
   ]
  },
  {
   "cell_type": "markdown",
   "metadata": {},
   "source": [
    "### Соотношение видов объектов общественного питания по количеству <a id=\"2\"></a>"
   ]
  },
  {
   "cell_type": "code",
   "execution_count": 24,
   "metadata": {},
   "outputs": [
    {
     "data": {
      "text/html": [
       "<div>\n",
       "<style scoped>\n",
       "    .dataframe tbody tr th:only-of-type {\n",
       "        vertical-align: middle;\n",
       "    }\n",
       "\n",
       "    .dataframe tbody tr th {\n",
       "        vertical-align: top;\n",
       "    }\n",
       "\n",
       "    .dataframe thead th {\n",
       "        text-align: right;\n",
       "    }\n",
       "</style>\n",
       "<table border=\"1\" class=\"dataframe\">\n",
       "  <thead>\n",
       "    <tr style=\"text-align: right;\">\n",
       "      <th></th>\n",
       "      <th>object_type</th>\n",
       "      <th>count_ob</th>\n",
       "      <th>mean_number</th>\n",
       "    </tr>\n",
       "  </thead>\n",
       "  <tbody>\n",
       "    <tr>\n",
       "      <th>3</th>\n",
       "      <td>кафе</td>\n",
       "      <td>6054</td>\n",
       "      <td>38.967625</td>\n",
       "    </tr>\n",
       "    <tr>\n",
       "      <th>8</th>\n",
       "      <td>столовая</td>\n",
       "      <td>2420</td>\n",
       "      <td>116.724380</td>\n",
       "    </tr>\n",
       "    <tr>\n",
       "      <th>7</th>\n",
       "      <td>ресторан</td>\n",
       "      <td>2189</td>\n",
       "      <td>82.974874</td>\n",
       "    </tr>\n",
       "    <tr>\n",
       "      <th>6</th>\n",
       "      <td>предприятие быстрого обслуживания</td>\n",
       "      <td>1893</td>\n",
       "      <td>19.922874</td>\n",
       "    </tr>\n",
       "    <tr>\n",
       "      <th>0</th>\n",
       "      <td>бар</td>\n",
       "      <td>852</td>\n",
       "      <td>41.061033</td>\n",
       "    </tr>\n",
       "    <tr>\n",
       "      <th>1</th>\n",
       "      <td>буфет</td>\n",
       "      <td>571</td>\n",
       "      <td>49.248687</td>\n",
       "    </tr>\n",
       "    <tr>\n",
       "      <th>4</th>\n",
       "      <td>кафетерий</td>\n",
       "      <td>395</td>\n",
       "      <td>9.184810</td>\n",
       "    </tr>\n",
       "    <tr>\n",
       "      <th>2</th>\n",
       "      <td>закусочная</td>\n",
       "      <td>348</td>\n",
       "      <td>7.847701</td>\n",
       "    </tr>\n",
       "    <tr>\n",
       "      <th>5</th>\n",
       "      <td>магазин (отдел кулинарии)</td>\n",
       "      <td>273</td>\n",
       "      <td>5.589744</td>\n",
       "    </tr>\n",
       "  </tbody>\n",
       "</table>\n",
       "</div>"
      ],
      "text/plain": [
       "                         object_type  count_ob  mean_number\n",
       "3                               кафе      6054    38.967625\n",
       "8                           столовая      2420   116.724380\n",
       "7                           ресторан      2189    82.974874\n",
       "6  предприятие быстрого обслуживания      1893    19.922874\n",
       "0                                бар       852    41.061033\n",
       "1                              буфет       571    49.248687\n",
       "4                          кафетерий       395     9.184810\n",
       "2                         закусочная       348     7.847701\n",
       "5          магазин (отдел кулинарии)       273     5.589744"
      ]
     },
     "execution_count": 24,
     "metadata": {},
     "output_type": "execute_result"
    }
   ],
   "source": [
    "ob_type = (df.groupby('object_type',as_index=False)\n",
    "           .agg({'object_name' : 'count', 'number' : 'mean'})\n",
    "           .sort_values(by='object_name', ascending=False))\n",
    "ob_type = ob_type.rename(columns={'object_name' : 'count_ob', 'number' : 'mean_number'})\n",
    "ob_type"
   ]
  },
  {
   "cell_type": "code",
   "execution_count": 25,
   "metadata": {},
   "outputs": [
    {
     "data": {
      "image/png": "[encoded data removed]",
      "text/plain": [
       "<Figure size 864x720 with 1 Axes>"
      ]
     },
     "metadata": {
      "needs_background": "light"
     },
     "output_type": "display_data"
    }
   ],
   "source": [
    "plt.rcParams[\"figure.figsize\"] = (12,10)\n",
    "ax = sns.barplot(x='count_ob', y='object_type', data=ob_type)\n",
    "plt.title('Соотношение видов объектов общественного питания по количеству', fontsize=14)\n",
    "ax.set(xlabel='Количество заведений', ylabel='Типы заведений')\n",
    "sns.set_style(\"white\")\n",
    "plt.grid()\n",
    "plt.show()"
   ]
  },
  {
   "cell_type": "markdown",
   "metadata": {},
   "source": [
    "Наибольшую долю на рынке занимают кафе - 40%. Столовые - 16.8%. Рестораны - 14.9. Фастфуд - 12.5%\n",
    "\n",
    "Меньше всего доля кафетериев и магазинов с отделом кулинарии - 2.6% и 1.8%"
   ]
  },
  {
   "cell_type": "markdown",
   "metadata": {},
   "source": [
    "### Соотношение сетевых и несетевых заведений по количеству <a id=\"3\"></a>"
   ]
  },
  {
   "cell_type": "code",
   "execution_count": 26,
   "metadata": {},
   "outputs": [
    {
     "data": {
      "text/html": [
       "<div>\n",
       "<style scoped>\n",
       "    .dataframe tbody tr th:only-of-type {\n",
       "        vertical-align: middle;\n",
       "    }\n",
       "\n",
       "    .dataframe tbody tr th {\n",
       "        vertical-align: top;\n",
       "    }\n",
       "\n",
       "    .dataframe thead th {\n",
       "        text-align: right;\n",
       "    }\n",
       "</style>\n",
       "<table border=\"1\" class=\"dataframe\">\n",
       "  <thead>\n",
       "    <tr style=\"text-align: right;\">\n",
       "      <th></th>\n",
       "      <th>chain</th>\n",
       "      <th>object_name</th>\n",
       "    </tr>\n",
       "  </thead>\n",
       "  <tbody>\n",
       "    <tr>\n",
       "      <th>0</th>\n",
       "      <td>да</td>\n",
       "      <td>2931</td>\n",
       "    </tr>\n",
       "    <tr>\n",
       "      <th>1</th>\n",
       "      <td>нет</td>\n",
       "      <td>12064</td>\n",
       "    </tr>\n",
       "  </tbody>\n",
       "</table>\n",
       "</div>"
      ],
      "text/plain": [
       "  chain  object_name\n",
       "0    да         2931\n",
       "1   нет        12064"
      ]
     },
     "execution_count": 26,
     "metadata": {},
     "output_type": "execute_result"
    }
   ],
   "source": [
    "chain = df.groupby('chain',as_index=False).agg({'object_name' : 'count'})\n",
    "chain"
   ]
  },
  {
   "cell_type": "code",
   "execution_count": 27,
   "metadata": {
    "scrolled": false
   },
   "outputs": [
    {
     "data": {
      "image/png": "[encoded data removed]",
      "text/plain": [
       "<Figure size 864x720 with 1 Axes>"
      ]
     },
     "metadata": {},
     "output_type": "display_data"
    }
   ],
   "source": [
    "plt.rcParams[\"figure.figsize\"] = (12,10)\n",
    "plt.pie(chain['object_name'], \n",
    "        labels=['сетевые', 'несетевые'], \n",
    "        autopct='%1.1f%%',shadow=True)\n",
    "plt.title('Соотношение сетевых и несетевых заведений по количеству',\n",
    "              fontsize=14);\n",
    "plt.show();"
   ]
  },
  {
   "cell_type": "markdown",
   "metadata": {},
   "source": [
    "Доминируют несетевые заведения - 80.5%"
   ]
  },
  {
   "cell_type": "markdown",
   "metadata": {},
   "source": [
    "### Сетевые виды объектов общественного питания <a id=\"4\"></a>"
   ]
  },
  {
   "cell_type": "code",
   "execution_count": 28,
   "metadata": {},
   "outputs": [
    {
     "data": {
      "text/html": [
       "<div>\n",
       "<style scoped>\n",
       "    .dataframe tbody tr th:only-of-type {\n",
       "        vertical-align: middle;\n",
       "    }\n",
       "\n",
       "    .dataframe tbody tr th {\n",
       "        vertical-align: top;\n",
       "    }\n",
       "\n",
       "    .dataframe thead th {\n",
       "        text-align: right;\n",
       "    }\n",
       "</style>\n",
       "<table border=\"1\" class=\"dataframe\">\n",
       "  <thead>\n",
       "    <tr style=\"text-align: right;\">\n",
       "      <th></th>\n",
       "      <th>object_type</th>\n",
       "      <th>count_chain</th>\n",
       "      <th>count_ob</th>\n",
       "      <th>mean_number</th>\n",
       "      <th>ratio_chain</th>\n",
       "    </tr>\n",
       "  </thead>\n",
       "  <tbody>\n",
       "    <tr>\n",
       "      <th>6</th>\n",
       "      <td>предприятие быстрого обслуживания</td>\n",
       "      <td>784</td>\n",
       "      <td>1893</td>\n",
       "      <td>19.922874</td>\n",
       "      <td>41.415742</td>\n",
       "    </tr>\n",
       "    <tr>\n",
       "      <th>5</th>\n",
       "      <td>магазин (отдел кулинарии)</td>\n",
       "      <td>78</td>\n",
       "      <td>273</td>\n",
       "      <td>5.589744</td>\n",
       "      <td>28.571429</td>\n",
       "    </tr>\n",
       "    <tr>\n",
       "      <th>7</th>\n",
       "      <td>ресторан</td>\n",
       "      <td>521</td>\n",
       "      <td>2189</td>\n",
       "      <td>82.974874</td>\n",
       "      <td>23.800822</td>\n",
       "    </tr>\n",
       "    <tr>\n",
       "      <th>3</th>\n",
       "      <td>кафе</td>\n",
       "      <td>1389</td>\n",
       "      <td>6054</td>\n",
       "      <td>38.967625</td>\n",
       "      <td>22.943508</td>\n",
       "    </tr>\n",
       "    <tr>\n",
       "      <th>2</th>\n",
       "      <td>закусочная</td>\n",
       "      <td>56</td>\n",
       "      <td>348</td>\n",
       "      <td>7.847701</td>\n",
       "      <td>16.091954</td>\n",
       "    </tr>\n",
       "    <tr>\n",
       "      <th>4</th>\n",
       "      <td>кафетерий</td>\n",
       "      <td>52</td>\n",
       "      <td>395</td>\n",
       "      <td>9.184810</td>\n",
       "      <td>13.164557</td>\n",
       "    </tr>\n",
       "    <tr>\n",
       "      <th>0</th>\n",
       "      <td>бар</td>\n",
       "      <td>37</td>\n",
       "      <td>852</td>\n",
       "      <td>41.061033</td>\n",
       "      <td>4.342723</td>\n",
       "    </tr>\n",
       "    <tr>\n",
       "      <th>1</th>\n",
       "      <td>буфет</td>\n",
       "      <td>11</td>\n",
       "      <td>571</td>\n",
       "      <td>49.248687</td>\n",
       "      <td>1.926445</td>\n",
       "    </tr>\n",
       "    <tr>\n",
       "      <th>8</th>\n",
       "      <td>столовая</td>\n",
       "      <td>3</td>\n",
       "      <td>2420</td>\n",
       "      <td>116.724380</td>\n",
       "      <td>0.123967</td>\n",
       "    </tr>\n",
       "  </tbody>\n",
       "</table>\n",
       "</div>"
      ],
      "text/plain": [
       "                         object_type  count_chain  count_ob  mean_number  \\\n",
       "6  предприятие быстрого обслуживания          784      1893    19.922874   \n",
       "5          магазин (отдел кулинарии)           78       273     5.589744   \n",
       "7                           ресторан          521      2189    82.974874   \n",
       "3                               кафе         1389      6054    38.967625   \n",
       "2                         закусочная           56       348     7.847701   \n",
       "4                          кафетерий           52       395     9.184810   \n",
       "0                                бар           37       852    41.061033   \n",
       "1                              буфет           11       571    49.248687   \n",
       "8                           столовая            3      2420   116.724380   \n",
       "\n",
       "   ratio_chain  \n",
       "6    41.415742  \n",
       "5    28.571429  \n",
       "7    23.800822  \n",
       "3    22.943508  \n",
       "2    16.091954  \n",
       "4    13.164557  \n",
       "0     4.342723  \n",
       "1     1.926445  \n",
       "8     0.123967  "
      ]
     },
     "execution_count": 28,
     "metadata": {},
     "output_type": "execute_result"
    }
   ],
   "source": [
    "franchise = df.query('chain == \"да\"').groupby('object_type', as_index=False).agg({'object_name' : 'count'})\n",
    "franchise = franchise.rename(columns={'object_name' : 'count_chain'})\n",
    "franchise = franchise.merge(ob_type, how='left')\n",
    "franchise['ratio_chain'] = franchise['count_chain'] / franchise['count_ob'] * 100\n",
    "franchise = franchise.sort_values(by='ratio_chain', ascending=False)\n",
    "franchise"
   ]
  },
  {
   "cell_type": "code",
   "execution_count": 29,
   "metadata": {
    "scrolled": false
   },
   "outputs": [
    {
     "data": {
      "image/png": "[encoded data removed]",
      "text/plain": [
       "<Figure size 864x720 with 1 Axes>"
      ]
     },
     "metadata": {},
     "output_type": "display_data"
    }
   ],
   "source": [
    "ax = sns.barplot(y='object_type', x='ratio_chain', data=franchise)\n",
    "plt.title('Соотношение видов заведения сетевого распространения к общему количеству')\n",
    "ax.set(xlabel='Доля сетевых заведений по типам %', ylabel='Типы сетевых заведений')\n",
    "sns.set_style(\"white\")\n",
    "plt.grid()\n",
    "plt.show()"
   ]
  },
  {
   "cell_type": "markdown",
   "metadata": {},
   "source": [
    "Фастфуд по большей части сетевой - 41%. На втором месте и третьем месте: магазины(отдел кулинарии) и рестораны - 29% и 24%, соответсвенно."
   ]
  },
  {
   "cell_type": "markdown",
   "metadata": {},
   "source": [
    "### Анализ сетевых заведений <a id=\"5\"></a>"
   ]
  },
  {
   "cell_type": "code",
   "execution_count": 30,
   "metadata": {},
   "outputs": [
    {
     "data": {
      "text/plain": [
       "count    2931.000000\n",
       "mean       49.646196\n",
       "std        47.319400\n",
       "min         0.000000\n",
       "25%        15.000000\n",
       "50%        40.000000\n",
       "75%        70.000000\n",
       "max       250.000000\n",
       "Name: number, dtype: float64"
      ]
     },
     "execution_count": 30,
     "metadata": {},
     "output_type": "execute_result"
    }
   ],
   "source": [
    "df.query('chain == \"да\"')['number'].describe()"
   ]
  },
  {
   "cell_type": "code",
   "execution_count": 31,
   "metadata": {},
   "outputs": [
    {
     "data": {
      "image/png": "[encoded data removed]",
      "text/plain": [
       "<Figure size 864x864 with 3 Axes>"
      ]
     },
     "metadata": {},
     "output_type": "display_data"
    }
   ],
   "source": [
    "# Переменная с количеством объектов у франшизы и средним количеством посадочных мест в этих объектах\n",
    "fr = df.query('chain == \"да\"').groupby('object_name').agg({'object_type' : 'count', 'number' : 'mean'}).reset_index()\n",
    "ax = sns.jointplot(x='object_type', y='number', data=fr, kind='reg', height=12)\n",
    "ax.set_axis_labels('Количество заведений у франшизы', 'Среднее количество посадочных мест', fontsize=12);"
   ]
  },
  {
   "cell_type": "markdown",
   "metadata": {},
   "source": [
    "Большая доля франшиз имеет до 10 заведений. В среднем у этих заведений около 55 посадочных мест."
   ]
  },
  {
   "cell_type": "markdown",
   "metadata": {},
   "source": [
    "### Среднее количество посадочных мест по типу заведения <a id=\"6\"></a>"
   ]
  },
  {
   "cell_type": "code",
   "execution_count": 32,
   "metadata": {},
   "outputs": [
    {
     "data": {
      "text/html": [
       "<div>\n",
       "<style scoped>\n",
       "    .dataframe tbody tr th:only-of-type {\n",
       "        vertical-align: middle;\n",
       "    }\n",
       "\n",
       "    .dataframe tbody tr th {\n",
       "        vertical-align: top;\n",
       "    }\n",
       "\n",
       "    .dataframe thead th {\n",
       "        text-align: right;\n",
       "    }\n",
       "</style>\n",
       "<table border=\"1\" class=\"dataframe\">\n",
       "  <thead>\n",
       "    <tr style=\"text-align: right;\">\n",
       "      <th></th>\n",
       "      <th>object_type</th>\n",
       "      <th>chain</th>\n",
       "      <th>object_name</th>\n",
       "      <th>number</th>\n",
       "    </tr>\n",
       "  </thead>\n",
       "  <tbody>\n",
       "    <tr>\n",
       "      <th>17</th>\n",
       "      <td>столовая</td>\n",
       "      <td>нет</td>\n",
       "      <td>2417</td>\n",
       "      <td>116.729830</td>\n",
       "    </tr>\n",
       "    <tr>\n",
       "      <th>16</th>\n",
       "      <td>столовая</td>\n",
       "      <td>да</td>\n",
       "      <td>3</td>\n",
       "      <td>112.333333</td>\n",
       "    </tr>\n",
       "    <tr>\n",
       "      <th>14</th>\n",
       "      <td>ресторан</td>\n",
       "      <td>да</td>\n",
       "      <td>521</td>\n",
       "      <td>90.408829</td>\n",
       "    </tr>\n",
       "    <tr>\n",
       "      <th>15</th>\n",
       "      <td>ресторан</td>\n",
       "      <td>нет</td>\n",
       "      <td>1668</td>\n",
       "      <td>80.652878</td>\n",
       "    </tr>\n",
       "    <tr>\n",
       "      <th>0</th>\n",
       "      <td>бар</td>\n",
       "      <td>да</td>\n",
       "      <td>37</td>\n",
       "      <td>53.027027</td>\n",
       "    </tr>\n",
       "  </tbody>\n",
       "</table>\n",
       "</div>"
      ],
      "text/plain": [
       "   object_type chain  object_name      number\n",
       "17    столовая   нет         2417  116.729830\n",
       "16    столовая    да            3  112.333333\n",
       "14    ресторан    да          521   90.408829\n",
       "15    ресторан   нет         1668   80.652878\n",
       "0          бар    да           37   53.027027"
      ]
     },
     "execution_count": 32,
     "metadata": {},
     "output_type": "execute_result"
    }
   ],
   "source": [
    "ob_type_fr = (df.groupby(['object_type', 'chain'], as_index=False)\n",
    "           .agg({'object_name' : 'count', 'number' : 'mean'})\n",
    "           .sort_values(by='number', ascending=False))\n",
    "ob_type_fr.head()"
   ]
  },
  {
   "cell_type": "code",
   "execution_count": 33,
   "metadata": {},
   "outputs": [
    {
     "data": {
      "image/png": "[encoded data removed]",
      "text/plain": [
       "<Figure size 864x720 with 1 Axes>"
      ]
     },
     "metadata": {},
     "output_type": "display_data"
    }
   ],
   "source": [
    "ax = sns.barplot(y='object_type', x='number', hue='chain', data=ob_type_fr)\n",
    "plt.xticks(rotation=-90)\n",
    "plt.title('Среднее количество посадочных мест по типу заведения')\n",
    "ax.set(xlabel='Среднее количество посадочных мест', ylabel='Типы сетевых заведений')\n",
    "sns.set_style(\"white\")\n",
    "plt.grid()\n",
    "plt.show()"
   ]
  },
  {
   "cell_type": "markdown",
   "metadata": {},
   "source": [
    "С большим отрывом на первом месте столовые, у них практически 116 посадочных мест в среднем.\n",
    "\n",
    "Если сравнить сетевые заведениями с несетевыми, то за исключением столовых и буфетов, посадочных мест в среднем больше у сетевых. Фастфуд самый яркий пример: 10 мест у несетевых и почти сорок у сетевых"
   ]
  },
  {
   "cell_type": "markdown",
   "metadata": {},
   "source": [
    "### Столбец с улицами"
   ]
  },
  {
   "cell_type": "code",
   "execution_count": 34,
   "metadata": {},
   "outputs": [
    {
     "data": {
      "text/plain": [
       "город Москва, Ходынский бульвар, дом 4                          95\n",
       "город Москва, Пресненская набережная, дом 2                     62\n",
       "город Москва, проспект Мира, дом 211, корпус 2                  60\n",
       "город Москва, Кировоградская улица, дом 13А                     52\n",
       "город Москва, улица Земляной Вал, дом 33                        46\n",
       "                                                                ..\n",
       "город Москва, Летниковская улица, дом 2, строение 2              1\n",
       "город Москва, Большая Переяславская улица, дом 1, строение 1     1\n",
       "город Москва, улица Героев Панфиловцев, дом 13, корпус 1         1\n",
       "город Москва, Планетная улица, дом 23                            1\n",
       "город Москва, Строгинский бульвар, дом 1, корпус 2               1\n",
       "Name: address, Length: 8903, dtype: int64"
      ]
     },
     "execution_count": 34,
     "metadata": {},
     "output_type": "execute_result"
    }
   ],
   "source": [
    "df['address'].value_counts()"
   ]
  },
  {
   "cell_type": "code",
   "execution_count": 35,
   "metadata": {},
   "outputs": [
    {
     "data": {
      "text/html": [
       "<div>\n",
       "<style scoped>\n",
       "    .dataframe tbody tr th:only-of-type {\n",
       "        vertical-align: middle;\n",
       "    }\n",
       "\n",
       "    .dataframe tbody tr th {\n",
       "        vertical-align: top;\n",
       "    }\n",
       "\n",
       "    .dataframe thead th {\n",
       "        text-align: right;\n",
       "    }\n",
       "</style>\n",
       "<table border=\"1\" class=\"dataframe\">\n",
       "  <thead>\n",
       "    <tr style=\"text-align: right;\">\n",
       "      <th></th>\n",
       "      <th>id</th>\n",
       "      <th>object_name</th>\n",
       "      <th>chain</th>\n",
       "      <th>object_type</th>\n",
       "      <th>address</th>\n",
       "      <th>number</th>\n",
       "    </tr>\n",
       "  </thead>\n",
       "  <tbody>\n",
       "    <tr>\n",
       "      <th>1386</th>\n",
       "      <td>22331</td>\n",
       "      <td>столовая миэт</td>\n",
       "      <td>нет</td>\n",
       "      <td>столовая</td>\n",
       "      <td>город Москва, город Зеленоград, улица Юности, дом 11</td>\n",
       "      <td>56</td>\n",
       "    </tr>\n",
       "    <tr>\n",
       "      <th>1405</th>\n",
       "      <td>20199</td>\n",
       "      <td>это</td>\n",
       "      <td>нет</td>\n",
       "      <td>кафе</td>\n",
       "      <td>город Москва, город Зеленоград, корпус 401</td>\n",
       "      <td>35</td>\n",
       "    </tr>\n",
       "    <tr>\n",
       "      <th>1406</th>\n",
       "      <td>68113</td>\n",
       "      <td>френдс</td>\n",
       "      <td>нет</td>\n",
       "      <td>кафе</td>\n",
       "      <td>город Москва, город Зеленоград, корпус 435</td>\n",
       "      <td>34</td>\n",
       "    </tr>\n",
       "    <tr>\n",
       "      <th>1407</th>\n",
       "      <td>20105</td>\n",
       "      <td>кафе «граф монте-кристо»</td>\n",
       "      <td>нет</td>\n",
       "      <td>кафе</td>\n",
       "      <td>город Москва, город Зеленоград, корпус 436</td>\n",
       "      <td>40</td>\n",
       "    </tr>\n",
       "    <tr>\n",
       "      <th>1408</th>\n",
       "      <td>22982</td>\n",
       "      <td>альфорно</td>\n",
       "      <td>нет</td>\n",
       "      <td>кафе</td>\n",
       "      <td>город Москва, город Зеленоград, корпус 438</td>\n",
       "      <td>49</td>\n",
       "    </tr>\n",
       "  </tbody>\n",
       "</table>\n",
       "</div>"
      ],
      "text/plain": [
       "         id               object_name chain object_type  \\\n",
       "1386  22331             столовая миэт   нет    столовая   \n",
       "1405  20199                       это   нет        кафе   \n",
       "1406  68113                    френдс   нет        кафе   \n",
       "1407  20105  кафе «граф монте-кристо»   нет        кафе   \n",
       "1408  22982                  альфорно   нет        кафе   \n",
       "\n",
       "                                                   address  number  \n",
       "1386  город Москва, город Зеленоград, улица Юности, дом 11      56  \n",
       "1405            город Москва, город Зеленоград, корпус 401      35  \n",
       "1406            город Москва, город Зеленоград, корпус 435      34  \n",
       "1407            город Москва, город Зеленоград, корпус 436      40  \n",
       "1408            город Москва, город Зеленоград, корпус 438      49  "
      ]
     },
     "execution_count": 35,
     "metadata": {},
     "output_type": "execute_result"
    }
   ],
   "source": [
    "df.query('address.str.contains(\"Зеленоград\")').head()"
   ]
  },
  {
   "cell_type": "code",
   "execution_count": 36,
   "metadata": {
    "scrolled": false
   },
   "outputs": [
    {
     "name": "stdout",
     "output_type": "stream",
     "text": [
      "проспект Мира             201\n",
      "Профсоюзная улица         181\n",
      "Ленинградский проспект    168\n",
      "Пресненская набережная    164\n",
      "Варшавское шоссе          155\n",
      "Name: street, dtype: int64\n"
     ]
    },
    {
     "data": {
      "text/html": [
       "<div>\n",
       "<style scoped>\n",
       "    .dataframe tbody tr th:only-of-type {\n",
       "        vertical-align: middle;\n",
       "    }\n",
       "\n",
       "    .dataframe tbody tr th {\n",
       "        vertical-align: top;\n",
       "    }\n",
       "\n",
       "    .dataframe thead th {\n",
       "        text-align: right;\n",
       "    }\n",
       "</style>\n",
       "<table border=\"1\" class=\"dataframe\">\n",
       "  <thead>\n",
       "    <tr style=\"text-align: right;\">\n",
       "      <th></th>\n",
       "      <th>id</th>\n",
       "      <th>object_name</th>\n",
       "      <th>chain</th>\n",
       "      <th>object_type</th>\n",
       "      <th>address</th>\n",
       "      <th>number</th>\n",
       "      <th>street</th>\n",
       "    </tr>\n",
       "  </thead>\n",
       "  <tbody>\n",
       "    <tr>\n",
       "      <th>0</th>\n",
       "      <td>151635</td>\n",
       "      <td>сметана</td>\n",
       "      <td>нет</td>\n",
       "      <td>кафе</td>\n",
       "      <td>город Москва, улица Егора Абакумова, дом 9</td>\n",
       "      <td>48</td>\n",
       "      <td>улица Егора Абакумова</td>\n",
       "    </tr>\n",
       "    <tr>\n",
       "      <th>1</th>\n",
       "      <td>77874</td>\n",
       "      <td>родник</td>\n",
       "      <td>нет</td>\n",
       "      <td>кафе</td>\n",
       "      <td>город Москва, улица Талалихина, дом 2/1, корпус 1</td>\n",
       "      <td>35</td>\n",
       "      <td>улица Талалихина</td>\n",
       "    </tr>\n",
       "    <tr>\n",
       "      <th>2</th>\n",
       "      <td>24309</td>\n",
       "      <td>кафе «академия»</td>\n",
       "      <td>нет</td>\n",
       "      <td>кафе</td>\n",
       "      <td>город Москва, Абельмановская улица, дом 6</td>\n",
       "      <td>95</td>\n",
       "      <td>Абельмановская улица</td>\n",
       "    </tr>\n",
       "    <tr>\n",
       "      <th>3</th>\n",
       "      <td>21894</td>\n",
       "      <td>пиццетория</td>\n",
       "      <td>да</td>\n",
       "      <td>кафе</td>\n",
       "      <td>город Москва, Абрамцевская улица, дом 1</td>\n",
       "      <td>40</td>\n",
       "      <td>Абрамцевская улица</td>\n",
       "    </tr>\n",
       "    <tr>\n",
       "      <th>4</th>\n",
       "      <td>119365</td>\n",
       "      <td>кафе «вишневая метель»</td>\n",
       "      <td>нет</td>\n",
       "      <td>кафе</td>\n",
       "      <td>город Москва, Абрамцевская улица, дом 9, корпус 1</td>\n",
       "      <td>50</td>\n",
       "      <td>Абрамцевская улица</td>\n",
       "    </tr>\n",
       "  </tbody>\n",
       "</table>\n",
       "</div>"
      ],
      "text/plain": [
       "       id             object_name chain object_type  \\\n",
       "0  151635                 сметана   нет        кафе   \n",
       "1   77874                  родник   нет        кафе   \n",
       "2   24309         кафе «академия»   нет        кафе   \n",
       "3   21894              пиццетория    да        кафе   \n",
       "4  119365  кафе «вишневая метель»   нет        кафе   \n",
       "\n",
       "                                             address  number  \\\n",
       "0         город Москва, улица Егора Абакумова, дом 9      48   \n",
       "1  город Москва, улица Талалихина, дом 2/1, корпус 1      35   \n",
       "2          город Москва, Абельмановская улица, дом 6      95   \n",
       "3            город Москва, Абрамцевская улица, дом 1      40   \n",
       "4  город Москва, Абрамцевская улица, дом 9, корпус 1      50   \n",
       "\n",
       "                  street  \n",
       "0  улица Егора Абакумова  \n",
       "1       улица Талалихина  \n",
       "2   Абельмановская улица  \n",
       "3     Абрамцевская улица  \n",
       "4     Абрамцевская улица  "
      ]
     },
     "execution_count": 36,
     "metadata": {},
     "output_type": "execute_result"
    }
   ],
   "source": [
    "# Делю по запятой адрес и вывожу только второй столбец с улицами\n",
    "df['street'] = df['address'].str.split(',').str[1].str.strip(' ')\n",
    "# Для поселений и Зеленограда сначала делю по запятой и вывожу второй и третий столбец, затем соединяю в один столбец, чтобы получить запись вида: \"город Зеленоград, улица такая-то\"\n",
    "df['street'] = np.where((df['address'].str.contains('город Зеленоград')) | \n",
    "                              (df['address'].str.contains('поселение')), \n",
    "                              df['address'].str.split(',').str[1:3].str.join(','), df['street'])\n",
    "\n",
    "print(df['street'].value_counts().head())\n",
    "df.head()"
   ]
  },
  {
   "cell_type": "markdown",
   "metadata": {},
   "source": [
    "### Топ-10 улиц по количеству объектов общественного питания <a id=\"7\"></a>"
   ]
  },
  {
   "cell_type": "code",
   "execution_count": 37,
   "metadata": {},
   "outputs": [
    {
     "data": {
      "text/html": [
       "<div>\n",
       "<style scoped>\n",
       "    .dataframe tbody tr th:only-of-type {\n",
       "        vertical-align: middle;\n",
       "    }\n",
       "\n",
       "    .dataframe tbody tr th {\n",
       "        vertical-align: top;\n",
       "    }\n",
       "\n",
       "    .dataframe thead th {\n",
       "        text-align: right;\n",
       "    }\n",
       "</style>\n",
       "<table border=\"1\" class=\"dataframe\">\n",
       "  <thead>\n",
       "    <tr style=\"text-align: right;\">\n",
       "      <th></th>\n",
       "      <th>street</th>\n",
       "      <th>object_name</th>\n",
       "    </tr>\n",
       "  </thead>\n",
       "  <tbody>\n",
       "    <tr>\n",
       "      <th>1657</th>\n",
       "      <td>проспект Мира</td>\n",
       "      <td>201</td>\n",
       "    </tr>\n",
       "    <tr>\n",
       "      <th>1229</th>\n",
       "      <td>Профсоюзная улица</td>\n",
       "      <td>181</td>\n",
       "    </tr>\n",
       "    <tr>\n",
       "      <th>921</th>\n",
       "      <td>Ленинградский проспект</td>\n",
       "      <td>168</td>\n",
       "    </tr>\n",
       "    <tr>\n",
       "      <th>1215</th>\n",
       "      <td>Пресненская набережная</td>\n",
       "      <td>164</td>\n",
       "    </tr>\n",
       "    <tr>\n",
       "      <th>646</th>\n",
       "      <td>Варшавское шоссе</td>\n",
       "      <td>155</td>\n",
       "    </tr>\n",
       "    <tr>\n",
       "      <th>924</th>\n",
       "      <td>Ленинский проспект</td>\n",
       "      <td>144</td>\n",
       "    </tr>\n",
       "    <tr>\n",
       "      <th>1654</th>\n",
       "      <td>проспект Вернадского</td>\n",
       "      <td>126</td>\n",
       "    </tr>\n",
       "    <tr>\n",
       "      <th>912</th>\n",
       "      <td>Кутузовский проспект</td>\n",
       "      <td>111</td>\n",
       "    </tr>\n",
       "    <tr>\n",
       "      <th>838</th>\n",
       "      <td>Каширское шоссе</td>\n",
       "      <td>107</td>\n",
       "    </tr>\n",
       "    <tr>\n",
       "      <th>843</th>\n",
       "      <td>Кировоградская улица</td>\n",
       "      <td>104</td>\n",
       "    </tr>\n",
       "  </tbody>\n",
       "</table>\n",
       "</div>"
      ],
      "text/plain": [
       "                      street  object_name\n",
       "1657           проспект Мира          201\n",
       "1229       Профсоюзная улица          181\n",
       "921   Ленинградский проспект          168\n",
       "1215  Пресненская набережная          164\n",
       "646         Варшавское шоссе          155\n",
       "924       Ленинский проспект          144\n",
       "1654    проспект Вернадского          126\n",
       "912     Кутузовский проспект          111\n",
       "838          Каширское шоссе          107\n",
       "843     Кировоградская улица          104"
      ]
     },
     "execution_count": 37,
     "metadata": {},
     "output_type": "execute_result"
    }
   ],
   "source": [
    "top_10_street = (df.groupby('street', as_index=False).agg({'object_name' : 'count'})\n",
    "                 .sort_values(by='object_name', ascending=False).head(10)\n",
    "                )\n",
    "top_10_street"
   ]
  },
  {
   "cell_type": "code",
   "execution_count": 38,
   "metadata": {
    "scrolled": false
   },
   "outputs": [
    {
     "data": {
      "image/png": "[encoded data removed]",
      "text/plain": [
       "<Figure size 864x720 with 1 Axes>"
      ]
     },
     "metadata": {},
     "output_type": "display_data"
    }
   ],
   "source": [
    "ax = sns.barplot(y='street', x='object_name', data=top_10_street)\n",
    "plt.title('Топ-10 улиц по количеству объектов общественного питания')\n",
    "ax.set(xlabel='Количество заведений', ylabel='Улицы Москвы')\n",
    "sns.set_style(\"white\")\n",
    "plt.grid()\n",
    "plt.show()"
   ]
  },
  {
   "cell_type": "markdown",
   "metadata": {},
   "source": [
    "Топ 3 улиц по количеству заведений:\n",
    "\n",
    "1. Проспект Мира - 200 шт.\n",
    "2. Профсоюзная улица - 180 шт.\n",
    "3. Ленинградский проспект - 170 шт."
   ]
  },
  {
   "cell_type": "markdown",
   "metadata": {},
   "source": [
    "#### Добыча данных по районам Москвы"
   ]
  },
  {
   "cell_type": "code",
   "execution_count": 39,
   "metadata": {},
   "outputs": [],
   "source": [
    "# Предварительно скачанные датасеты улиц и районов залил на гугл документы и получил ссылку, ниже ай ди из ссылок\n",
    "street_id = '1wRKHgs2YcueEk3cqGP_qFxjc9hgfUH-9kHmaXDS3aVk'\n",
    "district_id = '1aAAvW0sZH-Tkpz9ngUNVwaGgqPOMu62Y8mYt3IBx1tU'\n",
    "# путь к файлам на гугл докумет с форматированием\n",
    "street = 'https://docs.google.com/spreadsheets/d/{}/export?format=csv'.format(street_id)\n",
    "district = 'https://docs.google.com/spreadsheets/d/{}/export?format=csv'.format(district_id)\n",
    "# Делаю запрос\n",
    "req_street = requests.get(street)\n",
    "req_dis = requests.get(district)\n",
    "# Считываю файлы улиц и районов\n",
    "df_street = pd.read_csv(BytesIO(req_street.content))\n",
    "df_district = pd.read_csv(BytesIO(req_dis.content))"
   ]
  },
  {
   "cell_type": "code",
   "execution_count": 40,
   "metadata": {},
   "outputs": [
    {
     "name": "stdout",
     "output_type": "stream",
     "text": [
      "<class 'pandas.core.frame.DataFrame'>\n",
      "RangeIndex: 5344 entries, 0 to 5343\n",
      "Data columns (total 17 columns):\n",
      " #   Column       Non-Null Count  Dtype \n",
      "---  ------       --------------  ----- \n",
      " 0   UM_NAMEF     5344 non-null   object\n",
      " 1   UM_NAMES     5344 non-null   object\n",
      " 2   UM_CODE      5344 non-null   object\n",
      " 3   UM_TRANS     5344 non-null   object\n",
      " 4   UM_TYPE      5344 non-null   object\n",
      " 5   UM_TM        1321 non-null   object\n",
      " 6   UM_TE        5344 non-null   object\n",
      " 7   UM_KLADR     5089 non-null   object\n",
      " 8   global_id    5344 non-null   object\n",
      " 9   UM_NAMEF_en  1 non-null      object\n",
      " 10  UM_NAMES_en  1 non-null      object\n",
      " 11  UM_CODE_en   1 non-null      object\n",
      " 12  UM_TRANS_en  1 non-null      object\n",
      " 13  UM_TYPE_en   1 non-null      object\n",
      " 14  UM_TM_en     1 non-null      object\n",
      " 15  UM_TE_en     1 non-null      object\n",
      " 16  UM_KLADR_en  1 non-null      object\n",
      "dtypes: object(17)\n",
      "memory usage: 709.9+ KB\n",
      "<class 'pandas.core.frame.DataFrame'>\n",
      "RangeIndex: 158 entries, 0 to 157\n",
      "Data columns (total 6 columns):\n",
      " #   Column      Non-Null Count  Dtype \n",
      "---  ------      --------------  ----- \n",
      " 0   Kod         158 non-null    int64 \n",
      " 1   Name        158 non-null    object\n",
      " 2   global_id   158 non-null    int64 \n",
      " 3   Latin_name  158 non-null    object\n",
      " 4   Type        158 non-null    int64 \n",
      " 5   Kod_okato   158 non-null    int64 \n",
      "dtypes: int64(4), object(2)\n",
      "memory usage: 7.5+ KB\n"
     ]
    },
    {
     "data": {
      "text/html": [
       "<div>\n",
       "<style scoped>\n",
       "    .dataframe tbody tr th:only-of-type {\n",
       "        vertical-align: middle;\n",
       "    }\n",
       "\n",
       "    .dataframe tbody tr th {\n",
       "        vertical-align: top;\n",
       "    }\n",
       "\n",
       "    .dataframe thead th {\n",
       "        text-align: right;\n",
       "    }\n",
       "</style>\n",
       "<table border=\"1\" class=\"dataframe\">\n",
       "  <thead>\n",
       "    <tr style=\"text-align: right;\">\n",
       "      <th></th>\n",
       "      <th>UM_NAMEF</th>\n",
       "      <th>UM_NAMES</th>\n",
       "      <th>UM_CODE</th>\n",
       "      <th>UM_TRANS</th>\n",
       "      <th>UM_TYPE</th>\n",
       "      <th>UM_TM</th>\n",
       "      <th>UM_TE</th>\n",
       "      <th>UM_KLADR</th>\n",
       "      <th>global_id</th>\n",
       "      <th>UM_NAMEF_en</th>\n",
       "      <th>UM_NAMES_en</th>\n",
       "      <th>UM_CODE_en</th>\n",
       "      <th>UM_TRANS_en</th>\n",
       "      <th>UM_TYPE_en</th>\n",
       "      <th>UM_TM_en</th>\n",
       "      <th>UM_TE_en</th>\n",
       "      <th>UM_KLADR_en</th>\n",
       "    </tr>\n",
       "  </thead>\n",
       "  <tbody>\n",
       "    <tr>\n",
       "      <th>0</th>\n",
       "      <td>Полное наименование</td>\n",
       "      <td>Сокращённое наименование</td>\n",
       "      <td>Код</td>\n",
       "      <td>Транслитерация</td>\n",
       "      <td>Код вида</td>\n",
       "      <td>Код ОМК ТМ</td>\n",
       "      <td>Код ОМК ТЕ</td>\n",
       "      <td>Код КЛАДР</td>\n",
       "      <td>global_id</td>\n",
       "      <td>UM_NAMEF_en</td>\n",
       "      <td>UM_NAMES_en</td>\n",
       "      <td>UM_CODE_en</td>\n",
       "      <td>UM_TRANS_en</td>\n",
       "      <td>UM_TYPE_en</td>\n",
       "      <td>UM_TM_en</td>\n",
       "      <td>UM_TE_en</td>\n",
       "      <td>UM_KLADR_en</td>\n",
       "    </tr>\n",
       "    <tr>\n",
       "      <th>1</th>\n",
       "      <td>1-й Ирининский переулок</td>\n",
       "      <td>1-й Ирининский пер.</td>\n",
       "      <td>008880</td>\n",
       "      <td>Pervy'j Irininskij pereulok</td>\n",
       "      <td>002</td>\n",
       "      <td>NaN</td>\n",
       "      <td>0102</td>\n",
       "      <td>77000000000706300</td>\n",
       "      <td>58481065</td>\n",
       "      <td>NaN</td>\n",
       "      <td>NaN</td>\n",
       "      <td>NaN</td>\n",
       "      <td>NaN</td>\n",
       "      <td>NaN</td>\n",
       "      <td>NaN</td>\n",
       "      <td>NaN</td>\n",
       "      <td>NaN</td>\n",
       "    </tr>\n",
       "    <tr>\n",
       "      <th>2</th>\n",
       "      <td>2-й Ирининский переулок</td>\n",
       "      <td>2-й Ирининский пер.</td>\n",
       "      <td>008890</td>\n",
       "      <td>Vtoroj Irininskij pereulok</td>\n",
       "      <td>002</td>\n",
       "      <td>NaN</td>\n",
       "      <td>0102</td>\n",
       "      <td>77000000000362200</td>\n",
       "      <td>58481066</td>\n",
       "      <td>NaN</td>\n",
       "      <td>NaN</td>\n",
       "      <td>NaN</td>\n",
       "      <td>NaN</td>\n",
       "      <td>NaN</td>\n",
       "      <td>NaN</td>\n",
       "      <td>NaN</td>\n",
       "      <td>NaN</td>\n",
       "    </tr>\n",
       "    <tr>\n",
       "      <th>3</th>\n",
       "      <td>3-й Ирининский переулок</td>\n",
       "      <td>3-й Ирининский пер.</td>\n",
       "      <td>008891</td>\n",
       "      <td>Tretij Irininskij pereulok</td>\n",
       "      <td>002</td>\n",
       "      <td>NaN</td>\n",
       "      <td>0102</td>\n",
       "      <td>77000000000362300</td>\n",
       "      <td>58481067</td>\n",
       "      <td>NaN</td>\n",
       "      <td>NaN</td>\n",
       "      <td>NaN</td>\n",
       "      <td>NaN</td>\n",
       "      <td>NaN</td>\n",
       "      <td>NaN</td>\n",
       "      <td>NaN</td>\n",
       "      <td>NaN</td>\n",
       "    </tr>\n",
       "    <tr>\n",
       "      <th>4</th>\n",
       "      <td>Иркутская улица</td>\n",
       "      <td>Иркутская ул.</td>\n",
       "      <td>008910</td>\n",
       "      <td>Irkutskaya ulicza</td>\n",
       "      <td>001</td>\n",
       "      <td>NaN</td>\n",
       "      <td>0406</td>\n",
       "      <td>77000000000139700</td>\n",
       "      <td>58481068</td>\n",
       "      <td>NaN</td>\n",
       "      <td>NaN</td>\n",
       "      <td>NaN</td>\n",
       "      <td>NaN</td>\n",
       "      <td>NaN</td>\n",
       "      <td>NaN</td>\n",
       "      <td>NaN</td>\n",
       "      <td>NaN</td>\n",
       "    </tr>\n",
       "  </tbody>\n",
       "</table>\n",
       "</div>"
      ],
      "text/plain": [
       "                  UM_NAMEF                  UM_NAMES UM_CODE  \\\n",
       "0      Полное наименование  Сокращённое наименование     Код   \n",
       "1  1-й Ирининский переулок       1-й Ирининский пер.  008880   \n",
       "2  2-й Ирининский переулок       2-й Ирининский пер.  008890   \n",
       "3  3-й Ирининский переулок       3-й Ирининский пер.  008891   \n",
       "4          Иркутская улица             Иркутская ул.  008910   \n",
       "\n",
       "                      UM_TRANS   UM_TYPE       UM_TM       UM_TE  \\\n",
       "0               Транслитерация  Код вида  Код ОМК ТМ  Код ОМК ТЕ   \n",
       "1  Pervy'j Irininskij pereulok       002         NaN        0102   \n",
       "2   Vtoroj Irininskij pereulok       002         NaN        0102   \n",
       "3   Tretij Irininskij pereulok       002         NaN        0102   \n",
       "4            Irkutskaya ulicza       001         NaN        0406   \n",
       "\n",
       "            UM_KLADR  global_id  UM_NAMEF_en  UM_NAMES_en  UM_CODE_en  \\\n",
       "0          Код КЛАДР  global_id  UM_NAMEF_en  UM_NAMES_en  UM_CODE_en   \n",
       "1  77000000000706300   58481065          NaN          NaN         NaN   \n",
       "2  77000000000362200   58481066          NaN          NaN         NaN   \n",
       "3  77000000000362300   58481067          NaN          NaN         NaN   \n",
       "4  77000000000139700   58481068          NaN          NaN         NaN   \n",
       "\n",
       "   UM_TRANS_en  UM_TYPE_en  UM_TM_en  UM_TE_en  UM_KLADR_en  \n",
       "0  UM_TRANS_en  UM_TYPE_en  UM_TM_en  UM_TE_en  UM_KLADR_en  \n",
       "1          NaN         NaN       NaN       NaN          NaN  \n",
       "2          NaN         NaN       NaN       NaN          NaN  \n",
       "3          NaN         NaN       NaN       NaN          NaN  \n",
       "4          NaN         NaN       NaN       NaN          NaN  "
      ]
     },
     "metadata": {},
     "output_type": "display_data"
    },
    {
     "data": {
      "text/html": [
       "<div>\n",
       "<style scoped>\n",
       "    .dataframe tbody tr th:only-of-type {\n",
       "        vertical-align: middle;\n",
       "    }\n",
       "\n",
       "    .dataframe tbody tr th {\n",
       "        vertical-align: top;\n",
       "    }\n",
       "\n",
       "    .dataframe thead th {\n",
       "        text-align: right;\n",
       "    }\n",
       "</style>\n",
       "<table border=\"1\" class=\"dataframe\">\n",
       "  <thead>\n",
       "    <tr style=\"text-align: right;\">\n",
       "      <th></th>\n",
       "      <th>Kod</th>\n",
       "      <th>Name</th>\n",
       "      <th>global_id</th>\n",
       "      <th>Latin_name</th>\n",
       "      <th>Type</th>\n",
       "      <th>Kod_okato</th>\n",
       "    </tr>\n",
       "  </thead>\n",
       "  <tbody>\n",
       "    <tr>\n",
       "      <th>0</th>\n",
       "      <td>100</td>\n",
       "      <td>Центральный административный округ</td>\n",
       "      <td>58703558</td>\n",
       "      <td>Czentral`ny'j administrativny'j okrug</td>\n",
       "      <td>2</td>\n",
       "      <td>45286000</td>\n",
       "    </tr>\n",
       "    <tr>\n",
       "      <th>1</th>\n",
       "      <td>101</td>\n",
       "      <td>район Арбат</td>\n",
       "      <td>58703559</td>\n",
       "      <td>rajon Arbat</td>\n",
       "      <td>3</td>\n",
       "      <td>45286552</td>\n",
       "    </tr>\n",
       "    <tr>\n",
       "      <th>2</th>\n",
       "      <td>102</td>\n",
       "      <td>Басманный район</td>\n",
       "      <td>58703560</td>\n",
       "      <td>Basmanny'j rajon</td>\n",
       "      <td>3</td>\n",
       "      <td>45286555</td>\n",
       "    </tr>\n",
       "    <tr>\n",
       "      <th>3</th>\n",
       "      <td>103</td>\n",
       "      <td>район Замоскворечье</td>\n",
       "      <td>58703561</td>\n",
       "      <td>rajon Zamoskvorech`e</td>\n",
       "      <td>3</td>\n",
       "      <td>45286560</td>\n",
       "    </tr>\n",
       "    <tr>\n",
       "      <th>4</th>\n",
       "      <td>104</td>\n",
       "      <td>Красносельский район</td>\n",
       "      <td>58703562</td>\n",
       "      <td>Krasnosel`skij rajon</td>\n",
       "      <td>3</td>\n",
       "      <td>45286565</td>\n",
       "    </tr>\n",
       "  </tbody>\n",
       "</table>\n",
       "</div>"
      ],
      "text/plain": [
       "   Kod                                Name  global_id  \\\n",
       "0  100  Центральный административный округ   58703558   \n",
       "1  101                         район Арбат   58703559   \n",
       "2  102                     Басманный район   58703560   \n",
       "3  103                 район Замоскворечье   58703561   \n",
       "4  104                Красносельский район   58703562   \n",
       "\n",
       "                              Latin_name  Type  Kod_okato  \n",
       "0  Czentral`ny'j administrativny'j okrug     2   45286000  \n",
       "1                            rajon Arbat     3   45286552  \n",
       "2                       Basmanny'j rajon     3   45286555  \n",
       "3                   rajon Zamoskvorech`e     3   45286560  \n",
       "4                   Krasnosel`skij rajon     3   45286565  "
      ]
     },
     "execution_count": 40,
     "metadata": {},
     "output_type": "execute_result"
    }
   ],
   "source": [
    "# Чтение файлов и поверхностынй анализ типов данных\n",
    "df_street.info()\n",
    "df_district.info()\n",
    "display(df_street.head())\n",
    "df_district.head()"
   ]
  },
  {
   "cell_type": "code",
   "execution_count": 41,
   "metadata": {},
   "outputs": [
    {
     "data": {
      "text/html": [
       "<div>\n",
       "<style scoped>\n",
       "    .dataframe tbody tr th:only-of-type {\n",
       "        vertical-align: middle;\n",
       "    }\n",
       "\n",
       "    .dataframe tbody tr th {\n",
       "        vertical-align: top;\n",
       "    }\n",
       "\n",
       "    .dataframe thead th {\n",
       "        text-align: right;\n",
       "    }\n",
       "</style>\n",
       "<table border=\"1\" class=\"dataframe\">\n",
       "  <thead>\n",
       "    <tr style=\"text-align: right;\">\n",
       "      <th></th>\n",
       "      <th>UM_NAMEF</th>\n",
       "      <th>UM_TE</th>\n",
       "    </tr>\n",
       "  </thead>\n",
       "  <tbody>\n",
       "    <tr>\n",
       "      <th>1</th>\n",
       "      <td>1-й Ирининский переулок</td>\n",
       "      <td>0102</td>\n",
       "    </tr>\n",
       "    <tr>\n",
       "      <th>2</th>\n",
       "      <td>2-й Ирининский переулок</td>\n",
       "      <td>0102</td>\n",
       "    </tr>\n",
       "    <tr>\n",
       "      <th>3</th>\n",
       "      <td>3-й Ирининский переулок</td>\n",
       "      <td>0102</td>\n",
       "    </tr>\n",
       "    <tr>\n",
       "      <th>4</th>\n",
       "      <td>Иркутская улица</td>\n",
       "      <td>0406</td>\n",
       "    </tr>\n",
       "    <tr>\n",
       "      <th>5</th>\n",
       "      <td>1-й Иртышский проезд</td>\n",
       "      <td>0406</td>\n",
       "    </tr>\n",
       "  </tbody>\n",
       "</table>\n",
       "</div>"
      ],
      "text/plain": [
       "                  UM_NAMEF UM_TE\n",
       "1  1-й Ирининский переулок  0102\n",
       "2  2-й Ирининский переулок  0102\n",
       "3  3-й Ирининский переулок  0102\n",
       "4          Иркутская улица  0406\n",
       "5     1-й Иртышский проезд  0406"
      ]
     },
     "execution_count": 41,
     "metadata": {},
     "output_type": "execute_result"
    }
   ],
   "source": [
    "# Удалюя дубликат первой строки и оставляю необходимые столбцы\n",
    "df_street = df_street.iloc[1:]\n",
    "df_street = df_street[['UM_NAMEF', 'UM_TE']]\n",
    "df_street.head()"
   ]
  },
  {
   "cell_type": "code",
   "execution_count": 42,
   "metadata": {
    "scrolled": true
   },
   "outputs": [
    {
     "data": {
      "text/html": [
       "<div>\n",
       "<style scoped>\n",
       "    .dataframe tbody tr th:only-of-type {\n",
       "        vertical-align: middle;\n",
       "    }\n",
       "\n",
       "    .dataframe tbody tr th {\n",
       "        vertical-align: top;\n",
       "    }\n",
       "\n",
       "    .dataframe thead th {\n",
       "        text-align: right;\n",
       "    }\n",
       "</style>\n",
       "<table border=\"1\" class=\"dataframe\">\n",
       "  <thead>\n",
       "    <tr style=\"text-align: right;\">\n",
       "      <th></th>\n",
       "      <th>UM_NAMEF</th>\n",
       "      <th>UM_TE</th>\n",
       "    </tr>\n",
       "  </thead>\n",
       "  <tbody>\n",
       "    <tr>\n",
       "      <th>444</th>\n",
       "      <td>Ленинградский проспект</td>\n",
       "      <td>0201;0202;0214;0217</td>\n",
       "    </tr>\n",
       "  </tbody>\n",
       "</table>\n",
       "</div>"
      ],
      "text/plain": [
       "                   UM_NAMEF                UM_TE\n",
       "444  Ленинградский проспект  0201;0202;0214;0217"
      ]
     },
     "execution_count": 42,
     "metadata": {},
     "output_type": "execute_result"
    }
   ],
   "source": [
    "# Есть несколько идентификаторов районов для одной улицы\n",
    "df_street.query('UM_NAMEF == \"Ленинградский проспект\"').head()"
   ]
  },
  {
   "cell_type": "code",
   "execution_count": 43,
   "metadata": {},
   "outputs": [
    {
     "data": {
      "text/html": [
       "<div>\n",
       "<style scoped>\n",
       "    .dataframe tbody tr th:only-of-type {\n",
       "        vertical-align: middle;\n",
       "    }\n",
       "\n",
       "    .dataframe tbody tr th {\n",
       "        vertical-align: top;\n",
       "    }\n",
       "\n",
       "    .dataframe thead th {\n",
       "        text-align: right;\n",
       "    }\n",
       "</style>\n",
       "<table border=\"1\" class=\"dataframe\">\n",
       "  <thead>\n",
       "    <tr style=\"text-align: right;\">\n",
       "      <th></th>\n",
       "      <th>UM_NAMEF</th>\n",
       "      <th>UM_TE</th>\n",
       "    </tr>\n",
       "  </thead>\n",
       "  <tbody>\n",
       "    <tr>\n",
       "      <th>444</th>\n",
       "      <td>Ленинградский проспект</td>\n",
       "      <td>0201</td>\n",
       "    </tr>\n",
       "    <tr>\n",
       "      <th>444</th>\n",
       "      <td>Ленинградский проспект</td>\n",
       "      <td>0202</td>\n",
       "    </tr>\n",
       "    <tr>\n",
       "      <th>444</th>\n",
       "      <td>Ленинградский проспект</td>\n",
       "      <td>0214</td>\n",
       "    </tr>\n",
       "    <tr>\n",
       "      <th>444</th>\n",
       "      <td>Ленинградский проспект</td>\n",
       "      <td>0217</td>\n",
       "    </tr>\n",
       "  </tbody>\n",
       "</table>\n",
       "</div>"
      ],
      "text/plain": [
       "                   UM_NAMEF UM_TE\n",
       "444  Ленинградский проспект  0201\n",
       "444  Ленинградский проспект  0202\n",
       "444  Ленинградский проспект  0214\n",
       "444  Ленинградский проспект  0217"
      ]
     },
     "execution_count": 43,
     "metadata": {},
     "output_type": "execute_result"
    }
   ],
   "source": [
    "# Разбиваю строки с несколькими идентификаторами на отдельные строки\n",
    "df_street = df_street.assign(UM_TE=df_street['UM_TE'].str.split(';')).explode('UM_TE')\n",
    "df_street.query('UM_NAMEF == \"Ленинградский проспект\"').head()"
   ]
  },
  {
   "cell_type": "code",
   "execution_count": 44,
   "metadata": {},
   "outputs": [
    {
     "data": {
      "text/plain": [
       "1207    216\n",
       "108     178\n",
       "107     173\n",
       "1206    167\n",
       "102     153\n",
       "Name: UM_TE, dtype: int64"
      ]
     },
     "execution_count": 44,
     "metadata": {},
     "output_type": "execute_result"
    }
   ],
   "source": [
    "# Удаляю ноль слева, чтобы правильно соединить таблицу улиц с районами\n",
    "df_street['UM_TE'] = df_street['UM_TE'].str.lstrip('0')\n",
    "df_street['UM_TE'].value_counts().head()"
   ]
  },
  {
   "cell_type": "code",
   "execution_count": 45,
   "metadata": {},
   "outputs": [],
   "source": [
    "# Привожу к одному типу данные столбцов, то етсь тут в строку, так акк там тоже строка в улицах\n",
    "df_district['Kod'] = df_district['Kod'].astype('str')\n",
    "# Соединяю и удаляю лишний столбец\n",
    "df_street = df_street.merge(df_district[['Name', 'Kod']], how = 'left',\n",
    "                left_on = 'UM_TE', right_on = 'Kod').drop(columns = ['Kod'])"
   ]
  },
  {
   "cell_type": "code",
   "execution_count": 46,
   "metadata": {},
   "outputs": [
    {
     "name": "stdout",
     "output_type": "stream",
     "text": [
      "<class 'pandas.core.frame.DataFrame'>\n",
      "Int64Index: 6025 entries, 0 to 6024\n",
      "Data columns (total 3 columns):\n",
      " #   Column    Non-Null Count  Dtype \n",
      "---  ------    --------------  ----- \n",
      " 0   UM_NAMEF  6025 non-null   object\n",
      " 1   UM_TE     6025 non-null   object\n",
      " 2   Name      6022 non-null   object\n",
      "dtypes: object(3)\n",
      "memory usage: 188.3+ KB\n"
     ]
    }
   ],
   "source": [
    "df_street.info()"
   ]
  },
  {
   "cell_type": "code",
   "execution_count": 47,
   "metadata": {
    "scrolled": true
   },
   "outputs": [
    {
     "data": {
      "text/html": [
       "<div>\n",
       "<style scoped>\n",
       "    .dataframe tbody tr th:only-of-type {\n",
       "        vertical-align: middle;\n",
       "    }\n",
       "\n",
       "    .dataframe tbody tr th {\n",
       "        vertical-align: top;\n",
       "    }\n",
       "\n",
       "    .dataframe thead th {\n",
       "        text-align: right;\n",
       "    }\n",
       "</style>\n",
       "<table border=\"1\" class=\"dataframe\">\n",
       "  <thead>\n",
       "    <tr style=\"text-align: right;\">\n",
       "      <th></th>\n",
       "      <th>UM_NAMEF</th>\n",
       "      <th>UM_TE</th>\n",
       "      <th>Name</th>\n",
       "    </tr>\n",
       "  </thead>\n",
       "  <tbody>\n",
       "    <tr>\n",
       "      <th>3830</th>\n",
       "      <td>Остафьевское шоссе</td>\n",
       "      <td>1102</td>\n",
       "      <td>NaN</td>\n",
       "    </tr>\n",
       "    <tr>\n",
       "      <th>3831</th>\n",
       "      <td>Остафьевское шоссе</td>\n",
       "      <td>1108</td>\n",
       "      <td>NaN</td>\n",
       "    </tr>\n",
       "    <tr>\n",
       "      <th>6006</th>\n",
       "      <td>улица Лётчика Осканова</td>\n",
       "      <td>0209</td>\n",
       "      <td>NaN</td>\n",
       "    </tr>\n",
       "  </tbody>\n",
       "</table>\n",
       "</div>"
      ],
      "text/plain": [
       "                    UM_NAMEF  UM_TE Name\n",
       "3830      Остафьевское шоссе   1102  NaN\n",
       "3831      Остафьевское шоссе   1108  NaN\n",
       "6006  улица Лётчика Осканова   0209  NaN"
      ]
     },
     "execution_count": 47,
     "metadata": {},
     "output_type": "execute_result"
    }
   ],
   "source": [
    "df_street.query('Name.isna()').head()"
   ]
  },
  {
   "cell_type": "markdown",
   "metadata": {},
   "source": [
    " По двум улицам данных по району нет. Это не влияет на исследование."
   ]
  },
  {
   "cell_type": "code",
   "execution_count": 48,
   "metadata": {},
   "outputs": [],
   "source": [
    "top_10_street = top_10_street.merge(df_street[['Name', 'UM_NAMEF']], how='left',\n",
    "                                   left_on = 'street', right_on = 'UM_NAMEF').drop(columns = ['UM_NAMEF'])"
   ]
  },
  {
   "cell_type": "code",
   "execution_count": 49,
   "metadata": {
    "scrolled": true
   },
   "outputs": [
    {
     "data": {
      "text/html": [
       "<div>\n",
       "<style scoped>\n",
       "    .dataframe tbody tr th:only-of-type {\n",
       "        vertical-align: middle;\n",
       "    }\n",
       "\n",
       "    .dataframe tbody tr th {\n",
       "        vertical-align: top;\n",
       "    }\n",
       "\n",
       "    .dataframe thead th {\n",
       "        text-align: right;\n",
       "    }\n",
       "</style>\n",
       "<table border=\"1\" class=\"dataframe\">\n",
       "  <thead>\n",
       "    <tr style=\"text-align: right;\">\n",
       "      <th></th>\n",
       "      <th>street</th>\n",
       "      <th>object_name</th>\n",
       "      <th>Name</th>\n",
       "    </tr>\n",
       "  </thead>\n",
       "  <tbody>\n",
       "    <tr>\n",
       "      <th>0</th>\n",
       "      <td>проспект Мира</td>\n",
       "      <td>201</td>\n",
       "      <td>Мещанский район</td>\n",
       "    </tr>\n",
       "    <tr>\n",
       "      <th>1</th>\n",
       "      <td>проспект Мира</td>\n",
       "      <td>201</td>\n",
       "      <td>Алексеевский район</td>\n",
       "    </tr>\n",
       "    <tr>\n",
       "      <th>2</th>\n",
       "      <td>проспект Мира</td>\n",
       "      <td>201</td>\n",
       "      <td>район Марьина Роща</td>\n",
       "    </tr>\n",
       "    <tr>\n",
       "      <th>3</th>\n",
       "      <td>проспект Мира</td>\n",
       "      <td>201</td>\n",
       "      <td>Останкинский район</td>\n",
       "    </tr>\n",
       "    <tr>\n",
       "      <th>4</th>\n",
       "      <td>проспект Мира</td>\n",
       "      <td>201</td>\n",
       "      <td>район Ростокино</td>\n",
       "    </tr>\n",
       "    <tr>\n",
       "      <th>5</th>\n",
       "      <td>проспект Мира</td>\n",
       "      <td>201</td>\n",
       "      <td>район Свиблово</td>\n",
       "    </tr>\n",
       "    <tr>\n",
       "      <th>6</th>\n",
       "      <td>проспект Мира</td>\n",
       "      <td>201</td>\n",
       "      <td>Ярославский район</td>\n",
       "    </tr>\n",
       "    <tr>\n",
       "      <th>7</th>\n",
       "      <td>Профсоюзная улица</td>\n",
       "      <td>181</td>\n",
       "      <td>Академический район</td>\n",
       "    </tr>\n",
       "    <tr>\n",
       "      <th>8</th>\n",
       "      <td>Профсоюзная улица</td>\n",
       "      <td>181</td>\n",
       "      <td>район Коньково</td>\n",
       "    </tr>\n",
       "    <tr>\n",
       "      <th>9</th>\n",
       "      <td>Профсоюзная улица</td>\n",
       "      <td>181</td>\n",
       "      <td>Обручевский район</td>\n",
       "    </tr>\n",
       "    <tr>\n",
       "      <th>10</th>\n",
       "      <td>Профсоюзная улица</td>\n",
       "      <td>181</td>\n",
       "      <td>район Тёплый Стан</td>\n",
       "    </tr>\n",
       "    <tr>\n",
       "      <th>11</th>\n",
       "      <td>Профсоюзная улица</td>\n",
       "      <td>181</td>\n",
       "      <td>район Черёмушки</td>\n",
       "    </tr>\n",
       "    <tr>\n",
       "      <th>12</th>\n",
       "      <td>Профсоюзная улица</td>\n",
       "      <td>181</td>\n",
       "      <td>район Ясенево</td>\n",
       "    </tr>\n",
       "    <tr>\n",
       "      <th>13</th>\n",
       "      <td>Ленинградский проспект</td>\n",
       "      <td>168</td>\n",
       "      <td>район Аэропорт</td>\n",
       "    </tr>\n",
       "    <tr>\n",
       "      <th>14</th>\n",
       "      <td>Ленинградский проспект</td>\n",
       "      <td>168</td>\n",
       "      <td>район Беговой</td>\n",
       "    </tr>\n",
       "    <tr>\n",
       "      <th>15</th>\n",
       "      <td>Ленинградский проспект</td>\n",
       "      <td>168</td>\n",
       "      <td>район Сокол</td>\n",
       "    </tr>\n",
       "    <tr>\n",
       "      <th>16</th>\n",
       "      <td>Ленинградский проспект</td>\n",
       "      <td>168</td>\n",
       "      <td>Хорошёвский район</td>\n",
       "    </tr>\n",
       "    <tr>\n",
       "      <th>17</th>\n",
       "      <td>Пресненская набережная</td>\n",
       "      <td>164</td>\n",
       "      <td>Пресненский район</td>\n",
       "    </tr>\n",
       "    <tr>\n",
       "      <th>18</th>\n",
       "      <td>Варшавское шоссе</td>\n",
       "      <td>155</td>\n",
       "      <td>Донской район</td>\n",
       "    </tr>\n",
       "    <tr>\n",
       "      <th>19</th>\n",
       "      <td>Варшавское шоссе</td>\n",
       "      <td>155</td>\n",
       "      <td>район Нагатино-Садовники</td>\n",
       "    </tr>\n",
       "    <tr>\n",
       "      <th>20</th>\n",
       "      <td>Варшавское шоссе</td>\n",
       "      <td>155</td>\n",
       "      <td>Нагорный район</td>\n",
       "    </tr>\n",
       "    <tr>\n",
       "      <th>21</th>\n",
       "      <td>Варшавское шоссе</td>\n",
       "      <td>155</td>\n",
       "      <td>район Чертаново Северное</td>\n",
       "    </tr>\n",
       "    <tr>\n",
       "      <th>22</th>\n",
       "      <td>Варшавское шоссе</td>\n",
       "      <td>155</td>\n",
       "      <td>район Чертаново Центральное</td>\n",
       "    </tr>\n",
       "    <tr>\n",
       "      <th>23</th>\n",
       "      <td>Варшавское шоссе</td>\n",
       "      <td>155</td>\n",
       "      <td>район Чертаново Южное</td>\n",
       "    </tr>\n",
       "    <tr>\n",
       "      <th>24</th>\n",
       "      <td>Варшавское шоссе</td>\n",
       "      <td>155</td>\n",
       "      <td>район Северное Бутово</td>\n",
       "    </tr>\n",
       "    <tr>\n",
       "      <th>25</th>\n",
       "      <td>Варшавское шоссе</td>\n",
       "      <td>155</td>\n",
       "      <td>район Южное Бутово</td>\n",
       "    </tr>\n",
       "    <tr>\n",
       "      <th>26</th>\n",
       "      <td>Варшавское шоссе</td>\n",
       "      <td>155</td>\n",
       "      <td>поселение Щербинка</td>\n",
       "    </tr>\n",
       "    <tr>\n",
       "      <th>27</th>\n",
       "      <td>Ленинский проспект</td>\n",
       "      <td>144</td>\n",
       "      <td>район Якиманка</td>\n",
       "    </tr>\n",
       "    <tr>\n",
       "      <th>28</th>\n",
       "      <td>Ленинский проспект</td>\n",
       "      <td>144</td>\n",
       "      <td>Донской район</td>\n",
       "    </tr>\n",
       "    <tr>\n",
       "      <th>29</th>\n",
       "      <td>Ленинский проспект</td>\n",
       "      <td>144</td>\n",
       "      <td>Гагаринский район</td>\n",
       "    </tr>\n",
       "    <tr>\n",
       "      <th>30</th>\n",
       "      <td>Ленинский проспект</td>\n",
       "      <td>144</td>\n",
       "      <td>Ломоносовский район</td>\n",
       "    </tr>\n",
       "    <tr>\n",
       "      <th>31</th>\n",
       "      <td>Ленинский проспект</td>\n",
       "      <td>144</td>\n",
       "      <td>Обручевский район</td>\n",
       "    </tr>\n",
       "    <tr>\n",
       "      <th>32</th>\n",
       "      <td>Ленинский проспект</td>\n",
       "      <td>144</td>\n",
       "      <td>район Тёплый Стан</td>\n",
       "    </tr>\n",
       "    <tr>\n",
       "      <th>33</th>\n",
       "      <td>Ленинский проспект</td>\n",
       "      <td>144</td>\n",
       "      <td>район Проспект Вернадского</td>\n",
       "    </tr>\n",
       "    <tr>\n",
       "      <th>34</th>\n",
       "      <td>Ленинский проспект</td>\n",
       "      <td>144</td>\n",
       "      <td>район Тропарёво-Никулино</td>\n",
       "    </tr>\n",
       "    <tr>\n",
       "      <th>35</th>\n",
       "      <td>проспект Вернадского</td>\n",
       "      <td>126</td>\n",
       "      <td>Гагаринский район</td>\n",
       "    </tr>\n",
       "    <tr>\n",
       "      <th>36</th>\n",
       "      <td>проспект Вернадского</td>\n",
       "      <td>126</td>\n",
       "      <td>Ломоносовский район</td>\n",
       "    </tr>\n",
       "    <tr>\n",
       "      <th>37</th>\n",
       "      <td>проспект Вернадского</td>\n",
       "      <td>126</td>\n",
       "      <td>район Проспект Вернадского</td>\n",
       "    </tr>\n",
       "    <tr>\n",
       "      <th>38</th>\n",
       "      <td>проспект Вернадского</td>\n",
       "      <td>126</td>\n",
       "      <td>район Раменки</td>\n",
       "    </tr>\n",
       "    <tr>\n",
       "      <th>39</th>\n",
       "      <td>проспект Вернадского</td>\n",
       "      <td>126</td>\n",
       "      <td>район Тропарёво-Никулино</td>\n",
       "    </tr>\n",
       "    <tr>\n",
       "      <th>40</th>\n",
       "      <td>Кутузовский проспект</td>\n",
       "      <td>111</td>\n",
       "      <td>район Дорогомилово</td>\n",
       "    </tr>\n",
       "    <tr>\n",
       "      <th>41</th>\n",
       "      <td>Кутузовский проспект</td>\n",
       "      <td>111</td>\n",
       "      <td>район Фили-Давыдково</td>\n",
       "    </tr>\n",
       "    <tr>\n",
       "      <th>42</th>\n",
       "      <td>Каширское шоссе</td>\n",
       "      <td>107</td>\n",
       "      <td>район Москворечье-Сабурово</td>\n",
       "    </tr>\n",
       "    <tr>\n",
       "      <th>43</th>\n",
       "      <td>Каширское шоссе</td>\n",
       "      <td>107</td>\n",
       "      <td>район Нагатино-Садовники</td>\n",
       "    </tr>\n",
       "    <tr>\n",
       "      <th>44</th>\n",
       "      <td>Каширское шоссе</td>\n",
       "      <td>107</td>\n",
       "      <td>район Орехово-Борисово Северное</td>\n",
       "    </tr>\n",
       "    <tr>\n",
       "      <th>45</th>\n",
       "      <td>Каширское шоссе</td>\n",
       "      <td>107</td>\n",
       "      <td>район Орехово-Борисово Южное</td>\n",
       "    </tr>\n",
       "    <tr>\n",
       "      <th>46</th>\n",
       "      <td>Кировоградская улица</td>\n",
       "      <td>104</td>\n",
       "      <td>район Чертаново Северное</td>\n",
       "    </tr>\n",
       "    <tr>\n",
       "      <th>47</th>\n",
       "      <td>Кировоградская улица</td>\n",
       "      <td>104</td>\n",
       "      <td>район Чертаново Центральное</td>\n",
       "    </tr>\n",
       "    <tr>\n",
       "      <th>48</th>\n",
       "      <td>Кировоградская улица</td>\n",
       "      <td>104</td>\n",
       "      <td>район Чертаново Южное</td>\n",
       "    </tr>\n",
       "  </tbody>\n",
       "</table>\n",
       "</div>"
      ],
      "text/plain": [
       "                    street  object_name                             Name\n",
       "0            проспект Мира          201                  Мещанский район\n",
       "1            проспект Мира          201               Алексеевский район\n",
       "2            проспект Мира          201               район Марьина Роща\n",
       "3            проспект Мира          201               Останкинский район\n",
       "4            проспект Мира          201                  район Ростокино\n",
       "5            проспект Мира          201                   район Свиблово\n",
       "6            проспект Мира          201                Ярославский район\n",
       "7        Профсоюзная улица          181              Академический район\n",
       "8        Профсоюзная улица          181                   район Коньково\n",
       "9        Профсоюзная улица          181                Обручевский район\n",
       "10       Профсоюзная улица          181                район Тёплый Стан\n",
       "11       Профсоюзная улица          181                  район Черёмушки\n",
       "12       Профсоюзная улица          181                    район Ясенево\n",
       "13  Ленинградский проспект          168                   район Аэропорт\n",
       "14  Ленинградский проспект          168                    район Беговой\n",
       "15  Ленинградский проспект          168                      район Сокол\n",
       "16  Ленинградский проспект          168                Хорошёвский район\n",
       "17  Пресненская набережная          164                Пресненский район\n",
       "18        Варшавское шоссе          155                    Донской район\n",
       "19        Варшавское шоссе          155         район Нагатино-Садовники\n",
       "20        Варшавское шоссе          155                   Нагорный район\n",
       "21        Варшавское шоссе          155         район Чертаново Северное\n",
       "22        Варшавское шоссе          155      район Чертаново Центральное\n",
       "23        Варшавское шоссе          155            район Чертаново Южное\n",
       "24        Варшавское шоссе          155            район Северное Бутово\n",
       "25        Варшавское шоссе          155               район Южное Бутово\n",
       "26        Варшавское шоссе          155               поселение Щербинка\n",
       "27      Ленинский проспект          144                   район Якиманка\n",
       "28      Ленинский проспект          144                    Донской район\n",
       "29      Ленинский проспект          144                Гагаринский район\n",
       "30      Ленинский проспект          144              Ломоносовский район\n",
       "31      Ленинский проспект          144                Обручевский район\n",
       "32      Ленинский проспект          144                район Тёплый Стан\n",
       "33      Ленинский проспект          144       район Проспект Вернадского\n",
       "34      Ленинский проспект          144         район Тропарёво-Никулино\n",
       "35    проспект Вернадского          126                Гагаринский район\n",
       "36    проспект Вернадского          126              Ломоносовский район\n",
       "37    проспект Вернадского          126       район Проспект Вернадского\n",
       "38    проспект Вернадского          126                    район Раменки\n",
       "39    проспект Вернадского          126         район Тропарёво-Никулино\n",
       "40    Кутузовский проспект          111               район Дорогомилово\n",
       "41    Кутузовский проспект          111             район Фили-Давыдково\n",
       "42         Каширское шоссе          107       район Москворечье-Сабурово\n",
       "43         Каширское шоссе          107         район Нагатино-Садовники\n",
       "44         Каширское шоссе          107  район Орехово-Борисово Северное\n",
       "45         Каширское шоссе          107     район Орехово-Борисово Южное\n",
       "46    Кировоградская улица          104         район Чертаново Северное\n",
       "47    Кировоградская улица          104      район Чертаново Центральное\n",
       "48    Кировоградская улица          104            район Чертаново Южное"
      ]
     },
     "execution_count": 49,
     "metadata": {},
     "output_type": "execute_result"
    }
   ],
   "source": [
    "top_10_street"
   ]
  },
  {
   "cell_type": "code",
   "execution_count": 50,
   "metadata": {
    "scrolled": true
   },
   "outputs": [
    {
     "data": {
      "text/plain": [
       "район Проспект Вернадского         2\n",
       "район Тёплый Стан                  2\n",
       "район Чертаново Центральное        2\n",
       "район Нагатино-Садовники           2\n",
       "район Чертаново Северное           2\n",
       "район Тропарёво-Никулино           2\n",
       "Обручевский район                  2\n",
       "Ломоносовский район                2\n",
       "район Чертаново Южное              2\n",
       "Донской район                      2\n",
       "Гагаринский район                  2\n",
       "район Коньково                     1\n",
       "район Марьина Роща                 1\n",
       "Хорошёвский район                  1\n",
       "район Якиманка                     1\n",
       "район Раменки                      1\n",
       "район Ясенево                      1\n",
       "район Сокол                        1\n",
       "район Беговой                      1\n",
       "Ярославский район                  1\n",
       "Останкинский район                 1\n",
       "район Свиблово                     1\n",
       "район Москворечье-Сабурово         1\n",
       "район Орехово-Борисово Северное    1\n",
       "Академический район                1\n",
       "район Дорогомилово                 1\n",
       "Пресненский район                  1\n",
       "район Орехово-Борисово Южное       1\n",
       "район Северное Бутово              1\n",
       "Алексеевский район                 1\n",
       "Нагорный район                     1\n",
       "район Южное Бутово                 1\n",
       "поселение Щербинка                 1\n",
       "район Черёмушки                    1\n",
       "район Ростокино                    1\n",
       "Мещанский район                    1\n",
       "район Аэропорт                     1\n",
       "район Фили-Давыдково               1\n",
       "Name: Name, dtype: int64"
      ]
     },
     "execution_count": 50,
     "metadata": {},
     "output_type": "execute_result"
    }
   ],
   "source": [
    "top_10_street['Name'].value_counts()"
   ]
  },
  {
   "cell_type": "code",
   "execution_count": 51,
   "metadata": {
    "scrolled": false
   },
   "outputs": [
    {
     "data": {
      "text/html": [
       "<div>\n",
       "<style scoped>\n",
       "    .dataframe tbody tr th:only-of-type {\n",
       "        vertical-align: middle;\n",
       "    }\n",
       "\n",
       "    .dataframe tbody tr th {\n",
       "        vertical-align: top;\n",
       "    }\n",
       "\n",
       "    .dataframe thead th {\n",
       "        text-align: right;\n",
       "    }\n",
       "</style>\n",
       "<table border=\"1\" class=\"dataframe\">\n",
       "  <thead>\n",
       "    <tr style=\"text-align: right;\">\n",
       "      <th></th>\n",
       "      <th>street</th>\n",
       "      <th>Name</th>\n",
       "    </tr>\n",
       "  </thead>\n",
       "  <tbody>\n",
       "    <tr>\n",
       "      <th>0</th>\n",
       "      <td>Варшавское шоссе</td>\n",
       "      <td>Донской район, район Нагатино-Садовники, Нагорный район, район Чертаново Северное, район Чертаново Центральное, район Чертаново Южное, район Северное Бутово, район Южное Бутово, поселение Щербинка</td>\n",
       "    </tr>\n",
       "    <tr>\n",
       "      <th>1</th>\n",
       "      <td>Каширское шоссе</td>\n",
       "      <td>район Москворечье-Сабурово, район Нагатино-Садовники, район Орехово-Борисово Северное, район Орехово-Борисово Южное</td>\n",
       "    </tr>\n",
       "    <tr>\n",
       "      <th>2</th>\n",
       "      <td>Кировоградская улица</td>\n",
       "      <td>район Чертаново Северное, район Чертаново Центральное, район Чертаново Южное</td>\n",
       "    </tr>\n",
       "    <tr>\n",
       "      <th>3</th>\n",
       "      <td>Кутузовский проспект</td>\n",
       "      <td>район Дорогомилово, район Фили-Давыдково</td>\n",
       "    </tr>\n",
       "    <tr>\n",
       "      <th>4</th>\n",
       "      <td>Ленинградский проспект</td>\n",
       "      <td>район Аэропорт, район Беговой, район Сокол, Хорошёвский район</td>\n",
       "    </tr>\n",
       "    <tr>\n",
       "      <th>5</th>\n",
       "      <td>Ленинский проспект</td>\n",
       "      <td>район Якиманка, Донской район, Гагаринский район, Ломоносовский район, Обручевский район, район Тёплый Стан, район Проспект Вернадского, район Тропарёво-Никулино</td>\n",
       "    </tr>\n",
       "    <tr>\n",
       "      <th>6</th>\n",
       "      <td>Пресненская набережная</td>\n",
       "      <td>Пресненский район</td>\n",
       "    </tr>\n",
       "    <tr>\n",
       "      <th>7</th>\n",
       "      <td>Профсоюзная улица</td>\n",
       "      <td>Академический район, район Коньково, Обручевский район, район Тёплый Стан, район Черёмушки, район Ясенево</td>\n",
       "    </tr>\n",
       "    <tr>\n",
       "      <th>8</th>\n",
       "      <td>проспект Вернадского</td>\n",
       "      <td>Гагаринский район, Ломоносовский район, район Проспект Вернадского, район Раменки, район Тропарёво-Никулино</td>\n",
       "    </tr>\n",
       "    <tr>\n",
       "      <th>9</th>\n",
       "      <td>проспект Мира</td>\n",
       "      <td>Мещанский район, Алексеевский район, район Марьина Роща, Останкинский район, район Ростокино, район Свиблово, Ярославский район</td>\n",
       "    </tr>\n",
       "  </tbody>\n",
       "</table>\n",
       "</div>"
      ],
      "text/plain": [
       "                   street  \\\n",
       "0        Варшавское шоссе   \n",
       "1         Каширское шоссе   \n",
       "2    Кировоградская улица   \n",
       "3    Кутузовский проспект   \n",
       "4  Ленинградский проспект   \n",
       "5      Ленинский проспект   \n",
       "6  Пресненская набережная   \n",
       "7       Профсоюзная улица   \n",
       "8    проспект Вернадского   \n",
       "9           проспект Мира   \n",
       "\n",
       "                                                                                                                                                                                                   Name  \n",
       "0  Донской район, район Нагатино-Садовники, Нагорный район, район Чертаново Северное, район Чертаново Центральное, район Чертаново Южное, район Северное Бутово, район Южное Бутово, поселение Щербинка  \n",
       "1                                                                                   район Москворечье-Сабурово, район Нагатино-Садовники, район Орехово-Борисово Северное, район Орехово-Борисово Южное  \n",
       "2                                                                                                                          район Чертаново Северное, район Чертаново Центральное, район Чертаново Южное  \n",
       "3                                                                                                                                                              район Дорогомилово, район Фили-Давыдково  \n",
       "4                                                                                                                                         район Аэропорт, район Беговой, район Сокол, Хорошёвский район  \n",
       "5                                     район Якиманка, Донской район, Гагаринский район, Ломоносовский район, Обручевский район, район Тёплый Стан, район Проспект Вернадского, район Тропарёво-Никулино  \n",
       "6                                                                                                                                                                                     Пресненский район  \n",
       "7                                                                                             Академический район, район Коньково, Обручевский район, район Тёплый Стан, район Черёмушки, район Ясенево  \n",
       "8                                                                                           Гагаринский район, Ломоносовский район, район Проспект Вернадского, район Раменки, район Тропарёво-Никулино  \n",
       "9                                                                       Мещанский район, Алексеевский район, район Марьина Роща, Останкинский район, район Ростокино, район Свиблово, Ярославский район  "
      ]
     },
     "execution_count": 51,
     "metadata": {},
     "output_type": "execute_result"
    }
   ],
   "source": [
    "# соединяю через запятую районы для улиц, удобней читать\n",
    "top_10_street = top_10_street.groupby('street')['Name'].apply(', '.join).reset_index()\n",
    "top_10_street"
   ]
  },
  {
   "cell_type": "markdown",
   "metadata": {},
   "source": [
    "Топ десять улиц наполненных общепитами найден и каждой соответсвует район, по которым проходит улица.\n",
    "\n",
    "Также видны районы, в которых пересекаются две \"общепитовые\" улицы. \n",
    "\n",
    "Количество заведений не самый информативный показатель того, насколько популярна улица среди рестораторов. Лучше узнать плотность заведений на улице. Ведь те улицы, которые сейчас в топе, могут быть просто очень длинными, что кстати видно по районам, они распростираются сразу на несколько районов.\n",
    "\n",
    "Я взял с сайта https://data.mos.ru/ файлы классификации Москвы по улицам и районам. Объединил их по коду района, затем полученную таблицу объединил с нашим топом по названию улицы."
   ]
  },
  {
   "cell_type": "markdown",
   "metadata": {},
   "source": [
    "### Число улиц с одним объектом общественного питания <a id=\"8\"></a>"
   ]
  },
  {
   "cell_type": "code",
   "execution_count": 52,
   "metadata": {
    "scrolled": true
   },
   "outputs": [
    {
     "data": {
      "text/html": [
       "<div>\n",
       "<style scoped>\n",
       "    .dataframe tbody tr th:only-of-type {\n",
       "        vertical-align: middle;\n",
       "    }\n",
       "\n",
       "    .dataframe tbody tr th {\n",
       "        vertical-align: top;\n",
       "    }\n",
       "\n",
       "    .dataframe thead th {\n",
       "        text-align: right;\n",
       "    }\n",
       "</style>\n",
       "<table border=\"1\" class=\"dataframe\">\n",
       "  <thead>\n",
       "    <tr style=\"text-align: right;\">\n",
       "      <th></th>\n",
       "      <th>street</th>\n",
       "      <th>count_ob</th>\n",
       "      <th>Name</th>\n",
       "    </tr>\n",
       "  </thead>\n",
       "  <tbody>\n",
       "    <tr>\n",
       "      <th>799</th>\n",
       "      <td>улица Шеногина</td>\n",
       "      <td>1</td>\n",
       "      <td>район Хорошёво-Мнёвники</td>\n",
       "    </tr>\n",
       "    <tr>\n",
       "      <th>800</th>\n",
       "      <td>улица Шумилова</td>\n",
       "      <td>1</td>\n",
       "      <td>район Кузьминки</td>\n",
       "    </tr>\n",
       "    <tr>\n",
       "      <th>801</th>\n",
       "      <td>улица Шумкина</td>\n",
       "      <td>1</td>\n",
       "      <td>район Сокольники</td>\n",
       "    </tr>\n",
       "    <tr>\n",
       "      <th>802</th>\n",
       "      <td>улица Щорса</td>\n",
       "      <td>1</td>\n",
       "      <td>район Солнцево</td>\n",
       "    </tr>\n",
       "    <tr>\n",
       "      <th>803</th>\n",
       "      <td>шоссе Фрезер</td>\n",
       "      <td>1</td>\n",
       "      <td>Нижегородский район</td>\n",
       "    </tr>\n",
       "  </tbody>\n",
       "</table>\n",
       "</div>"
      ],
      "text/plain": [
       "             street  count_ob                     Name\n",
       "799  улица Шеногина         1  район Хорошёво-Мнёвники\n",
       "800  улица Шумилова         1          район Кузьминки\n",
       "801   улица Шумкина         1         район Сокольники\n",
       "802     улица Щорса         1           район Солнцево\n",
       "803    шоссе Фрезер         1      Нижегородский район"
      ]
     },
     "execution_count": 52,
     "metadata": {},
     "output_type": "execute_result"
    }
   ],
   "source": [
    "# Группирую по улицам и оставляю срезом только улицы с одним объектом\n",
    "one_ob = df.groupby('street').agg({'object_name' : 'count'}).reset_index()\n",
    "one_ob = one_ob.rename(columns={'object_name' : 'count_ob'})\n",
    "one_ob = one_ob.query('count_ob == 1')\n",
    "# Соединяю с районами\n",
    "one_ob = one_ob.merge(df_street[['Name', 'UM_NAMEF']], how='left',\n",
    "                     left_on='street', right_on='UM_NAMEF').drop(columns = ['UM_NAMEF'])\n",
    "one_ob.tail()"
   ]
  },
  {
   "cell_type": "code",
   "execution_count": 53,
   "metadata": {},
   "outputs": [
    {
     "data": {
      "text/html": [
       "<div>\n",
       "<style scoped>\n",
       "    .dataframe tbody tr th:only-of-type {\n",
       "        vertical-align: middle;\n",
       "    }\n",
       "\n",
       "    .dataframe tbody tr th {\n",
       "        vertical-align: top;\n",
       "    }\n",
       "\n",
       "    .dataframe thead th {\n",
       "        text-align: right;\n",
       "    }\n",
       "</style>\n",
       "<table border=\"1\" class=\"dataframe\">\n",
       "  <thead>\n",
       "    <tr style=\"text-align: right;\">\n",
       "      <th></th>\n",
       "      <th>Name</th>\n",
       "      <th>street</th>\n",
       "    </tr>\n",
       "  </thead>\n",
       "  <tbody>\n",
       "    <tr>\n",
       "      <th>24</th>\n",
       "      <td>Таганский район</td>\n",
       "      <td>28</td>\n",
       "    </tr>\n",
       "    <tr>\n",
       "      <th>104</th>\n",
       "      <td>район Хамовники</td>\n",
       "      <td>27</td>\n",
       "    </tr>\n",
       "    <tr>\n",
       "      <th>3</th>\n",
       "      <td>Басманный район</td>\n",
       "      <td>25</td>\n",
       "    </tr>\n",
       "    <tr>\n",
       "      <th>25</th>\n",
       "      <td>Тверской район</td>\n",
       "      <td>21</td>\n",
       "    </tr>\n",
       "    <tr>\n",
       "      <th>21</th>\n",
       "      <td>Пресненский район</td>\n",
       "      <td>19</td>\n",
       "    </tr>\n",
       "    <tr>\n",
       "      <th>74</th>\n",
       "      <td>район Марьина Роща</td>\n",
       "      <td>18</td>\n",
       "    </tr>\n",
       "    <tr>\n",
       "      <th>43</th>\n",
       "      <td>район Арбат</td>\n",
       "      <td>17</td>\n",
       "    </tr>\n",
       "    <tr>\n",
       "      <th>14</th>\n",
       "      <td>Мещанский район</td>\n",
       "      <td>16</td>\n",
       "    </tr>\n",
       "    <tr>\n",
       "      <th>97</th>\n",
       "      <td>район Сокольники</td>\n",
       "      <td>15</td>\n",
       "    </tr>\n",
       "    <tr>\n",
       "      <th>56</th>\n",
       "      <td>район Замоскворечье</td>\n",
       "      <td>14</td>\n",
       "    </tr>\n",
       "  </tbody>\n",
       "</table>\n",
       "</div>"
      ],
      "text/plain": [
       "                    Name  street\n",
       "24       Таганский район      28\n",
       "104      район Хамовники      27\n",
       "3        Басманный район      25\n",
       "25        Тверской район      21\n",
       "21     Пресненский район      19\n",
       "74    район Марьина Роща      18\n",
       "43           район Арбат      17\n",
       "14       Мещанский район      16\n",
       "97      район Сокольники      15\n",
       "56   район Замоскворечье      14"
      ]
     },
     "execution_count": 53,
     "metadata": {},
     "output_type": "execute_result"
    }
   ],
   "source": [
    "# Создаю переменную с топом самых незагруженных районов\n",
    "top_10_one = one_ob.groupby('Name').agg({'street' : 'count'}).reset_index().sort_values(by='street', ascending=False).head(10)\n",
    "top_10_one "
   ]
  },
  {
   "cell_type": "code",
   "execution_count": 54,
   "metadata": {},
   "outputs": [
    {
     "data": {
      "image/png": "[encoded data removed]",
      "text/plain": [
       "<Figure size 864x720 with 1 Axes>"
      ]
     },
     "metadata": {},
     "output_type": "display_data"
    }
   ],
   "source": [
    "ax = sns.barplot(x='street', y='Name', data=top_10_one)\n",
    "plt.title('Топ-10 районов с улицами, на которых 1 заведение общепита')\n",
    "ax.set(xlabel='Количество улиц с одним заведением', ylabel='Районы')\n",
    "sns.set_style(\"white\")\n",
    "plt.grid()\n",
    "plt.show()"
   ]
  },
  {
   "cell_type": "code",
   "execution_count": 55,
   "metadata": {
    "scrolled": true
   },
   "outputs": [
    {
     "name": "stdout",
     "output_type": "stream",
     "text": [
      "<class 'pandas.core.frame.DataFrame'>\n",
      "Int64Index: 804 entries, 0 to 803\n",
      "Data columns (total 3 columns):\n",
      " #   Column    Non-Null Count  Dtype \n",
      "---  ------    --------------  ----- \n",
      " 0   street    804 non-null    object\n",
      " 1   count_ob  804 non-null    int64 \n",
      " 2   Name      623 non-null    object\n",
      "dtypes: int64(1), object(2)\n",
      "memory usage: 25.1+ KB\n"
     ]
    }
   ],
   "source": [
    "one_ob.info()"
   ]
  },
  {
   "cell_type": "markdown",
   "metadata": {},
   "source": [
    "**Топ незагруженных районов Москвы:**\n",
    "\n",
    "1. Таганский\n",
    "2. Хамовники\n",
    "3. Басманный\n",
    "4. Тверской\n",
    "\n",
    "Есть пропуски - это связано с тем, что в файле с сайта Москвы нет Зеленограда и поселений. Можно по той же схеме найти данные по зеленограду и поселениям, но я просто буду держать их в уме. Так бы я сделал, если бы Зеленоград вошел в топ самых наполненных общепитами улиц. <a id=\"9\"></a>"
   ]
  },
  {
   "cell_type": "markdown",
   "metadata": {},
   "source": [
    "## Вывод <a id=\"10\"></a>"
   ]
  },
  {
   "cell_type": "markdown",
   "metadata": {},
   "source": [
    "Промежуточные выводы:\n",
    "\n",
    "* При обработке данных було удалено **6%** данных: 5% аномалий и 1% неявных дубликатов.\n",
    "\n",
    "* Наибольшую долю на рынке занимают кафе - **40%**. Второе место - столовые, **16.8%**. Внушительный отрыв на **23%**.\n",
    "\n",
    "* На рынке общепита доминируют несетевые заведения - **80.5%**.\n",
    "\n",
    "* В сетевом секторе наиболее популярны фастфуды - **41%**. Кафе занимает **23%** рынка.\n",
    "\n",
    "* Большая доля франшиз имеет до **10 заведений**. В среднем у этих заведений около **55 посадочных мест**.\n",
    "\n",
    "* Среди франшиз по посадочным местам лидируют столовые -  **116 посадочных мест в среднем**. \n",
    "\n",
    "* Если сравнить сетевые заведениями с несетевыми, то за исключением столовых и буфетов, посадочных мест в среднем больше у сетевых. Фастфуд самый яркий пример: **10 мест** у несетевых и почти **40** у сетевых. У кафе различие менее внушительное: **38 мест** у несетевых против **45 мест** сетевых.\n",
    "\n",
    "* Самые загруженные общепитами улицы:Проспект Мира - **200 шт.**, Профсоюзная улица - **180 шт.**, Ленинградский проспект - **170 шт.**\n",
    "\n",
    "* Наименее загруженные заведениями и перспективные районы Москвы: Таганский - **28 улиц с одним заведением**, Хамовники - **27**, Басманный - **25**.\n",
    "\n",
    "\n",
    "Рекомендации:\n",
    "\n",
    "**Учитывая полученные выше данные, наиболее перспективно открыть кафе не по франшизе, с количеством посадочных мест около 40. Территориально выгодно открыть кафе в следующих районах: Таганский, Хамовники, Басманный, Тверской. Они менее загружены и концепт кафе с роботами оценят лучше в центре Москвы, нежели на окраинах, так как есть поток туристов.**"
   ]
  }
 ],
 "metadata": {
  "ExecuteTimeLog": [
   {
    "duration": 1176,
    "start_time": "2022-07-27T09:46:27.257Z"
   },
   {
    "duration": 112,
    "start_time": "2022-07-27T09:50:09.090Z"
   },
   {
    "duration": 26,
    "start_time": "2022-07-27T09:50:31.887Z"
   },
   {
    "duration": 9,
    "start_time": "2022-07-27T09:52:48.096Z"
   },
   {
    "duration": 9,
    "start_time": "2022-07-27T09:52:55.536Z"
   },
   {
    "duration": 21,
    "start_time": "2022-07-27T09:53:34.871Z"
   },
   {
    "duration": 17,
    "start_time": "2022-07-27T09:53:39.986Z"
   },
   {
    "duration": 4,
    "start_time": "2022-07-27T09:53:48.617Z"
   },
   {
    "duration": 6,
    "start_time": "2022-07-27T09:54:04.657Z"
   },
   {
    "duration": 9,
    "start_time": "2022-07-27T09:55:52.116Z"
   },
   {
    "duration": 7,
    "start_time": "2022-07-27T09:56:02.656Z"
   },
   {
    "duration": 16,
    "start_time": "2022-07-27T09:56:55.471Z"
   },
   {
    "duration": 25,
    "start_time": "2022-07-27T09:57:27.877Z"
   },
   {
    "duration": 13,
    "start_time": "2022-07-27T10:02:18.651Z"
   },
   {
    "duration": 18,
    "start_time": "2022-07-27T10:03:13.650Z"
   },
   {
    "duration": 13,
    "start_time": "2022-07-27T10:03:50.936Z"
   },
   {
    "duration": 19,
    "start_time": "2022-07-27T10:04:05.892Z"
   },
   {
    "duration": 11,
    "start_time": "2022-07-27T10:04:22.834Z"
   },
   {
    "duration": 19,
    "start_time": "2022-07-27T10:07:39.770Z"
   },
   {
    "duration": 19,
    "start_time": "2022-07-27T10:08:58.185Z"
   },
   {
    "duration": 16,
    "start_time": "2022-07-27T10:09:04.865Z"
   },
   {
    "duration": 86,
    "start_time": "2022-07-27T10:12:01.015Z"
   },
   {
    "duration": 6,
    "start_time": "2022-07-27T10:12:06.365Z"
   },
   {
    "duration": 51,
    "start_time": "2022-07-27T12:38:56.833Z"
   },
   {
    "duration": 1316,
    "start_time": "2022-07-27T12:39:02.523Z"
   },
   {
    "duration": 548,
    "start_time": "2022-07-27T12:39:03.841Z"
   },
   {
    "duration": 26,
    "start_time": "2022-07-27T12:39:04.391Z"
   },
   {
    "duration": 32,
    "start_time": "2022-07-27T12:39:04.418Z"
   },
   {
    "duration": 37,
    "start_time": "2022-07-27T12:39:04.452Z"
   },
   {
    "duration": 15,
    "start_time": "2022-07-27T12:39:04.491Z"
   },
   {
    "duration": 16,
    "start_time": "2022-07-27T12:39:04.508Z"
   },
   {
    "duration": 18,
    "start_time": "2022-07-27T12:39:04.525Z"
   },
   {
    "duration": 34,
    "start_time": "2022-07-27T12:39:04.545Z"
   },
   {
    "duration": 11,
    "start_time": "2022-07-27T12:39:15.828Z"
   },
   {
    "duration": 14,
    "start_time": "2022-07-27T12:40:38.843Z"
   },
   {
    "duration": 9,
    "start_time": "2022-07-27T12:42:23.183Z"
   },
   {
    "duration": 8,
    "start_time": "2022-07-27T12:42:30.858Z"
   },
   {
    "duration": 209,
    "start_time": "2022-07-27T12:44:05.147Z"
   },
   {
    "duration": 162,
    "start_time": "2022-07-27T12:44:37.067Z"
   },
   {
    "duration": 155,
    "start_time": "2022-07-27T12:44:43.398Z"
   },
   {
    "duration": 12,
    "start_time": "2022-07-27T12:50:12.308Z"
   },
   {
    "duration": 187,
    "start_time": "2022-07-27T12:51:20.048Z"
   },
   {
    "duration": 12,
    "start_time": "2022-07-27T12:57:14.272Z"
   },
   {
    "duration": 203,
    "start_time": "2022-07-27T12:58:55.907Z"
   },
   {
    "duration": 126,
    "start_time": "2022-07-27T13:06:29.867Z"
   },
   {
    "duration": 97,
    "start_time": "2022-07-27T13:07:03.512Z"
   },
   {
    "duration": 161,
    "start_time": "2022-07-27T13:07:34.648Z"
   },
   {
    "duration": 49,
    "start_time": "2022-07-27T15:48:03.392Z"
   },
   {
    "duration": 1364,
    "start_time": "2022-07-27T15:48:06.371Z"
   },
   {
    "duration": 574,
    "start_time": "2022-07-27T15:48:07.737Z"
   },
   {
    "duration": 25,
    "start_time": "2022-07-27T15:48:08.313Z"
   },
   {
    "duration": 9,
    "start_time": "2022-07-27T15:48:08.340Z"
   },
   {
    "duration": 26,
    "start_time": "2022-07-27T15:48:08.351Z"
   },
   {
    "duration": 12,
    "start_time": "2022-07-27T15:48:08.379Z"
   },
   {
    "duration": 23,
    "start_time": "2022-07-27T15:48:08.423Z"
   },
   {
    "duration": 18,
    "start_time": "2022-07-27T15:48:08.449Z"
   },
   {
    "duration": 30,
    "start_time": "2022-07-27T15:48:08.469Z"
   },
   {
    "duration": 23,
    "start_time": "2022-07-27T15:48:08.503Z"
   },
   {
    "duration": 205,
    "start_time": "2022-07-27T15:48:08.527Z"
   },
   {
    "duration": 13,
    "start_time": "2022-07-27T15:48:08.734Z"
   },
   {
    "duration": 100,
    "start_time": "2022-07-27T15:48:11.187Z"
   },
   {
    "duration": 92,
    "start_time": "2022-07-27T15:48:54.833Z"
   },
   {
    "duration": 107,
    "start_time": "2022-07-27T15:49:51.932Z"
   },
   {
    "duration": 14,
    "start_time": "2022-07-27T15:55:08.737Z"
   },
   {
    "duration": 13,
    "start_time": "2022-07-27T15:57:14.878Z"
   },
   {
    "duration": 15,
    "start_time": "2022-07-27T15:59:20.724Z"
   },
   {
    "duration": 15,
    "start_time": "2022-07-27T15:59:37.260Z"
   },
   {
    "duration": 19,
    "start_time": "2022-07-27T16:01:54.533Z"
   },
   {
    "duration": 22,
    "start_time": "2022-07-27T16:03:02.454Z"
   },
   {
    "duration": 23,
    "start_time": "2022-07-27T16:03:12.331Z"
   },
   {
    "duration": 21,
    "start_time": "2022-07-27T16:04:05.424Z"
   },
   {
    "duration": 21,
    "start_time": "2022-07-27T16:04:20.765Z"
   },
   {
    "duration": 22,
    "start_time": "2022-07-27T16:04:49.221Z"
   },
   {
    "duration": 208,
    "start_time": "2022-07-27T16:07:46.834Z"
   },
   {
    "duration": 72,
    "start_time": "2022-07-27T16:08:37.527Z"
   },
   {
    "duration": 16,
    "start_time": "2022-07-27T16:08:58.862Z"
   },
   {
    "duration": 22,
    "start_time": "2022-07-27T16:09:39.616Z"
   },
   {
    "duration": 157,
    "start_time": "2022-07-27T16:10:11.935Z"
   },
   {
    "duration": 181,
    "start_time": "2022-07-27T16:13:04.592Z"
   },
   {
    "duration": 195,
    "start_time": "2022-07-27T16:13:29.665Z"
   },
   {
    "duration": 190,
    "start_time": "2022-07-27T16:13:49.568Z"
   },
   {
    "duration": 182,
    "start_time": "2022-07-27T16:14:00.385Z"
   },
   {
    "duration": 180,
    "start_time": "2022-07-27T16:14:17.820Z"
   },
   {
    "duration": 187,
    "start_time": "2022-07-27T16:15:16.820Z"
   },
   {
    "duration": 193,
    "start_time": "2022-07-27T16:16:05.270Z"
   },
   {
    "duration": 190,
    "start_time": "2022-07-27T16:16:48.354Z"
   },
   {
    "duration": 188,
    "start_time": "2022-07-27T16:16:53.233Z"
   },
   {
    "duration": 203,
    "start_time": "2022-07-27T16:16:59.765Z"
   },
   {
    "duration": 186,
    "start_time": "2022-07-27T16:17:03.578Z"
   },
   {
    "duration": 222,
    "start_time": "2022-07-27T16:17:57.212Z"
   },
   {
    "duration": 195,
    "start_time": "2022-07-27T16:18:54.616Z"
   },
   {
    "duration": 19,
    "start_time": "2022-07-27T16:36:09.360Z"
   },
   {
    "duration": 11,
    "start_time": "2022-07-27T16:36:22.268Z"
   },
   {
    "duration": 19,
    "start_time": "2022-07-27T16:37:06.753Z"
   },
   {
    "duration": 16,
    "start_time": "2022-07-27T16:37:34.336Z"
   },
   {
    "duration": 11,
    "start_time": "2022-07-27T16:37:46.704Z"
   },
   {
    "duration": 7,
    "start_time": "2022-07-27T16:39:13.754Z"
   },
   {
    "duration": 10,
    "start_time": "2022-07-27T16:39:47.545Z"
   },
   {
    "duration": 15,
    "start_time": "2022-07-27T16:46:37.260Z"
   },
   {
    "duration": 13,
    "start_time": "2022-07-27T16:47:13.294Z"
   },
   {
    "duration": 16,
    "start_time": "2022-07-27T16:47:59.741Z"
   },
   {
    "duration": 17,
    "start_time": "2022-07-27T16:48:08.699Z"
   },
   {
    "duration": 15,
    "start_time": "2022-07-27T16:50:53.018Z"
   },
   {
    "duration": 17,
    "start_time": "2022-07-27T16:51:12.275Z"
   },
   {
    "duration": 17,
    "start_time": "2022-07-27T16:51:57.409Z"
   },
   {
    "duration": 17,
    "start_time": "2022-07-27T17:47:11.423Z"
   },
   {
    "duration": 16,
    "start_time": "2022-07-27T17:47:23.287Z"
   },
   {
    "duration": 16,
    "start_time": "2022-07-27T17:56:45.989Z"
   },
   {
    "duration": 8,
    "start_time": "2022-07-27T18:04:25.683Z"
   },
   {
    "duration": 4,
    "start_time": "2022-07-27T18:06:48.691Z"
   },
   {
    "duration": 7,
    "start_time": "2022-07-27T18:07:03.291Z"
   },
   {
    "duration": 8,
    "start_time": "2022-07-27T18:07:24.666Z"
   },
   {
    "duration": 7,
    "start_time": "2022-07-27T18:07:32.667Z"
   },
   {
    "duration": 9,
    "start_time": "2022-07-27T18:07:43.759Z"
   },
   {
    "duration": 18,
    "start_time": "2022-07-27T18:07:51.372Z"
   },
   {
    "duration": 16,
    "start_time": "2022-07-27T18:08:08.115Z"
   },
   {
    "duration": 39,
    "start_time": "2022-07-27T18:11:44.197Z"
   },
   {
    "duration": 10,
    "start_time": "2022-07-27T18:11:56.117Z"
   },
   {
    "duration": 8,
    "start_time": "2022-07-27T18:12:12.815Z"
   },
   {
    "duration": 7,
    "start_time": "2022-07-27T18:12:35.382Z"
   },
   {
    "duration": 9,
    "start_time": "2022-07-27T18:14:50.845Z"
   },
   {
    "duration": 10,
    "start_time": "2022-07-27T18:15:48.526Z"
   },
   {
    "duration": 10,
    "start_time": "2022-07-27T18:15:48.885Z"
   },
   {
    "duration": 20,
    "start_time": "2022-07-27T18:17:10.550Z"
   },
   {
    "duration": 20,
    "start_time": "2022-07-27T18:18:03.719Z"
   },
   {
    "duration": 11,
    "start_time": "2022-07-27T18:19:00.434Z"
   },
   {
    "duration": 1201,
    "start_time": "2022-07-27T18:19:14.116Z"
   },
   {
    "duration": 70,
    "start_time": "2022-07-27T18:19:15.320Z"
   },
   {
    "duration": 24,
    "start_time": "2022-07-27T18:19:15.392Z"
   },
   {
    "duration": 8,
    "start_time": "2022-07-27T18:19:15.418Z"
   },
   {
    "duration": 28,
    "start_time": "2022-07-27T18:19:15.428Z"
   },
   {
    "duration": 15,
    "start_time": "2022-07-27T18:19:15.458Z"
   },
   {
    "duration": 16,
    "start_time": "2022-07-27T18:19:15.474Z"
   },
   {
    "duration": 32,
    "start_time": "2022-07-27T18:19:15.492Z"
   },
   {
    "duration": 20,
    "start_time": "2022-07-27T18:19:15.526Z"
   },
   {
    "duration": 17,
    "start_time": "2022-07-27T18:19:15.549Z"
   },
   {
    "duration": 7,
    "start_time": "2022-07-27T18:19:15.568Z"
   },
   {
    "duration": 10,
    "start_time": "2022-07-27T18:19:15.576Z"
   },
   {
    "duration": 48,
    "start_time": "2022-07-27T18:19:15.587Z"
   },
   {
    "duration": 10,
    "start_time": "2022-07-27T18:19:15.637Z"
   },
   {
    "duration": 10,
    "start_time": "2022-07-27T18:19:15.649Z"
   },
   {
    "duration": 7,
    "start_time": "2022-07-27T18:19:15.661Z"
   },
   {
    "duration": 36,
    "start_time": "2022-07-27T18:19:15.670Z"
   },
   {
    "duration": 28,
    "start_time": "2022-07-27T18:19:15.708Z"
   },
   {
    "duration": 235,
    "start_time": "2022-07-27T18:19:15.738Z"
   },
   {
    "duration": 15,
    "start_time": "2022-07-27T18:19:15.975Z"
   },
   {
    "duration": 113,
    "start_time": "2022-07-27T18:19:15.992Z"
   },
   {
    "duration": 31,
    "start_time": "2022-07-27T18:19:16.106Z"
   },
   {
    "duration": 210,
    "start_time": "2022-07-27T18:19:16.139Z"
   },
   {
    "duration": 12,
    "start_time": "2022-07-27T18:19:16.351Z"
   },
   {
    "duration": 200,
    "start_time": "2022-07-27T18:41:45.441Z"
   },
   {
    "duration": 196,
    "start_time": "2022-07-27T18:41:53.273Z"
   },
   {
    "duration": 210,
    "start_time": "2022-07-27T18:42:06.473Z"
   },
   {
    "duration": 217,
    "start_time": "2022-07-27T18:42:13.001Z"
   },
   {
    "duration": 243,
    "start_time": "2022-07-27T18:43:17.739Z"
   },
   {
    "duration": 288,
    "start_time": "2022-07-27T18:43:34.386Z"
   },
   {
    "duration": 609,
    "start_time": "2022-07-27T18:45:23.738Z"
   },
   {
    "duration": 590,
    "start_time": "2022-07-27T18:45:57.787Z"
   },
   {
    "duration": 733,
    "start_time": "2022-07-27T18:46:03.834Z"
   },
   {
    "duration": 247,
    "start_time": "2022-07-27T18:46:31.818Z"
   },
   {
    "duration": 54,
    "start_time": "2022-07-27T18:46:45.595Z"
   },
   {
    "duration": 645,
    "start_time": "2022-07-27T18:46:56.002Z"
   },
   {
    "duration": 1873,
    "start_time": "2022-07-27T18:52:04.804Z"
   },
   {
    "duration": 304,
    "start_time": "2022-07-27T18:52:18.077Z"
   },
   {
    "duration": 314,
    "start_time": "2022-07-27T18:52:30.604Z"
   },
   {
    "duration": 149,
    "start_time": "2022-07-27T18:53:22.435Z"
   },
   {
    "duration": 145,
    "start_time": "2022-07-27T18:54:02.517Z"
   },
   {
    "duration": 147,
    "start_time": "2022-07-27T18:54:38.468Z"
   },
   {
    "duration": 155,
    "start_time": "2022-07-27T18:54:51.740Z"
   },
   {
    "duration": 1305,
    "start_time": "2022-07-28T09:12:40.887Z"
   },
   {
    "duration": 106,
    "start_time": "2022-07-28T09:12:42.194Z"
   },
   {
    "duration": 24,
    "start_time": "2022-07-28T09:12:42.304Z"
   },
   {
    "duration": 7,
    "start_time": "2022-07-28T09:12:42.331Z"
   },
   {
    "duration": 24,
    "start_time": "2022-07-28T09:12:42.339Z"
   },
   {
    "duration": 13,
    "start_time": "2022-07-28T09:12:42.364Z"
   },
   {
    "duration": 24,
    "start_time": "2022-07-28T09:12:42.402Z"
   },
   {
    "duration": 6,
    "start_time": "2022-07-28T09:12:42.428Z"
   },
   {
    "duration": 21,
    "start_time": "2022-07-28T09:12:42.435Z"
   },
   {
    "duration": 14,
    "start_time": "2022-07-28T09:12:42.458Z"
   },
   {
    "duration": 6,
    "start_time": "2022-07-28T09:12:42.474Z"
   },
   {
    "duration": 52,
    "start_time": "2022-07-28T09:12:42.482Z"
   },
   {
    "duration": 12,
    "start_time": "2022-07-28T09:12:42.536Z"
   },
   {
    "duration": 4,
    "start_time": "2022-07-28T09:12:42.550Z"
   },
   {
    "duration": 8,
    "start_time": "2022-07-28T09:12:42.556Z"
   },
   {
    "duration": 5,
    "start_time": "2022-07-28T09:12:42.566Z"
   },
   {
    "duration": 13,
    "start_time": "2022-07-28T09:12:42.572Z"
   },
   {
    "duration": 23,
    "start_time": "2022-07-28T09:12:42.587Z"
   },
   {
    "duration": 182,
    "start_time": "2022-07-28T09:12:42.612Z"
   },
   {
    "duration": 20,
    "start_time": "2022-07-28T09:12:42.795Z"
   },
   {
    "duration": 89,
    "start_time": "2022-07-28T09:12:42.817Z"
   },
   {
    "duration": 28,
    "start_time": "2022-07-28T09:12:42.908Z"
   },
   {
    "duration": 200,
    "start_time": "2022-07-28T09:12:42.938Z"
   },
   {
    "duration": 10,
    "start_time": "2022-07-28T09:12:43.140Z"
   },
   {
    "duration": 162,
    "start_time": "2022-07-28T09:12:43.151Z"
   },
   {
    "duration": 128,
    "start_time": "2022-07-28T09:15:11.802Z"
   },
   {
    "duration": 129,
    "start_time": "2022-07-28T09:15:32.472Z"
   },
   {
    "duration": 132,
    "start_time": "2022-07-28T09:15:49.988Z"
   },
   {
    "duration": 170,
    "start_time": "2022-07-28T09:16:37.467Z"
   },
   {
    "duration": 181,
    "start_time": "2022-07-28T09:16:44.092Z"
   },
   {
    "duration": 117,
    "start_time": "2022-07-28T09:16:53.977Z"
   },
   {
    "duration": 147,
    "start_time": "2022-07-28T09:21:12.417Z"
   },
   {
    "duration": 123,
    "start_time": "2022-07-28T09:21:33.677Z"
   },
   {
    "duration": 14,
    "start_time": "2022-07-28T09:25:52.822Z"
   },
   {
    "duration": 14,
    "start_time": "2022-07-28T09:27:09.477Z"
   },
   {
    "duration": 148,
    "start_time": "2022-07-28T09:27:34.312Z"
   },
   {
    "duration": 173,
    "start_time": "2022-07-28T09:29:13.872Z"
   },
   {
    "duration": 180,
    "start_time": "2022-07-28T09:29:34.732Z"
   },
   {
    "duration": 176,
    "start_time": "2022-07-28T09:30:53.177Z"
   },
   {
    "duration": 191,
    "start_time": "2022-07-28T09:31:45.613Z"
   },
   {
    "duration": 184,
    "start_time": "2022-07-28T09:32:00.223Z"
   },
   {
    "duration": 246,
    "start_time": "2022-07-28T09:32:17.273Z"
   },
   {
    "duration": 263,
    "start_time": "2022-07-28T09:32:28.668Z"
   },
   {
    "duration": 184,
    "start_time": "2022-07-28T09:33:50.876Z"
   },
   {
    "duration": 11,
    "start_time": "2022-07-28T09:34:31.018Z"
   },
   {
    "duration": 15,
    "start_time": "2022-07-28T09:36:00.624Z"
   },
   {
    "duration": 13,
    "start_time": "2022-07-28T09:36:12.628Z"
   },
   {
    "duration": 14,
    "start_time": "2022-07-28T09:36:31.343Z"
   },
   {
    "duration": 10,
    "start_time": "2022-07-28T09:36:53.423Z"
   },
   {
    "duration": 39,
    "start_time": "2022-07-28T09:42:20.377Z"
   },
   {
    "duration": 48,
    "start_time": "2022-07-28T09:42:42.502Z"
   },
   {
    "duration": 61,
    "start_time": "2022-07-28T09:44:02.031Z"
   },
   {
    "duration": 128,
    "start_time": "2022-07-28T09:52:46.431Z"
   },
   {
    "duration": 42,
    "start_time": "2022-07-28T09:52:54.547Z"
   },
   {
    "duration": 120,
    "start_time": "2022-07-28T09:53:44.576Z"
   },
   {
    "duration": 14,
    "start_time": "2022-07-28T09:53:54.556Z"
   },
   {
    "duration": 1159,
    "start_time": "2022-07-28T09:54:03.251Z"
   },
   {
    "duration": 68,
    "start_time": "2022-07-28T09:54:04.412Z"
   },
   {
    "duration": 29,
    "start_time": "2022-07-28T09:54:04.482Z"
   },
   {
    "duration": 8,
    "start_time": "2022-07-28T09:54:04.514Z"
   },
   {
    "duration": 25,
    "start_time": "2022-07-28T09:54:04.523Z"
   },
   {
    "duration": 13,
    "start_time": "2022-07-28T09:54:04.549Z"
   },
   {
    "duration": 38,
    "start_time": "2022-07-28T09:54:04.564Z"
   },
   {
    "duration": 7,
    "start_time": "2022-07-28T09:54:04.605Z"
   },
   {
    "duration": 19,
    "start_time": "2022-07-28T09:54:04.614Z"
   },
   {
    "duration": 20,
    "start_time": "2022-07-28T09:54:04.635Z"
   },
   {
    "duration": 7,
    "start_time": "2022-07-28T09:54:04.658Z"
   },
   {
    "duration": 38,
    "start_time": "2022-07-28T09:54:04.667Z"
   },
   {
    "duration": 16,
    "start_time": "2022-07-28T09:54:04.706Z"
   },
   {
    "duration": 3,
    "start_time": "2022-07-28T09:54:04.724Z"
   },
   {
    "duration": 9,
    "start_time": "2022-07-28T09:54:04.729Z"
   },
   {
    "duration": 6,
    "start_time": "2022-07-28T09:54:04.740Z"
   },
   {
    "duration": 16,
    "start_time": "2022-07-28T09:54:04.747Z"
   },
   {
    "duration": 14,
    "start_time": "2022-07-28T09:54:04.802Z"
   },
   {
    "duration": 184,
    "start_time": "2022-07-28T09:54:04.818Z"
   },
   {
    "duration": 12,
    "start_time": "2022-07-28T09:54:05.004Z"
   },
   {
    "duration": 106,
    "start_time": "2022-07-28T09:54:05.018Z"
   },
   {
    "duration": 1802,
    "start_time": "2022-07-28T09:54:05.126Z"
   },
   {
    "duration": 0,
    "start_time": "2022-07-28T09:54:06.930Z"
   },
   {
    "duration": 0,
    "start_time": "2022-07-28T09:54:06.932Z"
   },
   {
    "duration": 0,
    "start_time": "2022-07-28T09:54:06.934Z"
   },
   {
    "duration": 0,
    "start_time": "2022-07-28T09:54:06.935Z"
   },
   {
    "duration": 0,
    "start_time": "2022-07-28T09:54:06.936Z"
   },
   {
    "duration": 0,
    "start_time": "2022-07-28T09:54:06.938Z"
   },
   {
    "duration": 0,
    "start_time": "2022-07-28T09:54:06.939Z"
   },
   {
    "duration": 154,
    "start_time": "2022-07-28T09:55:41.631Z"
   },
   {
    "duration": 93,
    "start_time": "2022-07-28T09:55:58.726Z"
   },
   {
    "duration": 22,
    "start_time": "2022-07-28T09:56:47.130Z"
   },
   {
    "duration": 1193,
    "start_time": "2022-07-28T09:56:59.920Z"
   },
   {
    "duration": 68,
    "start_time": "2022-07-28T09:57:01.131Z"
   },
   {
    "duration": 35,
    "start_time": "2022-07-28T09:57:01.200Z"
   },
   {
    "duration": 9,
    "start_time": "2022-07-28T09:57:01.238Z"
   },
   {
    "duration": 27,
    "start_time": "2022-07-28T09:57:01.249Z"
   },
   {
    "duration": 37,
    "start_time": "2022-07-28T09:57:01.277Z"
   },
   {
    "duration": 22,
    "start_time": "2022-07-28T09:57:01.322Z"
   },
   {
    "duration": 10,
    "start_time": "2022-07-28T09:57:01.346Z"
   },
   {
    "duration": 30,
    "start_time": "2022-07-28T09:57:01.358Z"
   },
   {
    "duration": 27,
    "start_time": "2022-07-28T09:57:01.391Z"
   },
   {
    "duration": 10,
    "start_time": "2022-07-28T09:57:01.422Z"
   },
   {
    "duration": 12,
    "start_time": "2022-07-28T09:57:01.434Z"
   },
   {
    "duration": 27,
    "start_time": "2022-07-28T09:57:01.449Z"
   },
   {
    "duration": 10,
    "start_time": "2022-07-28T09:57:01.477Z"
   },
   {
    "duration": 23,
    "start_time": "2022-07-28T09:57:01.501Z"
   },
   {
    "duration": 20,
    "start_time": "2022-07-28T09:57:01.525Z"
   },
   {
    "duration": 26,
    "start_time": "2022-07-28T09:57:01.546Z"
   },
   {
    "duration": 16,
    "start_time": "2022-07-28T09:57:01.574Z"
   },
   {
    "duration": 157,
    "start_time": "2022-07-28T09:57:01.591Z"
   },
   {
    "duration": 14,
    "start_time": "2022-07-28T09:57:01.750Z"
   },
   {
    "duration": 115,
    "start_time": "2022-07-28T09:57:01.765Z"
   },
   {
    "duration": 41,
    "start_time": "2022-07-28T09:57:01.882Z"
   },
   {
    "duration": 197,
    "start_time": "2022-07-28T09:57:01.925Z"
   },
   {
    "duration": 14,
    "start_time": "2022-07-28T09:57:02.125Z"
   },
   {
    "duration": 147,
    "start_time": "2022-07-28T09:57:02.141Z"
   },
   {
    "duration": 189,
    "start_time": "2022-07-28T09:57:02.290Z"
   },
   {
    "duration": 32,
    "start_time": "2022-07-28T09:57:02.481Z"
   },
   {
    "duration": 17,
    "start_time": "2022-07-28T09:57:02.516Z"
   },
   {
    "duration": 42,
    "start_time": "2022-07-28T09:57:02.535Z"
   },
   {
    "duration": 11,
    "start_time": "2022-07-28T09:57:19.869Z"
   },
   {
    "duration": 102,
    "start_time": "2022-07-28T10:01:03.658Z"
   },
   {
    "duration": 1409,
    "start_time": "2022-07-28T10:01:30.254Z"
   },
   {
    "duration": 32,
    "start_time": "2022-07-28T10:02:10.618Z"
   },
   {
    "duration": 51,
    "start_time": "2022-07-28T10:05:25.423Z"
   },
   {
    "duration": 35,
    "start_time": "2022-07-28T10:12:09.368Z"
   },
   {
    "duration": 58,
    "start_time": "2022-07-28T10:12:31.018Z"
   },
   {
    "duration": 137,
    "start_time": "2022-07-28T10:13:00.039Z"
   },
   {
    "duration": 16,
    "start_time": "2022-07-28T10:14:28.079Z"
   },
   {
    "duration": 13,
    "start_time": "2022-07-28T10:14:46.949Z"
   },
   {
    "duration": 25,
    "start_time": "2022-07-28T10:15:08.466Z"
   },
   {
    "duration": 11,
    "start_time": "2022-07-28T10:15:23.098Z"
   },
   {
    "duration": 10,
    "start_time": "2022-07-28T10:15:50.438Z"
   },
   {
    "duration": 20,
    "start_time": "2022-07-28T10:16:22.418Z"
   },
   {
    "duration": 36,
    "start_time": "2022-07-28T10:17:36.102Z"
   },
   {
    "duration": 50,
    "start_time": "2022-07-28T10:18:41.223Z"
   },
   {
    "duration": 15,
    "start_time": "2022-07-28T10:18:55.033Z"
   },
   {
    "duration": 1153,
    "start_time": "2022-07-28T11:13:29.023Z"
   },
   {
    "duration": 68,
    "start_time": "2022-07-28T11:13:30.178Z"
   },
   {
    "duration": 32,
    "start_time": "2022-07-28T11:13:30.248Z"
   },
   {
    "duration": 25,
    "start_time": "2022-07-28T11:13:30.282Z"
   },
   {
    "duration": 22,
    "start_time": "2022-07-28T11:13:30.309Z"
   },
   {
    "duration": 20,
    "start_time": "2022-07-28T11:13:30.332Z"
   },
   {
    "duration": 25,
    "start_time": "2022-07-28T11:13:30.353Z"
   },
   {
    "duration": 27,
    "start_time": "2022-07-28T11:13:30.380Z"
   },
   {
    "duration": 45,
    "start_time": "2022-07-28T11:13:30.409Z"
   },
   {
    "duration": 19,
    "start_time": "2022-07-28T11:13:30.456Z"
   },
   {
    "duration": 18,
    "start_time": "2022-07-28T11:13:30.477Z"
   },
   {
    "duration": 26,
    "start_time": "2022-07-28T11:13:30.497Z"
   },
   {
    "duration": 20,
    "start_time": "2022-07-28T11:13:30.525Z"
   },
   {
    "duration": 5,
    "start_time": "2022-07-28T11:13:30.548Z"
   },
   {
    "duration": 16,
    "start_time": "2022-07-28T11:13:30.554Z"
   },
   {
    "duration": 13,
    "start_time": "2022-07-28T11:13:30.572Z"
   },
   {
    "duration": 18,
    "start_time": "2022-07-28T11:13:30.586Z"
   },
   {
    "duration": 14,
    "start_time": "2022-07-28T11:13:30.606Z"
   },
   {
    "duration": 162,
    "start_time": "2022-07-28T11:13:30.621Z"
   },
   {
    "duration": 20,
    "start_time": "2022-07-28T11:13:30.784Z"
   },
   {
    "duration": 102,
    "start_time": "2022-07-28T11:13:30.806Z"
   },
   {
    "duration": 24,
    "start_time": "2022-07-28T11:13:30.910Z"
   },
   {
    "duration": 208,
    "start_time": "2022-07-28T11:13:30.936Z"
   },
   {
    "duration": 12,
    "start_time": "2022-07-28T11:13:31.146Z"
   },
   {
    "duration": 151,
    "start_time": "2022-07-28T11:13:31.160Z"
   },
   {
    "duration": 191,
    "start_time": "2022-07-28T11:13:31.313Z"
   },
   {
    "duration": 11,
    "start_time": "2022-07-28T11:13:31.505Z"
   },
   {
    "duration": 26,
    "start_time": "2022-07-28T11:13:31.517Z"
   },
   {
    "duration": 33,
    "start_time": "2022-07-28T11:13:31.545Z"
   },
   {
    "duration": 41,
    "start_time": "2022-07-28T11:13:31.580Z"
   },
   {
    "duration": 38,
    "start_time": "2022-07-28T11:13:31.623Z"
   },
   {
    "duration": 968,
    "start_time": "2022-07-28T11:14:00.312Z"
   },
   {
    "duration": 47,
    "start_time": "2022-07-28T11:14:24.972Z"
   },
   {
    "duration": 4526,
    "start_time": "2022-07-28T11:14:35.256Z"
   },
   {
    "duration": 4048,
    "start_time": "2022-07-28T11:15:08.282Z"
   },
   {
    "duration": 4460,
    "start_time": "2022-07-28T11:16:55.136Z"
   },
   {
    "duration": 4046,
    "start_time": "2022-07-28T11:17:35.166Z"
   },
   {
    "duration": 3703,
    "start_time": "2022-07-28T11:23:14.364Z"
   },
   {
    "duration": 140,
    "start_time": "2022-07-28T11:23:31.194Z"
   },
   {
    "duration": 56,
    "start_time": "2022-07-28T11:24:49.455Z"
   },
   {
    "duration": 61,
    "start_time": "2022-07-28T11:25:09.455Z"
   },
   {
    "duration": 133,
    "start_time": "2022-07-28T11:26:22.960Z"
   },
   {
    "duration": 56,
    "start_time": "2022-07-28T11:26:40.675Z"
   },
   {
    "duration": 3922,
    "start_time": "2022-07-28T11:28:05.400Z"
   },
   {
    "duration": 143,
    "start_time": "2022-07-28T11:28:39.010Z"
   },
   {
    "duration": 23,
    "start_time": "2022-07-28T11:38:44.188Z"
   },
   {
    "duration": 108,
    "start_time": "2022-07-28T11:41:44.749Z"
   },
   {
    "duration": 208,
    "start_time": "2022-07-28T11:42:02.669Z"
   },
   {
    "duration": 105,
    "start_time": "2022-07-28T11:42:29.979Z"
   },
   {
    "duration": 19,
    "start_time": "2022-07-28T11:43:16.653Z"
   },
   {
    "duration": 212,
    "start_time": "2022-07-28T11:44:42.053Z"
   },
   {
    "duration": 16,
    "start_time": "2022-07-28T11:44:55.818Z"
   },
   {
    "duration": 97,
    "start_time": "2022-07-28T11:45:24.243Z"
   },
   {
    "duration": 20,
    "start_time": "2022-07-28T11:45:28.159Z"
   },
   {
    "duration": 178,
    "start_time": "2022-07-28T11:47:12.668Z"
   },
   {
    "duration": 114,
    "start_time": "2022-07-28T11:47:18.730Z"
   },
   {
    "duration": 28,
    "start_time": "2022-07-28T11:48:00.766Z"
   },
   {
    "duration": 90,
    "start_time": "2022-07-28T11:50:12.156Z"
   },
   {
    "duration": 205,
    "start_time": "2022-07-28T11:50:23.192Z"
   },
   {
    "duration": 24,
    "start_time": "2022-07-28T11:50:29.491Z"
   },
   {
    "duration": 100,
    "start_time": "2022-07-28T11:52:00.212Z"
   },
   {
    "duration": 184,
    "start_time": "2022-07-28T11:53:30.663Z"
   },
   {
    "duration": 23230,
    "start_time": "2022-07-28T11:57:39.832Z"
   },
   {
    "duration": 35265,
    "start_time": "2022-07-28T11:59:12.749Z"
   },
   {
    "duration": 19,
    "start_time": "2022-07-28T11:59:58.736Z"
   },
   {
    "duration": 17,
    "start_time": "2022-07-28T12:04:59.823Z"
   },
   {
    "duration": 176,
    "start_time": "2022-07-28T12:05:41.426Z"
   },
   {
    "duration": 189,
    "start_time": "2022-07-28T12:06:47.789Z"
   },
   {
    "duration": 196,
    "start_time": "2022-07-28T12:07:11.754Z"
   },
   {
    "duration": 696,
    "start_time": "2022-07-28T12:36:50.603Z"
   },
   {
    "duration": 2366,
    "start_time": "2022-07-28T12:37:30.829Z"
   },
   {
    "duration": 1228,
    "start_time": "2022-07-28T12:41:21.694Z"
   },
   {
    "duration": 1730,
    "start_time": "2022-07-28T12:50:16.531Z"
   },
   {
    "duration": 52,
    "start_time": "2022-07-30T08:13:16.794Z"
   },
   {
    "duration": 1260,
    "start_time": "2022-07-30T08:13:22.058Z"
   },
   {
    "duration": 218,
    "start_time": "2022-07-30T08:13:23.320Z"
   },
   {
    "duration": 21,
    "start_time": "2022-07-30T08:13:23.540Z"
   },
   {
    "duration": 7,
    "start_time": "2022-07-30T08:13:23.562Z"
   },
   {
    "duration": 23,
    "start_time": "2022-07-30T08:13:23.570Z"
   },
   {
    "duration": 11,
    "start_time": "2022-07-30T08:13:23.594Z"
   },
   {
    "duration": 10,
    "start_time": "2022-07-30T08:13:23.606Z"
   },
   {
    "duration": 7,
    "start_time": "2022-07-30T08:13:23.617Z"
   },
   {
    "duration": 19,
    "start_time": "2022-07-30T08:13:23.625Z"
   },
   {
    "duration": 35,
    "start_time": "2022-07-30T08:13:23.646Z"
   },
   {
    "duration": 6,
    "start_time": "2022-07-30T08:13:23.683Z"
   },
   {
    "duration": 17,
    "start_time": "2022-07-30T08:13:23.690Z"
   },
   {
    "duration": 13,
    "start_time": "2022-07-30T08:13:23.708Z"
   },
   {
    "duration": 4,
    "start_time": "2022-07-30T08:13:23.723Z"
   },
   {
    "duration": 9,
    "start_time": "2022-07-30T08:13:23.729Z"
   },
   {
    "duration": 10,
    "start_time": "2022-07-30T08:13:23.740Z"
   },
   {
    "duration": 32,
    "start_time": "2022-07-30T08:13:23.752Z"
   },
   {
    "duration": 10,
    "start_time": "2022-07-30T08:13:23.786Z"
   },
   {
    "duration": 14,
    "start_time": "2022-07-30T08:13:23.797Z"
   },
   {
    "duration": 152,
    "start_time": "2022-07-30T08:13:23.813Z"
   },
   {
    "duration": 11,
    "start_time": "2022-07-30T08:13:23.973Z"
   },
   {
    "duration": 77,
    "start_time": "2022-07-30T08:13:23.986Z"
   },
   {
    "duration": 19,
    "start_time": "2022-07-30T08:13:24.074Z"
   },
   {
    "duration": 169,
    "start_time": "2022-07-30T08:13:24.095Z"
   },
   {
    "duration": 14,
    "start_time": "2022-07-30T08:13:24.266Z"
   },
   {
    "duration": 128,
    "start_time": "2022-07-30T08:13:24.282Z"
   },
   {
    "duration": 161,
    "start_time": "2022-07-30T08:13:24.412Z"
   },
   {
    "duration": 10,
    "start_time": "2022-07-30T08:13:24.576Z"
   },
   {
    "duration": 15,
    "start_time": "2022-07-30T08:13:24.588Z"
   },
   {
    "duration": 152,
    "start_time": "2022-07-30T08:13:24.604Z"
   },
   {
    "duration": 20,
    "start_time": "2022-07-30T08:13:24.757Z"
   },
   {
    "duration": 174,
    "start_time": "2022-07-30T08:13:24.779Z"
   },
   {
    "duration": 2639,
    "start_time": "2022-07-30T08:13:24.955Z"
   },
   {
    "duration": 12,
    "start_time": "2022-07-30T08:14:02.910Z"
   },
   {
    "duration": 12,
    "start_time": "2022-07-30T08:14:28.470Z"
   },
   {
    "duration": 12,
    "start_time": "2022-07-30T08:14:45.581Z"
   },
   {
    "duration": 10,
    "start_time": "2022-07-30T08:14:48.222Z"
   },
   {
    "duration": 16,
    "start_time": "2022-07-30T08:15:59.707Z"
   },
   {
    "duration": 11,
    "start_time": "2022-07-30T08:16:14.118Z"
   },
   {
    "duration": 16,
    "start_time": "2022-07-30T08:16:20.351Z"
   },
   {
    "duration": 12,
    "start_time": "2022-07-30T08:17:07.055Z"
   },
   {
    "duration": 9,
    "start_time": "2022-07-30T08:17:17.543Z"
   },
   {
    "duration": 14,
    "start_time": "2022-07-30T08:19:14.672Z"
   },
   {
    "duration": 12,
    "start_time": "2022-07-30T08:19:22.984Z"
   },
   {
    "duration": 30,
    "start_time": "2022-07-30T08:19:33.928Z"
   },
   {
    "duration": 20,
    "start_time": "2022-07-30T08:19:43.082Z"
   },
   {
    "duration": 18,
    "start_time": "2022-07-30T08:20:11.306Z"
   },
   {
    "duration": 9,
    "start_time": "2022-07-30T08:20:51.058Z"
   },
   {
    "duration": 12,
    "start_time": "2022-07-30T08:21:08.377Z"
   },
   {
    "duration": 8,
    "start_time": "2022-07-30T08:21:49.842Z"
   },
   {
    "duration": 19,
    "start_time": "2022-07-30T08:22:41.410Z"
   },
   {
    "duration": 19,
    "start_time": "2022-07-30T08:23:02.794Z"
   },
   {
    "duration": 10,
    "start_time": "2022-07-30T08:23:26.578Z"
   },
   {
    "duration": 14,
    "start_time": "2022-07-30T08:23:43.706Z"
   },
   {
    "duration": 11,
    "start_time": "2022-07-30T08:30:44.764Z"
   },
   {
    "duration": 17,
    "start_time": "2022-07-30T08:30:47.813Z"
   },
   {
    "duration": 11,
    "start_time": "2022-07-30T08:31:02.948Z"
   },
   {
    "duration": 9,
    "start_time": "2022-07-30T08:31:04.893Z"
   },
   {
    "duration": 94,
    "start_time": "2022-07-30T08:34:27.021Z"
   },
   {
    "duration": 25,
    "start_time": "2022-07-30T08:34:43.653Z"
   },
   {
    "duration": 9,
    "start_time": "2022-07-30T08:34:56.717Z"
   },
   {
    "duration": 12,
    "start_time": "2022-07-30T08:35:06.597Z"
   },
   {
    "duration": 11,
    "start_time": "2022-07-30T08:35:19.837Z"
   },
   {
    "duration": 27,
    "start_time": "2022-07-30T08:37:59.190Z"
   },
   {
    "duration": 19,
    "start_time": "2022-07-30T08:39:23.855Z"
   },
   {
    "duration": 28,
    "start_time": "2022-07-30T08:39:30.862Z"
   },
   {
    "duration": 27,
    "start_time": "2022-07-30T08:39:48.353Z"
   },
   {
    "duration": 24,
    "start_time": "2022-07-30T08:40:29.680Z"
   },
   {
    "duration": 38,
    "start_time": "2022-07-30T08:41:01.399Z"
   },
   {
    "duration": 21,
    "start_time": "2022-07-30T08:41:01.983Z"
   },
   {
    "duration": 73,
    "start_time": "2022-07-30T08:41:34.055Z"
   },
   {
    "duration": 26,
    "start_time": "2022-07-30T08:41:47.031Z"
   },
   {
    "duration": 1075,
    "start_time": "2022-07-30T08:53:37.383Z"
   },
   {
    "duration": 64,
    "start_time": "2022-07-30T08:53:38.460Z"
   },
   {
    "duration": 20,
    "start_time": "2022-07-30T08:53:38.526Z"
   },
   {
    "duration": 8,
    "start_time": "2022-07-30T08:53:38.547Z"
   },
   {
    "duration": 35,
    "start_time": "2022-07-30T08:53:38.556Z"
   },
   {
    "duration": 12,
    "start_time": "2022-07-30T08:53:38.592Z"
   },
   {
    "duration": 12,
    "start_time": "2022-07-30T08:53:38.605Z"
   },
   {
    "duration": 6,
    "start_time": "2022-07-30T08:53:38.618Z"
   },
   {
    "duration": 21,
    "start_time": "2022-07-30T08:53:38.625Z"
   },
   {
    "duration": 37,
    "start_time": "2022-07-30T08:53:38.649Z"
   },
   {
    "duration": 6,
    "start_time": "2022-07-30T08:53:38.688Z"
   },
   {
    "duration": 13,
    "start_time": "2022-07-30T08:53:38.696Z"
   },
   {
    "duration": 13,
    "start_time": "2022-07-30T08:53:38.710Z"
   },
   {
    "duration": 4,
    "start_time": "2022-07-30T08:53:38.724Z"
   },
   {
    "duration": 22,
    "start_time": "2022-07-30T08:53:38.730Z"
   },
   {
    "duration": 7,
    "start_time": "2022-07-30T08:53:38.773Z"
   },
   {
    "duration": 20,
    "start_time": "2022-07-30T08:53:38.781Z"
   },
   {
    "duration": 11,
    "start_time": "2022-07-30T08:53:38.802Z"
   },
   {
    "duration": 14,
    "start_time": "2022-07-30T08:53:38.815Z"
   },
   {
    "duration": 18,
    "start_time": "2022-07-30T08:53:38.831Z"
   },
   {
    "duration": 16,
    "start_time": "2022-07-30T08:53:38.873Z"
   },
   {
    "duration": 19,
    "start_time": "2022-07-30T08:53:38.891Z"
   },
   {
    "duration": 40,
    "start_time": "2022-07-30T08:53:38.911Z"
   },
   {
    "duration": 33,
    "start_time": "2022-07-30T08:53:38.953Z"
   },
   {
    "duration": 147,
    "start_time": "2022-07-30T08:53:38.989Z"
   },
   {
    "duration": 11,
    "start_time": "2022-07-30T08:53:39.137Z"
   },
   {
    "duration": 93,
    "start_time": "2022-07-30T08:53:39.149Z"
   },
   {
    "duration": 29,
    "start_time": "2022-07-30T08:53:39.245Z"
   },
   {
    "duration": 181,
    "start_time": "2022-07-30T08:53:39.275Z"
   },
   {
    "duration": 17,
    "start_time": "2022-07-30T08:53:39.457Z"
   },
   {
    "duration": 126,
    "start_time": "2022-07-30T08:53:39.476Z"
   },
   {
    "duration": 162,
    "start_time": "2022-07-30T08:53:39.603Z"
   },
   {
    "duration": 16,
    "start_time": "2022-07-30T08:53:39.766Z"
   },
   {
    "duration": 19,
    "start_time": "2022-07-30T08:53:39.784Z"
   },
   {
    "duration": 169,
    "start_time": "2022-07-30T08:53:39.805Z"
   },
   {
    "duration": 15,
    "start_time": "2022-07-30T08:53:39.975Z"
   },
   {
    "duration": 192,
    "start_time": "2022-07-30T08:53:39.992Z"
   },
   {
    "duration": 2328,
    "start_time": "2022-07-30T08:53:40.186Z"
   },
   {
    "duration": 1139,
    "start_time": "2022-07-30T08:54:07.042Z"
   },
   {
    "duration": 64,
    "start_time": "2022-07-30T08:54:08.183Z"
   },
   {
    "duration": 22,
    "start_time": "2022-07-30T08:54:08.249Z"
   },
   {
    "duration": 7,
    "start_time": "2022-07-30T08:54:08.273Z"
   },
   {
    "duration": 30,
    "start_time": "2022-07-30T08:54:08.282Z"
   },
   {
    "duration": 17,
    "start_time": "2022-07-30T08:54:08.313Z"
   },
   {
    "duration": 15,
    "start_time": "2022-07-30T08:54:08.332Z"
   },
   {
    "duration": 33,
    "start_time": "2022-07-30T08:54:08.349Z"
   },
   {
    "duration": 23,
    "start_time": "2022-07-30T08:54:08.384Z"
   },
   {
    "duration": 16,
    "start_time": "2022-07-30T08:54:08.409Z"
   },
   {
    "duration": 7,
    "start_time": "2022-07-30T08:54:08.426Z"
   },
   {
    "duration": 7,
    "start_time": "2022-07-30T08:54:08.434Z"
   },
   {
    "duration": 12,
    "start_time": "2022-07-30T08:54:08.443Z"
   },
   {
    "duration": 7,
    "start_time": "2022-07-30T08:54:08.456Z"
   },
   {
    "duration": 8,
    "start_time": "2022-07-30T08:54:08.464Z"
   },
   {
    "duration": 5,
    "start_time": "2022-07-30T08:54:08.474Z"
   },
   {
    "duration": 14,
    "start_time": "2022-07-30T08:54:08.480Z"
   },
   {
    "duration": 9,
    "start_time": "2022-07-30T08:54:08.495Z"
   },
   {
    "duration": 10,
    "start_time": "2022-07-30T08:54:08.505Z"
   },
   {
    "duration": 24,
    "start_time": "2022-07-30T08:54:08.516Z"
   },
   {
    "duration": 22,
    "start_time": "2022-07-30T08:54:08.541Z"
   },
   {
    "duration": 21,
    "start_time": "2022-07-30T08:54:08.565Z"
   },
   {
    "duration": 41,
    "start_time": "2022-07-30T08:54:08.587Z"
   },
   {
    "duration": 13,
    "start_time": "2022-07-30T08:54:08.630Z"
   },
   {
    "duration": 237,
    "start_time": "2022-07-30T08:54:08.644Z"
   },
   {
    "duration": 14,
    "start_time": "2022-07-30T08:54:08.883Z"
   },
   {
    "duration": 117,
    "start_time": "2022-07-30T08:54:08.899Z"
   },
   {
    "duration": 19,
    "start_time": "2022-07-30T08:54:09.019Z"
   },
   {
    "duration": 181,
    "start_time": "2022-07-30T08:54:09.039Z"
   },
   {
    "duration": 10,
    "start_time": "2022-07-30T08:54:09.222Z"
   },
   {
    "duration": 126,
    "start_time": "2022-07-30T08:54:09.233Z"
   },
   {
    "duration": 153,
    "start_time": "2022-07-30T08:54:09.360Z"
   },
   {
    "duration": 11,
    "start_time": "2022-07-30T08:54:09.515Z"
   },
   {
    "duration": 44,
    "start_time": "2022-07-30T08:54:09.527Z"
   },
   {
    "duration": 147,
    "start_time": "2022-07-30T08:54:09.573Z"
   },
   {
    "duration": 15,
    "start_time": "2022-07-30T08:54:09.721Z"
   },
   {
    "duration": 189,
    "start_time": "2022-07-30T08:54:09.737Z"
   },
   {
    "duration": 1917,
    "start_time": "2022-07-30T08:54:09.927Z"
   },
   {
    "duration": 2044,
    "start_time": "2022-07-30T08:55:03.635Z"
   },
   {
    "duration": 4,
    "start_time": "2022-07-30T08:55:28.619Z"
   },
   {
    "duration": 2004,
    "start_time": "2022-07-30T08:55:37.859Z"
   },
   {
    "duration": 35,
    "start_time": "2022-07-30T08:56:45.163Z"
   },
   {
    "duration": 2558,
    "start_time": "2022-07-30T09:01:51.862Z"
   },
   {
    "duration": 17,
    "start_time": "2022-07-30T09:03:37.807Z"
   },
   {
    "duration": 1223,
    "start_time": "2022-07-30T09:05:46.558Z"
   },
   {
    "duration": 964,
    "start_time": "2022-07-30T09:06:00.847Z"
   },
   {
    "duration": 1074,
    "start_time": "2022-07-30T09:06:18.142Z"
   },
   {
    "duration": 912,
    "start_time": "2022-07-30T09:07:01.512Z"
   },
   {
    "duration": 25,
    "start_time": "2022-07-30T09:07:25.654Z"
   },
   {
    "duration": 32,
    "start_time": "2022-07-30T09:07:37.775Z"
   },
   {
    "duration": 8,
    "start_time": "2022-07-30T09:14:16.872Z"
   },
   {
    "duration": 1026,
    "start_time": "2022-07-30T09:14:47.393Z"
   },
   {
    "duration": 7,
    "start_time": "2022-07-30T09:14:58.816Z"
   },
   {
    "duration": 11,
    "start_time": "2022-07-30T09:18:15.562Z"
   },
   {
    "duration": 13,
    "start_time": "2022-07-30T09:18:20.202Z"
   },
   {
    "duration": 12,
    "start_time": "2022-07-30T09:20:02.155Z"
   },
   {
    "duration": 18,
    "start_time": "2022-07-30T09:20:11.050Z"
   },
   {
    "duration": 279,
    "start_time": "2022-07-30T09:21:58.491Z"
   },
   {
    "duration": 16,
    "start_time": "2022-07-30T09:23:02.452Z"
   },
   {
    "duration": 13,
    "start_time": "2022-07-30T09:23:06.763Z"
   },
   {
    "duration": 35,
    "start_time": "2022-07-30T09:23:20.458Z"
   },
   {
    "duration": 10,
    "start_time": "2022-07-30T09:24:47.051Z"
   },
   {
    "duration": 12,
    "start_time": "2022-07-30T09:25:13.389Z"
   },
   {
    "duration": 10,
    "start_time": "2022-07-30T09:25:22.357Z"
   },
   {
    "duration": 8,
    "start_time": "2022-07-30T09:25:47.685Z"
   },
   {
    "duration": 4,
    "start_time": "2022-07-30T09:26:14.252Z"
   },
   {
    "duration": 1299,
    "start_time": "2022-07-30T09:26:31.508Z"
   },
   {
    "duration": 61,
    "start_time": "2022-07-30T09:26:32.809Z"
   },
   {
    "duration": 26,
    "start_time": "2022-07-30T09:26:32.873Z"
   },
   {
    "duration": 8,
    "start_time": "2022-07-30T09:26:32.901Z"
   },
   {
    "duration": 45,
    "start_time": "2022-07-30T09:26:32.911Z"
   },
   {
    "duration": 40,
    "start_time": "2022-07-30T09:26:32.958Z"
   },
   {
    "duration": 18,
    "start_time": "2022-07-30T09:26:33.000Z"
   },
   {
    "duration": 12,
    "start_time": "2022-07-30T09:26:33.019Z"
   },
   {
    "duration": 26,
    "start_time": "2022-07-30T09:26:33.032Z"
   },
   {
    "duration": 29,
    "start_time": "2022-07-30T09:26:33.061Z"
   },
   {
    "duration": 7,
    "start_time": "2022-07-30T09:26:33.092Z"
   },
   {
    "duration": 8,
    "start_time": "2022-07-30T09:26:33.100Z"
   },
   {
    "duration": 12,
    "start_time": "2022-07-30T09:26:33.110Z"
   },
   {
    "duration": 4,
    "start_time": "2022-07-30T09:26:33.124Z"
   },
   {
    "duration": 10,
    "start_time": "2022-07-30T09:26:33.129Z"
   },
   {
    "duration": 7,
    "start_time": "2022-07-30T09:26:33.141Z"
   },
   {
    "duration": 22,
    "start_time": "2022-07-30T09:26:33.174Z"
   },
   {
    "duration": 11,
    "start_time": "2022-07-30T09:26:33.197Z"
   },
   {
    "duration": 12,
    "start_time": "2022-07-30T09:26:33.209Z"
   },
   {
    "duration": 14,
    "start_time": "2022-07-30T09:26:33.223Z"
   },
   {
    "duration": 43,
    "start_time": "2022-07-30T09:26:33.239Z"
   },
   {
    "duration": 17,
    "start_time": "2022-07-30T09:26:33.286Z"
   },
   {
    "duration": 54,
    "start_time": "2022-07-30T09:26:33.305Z"
   },
   {
    "duration": 33,
    "start_time": "2022-07-30T09:26:33.360Z"
   },
   {
    "duration": 206,
    "start_time": "2022-07-30T09:26:33.395Z"
   },
   {
    "duration": 13,
    "start_time": "2022-07-30T09:26:33.603Z"
   },
   {
    "duration": 108,
    "start_time": "2022-07-30T09:26:33.618Z"
   },
   {
    "duration": 22,
    "start_time": "2022-07-30T09:26:33.730Z"
   },
   {
    "duration": 211,
    "start_time": "2022-07-30T09:26:33.753Z"
   },
   {
    "duration": 23,
    "start_time": "2022-07-30T09:26:33.966Z"
   },
   {
    "duration": 153,
    "start_time": "2022-07-30T09:26:33.993Z"
   },
   {
    "duration": 176,
    "start_time": "2022-07-30T09:26:34.147Z"
   },
   {
    "duration": 11,
    "start_time": "2022-07-30T09:26:34.325Z"
   },
   {
    "duration": 46,
    "start_time": "2022-07-30T09:26:34.337Z"
   },
   {
    "duration": 206,
    "start_time": "2022-07-30T09:26:34.384Z"
   },
   {
    "duration": 16,
    "start_time": "2022-07-30T09:26:34.592Z"
   },
   {
    "duration": 193,
    "start_time": "2022-07-30T09:26:34.610Z"
   },
   {
    "duration": 2534,
    "start_time": "2022-07-30T09:26:34.805Z"
   },
   {
    "duration": 51,
    "start_time": "2022-07-30T09:26:37.340Z"
   },
   {
    "duration": 5,
    "start_time": "2022-07-30T09:26:37.393Z"
   },
   {
    "duration": 9,
    "start_time": "2022-07-30T09:26:37.399Z"
   },
   {
    "duration": 106,
    "start_time": "2022-07-30T09:26:37.409Z"
   },
   {
    "duration": 0,
    "start_time": "2022-07-30T09:26:37.516Z"
   },
   {
    "duration": 0,
    "start_time": "2022-07-30T09:26:37.518Z"
   },
   {
    "duration": 0,
    "start_time": "2022-07-30T09:26:37.518Z"
   },
   {
    "duration": 0,
    "start_time": "2022-07-30T09:26:37.521Z"
   },
   {
    "duration": 0,
    "start_time": "2022-07-30T09:26:37.521Z"
   },
   {
    "duration": 0,
    "start_time": "2022-07-30T09:26:37.522Z"
   },
   {
    "duration": 10,
    "start_time": "2022-07-30T09:28:05.793Z"
   },
   {
    "duration": 1089,
    "start_time": "2022-07-30T09:28:13.129Z"
   },
   {
    "duration": 67,
    "start_time": "2022-07-30T09:28:14.220Z"
   },
   {
    "duration": 28,
    "start_time": "2022-07-30T09:28:14.289Z"
   },
   {
    "duration": 7,
    "start_time": "2022-07-30T09:28:14.319Z"
   },
   {
    "duration": 30,
    "start_time": "2022-07-30T09:28:14.327Z"
   },
   {
    "duration": 30,
    "start_time": "2022-07-30T09:28:14.359Z"
   },
   {
    "duration": 10,
    "start_time": "2022-07-30T09:28:14.391Z"
   },
   {
    "duration": 7,
    "start_time": "2022-07-30T09:28:14.402Z"
   },
   {
    "duration": 21,
    "start_time": "2022-07-30T09:28:14.410Z"
   },
   {
    "duration": 13,
    "start_time": "2022-07-30T09:28:14.434Z"
   },
   {
    "duration": 9,
    "start_time": "2022-07-30T09:28:14.449Z"
   },
   {
    "duration": 32,
    "start_time": "2022-07-30T09:28:14.460Z"
   },
   {
    "duration": 36,
    "start_time": "2022-07-30T09:28:14.494Z"
   },
   {
    "duration": 5,
    "start_time": "2022-07-30T09:28:14.532Z"
   },
   {
    "duration": 28,
    "start_time": "2022-07-30T09:28:14.539Z"
   },
   {
    "duration": 31,
    "start_time": "2022-07-30T09:28:14.569Z"
   },
   {
    "duration": 33,
    "start_time": "2022-07-30T09:28:14.602Z"
   },
   {
    "duration": 10,
    "start_time": "2022-07-30T09:28:14.636Z"
   },
   {
    "duration": 19,
    "start_time": "2022-07-30T09:28:14.648Z"
   },
   {
    "duration": 21,
    "start_time": "2022-07-30T09:28:14.669Z"
   },
   {
    "duration": 15,
    "start_time": "2022-07-30T09:28:14.692Z"
   },
   {
    "duration": 23,
    "start_time": "2022-07-30T09:28:14.709Z"
   },
   {
    "duration": 61,
    "start_time": "2022-07-30T09:28:14.733Z"
   },
   {
    "duration": 15,
    "start_time": "2022-07-30T09:28:14.796Z"
   },
   {
    "duration": 148,
    "start_time": "2022-07-30T09:28:14.813Z"
   },
   {
    "duration": 26,
    "start_time": "2022-07-30T09:28:14.963Z"
   },
   {
    "duration": 100,
    "start_time": "2022-07-30T09:28:14.990Z"
   },
   {
    "duration": 22,
    "start_time": "2022-07-30T09:28:15.093Z"
   },
   {
    "duration": 183,
    "start_time": "2022-07-30T09:28:15.117Z"
   },
   {
    "duration": 13,
    "start_time": "2022-07-30T09:28:15.302Z"
   },
   {
    "duration": 140,
    "start_time": "2022-07-30T09:28:15.316Z"
   },
   {
    "duration": 175,
    "start_time": "2022-07-30T09:28:15.458Z"
   },
   {
    "duration": 10,
    "start_time": "2022-07-30T09:28:15.635Z"
   },
   {
    "duration": 33,
    "start_time": "2022-07-30T09:28:15.647Z"
   },
   {
    "duration": 162,
    "start_time": "2022-07-30T09:28:15.682Z"
   },
   {
    "duration": 16,
    "start_time": "2022-07-30T09:28:15.846Z"
   },
   {
    "duration": 185,
    "start_time": "2022-07-30T09:28:15.873Z"
   },
   {
    "duration": 2095,
    "start_time": "2022-07-30T09:28:16.060Z"
   },
   {
    "duration": 39,
    "start_time": "2022-07-30T09:28:18.157Z"
   },
   {
    "duration": 20,
    "start_time": "2022-07-30T09:28:18.197Z"
   },
   {
    "duration": 7,
    "start_time": "2022-07-30T09:28:18.218Z"
   },
   {
    "duration": 10,
    "start_time": "2022-07-30T09:28:18.226Z"
   },
   {
    "duration": 23,
    "start_time": "2022-07-30T09:28:18.237Z"
   },
   {
    "duration": 5,
    "start_time": "2022-07-30T09:28:18.261Z"
   },
   {
    "duration": 21,
    "start_time": "2022-07-30T09:28:18.267Z"
   },
   {
    "duration": 25,
    "start_time": "2022-07-30T09:28:18.289Z"
   },
   {
    "duration": 21,
    "start_time": "2022-07-30T09:28:18.316Z"
   },
   {
    "duration": 18,
    "start_time": "2022-07-30T09:28:18.339Z"
   },
   {
    "duration": 9,
    "start_time": "2022-07-30T09:28:27.111Z"
   },
   {
    "duration": 6,
    "start_time": "2022-07-30T09:30:27.650Z"
   },
   {
    "duration": 116,
    "start_time": "2022-07-30T09:30:38.488Z"
   },
   {
    "duration": 1162,
    "start_time": "2022-07-30T09:31:08.134Z"
   },
   {
    "duration": 64,
    "start_time": "2022-07-30T09:31:09.298Z"
   },
   {
    "duration": 34,
    "start_time": "2022-07-30T09:31:09.363Z"
   },
   {
    "duration": 10,
    "start_time": "2022-07-30T09:31:09.399Z"
   },
   {
    "duration": 33,
    "start_time": "2022-07-30T09:31:09.411Z"
   },
   {
    "duration": 16,
    "start_time": "2022-07-30T09:31:09.447Z"
   },
   {
    "duration": 28,
    "start_time": "2022-07-30T09:31:09.465Z"
   },
   {
    "duration": 13,
    "start_time": "2022-07-30T09:31:09.495Z"
   },
   {
    "duration": 26,
    "start_time": "2022-07-30T09:31:09.510Z"
   },
   {
    "duration": 14,
    "start_time": "2022-07-30T09:31:09.538Z"
   },
   {
    "duration": 33,
    "start_time": "2022-07-30T09:31:09.554Z"
   },
   {
    "duration": 15,
    "start_time": "2022-07-30T09:31:09.589Z"
   },
   {
    "duration": 13,
    "start_time": "2022-07-30T09:31:09.606Z"
   },
   {
    "duration": 4,
    "start_time": "2022-07-30T09:31:09.620Z"
   },
   {
    "duration": 10,
    "start_time": "2022-07-30T09:31:09.626Z"
   },
   {
    "duration": 10,
    "start_time": "2022-07-30T09:31:09.637Z"
   },
   {
    "duration": 28,
    "start_time": "2022-07-30T09:31:09.648Z"
   },
   {
    "duration": 13,
    "start_time": "2022-07-30T09:31:09.685Z"
   },
   {
    "duration": 14,
    "start_time": "2022-07-30T09:31:09.700Z"
   },
   {
    "duration": 16,
    "start_time": "2022-07-30T09:31:09.716Z"
   },
   {
    "duration": 16,
    "start_time": "2022-07-30T09:31:09.734Z"
   },
   {
    "duration": 39,
    "start_time": "2022-07-30T09:31:09.751Z"
   },
   {
    "duration": 51,
    "start_time": "2022-07-30T09:31:09.792Z"
   },
   {
    "duration": 18,
    "start_time": "2022-07-30T09:31:09.845Z"
   },
   {
    "duration": 186,
    "start_time": "2022-07-30T09:31:09.865Z"
   },
   {
    "duration": 24,
    "start_time": "2022-07-30T09:31:10.054Z"
   },
   {
    "duration": 94,
    "start_time": "2022-07-30T09:31:10.079Z"
   },
   {
    "duration": 25,
    "start_time": "2022-07-30T09:31:10.179Z"
   },
   {
    "duration": 195,
    "start_time": "2022-07-30T09:31:10.206Z"
   },
   {
    "duration": 11,
    "start_time": "2022-07-30T09:31:10.402Z"
   },
   {
    "duration": 145,
    "start_time": "2022-07-30T09:31:10.414Z"
   },
   {
    "duration": 254,
    "start_time": "2022-07-30T09:31:10.562Z"
   },
   {
    "duration": 16,
    "start_time": "2022-07-30T09:31:10.817Z"
   },
   {
    "duration": 22,
    "start_time": "2022-07-30T09:31:10.835Z"
   },
   {
    "duration": 181,
    "start_time": "2022-07-30T09:31:10.872Z"
   },
   {
    "duration": 30,
    "start_time": "2022-07-30T09:31:11.055Z"
   },
   {
    "duration": 200,
    "start_time": "2022-07-30T09:31:11.088Z"
   },
   {
    "duration": 2256,
    "start_time": "2022-07-30T09:31:11.291Z"
   },
   {
    "duration": 54,
    "start_time": "2022-07-30T09:31:13.549Z"
   },
   {
    "duration": 14,
    "start_time": "2022-07-30T09:31:13.607Z"
   },
   {
    "duration": 11,
    "start_time": "2022-07-30T09:31:13.623Z"
   },
   {
    "duration": 14,
    "start_time": "2022-07-30T09:31:13.636Z"
   },
   {
    "duration": 21,
    "start_time": "2022-07-30T09:31:13.652Z"
   },
   {
    "duration": 33,
    "start_time": "2022-07-30T09:31:13.675Z"
   },
   {
    "duration": 13,
    "start_time": "2022-07-30T09:31:13.710Z"
   },
   {
    "duration": 4,
    "start_time": "2022-07-30T09:31:13.724Z"
   },
   {
    "duration": 13,
    "start_time": "2022-07-30T09:31:13.730Z"
   },
   {
    "duration": 13,
    "start_time": "2022-07-30T09:31:13.746Z"
   },
   {
    "duration": 10,
    "start_time": "2022-07-30T09:32:07.708Z"
   },
   {
    "duration": 1134,
    "start_time": "2022-07-30T09:32:49.861Z"
   },
   {
    "duration": 61,
    "start_time": "2022-07-30T09:32:50.998Z"
   },
   {
    "duration": 36,
    "start_time": "2022-07-30T09:32:51.060Z"
   },
   {
    "duration": 10,
    "start_time": "2022-07-30T09:32:51.098Z"
   },
   {
    "duration": 58,
    "start_time": "2022-07-30T09:32:51.109Z"
   },
   {
    "duration": 30,
    "start_time": "2022-07-30T09:32:51.169Z"
   },
   {
    "duration": 32,
    "start_time": "2022-07-30T09:32:51.201Z"
   },
   {
    "duration": 23,
    "start_time": "2022-07-30T09:32:51.235Z"
   },
   {
    "duration": 42,
    "start_time": "2022-07-30T09:32:51.260Z"
   },
   {
    "duration": 19,
    "start_time": "2022-07-30T09:32:51.305Z"
   },
   {
    "duration": 11,
    "start_time": "2022-07-30T09:32:51.326Z"
   },
   {
    "duration": 35,
    "start_time": "2022-07-30T09:32:51.338Z"
   },
   {
    "duration": 34,
    "start_time": "2022-07-30T09:32:51.374Z"
   },
   {
    "duration": 34,
    "start_time": "2022-07-30T09:32:51.409Z"
   },
   {
    "duration": 66,
    "start_time": "2022-07-30T09:32:51.446Z"
   },
   {
    "duration": 33,
    "start_time": "2022-07-30T09:32:51.514Z"
   },
   {
    "duration": 59,
    "start_time": "2022-07-30T09:32:51.549Z"
   },
   {
    "duration": 13,
    "start_time": "2022-07-30T09:32:51.610Z"
   },
   {
    "duration": 36,
    "start_time": "2022-07-30T09:32:51.625Z"
   },
   {
    "duration": 57,
    "start_time": "2022-07-30T09:32:51.665Z"
   },
   {
    "duration": 66,
    "start_time": "2022-07-30T09:32:51.724Z"
   },
   {
    "duration": 16,
    "start_time": "2022-07-30T09:32:51.792Z"
   },
   {
    "duration": 56,
    "start_time": "2022-07-30T09:32:51.809Z"
   },
   {
    "duration": 18,
    "start_time": "2022-07-30T09:32:51.867Z"
   },
   {
    "duration": 169,
    "start_time": "2022-07-30T09:32:51.886Z"
   },
   {
    "duration": 21,
    "start_time": "2022-07-30T09:32:52.057Z"
   },
   {
    "duration": 89,
    "start_time": "2022-07-30T09:32:52.081Z"
   },
   {
    "duration": 28,
    "start_time": "2022-07-30T09:32:52.174Z"
   },
   {
    "duration": 186,
    "start_time": "2022-07-30T09:32:52.204Z"
   },
   {
    "duration": 9,
    "start_time": "2022-07-30T09:32:52.392Z"
   },
   {
    "duration": 132,
    "start_time": "2022-07-30T09:32:52.403Z"
   },
   {
    "duration": 157,
    "start_time": "2022-07-30T09:32:52.536Z"
   },
   {
    "duration": 10,
    "start_time": "2022-07-30T09:32:52.695Z"
   },
   {
    "duration": 30,
    "start_time": "2022-07-30T09:32:52.706Z"
   },
   {
    "duration": 194,
    "start_time": "2022-07-30T09:32:52.737Z"
   },
   {
    "duration": 15,
    "start_time": "2022-07-30T09:32:52.933Z"
   },
   {
    "duration": 198,
    "start_time": "2022-07-30T09:32:52.950Z"
   },
   {
    "duration": 2485,
    "start_time": "2022-07-30T09:32:53.149Z"
   },
   {
    "duration": 34,
    "start_time": "2022-07-30T09:32:55.635Z"
   },
   {
    "duration": 35,
    "start_time": "2022-07-30T09:32:55.670Z"
   },
   {
    "duration": 30,
    "start_time": "2022-07-30T09:32:55.707Z"
   },
   {
    "duration": 25,
    "start_time": "2022-07-30T09:32:55.739Z"
   },
   {
    "duration": 55,
    "start_time": "2022-07-30T09:32:55.766Z"
   },
   {
    "duration": 9,
    "start_time": "2022-07-30T09:32:55.823Z"
   },
   {
    "duration": 39,
    "start_time": "2022-07-30T09:32:55.833Z"
   },
   {
    "duration": 40,
    "start_time": "2022-07-30T09:32:55.873Z"
   },
   {
    "duration": 32,
    "start_time": "2022-07-30T09:32:55.914Z"
   },
   {
    "duration": 123,
    "start_time": "2022-07-30T09:35:24.934Z"
   },
   {
    "duration": 7,
    "start_time": "2022-07-30T09:35:53.900Z"
   },
   {
    "duration": 13,
    "start_time": "2022-07-30T09:36:31.991Z"
   },
   {
    "duration": 12,
    "start_time": "2022-07-30T09:36:38.071Z"
   },
   {
    "duration": 11,
    "start_time": "2022-07-30T09:36:42.159Z"
   },
   {
    "duration": 7,
    "start_time": "2022-07-30T09:37:53.433Z"
   },
   {
    "duration": 13,
    "start_time": "2022-07-30T09:37:56.903Z"
   },
   {
    "duration": 8,
    "start_time": "2022-07-30T09:39:12.063Z"
   },
   {
    "duration": 15,
    "start_time": "2022-07-30T09:39:13.248Z"
   },
   {
    "duration": 26,
    "start_time": "2022-07-30T09:39:18.872Z"
   },
   {
    "duration": 1145,
    "start_time": "2022-07-30T09:39:29.492Z"
   },
   {
    "duration": 77,
    "start_time": "2022-07-30T09:39:30.639Z"
   },
   {
    "duration": 23,
    "start_time": "2022-07-30T09:39:30.718Z"
   },
   {
    "duration": 8,
    "start_time": "2022-07-30T09:39:30.742Z"
   },
   {
    "duration": 45,
    "start_time": "2022-07-30T09:39:30.752Z"
   },
   {
    "duration": 26,
    "start_time": "2022-07-30T09:39:30.802Z"
   },
   {
    "duration": 39,
    "start_time": "2022-07-30T09:39:30.829Z"
   },
   {
    "duration": 44,
    "start_time": "2022-07-30T09:39:30.869Z"
   },
   {
    "duration": 40,
    "start_time": "2022-07-30T09:39:30.915Z"
   },
   {
    "duration": 23,
    "start_time": "2022-07-30T09:39:30.957Z"
   },
   {
    "duration": 34,
    "start_time": "2022-07-30T09:39:30.983Z"
   },
   {
    "duration": 12,
    "start_time": "2022-07-30T09:39:31.019Z"
   },
   {
    "duration": 22,
    "start_time": "2022-07-30T09:39:31.032Z"
   },
   {
    "duration": 6,
    "start_time": "2022-07-30T09:39:31.057Z"
   },
   {
    "duration": 50,
    "start_time": "2022-07-30T09:39:31.064Z"
   },
   {
    "duration": 12,
    "start_time": "2022-07-30T09:39:31.116Z"
   },
   {
    "duration": 19,
    "start_time": "2022-07-30T09:39:31.129Z"
   },
   {
    "duration": 9,
    "start_time": "2022-07-30T09:39:31.149Z"
   },
   {
    "duration": 15,
    "start_time": "2022-07-30T09:39:31.159Z"
   },
   {
    "duration": 47,
    "start_time": "2022-07-30T09:39:31.176Z"
   },
   {
    "duration": 16,
    "start_time": "2022-07-30T09:39:31.225Z"
   },
   {
    "duration": 24,
    "start_time": "2022-07-30T09:39:31.242Z"
   },
   {
    "duration": 53,
    "start_time": "2022-07-30T09:39:31.268Z"
   },
   {
    "duration": 19,
    "start_time": "2022-07-30T09:39:31.323Z"
   },
   {
    "duration": 203,
    "start_time": "2022-07-30T09:39:31.344Z"
   },
   {
    "duration": 13,
    "start_time": "2022-07-30T09:39:31.549Z"
   },
   {
    "duration": 145,
    "start_time": "2022-07-30T09:39:31.564Z"
   },
   {
    "duration": 23,
    "start_time": "2022-07-30T09:39:31.711Z"
   },
   {
    "duration": 236,
    "start_time": "2022-07-30T09:39:31.736Z"
   },
   {
    "duration": 13,
    "start_time": "2022-07-30T09:39:31.980Z"
   },
   {
    "duration": 190,
    "start_time": "2022-07-30T09:39:31.995Z"
   },
   {
    "duration": 161,
    "start_time": "2022-07-30T09:39:32.187Z"
   },
   {
    "duration": 12,
    "start_time": "2022-07-30T09:39:32.350Z"
   },
   {
    "duration": 27,
    "start_time": "2022-07-30T09:39:32.379Z"
   },
   {
    "duration": 150,
    "start_time": "2022-07-30T09:39:32.408Z"
   },
   {
    "duration": 24,
    "start_time": "2022-07-30T09:39:32.559Z"
   },
   {
    "duration": 204,
    "start_time": "2022-07-30T09:39:32.585Z"
   },
   {
    "duration": 2606,
    "start_time": "2022-07-30T09:39:32.792Z"
   },
   {
    "duration": 35,
    "start_time": "2022-07-30T09:39:35.403Z"
   },
   {
    "duration": 7,
    "start_time": "2022-07-30T09:39:35.440Z"
   },
   {
    "duration": 54,
    "start_time": "2022-07-30T09:39:35.450Z"
   },
   {
    "duration": 34,
    "start_time": "2022-07-30T09:39:35.506Z"
   },
   {
    "duration": 86,
    "start_time": "2022-07-30T09:39:35.541Z"
   },
   {
    "duration": 9,
    "start_time": "2022-07-30T09:39:35.628Z"
   },
   {
    "duration": 27,
    "start_time": "2022-07-30T09:39:35.639Z"
   },
   {
    "duration": 41,
    "start_time": "2022-07-30T09:39:35.668Z"
   },
   {
    "duration": 25,
    "start_time": "2022-07-30T09:39:35.710Z"
   },
   {
    "duration": 35,
    "start_time": "2022-07-30T09:39:35.737Z"
   },
   {
    "duration": 37,
    "start_time": "2022-07-30T09:39:35.774Z"
   },
   {
    "duration": 35,
    "start_time": "2022-07-30T09:39:35.812Z"
   },
   {
    "duration": 1167,
    "start_time": "2022-07-30T09:40:39.240Z"
   },
   {
    "duration": 61,
    "start_time": "2022-07-30T09:40:40.409Z"
   },
   {
    "duration": 38,
    "start_time": "2022-07-30T09:40:40.471Z"
   },
   {
    "duration": 15,
    "start_time": "2022-07-30T09:40:40.511Z"
   },
   {
    "duration": 35,
    "start_time": "2022-07-30T09:40:40.528Z"
   },
   {
    "duration": 58,
    "start_time": "2022-07-30T09:40:40.564Z"
   },
   {
    "duration": 25,
    "start_time": "2022-07-30T09:40:40.624Z"
   },
   {
    "duration": 12,
    "start_time": "2022-07-30T09:40:40.651Z"
   },
   {
    "duration": 65,
    "start_time": "2022-07-30T09:40:40.665Z"
   },
   {
    "duration": 17,
    "start_time": "2022-07-30T09:40:40.733Z"
   },
   {
    "duration": 19,
    "start_time": "2022-07-30T09:40:40.751Z"
   },
   {
    "duration": 50,
    "start_time": "2022-07-30T09:40:40.771Z"
   },
   {
    "duration": 30,
    "start_time": "2022-07-30T09:40:40.823Z"
   },
   {
    "duration": 27,
    "start_time": "2022-07-30T09:40:40.855Z"
   },
   {
    "duration": 39,
    "start_time": "2022-07-30T09:40:40.884Z"
   },
   {
    "duration": 27,
    "start_time": "2022-07-30T09:40:40.925Z"
   },
   {
    "duration": 32,
    "start_time": "2022-07-30T09:40:40.954Z"
   },
   {
    "duration": 45,
    "start_time": "2022-07-30T09:40:40.996Z"
   },
   {
    "duration": 19,
    "start_time": "2022-07-30T09:40:41.043Z"
   },
   {
    "duration": 53,
    "start_time": "2022-07-30T09:40:41.064Z"
   },
   {
    "duration": 22,
    "start_time": "2022-07-30T09:40:41.119Z"
   },
   {
    "duration": 39,
    "start_time": "2022-07-30T09:40:41.143Z"
   },
   {
    "duration": 61,
    "start_time": "2022-07-30T09:40:41.184Z"
   },
   {
    "duration": 20,
    "start_time": "2022-07-30T09:40:41.246Z"
   },
   {
    "duration": 194,
    "start_time": "2022-07-30T09:40:41.267Z"
   },
   {
    "duration": 22,
    "start_time": "2022-07-30T09:40:41.462Z"
   },
   {
    "duration": 152,
    "start_time": "2022-07-30T09:40:41.485Z"
   },
   {
    "duration": 32,
    "start_time": "2022-07-30T09:40:41.641Z"
   },
   {
    "duration": 242,
    "start_time": "2022-07-30T09:40:41.675Z"
   },
   {
    "duration": 13,
    "start_time": "2022-07-30T09:40:41.919Z"
   },
   {
    "duration": 133,
    "start_time": "2022-07-30T09:40:41.934Z"
   },
   {
    "duration": 188,
    "start_time": "2022-07-30T09:40:42.068Z"
   },
   {
    "duration": 26,
    "start_time": "2022-07-30T09:40:42.258Z"
   },
   {
    "duration": 22,
    "start_time": "2022-07-30T09:40:42.288Z"
   },
   {
    "duration": 180,
    "start_time": "2022-07-30T09:40:42.311Z"
   },
   {
    "duration": 18,
    "start_time": "2022-07-30T09:40:42.493Z"
   },
   {
    "duration": 207,
    "start_time": "2022-07-30T09:40:42.513Z"
   },
   {
    "duration": 2223,
    "start_time": "2022-07-30T09:40:42.722Z"
   },
   {
    "duration": 69,
    "start_time": "2022-07-30T09:40:44.947Z"
   },
   {
    "duration": 12,
    "start_time": "2022-07-30T09:40:45.018Z"
   },
   {
    "duration": 29,
    "start_time": "2022-07-30T09:40:45.031Z"
   },
   {
    "duration": 20,
    "start_time": "2022-07-30T09:40:45.061Z"
   },
   {
    "duration": 35,
    "start_time": "2022-07-30T09:40:45.087Z"
   },
   {
    "duration": 6,
    "start_time": "2022-07-30T09:40:45.123Z"
   },
   {
    "duration": 9,
    "start_time": "2022-07-30T09:40:45.131Z"
   },
   {
    "duration": 8,
    "start_time": "2022-07-30T09:40:45.142Z"
   },
   {
    "duration": 9,
    "start_time": "2022-07-30T09:40:45.152Z"
   },
   {
    "duration": 15,
    "start_time": "2022-07-30T09:40:45.162Z"
   },
   {
    "duration": 7,
    "start_time": "2022-07-30T09:40:53.821Z"
   },
   {
    "duration": 12,
    "start_time": "2022-07-30T09:40:55.304Z"
   },
   {
    "duration": 1170,
    "start_time": "2022-07-30T09:42:23.565Z"
   },
   {
    "duration": 72,
    "start_time": "2022-07-30T09:42:24.737Z"
   },
   {
    "duration": 23,
    "start_time": "2022-07-30T09:42:24.810Z"
   },
   {
    "duration": 7,
    "start_time": "2022-07-30T09:42:24.835Z"
   },
   {
    "duration": 33,
    "start_time": "2022-07-30T09:42:24.843Z"
   },
   {
    "duration": 16,
    "start_time": "2022-07-30T09:42:24.886Z"
   },
   {
    "duration": 21,
    "start_time": "2022-07-30T09:42:24.906Z"
   },
   {
    "duration": 9,
    "start_time": "2022-07-30T09:42:24.928Z"
   },
   {
    "duration": 38,
    "start_time": "2022-07-30T09:42:24.938Z"
   },
   {
    "duration": 52,
    "start_time": "2022-07-30T09:42:24.978Z"
   },
   {
    "duration": 11,
    "start_time": "2022-07-30T09:42:25.031Z"
   },
   {
    "duration": 16,
    "start_time": "2022-07-30T09:42:25.043Z"
   },
   {
    "duration": 20,
    "start_time": "2022-07-30T09:42:25.060Z"
   },
   {
    "duration": 34,
    "start_time": "2022-07-30T09:42:25.081Z"
   },
   {
    "duration": 14,
    "start_time": "2022-07-30T09:42:25.117Z"
   },
   {
    "duration": 10,
    "start_time": "2022-07-30T09:42:25.133Z"
   },
   {
    "duration": 14,
    "start_time": "2022-07-30T09:42:25.144Z"
   },
   {
    "duration": 8,
    "start_time": "2022-07-30T09:42:25.159Z"
   },
   {
    "duration": 51,
    "start_time": "2022-07-30T09:42:25.169Z"
   },
   {
    "duration": 12,
    "start_time": "2022-07-30T09:42:25.222Z"
   },
   {
    "duration": 24,
    "start_time": "2022-07-30T09:42:25.236Z"
   },
   {
    "duration": 19,
    "start_time": "2022-07-30T09:42:25.261Z"
   },
   {
    "duration": 46,
    "start_time": "2022-07-30T09:42:25.281Z"
   },
   {
    "duration": 16,
    "start_time": "2022-07-30T09:42:25.329Z"
   },
   {
    "duration": 162,
    "start_time": "2022-07-30T09:42:25.346Z"
   },
   {
    "duration": 11,
    "start_time": "2022-07-30T09:42:25.509Z"
   },
   {
    "duration": 99,
    "start_time": "2022-07-30T09:42:25.522Z"
   },
   {
    "duration": 20,
    "start_time": "2022-07-30T09:42:25.624Z"
   },
   {
    "duration": 198,
    "start_time": "2022-07-30T09:42:25.646Z"
   },
   {
    "duration": 11,
    "start_time": "2022-07-30T09:42:25.846Z"
   },
   {
    "duration": 152,
    "start_time": "2022-07-30T09:42:25.858Z"
   },
   {
    "duration": 187,
    "start_time": "2022-07-30T09:42:26.011Z"
   },
   {
    "duration": 13,
    "start_time": "2022-07-30T09:42:26.200Z"
   },
   {
    "duration": 16,
    "start_time": "2022-07-30T09:42:26.214Z"
   },
   {
    "duration": 169,
    "start_time": "2022-07-30T09:42:26.231Z"
   },
   {
    "duration": 16,
    "start_time": "2022-07-30T09:42:26.401Z"
   },
   {
    "duration": 187,
    "start_time": "2022-07-30T09:42:26.418Z"
   },
   {
    "duration": 2058,
    "start_time": "2022-07-30T09:42:26.608Z"
   },
   {
    "duration": 44,
    "start_time": "2022-07-30T09:42:28.668Z"
   },
   {
    "duration": 14,
    "start_time": "2022-07-30T09:42:28.713Z"
   },
   {
    "duration": 13,
    "start_time": "2022-07-30T09:42:28.728Z"
   },
   {
    "duration": 36,
    "start_time": "2022-07-30T09:42:28.743Z"
   },
   {
    "duration": 52,
    "start_time": "2022-07-30T09:42:28.785Z"
   },
   {
    "duration": 12,
    "start_time": "2022-07-30T09:42:28.839Z"
   },
   {
    "duration": 24,
    "start_time": "2022-07-30T09:42:28.852Z"
   },
   {
    "duration": 41,
    "start_time": "2022-07-30T09:42:28.878Z"
   },
   {
    "duration": 14,
    "start_time": "2022-07-30T09:42:28.921Z"
   },
   {
    "duration": 9,
    "start_time": "2022-07-30T09:42:28.937Z"
   },
   {
    "duration": 11,
    "start_time": "2022-07-30T09:42:38.287Z"
   },
   {
    "duration": 16,
    "start_time": "2022-07-30T09:42:39.550Z"
   },
   {
    "duration": 115,
    "start_time": "2022-07-30T09:49:43.456Z"
   },
   {
    "duration": 1126,
    "start_time": "2022-07-30T09:49:51.912Z"
   },
   {
    "duration": 69,
    "start_time": "2022-07-30T09:49:53.040Z"
   },
   {
    "duration": 23,
    "start_time": "2022-07-30T09:49:53.110Z"
   },
   {
    "duration": 7,
    "start_time": "2022-07-30T09:49:53.134Z"
   },
   {
    "duration": 36,
    "start_time": "2022-07-30T09:49:53.143Z"
   },
   {
    "duration": 20,
    "start_time": "2022-07-30T09:49:53.180Z"
   },
   {
    "duration": 23,
    "start_time": "2022-07-30T09:49:53.202Z"
   },
   {
    "duration": 9,
    "start_time": "2022-07-30T09:49:53.227Z"
   },
   {
    "duration": 19,
    "start_time": "2022-07-30T09:49:53.237Z"
   },
   {
    "duration": 26,
    "start_time": "2022-07-30T09:49:53.258Z"
   },
   {
    "duration": 8,
    "start_time": "2022-07-30T09:49:53.285Z"
   },
   {
    "duration": 19,
    "start_time": "2022-07-30T09:49:53.294Z"
   },
   {
    "duration": 13,
    "start_time": "2022-07-30T09:49:53.314Z"
   },
   {
    "duration": 4,
    "start_time": "2022-07-30T09:49:53.329Z"
   },
   {
    "duration": 10,
    "start_time": "2022-07-30T09:49:53.334Z"
   },
   {
    "duration": 5,
    "start_time": "2022-07-30T09:49:53.346Z"
   },
   {
    "duration": 24,
    "start_time": "2022-07-30T09:49:53.353Z"
   },
   {
    "duration": 15,
    "start_time": "2022-07-30T09:49:53.381Z"
   },
   {
    "duration": 12,
    "start_time": "2022-07-30T09:49:53.405Z"
   },
   {
    "duration": 17,
    "start_time": "2022-07-30T09:49:53.419Z"
   },
   {
    "duration": 14,
    "start_time": "2022-07-30T09:49:53.438Z"
   },
   {
    "duration": 23,
    "start_time": "2022-07-30T09:49:53.453Z"
   },
   {
    "duration": 57,
    "start_time": "2022-07-30T09:49:53.479Z"
   },
   {
    "duration": 13,
    "start_time": "2022-07-30T09:49:53.537Z"
   },
   {
    "duration": 151,
    "start_time": "2022-07-30T09:49:53.551Z"
   },
   {
    "duration": 11,
    "start_time": "2022-07-30T09:49:53.706Z"
   },
   {
    "duration": 91,
    "start_time": "2022-07-30T09:49:53.719Z"
   },
   {
    "duration": 22,
    "start_time": "2022-07-30T09:49:53.812Z"
   },
   {
    "duration": 197,
    "start_time": "2022-07-30T09:49:53.836Z"
   },
   {
    "duration": 10,
    "start_time": "2022-07-30T09:49:54.035Z"
   },
   {
    "duration": 148,
    "start_time": "2022-07-30T09:49:54.046Z"
   },
   {
    "duration": 160,
    "start_time": "2022-07-30T09:49:54.199Z"
   },
   {
    "duration": 13,
    "start_time": "2022-07-30T09:49:54.361Z"
   },
   {
    "duration": 43,
    "start_time": "2022-07-30T09:49:54.375Z"
   },
   {
    "duration": 169,
    "start_time": "2022-07-30T09:49:54.419Z"
   },
   {
    "duration": 17,
    "start_time": "2022-07-30T09:49:54.595Z"
   },
   {
    "duration": 184,
    "start_time": "2022-07-30T09:49:54.614Z"
   },
   {
    "duration": 2766,
    "start_time": "2022-07-30T09:49:54.800Z"
   },
   {
    "duration": 43,
    "start_time": "2022-07-30T09:49:57.568Z"
   },
   {
    "duration": 8,
    "start_time": "2022-07-30T09:49:57.612Z"
   },
   {
    "duration": 6,
    "start_time": "2022-07-30T09:49:57.624Z"
   },
   {
    "duration": 10,
    "start_time": "2022-07-30T09:49:57.631Z"
   },
   {
    "duration": 40,
    "start_time": "2022-07-30T09:49:57.643Z"
   },
   {
    "duration": 12,
    "start_time": "2022-07-30T09:49:57.684Z"
   },
   {
    "duration": 19,
    "start_time": "2022-07-30T09:49:57.697Z"
   },
   {
    "duration": 9,
    "start_time": "2022-07-30T09:49:57.718Z"
   },
   {
    "duration": 133,
    "start_time": "2022-07-30T09:50:06.896Z"
   },
   {
    "duration": 10,
    "start_time": "2022-07-30T09:50:32.813Z"
   },
   {
    "duration": 12,
    "start_time": "2022-07-30T09:53:59.022Z"
   },
   {
    "duration": 13,
    "start_time": "2022-07-30T09:54:00.341Z"
   },
   {
    "duration": 34,
    "start_time": "2022-07-30T09:54:00.966Z"
   },
   {
    "duration": 1091,
    "start_time": "2022-07-30T09:54:18.842Z"
   },
   {
    "duration": 66,
    "start_time": "2022-07-30T09:54:19.934Z"
   },
   {
    "duration": 23,
    "start_time": "2022-07-30T09:54:20.002Z"
   },
   {
    "duration": 8,
    "start_time": "2022-07-30T09:54:20.027Z"
   },
   {
    "duration": 51,
    "start_time": "2022-07-30T09:54:20.037Z"
   },
   {
    "duration": 14,
    "start_time": "2022-07-30T09:54:20.090Z"
   },
   {
    "duration": 14,
    "start_time": "2022-07-30T09:54:20.106Z"
   },
   {
    "duration": 5,
    "start_time": "2022-07-30T09:54:20.122Z"
   },
   {
    "duration": 20,
    "start_time": "2022-07-30T09:54:20.128Z"
   },
   {
    "duration": 41,
    "start_time": "2022-07-30T09:54:20.150Z"
   },
   {
    "duration": 9,
    "start_time": "2022-07-30T09:54:20.192Z"
   },
   {
    "duration": 7,
    "start_time": "2022-07-30T09:54:20.203Z"
   },
   {
    "duration": 12,
    "start_time": "2022-07-30T09:54:20.212Z"
   },
   {
    "duration": 5,
    "start_time": "2022-07-30T09:54:20.226Z"
   },
   {
    "duration": 9,
    "start_time": "2022-07-30T09:54:20.233Z"
   },
   {
    "duration": 34,
    "start_time": "2022-07-30T09:54:20.243Z"
   },
   {
    "duration": 34,
    "start_time": "2022-07-30T09:54:20.278Z"
   },
   {
    "duration": 10,
    "start_time": "2022-07-30T09:54:20.313Z"
   },
   {
    "duration": 14,
    "start_time": "2022-07-30T09:54:20.324Z"
   },
   {
    "duration": 14,
    "start_time": "2022-07-30T09:54:20.339Z"
   },
   {
    "duration": 30,
    "start_time": "2022-07-30T09:54:20.355Z"
   },
   {
    "duration": 18,
    "start_time": "2022-07-30T09:54:20.387Z"
   },
   {
    "duration": 57,
    "start_time": "2022-07-30T09:54:20.407Z"
   },
   {
    "duration": 26,
    "start_time": "2022-07-30T09:54:20.466Z"
   },
   {
    "duration": 152,
    "start_time": "2022-07-30T09:54:20.494Z"
   },
   {
    "duration": 11,
    "start_time": "2022-07-30T09:54:20.647Z"
   },
   {
    "duration": 81,
    "start_time": "2022-07-30T09:54:20.677Z"
   },
   {
    "duration": 27,
    "start_time": "2022-07-30T09:54:20.761Z"
   },
   {
    "duration": 192,
    "start_time": "2022-07-30T09:54:20.789Z"
   },
   {
    "duration": 26,
    "start_time": "2022-07-30T09:54:20.984Z"
   },
   {
    "duration": 123,
    "start_time": "2022-07-30T09:54:21.011Z"
   },
   {
    "duration": 178,
    "start_time": "2022-07-30T09:54:21.137Z"
   },
   {
    "duration": 12,
    "start_time": "2022-07-30T09:54:21.316Z"
   },
   {
    "duration": 17,
    "start_time": "2022-07-30T09:54:21.329Z"
   },
   {
    "duration": 232,
    "start_time": "2022-07-30T09:54:21.348Z"
   },
   {
    "duration": 25,
    "start_time": "2022-07-30T09:54:21.582Z"
   },
   {
    "duration": 233,
    "start_time": "2022-07-30T09:54:21.613Z"
   },
   {
    "duration": 2184,
    "start_time": "2022-07-30T09:54:21.848Z"
   },
   {
    "duration": 33,
    "start_time": "2022-07-30T09:54:24.034Z"
   },
   {
    "duration": 15,
    "start_time": "2022-07-30T09:54:24.068Z"
   },
   {
    "duration": 39,
    "start_time": "2022-07-30T09:54:24.084Z"
   },
   {
    "duration": 12,
    "start_time": "2022-07-30T09:54:24.124Z"
   },
   {
    "duration": 43,
    "start_time": "2022-07-30T09:54:24.137Z"
   },
   {
    "duration": 13,
    "start_time": "2022-07-30T09:54:24.182Z"
   },
   {
    "duration": 29,
    "start_time": "2022-07-30T09:54:24.197Z"
   },
   {
    "duration": 11,
    "start_time": "2022-07-30T09:54:29.703Z"
   },
   {
    "duration": 12,
    "start_time": "2022-07-30T09:54:30.206Z"
   },
   {
    "duration": 125,
    "start_time": "2022-07-30T09:54:31.298Z"
   },
   {
    "duration": 7,
    "start_time": "2022-07-30T09:55:09.494Z"
   },
   {
    "duration": 11,
    "start_time": "2022-07-30T09:55:19.596Z"
   },
   {
    "duration": 92,
    "start_time": "2022-07-30T09:55:24.263Z"
   },
   {
    "duration": 99,
    "start_time": "2022-07-30T09:55:35.510Z"
   },
   {
    "duration": 117,
    "start_time": "2022-07-30T09:55:56.499Z"
   },
   {
    "duration": 12,
    "start_time": "2022-07-30T09:55:59.976Z"
   },
   {
    "duration": 8,
    "start_time": "2022-07-30T09:56:09.361Z"
   },
   {
    "duration": 1206,
    "start_time": "2022-07-30T09:56:34.646Z"
   },
   {
    "duration": 92,
    "start_time": "2022-07-30T09:56:35.854Z"
   },
   {
    "duration": 21,
    "start_time": "2022-07-30T09:56:35.948Z"
   },
   {
    "duration": 43,
    "start_time": "2022-07-30T09:56:35.971Z"
   },
   {
    "duration": 40,
    "start_time": "2022-07-30T09:56:36.016Z"
   },
   {
    "duration": 31,
    "start_time": "2022-07-30T09:56:36.057Z"
   },
   {
    "duration": 28,
    "start_time": "2022-07-30T09:56:36.099Z"
   },
   {
    "duration": 34,
    "start_time": "2022-07-30T09:56:36.129Z"
   },
   {
    "duration": 42,
    "start_time": "2022-07-30T09:56:36.165Z"
   },
   {
    "duration": 37,
    "start_time": "2022-07-30T09:56:36.209Z"
   },
   {
    "duration": 14,
    "start_time": "2022-07-30T09:56:36.247Z"
   },
   {
    "duration": 65,
    "start_time": "2022-07-30T09:56:36.263Z"
   },
   {
    "duration": 30,
    "start_time": "2022-07-30T09:56:36.329Z"
   },
   {
    "duration": 57,
    "start_time": "2022-07-30T09:56:36.361Z"
   },
   {
    "duration": 37,
    "start_time": "2022-07-30T09:56:36.420Z"
   },
   {
    "duration": 52,
    "start_time": "2022-07-30T09:56:36.459Z"
   },
   {
    "duration": 42,
    "start_time": "2022-07-30T09:56:36.512Z"
   },
   {
    "duration": 43,
    "start_time": "2022-07-30T09:56:36.556Z"
   },
   {
    "duration": 12,
    "start_time": "2022-07-30T09:56:36.604Z"
   },
   {
    "duration": 13,
    "start_time": "2022-07-30T09:56:36.617Z"
   },
   {
    "duration": 15,
    "start_time": "2022-07-30T09:56:36.631Z"
   },
   {
    "duration": 17,
    "start_time": "2022-07-30T09:56:36.647Z"
   },
   {
    "duration": 53,
    "start_time": "2022-07-30T09:56:36.665Z"
   },
   {
    "duration": 14,
    "start_time": "2022-07-30T09:56:36.719Z"
   },
   {
    "duration": 184,
    "start_time": "2022-07-30T09:56:36.735Z"
   },
   {
    "duration": 13,
    "start_time": "2022-07-30T09:56:36.921Z"
   },
   {
    "duration": 116,
    "start_time": "2022-07-30T09:56:36.937Z"
   },
   {
    "duration": 40,
    "start_time": "2022-07-30T09:56:37.056Z"
   },
   {
    "duration": 219,
    "start_time": "2022-07-30T09:56:37.101Z"
   },
   {
    "duration": 12,
    "start_time": "2022-07-30T09:56:37.322Z"
   },
   {
    "duration": 172,
    "start_time": "2022-07-30T09:56:37.336Z"
   },
   {
    "duration": 191,
    "start_time": "2022-07-30T09:56:37.510Z"
   },
   {
    "duration": 13,
    "start_time": "2022-07-30T09:56:37.705Z"
   },
   {
    "duration": 29,
    "start_time": "2022-07-30T09:56:37.719Z"
   },
   {
    "duration": 173,
    "start_time": "2022-07-30T09:56:37.750Z"
   },
   {
    "duration": 14,
    "start_time": "2022-07-30T09:56:37.925Z"
   },
   {
    "duration": 218,
    "start_time": "2022-07-30T09:56:37.941Z"
   },
   {
    "duration": 2555,
    "start_time": "2022-07-30T09:56:38.161Z"
   },
   {
    "duration": 36,
    "start_time": "2022-07-30T09:56:40.718Z"
   },
   {
    "duration": 19,
    "start_time": "2022-07-30T09:56:40.756Z"
   },
   {
    "duration": 13,
    "start_time": "2022-07-30T09:56:40.785Z"
   },
   {
    "duration": 21,
    "start_time": "2022-07-30T09:56:40.799Z"
   },
   {
    "duration": 22,
    "start_time": "2022-07-30T09:56:40.822Z"
   },
   {
    "duration": 6,
    "start_time": "2022-07-30T09:56:40.846Z"
   },
   {
    "duration": 12,
    "start_time": "2022-07-30T09:56:40.853Z"
   },
   {
    "duration": 14,
    "start_time": "2022-07-30T09:56:40.866Z"
   },
   {
    "duration": 36,
    "start_time": "2022-07-30T09:56:40.883Z"
   },
   {
    "duration": 7,
    "start_time": "2022-07-30T09:56:40.921Z"
   },
   {
    "duration": 13,
    "start_time": "2022-07-30T09:56:40.929Z"
   },
   {
    "duration": 100,
    "start_time": "2022-07-30T09:56:40.943Z"
   },
   {
    "duration": 9,
    "start_time": "2022-07-30T09:56:41.045Z"
   },
   {
    "duration": 9,
    "start_time": "2022-07-30T09:56:41.055Z"
   },
   {
    "duration": 7,
    "start_time": "2022-07-30T09:56:44.016Z"
   },
   {
    "duration": 12,
    "start_time": "2022-07-30T09:56:46.304Z"
   },
   {
    "duration": 117,
    "start_time": "2022-07-30T10:05:12.434Z"
   },
   {
    "duration": 1163,
    "start_time": "2022-07-30T10:05:24.343Z"
   },
   {
    "duration": 63,
    "start_time": "2022-07-30T10:05:25.508Z"
   },
   {
    "duration": 36,
    "start_time": "2022-07-30T10:05:25.573Z"
   },
   {
    "duration": 10,
    "start_time": "2022-07-30T10:05:25.611Z"
   },
   {
    "duration": 22,
    "start_time": "2022-07-30T10:05:25.622Z"
   },
   {
    "duration": 12,
    "start_time": "2022-07-30T10:05:25.645Z"
   },
   {
    "duration": 16,
    "start_time": "2022-07-30T10:05:25.677Z"
   },
   {
    "duration": 16,
    "start_time": "2022-07-30T10:05:25.697Z"
   },
   {
    "duration": 24,
    "start_time": "2022-07-30T10:05:25.715Z"
   },
   {
    "duration": 17,
    "start_time": "2022-07-30T10:05:25.741Z"
   },
   {
    "duration": 6,
    "start_time": "2022-07-30T10:05:25.759Z"
   },
   {
    "duration": 13,
    "start_time": "2022-07-30T10:05:25.767Z"
   },
   {
    "duration": 39,
    "start_time": "2022-07-30T10:05:25.781Z"
   },
   {
    "duration": 4,
    "start_time": "2022-07-30T10:05:25.822Z"
   },
   {
    "duration": 10,
    "start_time": "2022-07-30T10:05:25.828Z"
   },
   {
    "duration": 7,
    "start_time": "2022-07-30T10:05:25.840Z"
   },
   {
    "duration": 21,
    "start_time": "2022-07-30T10:05:25.848Z"
   },
   {
    "duration": 17,
    "start_time": "2022-07-30T10:05:25.873Z"
   },
   {
    "duration": 25,
    "start_time": "2022-07-30T10:05:25.892Z"
   },
   {
    "duration": 11,
    "start_time": "2022-07-30T10:05:25.918Z"
   },
   {
    "duration": 12,
    "start_time": "2022-07-30T10:05:25.931Z"
   },
   {
    "duration": 13,
    "start_time": "2022-07-30T10:05:25.944Z"
   },
   {
    "duration": 59,
    "start_time": "2022-07-30T10:05:25.959Z"
   },
   {
    "duration": 15,
    "start_time": "2022-07-30T10:05:26.019Z"
   },
   {
    "duration": 183,
    "start_time": "2022-07-30T10:05:26.036Z"
   },
   {
    "duration": 12,
    "start_time": "2022-07-30T10:05:26.221Z"
   },
   {
    "duration": 97,
    "start_time": "2022-07-30T10:05:26.235Z"
   },
   {
    "duration": 22,
    "start_time": "2022-07-30T10:05:26.336Z"
   },
   {
    "duration": 191,
    "start_time": "2022-07-30T10:05:26.359Z"
   },
   {
    "duration": 11,
    "start_time": "2022-07-30T10:05:26.551Z"
   },
   {
    "duration": 144,
    "start_time": "2022-07-30T10:05:26.563Z"
   },
   {
    "duration": 177,
    "start_time": "2022-07-30T10:05:26.708Z"
   },
   {
    "duration": 14,
    "start_time": "2022-07-30T10:05:26.893Z"
   },
   {
    "duration": 17,
    "start_time": "2022-07-30T10:05:26.909Z"
   },
   {
    "duration": 202,
    "start_time": "2022-07-30T10:05:26.928Z"
   },
   {
    "duration": 14,
    "start_time": "2022-07-30T10:05:27.131Z"
   },
   {
    "duration": 200,
    "start_time": "2022-07-30T10:05:27.147Z"
   },
   {
    "duration": 2680,
    "start_time": "2022-07-30T10:05:27.349Z"
   },
   {
    "duration": 39,
    "start_time": "2022-07-30T10:05:30.030Z"
   },
   {
    "duration": 12,
    "start_time": "2022-07-30T10:05:30.071Z"
   },
   {
    "duration": 32,
    "start_time": "2022-07-30T10:05:30.085Z"
   },
   {
    "duration": 15,
    "start_time": "2022-07-30T10:05:30.118Z"
   },
   {
    "duration": 18,
    "start_time": "2022-07-30T10:05:30.135Z"
   },
   {
    "duration": 6,
    "start_time": "2022-07-30T10:05:30.154Z"
   },
   {
    "duration": 10,
    "start_time": "2022-07-30T10:05:30.161Z"
   },
   {
    "duration": 35,
    "start_time": "2022-07-30T10:05:30.176Z"
   },
   {
    "duration": 17,
    "start_time": "2022-07-30T10:05:30.212Z"
   },
   {
    "duration": 10,
    "start_time": "2022-07-30T10:05:30.231Z"
   },
   {
    "duration": 11,
    "start_time": "2022-07-30T10:05:30.242Z"
   },
   {
    "duration": 97,
    "start_time": "2022-07-30T10:05:30.254Z"
   },
   {
    "duration": 8,
    "start_time": "2022-07-30T10:05:30.353Z"
   },
   {
    "duration": 55,
    "start_time": "2022-07-30T10:05:30.363Z"
   },
   {
    "duration": 13,
    "start_time": "2022-07-30T10:05:30.420Z"
   },
   {
    "duration": 18,
    "start_time": "2022-07-30T10:05:30.434Z"
   },
   {
    "duration": 1494,
    "start_time": "2022-07-30T10:07:40.352Z"
   },
   {
    "duration": 86,
    "start_time": "2022-07-30T10:07:41.848Z"
   },
   {
    "duration": 45,
    "start_time": "2022-07-30T10:07:41.939Z"
   },
   {
    "duration": 67,
    "start_time": "2022-07-30T10:07:41.987Z"
   },
   {
    "duration": 35,
    "start_time": "2022-07-30T10:07:42.057Z"
   },
   {
    "duration": 20,
    "start_time": "2022-07-30T10:07:42.094Z"
   },
   {
    "duration": 29,
    "start_time": "2022-07-30T10:07:42.116Z"
   },
   {
    "duration": 7,
    "start_time": "2022-07-30T10:07:42.147Z"
   },
   {
    "duration": 26,
    "start_time": "2022-07-30T10:07:42.155Z"
   },
   {
    "duration": 22,
    "start_time": "2022-07-30T10:07:42.187Z"
   },
   {
    "duration": 22,
    "start_time": "2022-07-30T10:07:42.211Z"
   },
   {
    "duration": 10,
    "start_time": "2022-07-30T10:07:42.234Z"
   },
   {
    "duration": 14,
    "start_time": "2022-07-30T10:07:42.246Z"
   },
   {
    "duration": 4,
    "start_time": "2022-07-30T10:07:42.262Z"
   },
   {
    "duration": 57,
    "start_time": "2022-07-30T10:07:42.268Z"
   },
   {
    "duration": 10,
    "start_time": "2022-07-30T10:07:42.327Z"
   },
   {
    "duration": 22,
    "start_time": "2022-07-30T10:07:42.339Z"
   },
   {
    "duration": 18,
    "start_time": "2022-07-30T10:07:42.364Z"
   },
   {
    "duration": 45,
    "start_time": "2022-07-30T10:07:42.385Z"
   },
   {
    "duration": 17,
    "start_time": "2022-07-30T10:07:42.432Z"
   },
   {
    "duration": 13,
    "start_time": "2022-07-30T10:07:42.451Z"
   },
   {
    "duration": 22,
    "start_time": "2022-07-30T10:07:42.466Z"
   },
   {
    "duration": 95,
    "start_time": "2022-07-30T10:07:42.489Z"
   },
   {
    "duration": 23,
    "start_time": "2022-07-30T10:07:42.591Z"
   },
   {
    "duration": 205,
    "start_time": "2022-07-30T10:07:42.615Z"
   },
   {
    "duration": 16,
    "start_time": "2022-07-30T10:07:42.822Z"
   },
   {
    "duration": 116,
    "start_time": "2022-07-30T10:07:42.840Z"
   },
   {
    "duration": 34,
    "start_time": "2022-07-30T10:07:42.961Z"
   },
   {
    "duration": 223,
    "start_time": "2022-07-30T10:07:42.996Z"
   },
   {
    "duration": 12,
    "start_time": "2022-07-30T10:07:43.221Z"
   },
   {
    "duration": 150,
    "start_time": "2022-07-30T10:07:43.235Z"
   },
   {
    "duration": 180,
    "start_time": "2022-07-30T10:07:43.387Z"
   },
   {
    "duration": 35,
    "start_time": "2022-07-30T10:07:43.569Z"
   },
   {
    "duration": 39,
    "start_time": "2022-07-30T10:07:43.609Z"
   },
   {
    "duration": 250,
    "start_time": "2022-07-30T10:07:43.651Z"
   },
   {
    "duration": 25,
    "start_time": "2022-07-30T10:07:43.903Z"
   },
   {
    "duration": 253,
    "start_time": "2022-07-30T10:07:43.930Z"
   },
   {
    "duration": 2295,
    "start_time": "2022-07-30T10:07:44.193Z"
   },
   {
    "duration": 43,
    "start_time": "2022-07-30T10:07:46.490Z"
   },
   {
    "duration": 8,
    "start_time": "2022-07-30T10:07:46.535Z"
   },
   {
    "duration": 14,
    "start_time": "2022-07-30T10:07:46.545Z"
   },
   {
    "duration": 52,
    "start_time": "2022-07-30T10:07:46.560Z"
   },
   {
    "duration": 37,
    "start_time": "2022-07-30T10:07:46.614Z"
   },
   {
    "duration": 16,
    "start_time": "2022-07-30T10:07:46.653Z"
   },
   {
    "duration": 47,
    "start_time": "2022-07-30T10:07:46.671Z"
   },
   {
    "duration": 18,
    "start_time": "2022-07-30T10:07:46.720Z"
   },
   {
    "duration": 22,
    "start_time": "2022-07-30T10:07:46.739Z"
   },
   {
    "duration": 50,
    "start_time": "2022-07-30T10:07:46.763Z"
   },
   {
    "duration": 23,
    "start_time": "2022-07-30T10:07:46.815Z"
   },
   {
    "duration": 21,
    "start_time": "2022-07-30T10:07:46.839Z"
   },
   {
    "duration": 42,
    "start_time": "2022-07-30T10:07:46.862Z"
   },
   {
    "duration": 22,
    "start_time": "2022-07-30T10:07:46.905Z"
   },
   {
    "duration": 33,
    "start_time": "2022-07-30T10:07:46.928Z"
   },
   {
    "duration": 57,
    "start_time": "2022-07-30T10:07:46.963Z"
   },
   {
    "duration": 6,
    "start_time": "2022-07-30T10:08:14.024Z"
   },
   {
    "duration": 11,
    "start_time": "2022-07-30T10:08:59.703Z"
   },
   {
    "duration": 1213,
    "start_time": "2022-07-30T10:10:31.306Z"
   },
   {
    "duration": 68,
    "start_time": "2022-07-30T10:10:32.521Z"
   },
   {
    "duration": 21,
    "start_time": "2022-07-30T10:10:32.606Z"
   },
   {
    "duration": 17,
    "start_time": "2022-07-30T10:10:32.628Z"
   },
   {
    "duration": 52,
    "start_time": "2022-07-30T10:10:32.646Z"
   },
   {
    "duration": 24,
    "start_time": "2022-07-30T10:10:32.700Z"
   },
   {
    "duration": 19,
    "start_time": "2022-07-30T10:10:32.726Z"
   },
   {
    "duration": 57,
    "start_time": "2022-07-30T10:10:32.746Z"
   },
   {
    "duration": 51,
    "start_time": "2022-07-30T10:10:32.806Z"
   },
   {
    "duration": 14,
    "start_time": "2022-07-30T10:10:32.858Z"
   },
   {
    "duration": 43,
    "start_time": "2022-07-30T10:10:32.873Z"
   },
   {
    "duration": 29,
    "start_time": "2022-07-30T10:10:32.917Z"
   },
   {
    "duration": 23,
    "start_time": "2022-07-30T10:10:32.948Z"
   },
   {
    "duration": 45,
    "start_time": "2022-07-30T10:10:32.972Z"
   },
   {
    "duration": 26,
    "start_time": "2022-07-30T10:10:33.019Z"
   },
   {
    "duration": 68,
    "start_time": "2022-07-30T10:10:33.047Z"
   },
   {
    "duration": 28,
    "start_time": "2022-07-30T10:10:33.117Z"
   },
   {
    "duration": 10,
    "start_time": "2022-07-30T10:10:33.146Z"
   },
   {
    "duration": 55,
    "start_time": "2022-07-30T10:10:33.157Z"
   },
   {
    "duration": 25,
    "start_time": "2022-07-30T10:10:33.213Z"
   },
   {
    "duration": 21,
    "start_time": "2022-07-30T10:10:33.240Z"
   },
   {
    "duration": 59,
    "start_time": "2022-07-30T10:10:33.262Z"
   },
   {
    "duration": 54,
    "start_time": "2022-07-30T10:10:33.322Z"
   },
   {
    "duration": 17,
    "start_time": "2022-07-30T10:10:33.378Z"
   },
   {
    "duration": 193,
    "start_time": "2022-07-30T10:10:33.397Z"
   },
   {
    "duration": 12,
    "start_time": "2022-07-30T10:10:33.592Z"
   },
   {
    "duration": 150,
    "start_time": "2022-07-30T10:10:33.608Z"
   },
   {
    "duration": 40,
    "start_time": "2022-07-30T10:10:33.760Z"
   },
   {
    "duration": 241,
    "start_time": "2022-07-30T10:10:33.803Z"
   },
   {
    "duration": 13,
    "start_time": "2022-07-30T10:10:34.045Z"
   },
   {
    "duration": 145,
    "start_time": "2022-07-30T10:10:34.059Z"
   },
   {
    "duration": 164,
    "start_time": "2022-07-30T10:10:34.207Z"
   },
   {
    "duration": 17,
    "start_time": "2022-07-30T10:10:34.375Z"
   },
   {
    "duration": 32,
    "start_time": "2022-07-30T10:10:34.393Z"
   },
   {
    "duration": 174,
    "start_time": "2022-07-30T10:10:34.426Z"
   },
   {
    "duration": 22,
    "start_time": "2022-07-30T10:10:34.609Z"
   },
   {
    "duration": 207,
    "start_time": "2022-07-30T10:10:34.633Z"
   },
   {
    "duration": 2299,
    "start_time": "2022-07-30T10:10:34.842Z"
   },
   {
    "duration": 57,
    "start_time": "2022-07-30T10:10:37.143Z"
   },
   {
    "duration": 14,
    "start_time": "2022-07-30T10:10:37.205Z"
   },
   {
    "duration": 10,
    "start_time": "2022-07-30T10:10:37.221Z"
   },
   {
    "duration": 16,
    "start_time": "2022-07-30T10:10:37.233Z"
   },
   {
    "duration": 41,
    "start_time": "2022-07-30T10:10:37.251Z"
   },
   {
    "duration": 15,
    "start_time": "2022-07-30T10:10:37.294Z"
   },
   {
    "duration": 15,
    "start_time": "2022-07-30T10:10:37.311Z"
   },
   {
    "duration": 10,
    "start_time": "2022-07-30T10:10:37.327Z"
   },
   {
    "duration": 10,
    "start_time": "2022-07-30T10:10:37.339Z"
   },
   {
    "duration": 7,
    "start_time": "2022-07-30T10:10:37.351Z"
   },
   {
    "duration": 26,
    "start_time": "2022-07-30T10:10:37.360Z"
   },
   {
    "duration": 34,
    "start_time": "2022-07-30T10:10:37.390Z"
   },
   {
    "duration": 10,
    "start_time": "2022-07-30T10:10:37.426Z"
   },
   {
    "duration": 12,
    "start_time": "2022-07-30T10:10:37.438Z"
   },
   {
    "duration": 13,
    "start_time": "2022-07-30T10:10:37.452Z"
   },
   {
    "duration": 25,
    "start_time": "2022-07-30T10:10:37.467Z"
   },
   {
    "duration": 138,
    "start_time": "2022-07-30T10:10:37.494Z"
   },
   {
    "duration": 1168,
    "start_time": "2022-07-30T10:13:07.406Z"
   },
   {
    "duration": 72,
    "start_time": "2022-07-30T10:13:08.581Z"
   },
   {
    "duration": 25,
    "start_time": "2022-07-30T10:13:08.654Z"
   },
   {
    "duration": 20,
    "start_time": "2022-07-30T10:13:08.684Z"
   },
   {
    "duration": 26,
    "start_time": "2022-07-30T10:13:08.705Z"
   },
   {
    "duration": 12,
    "start_time": "2022-07-30T10:13:08.733Z"
   },
   {
    "duration": 11,
    "start_time": "2022-07-30T10:13:08.747Z"
   },
   {
    "duration": 7,
    "start_time": "2022-07-30T10:13:08.759Z"
   },
   {
    "duration": 44,
    "start_time": "2022-07-30T10:13:08.773Z"
   },
   {
    "duration": 15,
    "start_time": "2022-07-30T10:13:08.820Z"
   },
   {
    "duration": 7,
    "start_time": "2022-07-30T10:13:08.837Z"
   },
   {
    "duration": 10,
    "start_time": "2022-07-30T10:13:08.846Z"
   },
   {
    "duration": 20,
    "start_time": "2022-07-30T10:13:08.857Z"
   },
   {
    "duration": 10,
    "start_time": "2022-07-30T10:13:08.882Z"
   },
   {
    "duration": 24,
    "start_time": "2022-07-30T10:13:08.895Z"
   },
   {
    "duration": 8,
    "start_time": "2022-07-30T10:13:08.921Z"
   },
   {
    "duration": 16,
    "start_time": "2022-07-30T10:13:08.930Z"
   },
   {
    "duration": 11,
    "start_time": "2022-07-30T10:13:08.947Z"
   },
   {
    "duration": 60,
    "start_time": "2022-07-30T10:13:08.959Z"
   },
   {
    "duration": 35,
    "start_time": "2022-07-30T10:13:09.022Z"
   },
   {
    "duration": 58,
    "start_time": "2022-07-30T10:13:09.059Z"
   },
   {
    "duration": 30,
    "start_time": "2022-07-30T10:13:09.119Z"
   },
   {
    "duration": 61,
    "start_time": "2022-07-30T10:13:09.151Z"
   },
   {
    "duration": 17,
    "start_time": "2022-07-30T10:13:09.214Z"
   },
   {
    "duration": 158,
    "start_time": "2022-07-30T10:13:09.232Z"
   },
   {
    "duration": 16,
    "start_time": "2022-07-30T10:13:09.396Z"
   },
   {
    "duration": 109,
    "start_time": "2022-07-30T10:13:09.413Z"
   },
   {
    "duration": 20,
    "start_time": "2022-07-30T10:13:09.525Z"
   },
   {
    "duration": 189,
    "start_time": "2022-07-30T10:13:09.546Z"
   },
   {
    "duration": 12,
    "start_time": "2022-07-30T10:13:09.736Z"
   },
   {
    "duration": 142,
    "start_time": "2022-07-30T10:13:09.749Z"
   },
   {
    "duration": 174,
    "start_time": "2022-07-30T10:13:09.895Z"
   },
   {
    "duration": 21,
    "start_time": "2022-07-30T10:13:10.070Z"
   },
   {
    "duration": 57,
    "start_time": "2022-07-30T10:13:10.095Z"
   },
   {
    "duration": 172,
    "start_time": "2022-07-30T10:13:10.154Z"
   },
   {
    "duration": 14,
    "start_time": "2022-07-30T10:13:10.328Z"
   },
   {
    "duration": 221,
    "start_time": "2022-07-30T10:13:10.344Z"
   },
   {
    "duration": 2139,
    "start_time": "2022-07-30T10:13:10.577Z"
   },
   {
    "duration": 35,
    "start_time": "2022-07-30T10:13:12.718Z"
   },
   {
    "duration": 17,
    "start_time": "2022-07-30T10:13:12.755Z"
   },
   {
    "duration": 35,
    "start_time": "2022-07-30T10:13:12.775Z"
   },
   {
    "duration": 11,
    "start_time": "2022-07-30T10:13:12.812Z"
   },
   {
    "duration": 21,
    "start_time": "2022-07-30T10:13:12.824Z"
   },
   {
    "duration": 7,
    "start_time": "2022-07-30T10:13:12.847Z"
   },
   {
    "duration": 17,
    "start_time": "2022-07-30T10:13:12.855Z"
   },
   {
    "duration": 55,
    "start_time": "2022-07-30T10:13:12.873Z"
   },
   {
    "duration": 25,
    "start_time": "2022-07-30T10:13:12.930Z"
   },
   {
    "duration": 18,
    "start_time": "2022-07-30T10:13:40.424Z"
   },
   {
    "duration": 12,
    "start_time": "2022-07-30T10:14:30.768Z"
   },
   {
    "duration": 37,
    "start_time": "2022-07-30T10:14:55.379Z"
   },
   {
    "duration": 49,
    "start_time": "2022-07-30T10:15:06.122Z"
   },
   {
    "duration": 11,
    "start_time": "2022-07-30T10:16:39.154Z"
   },
   {
    "duration": 1209,
    "start_time": "2022-07-30T10:17:05.442Z"
   },
   {
    "duration": 78,
    "start_time": "2022-07-30T10:17:06.652Z"
   },
   {
    "duration": 35,
    "start_time": "2022-07-30T10:17:06.732Z"
   },
   {
    "duration": 23,
    "start_time": "2022-07-30T10:17:06.770Z"
   },
   {
    "duration": 36,
    "start_time": "2022-07-30T10:17:06.795Z"
   },
   {
    "duration": 12,
    "start_time": "2022-07-30T10:17:06.833Z"
   },
   {
    "duration": 12,
    "start_time": "2022-07-30T10:17:06.846Z"
   },
   {
    "duration": 7,
    "start_time": "2022-07-30T10:17:06.859Z"
   },
   {
    "duration": 39,
    "start_time": "2022-07-30T10:17:06.868Z"
   },
   {
    "duration": 16,
    "start_time": "2022-07-30T10:17:06.909Z"
   },
   {
    "duration": 7,
    "start_time": "2022-07-30T10:17:06.927Z"
   },
   {
    "duration": 8,
    "start_time": "2022-07-30T10:17:06.936Z"
   },
   {
    "duration": 37,
    "start_time": "2022-07-30T10:17:06.945Z"
   },
   {
    "duration": 30,
    "start_time": "2022-07-30T10:17:06.984Z"
   },
   {
    "duration": 9,
    "start_time": "2022-07-30T10:17:07.016Z"
   },
   {
    "duration": 6,
    "start_time": "2022-07-30T10:17:07.027Z"
   },
   {
    "duration": 17,
    "start_time": "2022-07-30T10:17:07.034Z"
   },
   {
    "duration": 8,
    "start_time": "2022-07-30T10:17:07.053Z"
   },
   {
    "duration": 11,
    "start_time": "2022-07-30T10:17:07.062Z"
   },
   {
    "duration": 52,
    "start_time": "2022-07-30T10:17:07.075Z"
   },
   {
    "duration": 13,
    "start_time": "2022-07-30T10:17:07.129Z"
   },
   {
    "duration": 15,
    "start_time": "2022-07-30T10:17:07.143Z"
   },
   {
    "duration": 55,
    "start_time": "2022-07-30T10:17:07.160Z"
   },
   {
    "duration": 13,
    "start_time": "2022-07-30T10:17:07.217Z"
   },
   {
    "duration": 161,
    "start_time": "2022-07-30T10:17:07.232Z"
   },
   {
    "duration": 14,
    "start_time": "2022-07-30T10:17:07.397Z"
   },
   {
    "duration": 97,
    "start_time": "2022-07-30T10:17:07.412Z"
   },
   {
    "duration": 26,
    "start_time": "2022-07-30T10:17:07.512Z"
   },
   {
    "duration": 214,
    "start_time": "2022-07-30T10:17:07.540Z"
   },
   {
    "duration": 19,
    "start_time": "2022-07-30T10:17:07.755Z"
   },
   {
    "duration": 151,
    "start_time": "2022-07-30T10:17:07.775Z"
   },
   {
    "duration": 189,
    "start_time": "2022-07-30T10:17:07.928Z"
   },
   {
    "duration": 11,
    "start_time": "2022-07-30T10:17:08.119Z"
   },
   {
    "duration": 27,
    "start_time": "2022-07-30T10:17:08.132Z"
   },
   {
    "duration": 179,
    "start_time": "2022-07-30T10:17:08.160Z"
   },
   {
    "duration": 17,
    "start_time": "2022-07-30T10:17:08.340Z"
   },
   {
    "duration": 203,
    "start_time": "2022-07-30T10:17:08.358Z"
   },
   {
    "duration": 2469,
    "start_time": "2022-07-30T10:17:08.563Z"
   },
   {
    "duration": 41,
    "start_time": "2022-07-30T10:17:11.034Z"
   },
   {
    "duration": 16,
    "start_time": "2022-07-30T10:17:15.622Z"
   },
   {
    "duration": 1251,
    "start_time": "2022-07-30T10:19:16.795Z"
   },
   {
    "duration": 80,
    "start_time": "2022-07-30T10:19:18.048Z"
   },
   {
    "duration": 26,
    "start_time": "2022-07-30T10:19:18.132Z"
   },
   {
    "duration": 8,
    "start_time": "2022-07-30T10:19:18.160Z"
   },
   {
    "duration": 51,
    "start_time": "2022-07-30T10:19:18.172Z"
   },
   {
    "duration": 21,
    "start_time": "2022-07-30T10:19:18.225Z"
   },
   {
    "duration": 10,
    "start_time": "2022-07-30T10:19:18.248Z"
   },
   {
    "duration": 8,
    "start_time": "2022-07-30T10:19:18.260Z"
   },
   {
    "duration": 73,
    "start_time": "2022-07-30T10:19:18.269Z"
   },
   {
    "duration": 17,
    "start_time": "2022-07-30T10:19:18.344Z"
   },
   {
    "duration": 7,
    "start_time": "2022-07-30T10:19:18.362Z"
   },
   {
    "duration": 13,
    "start_time": "2022-07-30T10:19:18.370Z"
   },
   {
    "duration": 61,
    "start_time": "2022-07-30T10:19:18.384Z"
   },
   {
    "duration": 4,
    "start_time": "2022-07-30T10:19:18.448Z"
   },
   {
    "duration": 14,
    "start_time": "2022-07-30T10:19:18.453Z"
   },
   {
    "duration": 24,
    "start_time": "2022-07-30T10:19:18.468Z"
   },
   {
    "duration": 43,
    "start_time": "2022-07-30T10:19:18.493Z"
   },
   {
    "duration": 8,
    "start_time": "2022-07-30T10:19:18.538Z"
   },
   {
    "duration": 15,
    "start_time": "2022-07-30T10:19:18.548Z"
   },
   {
    "duration": 64,
    "start_time": "2022-07-30T10:19:18.565Z"
   },
   {
    "duration": 12,
    "start_time": "2022-07-30T10:19:18.630Z"
   },
   {
    "duration": 14,
    "start_time": "2022-07-30T10:19:18.644Z"
   },
   {
    "duration": 66,
    "start_time": "2022-07-30T10:19:18.659Z"
   },
   {
    "duration": 14,
    "start_time": "2022-07-30T10:19:18.728Z"
   },
   {
    "duration": 180,
    "start_time": "2022-07-30T10:19:18.744Z"
   },
   {
    "duration": 11,
    "start_time": "2022-07-30T10:19:18.929Z"
   },
   {
    "duration": 112,
    "start_time": "2022-07-30T10:19:18.942Z"
   },
   {
    "duration": 29,
    "start_time": "2022-07-30T10:19:19.055Z"
   },
   {
    "duration": 248,
    "start_time": "2022-07-30T10:19:19.090Z"
   },
   {
    "duration": 10,
    "start_time": "2022-07-30T10:19:19.340Z"
   },
   {
    "duration": 184,
    "start_time": "2022-07-30T10:19:19.352Z"
   },
   {
    "duration": 203,
    "start_time": "2022-07-30T10:19:19.538Z"
   },
   {
    "duration": 14,
    "start_time": "2022-07-30T10:19:19.744Z"
   },
   {
    "duration": 40,
    "start_time": "2022-07-30T10:19:19.760Z"
   },
   {
    "duration": 212,
    "start_time": "2022-07-30T10:19:19.802Z"
   },
   {
    "duration": 31,
    "start_time": "2022-07-30T10:19:20.024Z"
   },
   {
    "duration": 208,
    "start_time": "2022-07-30T10:19:20.057Z"
   },
   {
    "duration": 2308,
    "start_time": "2022-07-30T10:19:20.266Z"
   },
   {
    "duration": 54,
    "start_time": "2022-07-30T10:19:22.583Z"
   },
   {
    "duration": 17,
    "start_time": "2022-07-30T10:19:22.639Z"
   },
   {
    "duration": 18,
    "start_time": "2022-07-30T10:19:22.660Z"
   },
   {
    "duration": 15,
    "start_time": "2022-07-30T10:19:22.691Z"
   },
   {
    "duration": 26,
    "start_time": "2022-07-30T10:19:22.711Z"
   },
   {
    "duration": 18,
    "start_time": "2022-07-30T10:19:22.739Z"
   },
   {
    "duration": 6,
    "start_time": "2022-07-30T10:19:22.758Z"
   },
   {
    "duration": 51,
    "start_time": "2022-07-30T10:19:22.765Z"
   },
   {
    "duration": 9,
    "start_time": "2022-07-30T10:19:22.819Z"
   },
   {
    "duration": 11,
    "start_time": "2022-07-30T10:19:22.829Z"
   },
   {
    "duration": 17,
    "start_time": "2022-07-30T10:19:22.841Z"
   },
   {
    "duration": 23,
    "start_time": "2022-07-30T10:19:22.859Z"
   },
   {
    "duration": 49,
    "start_time": "2022-07-30T10:19:22.884Z"
   },
   {
    "duration": 8,
    "start_time": "2022-07-30T10:19:22.934Z"
   },
   {
    "duration": 14,
    "start_time": "2022-07-30T10:19:22.943Z"
   },
   {
    "duration": 11,
    "start_time": "2022-07-30T10:19:22.959Z"
   },
   {
    "duration": 51,
    "start_time": "2022-07-30T10:19:22.972Z"
   },
   {
    "duration": 13,
    "start_time": "2022-07-30T10:19:23.025Z"
   },
   {
    "duration": 1217,
    "start_time": "2022-07-30T10:20:29.519Z"
   },
   {
    "duration": 73,
    "start_time": "2022-07-30T10:20:30.739Z"
   },
   {
    "duration": 23,
    "start_time": "2022-07-30T10:20:30.814Z"
   },
   {
    "duration": 11,
    "start_time": "2022-07-30T10:20:30.840Z"
   },
   {
    "duration": 94,
    "start_time": "2022-07-30T10:20:30.853Z"
   },
   {
    "duration": 18,
    "start_time": "2022-07-30T10:20:30.949Z"
   },
   {
    "duration": 69,
    "start_time": "2022-07-30T10:20:30.968Z"
   },
   {
    "duration": 21,
    "start_time": "2022-07-30T10:20:31.039Z"
   },
   {
    "duration": 80,
    "start_time": "2022-07-30T10:20:31.062Z"
   },
   {
    "duration": 19,
    "start_time": "2022-07-30T10:20:31.146Z"
   },
   {
    "duration": 19,
    "start_time": "2022-07-30T10:20:31.167Z"
   },
   {
    "duration": 45,
    "start_time": "2022-07-30T10:20:31.188Z"
   },
   {
    "duration": 23,
    "start_time": "2022-07-30T10:20:31.235Z"
   },
   {
    "duration": 4,
    "start_time": "2022-07-30T10:20:31.260Z"
   },
   {
    "duration": 25,
    "start_time": "2022-07-30T10:20:31.266Z"
   },
   {
    "duration": 32,
    "start_time": "2022-07-30T10:20:31.292Z"
   },
   {
    "duration": 34,
    "start_time": "2022-07-30T10:20:31.325Z"
   },
   {
    "duration": 9,
    "start_time": "2022-07-30T10:20:31.361Z"
   },
   {
    "duration": 51,
    "start_time": "2022-07-30T10:20:31.372Z"
   },
   {
    "duration": 44,
    "start_time": "2022-07-30T10:20:31.426Z"
   },
   {
    "duration": 62,
    "start_time": "2022-07-30T10:20:31.472Z"
   },
   {
    "duration": 46,
    "start_time": "2022-07-30T10:20:31.536Z"
   },
   {
    "duration": 97,
    "start_time": "2022-07-30T10:20:31.584Z"
   },
   {
    "duration": 72,
    "start_time": "2022-07-30T10:20:31.687Z"
   },
   {
    "duration": 222,
    "start_time": "2022-07-30T10:20:31.761Z"
   },
   {
    "duration": 15,
    "start_time": "2022-07-30T10:20:31.985Z"
   },
   {
    "duration": 114,
    "start_time": "2022-07-30T10:20:32.001Z"
   },
   {
    "duration": 23,
    "start_time": "2022-07-30T10:20:32.118Z"
   },
   {
    "duration": 203,
    "start_time": "2022-07-30T10:20:32.143Z"
   },
   {
    "duration": 10,
    "start_time": "2022-07-30T10:20:32.352Z"
   },
   {
    "duration": 149,
    "start_time": "2022-07-30T10:20:32.363Z"
   },
   {
    "duration": 184,
    "start_time": "2022-07-30T10:20:32.513Z"
   },
   {
    "duration": 16,
    "start_time": "2022-07-30T10:20:32.700Z"
   },
   {
    "duration": 22,
    "start_time": "2022-07-30T10:20:32.717Z"
   },
   {
    "duration": 176,
    "start_time": "2022-07-30T10:20:32.741Z"
   },
   {
    "duration": 15,
    "start_time": "2022-07-30T10:20:32.919Z"
   },
   {
    "duration": 211,
    "start_time": "2022-07-30T10:20:32.936Z"
   },
   {
    "duration": 2395,
    "start_time": "2022-07-30T10:20:33.149Z"
   },
   {
    "duration": 70,
    "start_time": "2022-07-30T10:20:35.546Z"
   },
   {
    "duration": 17,
    "start_time": "2022-07-30T10:20:40.036Z"
   },
   {
    "duration": 1208,
    "start_time": "2022-07-30T10:21:00.119Z"
   },
   {
    "duration": 83,
    "start_time": "2022-07-30T10:21:01.329Z"
   },
   {
    "duration": 32,
    "start_time": "2022-07-30T10:21:01.418Z"
   },
   {
    "duration": 10,
    "start_time": "2022-07-30T10:21:01.452Z"
   },
   {
    "duration": 90,
    "start_time": "2022-07-30T10:21:01.464Z"
   },
   {
    "duration": 30,
    "start_time": "2022-07-30T10:21:01.555Z"
   },
   {
    "duration": 112,
    "start_time": "2022-07-30T10:21:01.592Z"
   },
   {
    "duration": 37,
    "start_time": "2022-07-30T10:21:01.711Z"
   },
   {
    "duration": 78,
    "start_time": "2022-07-30T10:21:01.750Z"
   },
   {
    "duration": 30,
    "start_time": "2022-07-30T10:21:01.830Z"
   },
   {
    "duration": 49,
    "start_time": "2022-07-30T10:21:01.862Z"
   },
   {
    "duration": 61,
    "start_time": "2022-07-30T10:21:01.914Z"
   },
   {
    "duration": 42,
    "start_time": "2022-07-30T10:21:01.982Z"
   },
   {
    "duration": 41,
    "start_time": "2022-07-30T10:21:02.027Z"
   },
   {
    "duration": 57,
    "start_time": "2022-07-30T10:21:02.070Z"
   },
   {
    "duration": 8,
    "start_time": "2022-07-30T10:21:02.129Z"
   },
   {
    "duration": 13,
    "start_time": "2022-07-30T10:21:02.139Z"
   },
   {
    "duration": 12,
    "start_time": "2022-07-30T10:21:02.153Z"
   },
   {
    "duration": 45,
    "start_time": "2022-07-30T10:21:02.167Z"
   },
   {
    "duration": 19,
    "start_time": "2022-07-30T10:21:02.217Z"
   },
   {
    "duration": 12,
    "start_time": "2022-07-30T10:21:02.238Z"
   },
   {
    "duration": 15,
    "start_time": "2022-07-30T10:21:02.251Z"
   },
   {
    "duration": 85,
    "start_time": "2022-07-30T10:21:02.267Z"
   },
   {
    "duration": 13,
    "start_time": "2022-07-30T10:21:02.353Z"
   },
   {
    "duration": 169,
    "start_time": "2022-07-30T10:21:02.368Z"
   },
   {
    "duration": 11,
    "start_time": "2022-07-30T10:21:02.538Z"
   },
   {
    "duration": 115,
    "start_time": "2022-07-30T10:21:02.550Z"
   },
   {
    "duration": 38,
    "start_time": "2022-07-30T10:21:02.667Z"
   },
   {
    "duration": 237,
    "start_time": "2022-07-30T10:21:02.713Z"
   },
   {
    "duration": 12,
    "start_time": "2022-07-30T10:21:02.952Z"
   },
   {
    "duration": 162,
    "start_time": "2022-07-30T10:21:02.985Z"
   },
   {
    "duration": 185,
    "start_time": "2022-07-30T10:21:03.149Z"
   },
   {
    "duration": 10,
    "start_time": "2022-07-30T10:21:03.336Z"
   },
   {
    "duration": 46,
    "start_time": "2022-07-30T10:21:03.348Z"
   },
   {
    "duration": 213,
    "start_time": "2022-07-30T10:21:03.396Z"
   },
   {
    "duration": 20,
    "start_time": "2022-07-30T10:21:03.610Z"
   },
   {
    "duration": 213,
    "start_time": "2022-07-30T10:21:03.631Z"
   },
   {
    "duration": 2399,
    "start_time": "2022-07-30T10:21:03.846Z"
   },
   {
    "duration": 71,
    "start_time": "2022-07-30T10:21:06.247Z"
   },
   {
    "duration": 27,
    "start_time": "2022-07-30T10:21:06.327Z"
   },
   {
    "duration": 10,
    "start_time": "2022-07-30T10:21:06.359Z"
   },
   {
    "duration": 58,
    "start_time": "2022-07-30T10:21:06.371Z"
   },
   {
    "duration": 13,
    "start_time": "2022-07-30T10:21:06.431Z"
   },
   {
    "duration": 20,
    "start_time": "2022-07-30T10:21:06.446Z"
   },
   {
    "duration": 20,
    "start_time": "2022-07-30T10:21:06.468Z"
   },
   {
    "duration": 47,
    "start_time": "2022-07-30T10:21:06.491Z"
   },
   {
    "duration": 10,
    "start_time": "2022-07-30T10:21:06.540Z"
   },
   {
    "duration": 10,
    "start_time": "2022-07-30T10:21:06.552Z"
   },
   {
    "duration": 13,
    "start_time": "2022-07-30T10:21:06.564Z"
   },
   {
    "duration": 59,
    "start_time": "2022-07-30T10:21:06.580Z"
   },
   {
    "duration": 13,
    "start_time": "2022-07-30T10:21:06.641Z"
   },
   {
    "duration": 9,
    "start_time": "2022-07-30T10:21:06.656Z"
   },
   {
    "duration": 15,
    "start_time": "2022-07-30T10:21:06.667Z"
   },
   {
    "duration": 56,
    "start_time": "2022-07-30T10:21:06.684Z"
   },
   {
    "duration": 7,
    "start_time": "2022-07-30T10:21:06.742Z"
   },
   {
    "duration": 12,
    "start_time": "2022-07-30T10:21:06.751Z"
   },
   {
    "duration": 8,
    "start_time": "2022-07-30T10:21:49.421Z"
   },
   {
    "duration": 1374,
    "start_time": "2022-07-30T10:22:04.608Z"
   },
   {
    "duration": 96,
    "start_time": "2022-07-30T10:22:05.988Z"
   },
   {
    "duration": 29,
    "start_time": "2022-07-30T10:22:06.096Z"
   },
   {
    "duration": 10,
    "start_time": "2022-07-30T10:22:06.127Z"
   },
   {
    "duration": 93,
    "start_time": "2022-07-30T10:22:06.140Z"
   },
   {
    "duration": 13,
    "start_time": "2022-07-30T10:22:06.234Z"
   },
   {
    "duration": 76,
    "start_time": "2022-07-30T10:22:06.249Z"
   },
   {
    "duration": 39,
    "start_time": "2022-07-30T10:22:06.327Z"
   },
   {
    "duration": 82,
    "start_time": "2022-07-30T10:22:06.368Z"
   },
   {
    "duration": 17,
    "start_time": "2022-07-30T10:22:06.452Z"
   },
   {
    "duration": 39,
    "start_time": "2022-07-30T10:22:06.471Z"
   },
   {
    "duration": 23,
    "start_time": "2022-07-30T10:22:06.516Z"
   },
   {
    "duration": 20,
    "start_time": "2022-07-30T10:22:06.540Z"
   },
   {
    "duration": 4,
    "start_time": "2022-07-30T10:22:06.564Z"
   },
   {
    "duration": 65,
    "start_time": "2022-07-30T10:22:06.570Z"
   },
   {
    "duration": 6,
    "start_time": "2022-07-30T10:22:06.638Z"
   },
   {
    "duration": 17,
    "start_time": "2022-07-30T10:22:06.645Z"
   },
   {
    "duration": 30,
    "start_time": "2022-07-30T10:22:06.664Z"
   },
   {
    "duration": 39,
    "start_time": "2022-07-30T10:22:06.703Z"
   },
   {
    "duration": 18,
    "start_time": "2022-07-30T10:22:06.744Z"
   },
   {
    "duration": 69,
    "start_time": "2022-07-30T10:22:06.764Z"
   },
   {
    "duration": 20,
    "start_time": "2022-07-30T10:22:06.835Z"
   },
   {
    "duration": 78,
    "start_time": "2022-07-30T10:22:06.857Z"
   },
   {
    "duration": 22,
    "start_time": "2022-07-30T10:22:06.937Z"
   },
   {
    "duration": 206,
    "start_time": "2022-07-30T10:22:06.961Z"
   },
   {
    "duration": 27,
    "start_time": "2022-07-30T10:22:07.169Z"
   },
   {
    "duration": 144,
    "start_time": "2022-07-30T10:22:07.198Z"
   },
   {
    "duration": 48,
    "start_time": "2022-07-30T10:22:07.344Z"
   },
   {
    "duration": 253,
    "start_time": "2022-07-30T10:22:07.393Z"
   },
   {
    "duration": 12,
    "start_time": "2022-07-30T10:22:07.647Z"
   },
   {
    "duration": 190,
    "start_time": "2022-07-30T10:22:07.661Z"
   },
   {
    "duration": 218,
    "start_time": "2022-07-30T10:22:07.852Z"
   },
   {
    "duration": 18,
    "start_time": "2022-07-30T10:22:08.072Z"
   },
   {
    "duration": 62,
    "start_time": "2022-07-30T10:22:08.092Z"
   },
   {
    "duration": 223,
    "start_time": "2022-07-30T10:22:08.156Z"
   },
   {
    "duration": 30,
    "start_time": "2022-07-30T10:22:08.383Z"
   },
   {
    "duration": 319,
    "start_time": "2022-07-30T10:22:08.415Z"
   },
   {
    "duration": 2488,
    "start_time": "2022-07-30T10:22:08.737Z"
   },
   {
    "duration": 39,
    "start_time": "2022-07-30T10:22:11.227Z"
   },
   {
    "duration": 29,
    "start_time": "2022-07-30T10:22:11.267Z"
   },
   {
    "duration": 34,
    "start_time": "2022-07-30T10:22:11.305Z"
   },
   {
    "duration": 15,
    "start_time": "2022-07-30T10:22:11.340Z"
   },
   {
    "duration": 42,
    "start_time": "2022-07-30T10:22:11.357Z"
   },
   {
    "duration": 64,
    "start_time": "2022-07-30T10:22:11.401Z"
   },
   {
    "duration": 57,
    "start_time": "2022-07-30T10:22:11.467Z"
   },
   {
    "duration": 22,
    "start_time": "2022-07-30T10:22:11.526Z"
   },
   {
    "duration": 90,
    "start_time": "2022-07-30T10:22:11.550Z"
   },
   {
    "duration": 33,
    "start_time": "2022-07-30T10:22:11.642Z"
   },
   {
    "duration": 67,
    "start_time": "2022-07-30T10:22:11.677Z"
   },
   {
    "duration": 81,
    "start_time": "2022-07-30T10:22:11.746Z"
   },
   {
    "duration": 27,
    "start_time": "2022-07-30T10:22:11.829Z"
   },
   {
    "duration": 54,
    "start_time": "2022-07-30T10:22:11.858Z"
   },
   {
    "duration": 31,
    "start_time": "2022-07-30T10:22:11.917Z"
   },
   {
    "duration": 18,
    "start_time": "2022-07-30T10:22:11.950Z"
   },
   {
    "duration": 63,
    "start_time": "2022-07-30T10:22:11.970Z"
   },
   {
    "duration": 16,
    "start_time": "2022-07-30T10:24:20.204Z"
   },
   {
    "duration": 15,
    "start_time": "2022-07-30T10:25:11.946Z"
   },
   {
    "duration": 28,
    "start_time": "2022-07-30T10:27:14.738Z"
   },
   {
    "duration": 1334,
    "start_time": "2022-07-30T10:28:50.808Z"
   },
   {
    "duration": 79,
    "start_time": "2022-07-30T10:28:52.144Z"
   },
   {
    "duration": 30,
    "start_time": "2022-07-30T10:28:52.227Z"
   },
   {
    "duration": 8,
    "start_time": "2022-07-30T10:28:52.258Z"
   },
   {
    "duration": 81,
    "start_time": "2022-07-30T10:28:52.267Z"
   },
   {
    "duration": 12,
    "start_time": "2022-07-30T10:28:52.350Z"
   },
   {
    "duration": 18,
    "start_time": "2022-07-30T10:28:52.364Z"
   },
   {
    "duration": 43,
    "start_time": "2022-07-30T10:28:52.384Z"
   },
   {
    "duration": 21,
    "start_time": "2022-07-30T10:28:52.429Z"
   },
   {
    "duration": 14,
    "start_time": "2022-07-30T10:28:52.452Z"
   },
   {
    "duration": 26,
    "start_time": "2022-07-30T10:28:52.468Z"
   },
   {
    "duration": 31,
    "start_time": "2022-07-30T10:28:52.499Z"
   },
   {
    "duration": 13,
    "start_time": "2022-07-30T10:28:52.532Z"
   },
   {
    "duration": 8,
    "start_time": "2022-07-30T10:28:52.547Z"
   },
   {
    "duration": 9,
    "start_time": "2022-07-30T10:28:52.557Z"
   },
   {
    "duration": 6,
    "start_time": "2022-07-30T10:28:52.568Z"
   },
   {
    "duration": 59,
    "start_time": "2022-07-30T10:28:52.577Z"
   },
   {
    "duration": 8,
    "start_time": "2022-07-30T10:28:52.638Z"
   },
   {
    "duration": 13,
    "start_time": "2022-07-30T10:28:52.648Z"
   },
   {
    "duration": 28,
    "start_time": "2022-07-30T10:28:52.663Z"
   },
   {
    "duration": 43,
    "start_time": "2022-07-30T10:28:52.693Z"
   },
   {
    "duration": 16,
    "start_time": "2022-07-30T10:28:52.738Z"
   },
   {
    "duration": 64,
    "start_time": "2022-07-30T10:28:52.755Z"
   },
   {
    "duration": 21,
    "start_time": "2022-07-30T10:28:52.821Z"
   },
   {
    "duration": 189,
    "start_time": "2022-07-30T10:28:52.844Z"
   },
   {
    "duration": 13,
    "start_time": "2022-07-30T10:28:53.035Z"
   },
   {
    "duration": 111,
    "start_time": "2022-07-30T10:28:53.050Z"
   },
   {
    "duration": 49,
    "start_time": "2022-07-30T10:28:53.163Z"
   },
   {
    "duration": 216,
    "start_time": "2022-07-30T10:28:53.216Z"
   },
   {
    "duration": 11,
    "start_time": "2022-07-30T10:28:53.433Z"
   },
   {
    "duration": 167,
    "start_time": "2022-07-30T10:28:53.446Z"
   },
   {
    "duration": 185,
    "start_time": "2022-07-30T10:28:53.614Z"
   },
   {
    "duration": 24,
    "start_time": "2022-07-30T10:28:53.800Z"
   },
   {
    "duration": 33,
    "start_time": "2022-07-30T10:28:53.826Z"
   },
   {
    "duration": 213,
    "start_time": "2022-07-30T10:28:53.861Z"
   },
   {
    "duration": 27,
    "start_time": "2022-07-30T10:28:54.077Z"
   },
   {
    "duration": 230,
    "start_time": "2022-07-30T10:28:54.106Z"
   },
   {
    "duration": 3012,
    "start_time": "2022-07-30T10:28:54.337Z"
   },
   {
    "duration": 56,
    "start_time": "2022-07-30T10:28:57.351Z"
   },
   {
    "duration": 40,
    "start_time": "2022-07-30T10:28:57.412Z"
   },
   {
    "duration": 10,
    "start_time": "2022-07-30T10:28:57.456Z"
   },
   {
    "duration": 54,
    "start_time": "2022-07-30T10:28:57.468Z"
   },
   {
    "duration": 13,
    "start_time": "2022-07-30T10:28:57.525Z"
   },
   {
    "duration": 20,
    "start_time": "2022-07-30T10:28:57.540Z"
   },
   {
    "duration": 6,
    "start_time": "2022-07-30T10:28:57.562Z"
   },
   {
    "duration": 54,
    "start_time": "2022-07-30T10:28:57.571Z"
   },
   {
    "duration": 15,
    "start_time": "2022-07-30T10:28:57.629Z"
   },
   {
    "duration": 13,
    "start_time": "2022-07-30T10:28:57.646Z"
   },
   {
    "duration": 25,
    "start_time": "2022-07-30T10:28:57.661Z"
   },
   {
    "duration": 62,
    "start_time": "2022-07-30T10:28:57.697Z"
   },
   {
    "duration": 8,
    "start_time": "2022-07-30T10:28:57.760Z"
   },
   {
    "duration": 33,
    "start_time": "2022-07-30T10:28:57.770Z"
   },
   {
    "duration": 36,
    "start_time": "2022-07-30T10:28:57.804Z"
   },
   {
    "duration": 9,
    "start_time": "2022-07-30T10:28:57.842Z"
   },
   {
    "duration": 13,
    "start_time": "2022-07-30T10:28:57.852Z"
   },
   {
    "duration": 14,
    "start_time": "2022-07-30T10:28:57.867Z"
   },
   {
    "duration": 64,
    "start_time": "2022-07-30T10:28:57.883Z"
   },
   {
    "duration": 8,
    "start_time": "2022-07-30T10:31:45.920Z"
   },
   {
    "duration": 17,
    "start_time": "2022-07-30T10:34:06.644Z"
   },
   {
    "duration": 16,
    "start_time": "2022-07-30T10:34:20.437Z"
   },
   {
    "duration": 17,
    "start_time": "2022-07-30T10:34:35.339Z"
   },
   {
    "duration": 10,
    "start_time": "2022-07-30T10:37:10.827Z"
   },
   {
    "duration": 29,
    "start_time": "2022-07-30T12:24:40.065Z"
   },
   {
    "duration": 190,
    "start_time": "2022-07-30T12:25:24.819Z"
   },
   {
    "duration": 15,
    "start_time": "2022-07-30T12:35:54.403Z"
   },
   {
    "duration": 258,
    "start_time": "2022-07-30T12:42:37.023Z"
   },
   {
    "duration": 244,
    "start_time": "2022-07-30T12:42:54.048Z"
   },
   {
    "duration": 188,
    "start_time": "2022-07-30T12:45:59.072Z"
   },
   {
    "duration": 167,
    "start_time": "2022-07-30T12:46:09.047Z"
   },
   {
    "duration": 281,
    "start_time": "2022-07-30T12:46:41.624Z"
   },
   {
    "duration": 7,
    "start_time": "2022-07-30T12:54:38.146Z"
   },
   {
    "duration": 1227,
    "start_time": "2022-07-30T12:54:47.758Z"
   },
   {
    "duration": 75,
    "start_time": "2022-07-30T12:54:48.987Z"
   },
   {
    "duration": 44,
    "start_time": "2022-07-30T12:54:49.064Z"
   },
   {
    "duration": 28,
    "start_time": "2022-07-30T12:54:49.111Z"
   },
   {
    "duration": 39,
    "start_time": "2022-07-30T12:54:49.141Z"
   },
   {
    "duration": 19,
    "start_time": "2022-07-30T12:54:49.185Z"
   },
   {
    "duration": 31,
    "start_time": "2022-07-30T12:54:49.210Z"
   },
   {
    "duration": 10,
    "start_time": "2022-07-30T12:54:49.243Z"
   },
   {
    "duration": 42,
    "start_time": "2022-07-30T12:54:49.255Z"
   },
   {
    "duration": 20,
    "start_time": "2022-07-30T12:54:49.307Z"
   },
   {
    "duration": 8,
    "start_time": "2022-07-30T12:54:49.329Z"
   },
   {
    "duration": 7,
    "start_time": "2022-07-30T12:54:49.339Z"
   },
   {
    "duration": 29,
    "start_time": "2022-07-30T12:54:49.347Z"
   },
   {
    "duration": 16,
    "start_time": "2022-07-30T12:54:49.379Z"
   },
   {
    "duration": 32,
    "start_time": "2022-07-30T12:54:49.400Z"
   },
   {
    "duration": 8,
    "start_time": "2022-07-30T12:54:49.434Z"
   },
   {
    "duration": 17,
    "start_time": "2022-07-30T12:54:49.443Z"
   },
   {
    "duration": 15,
    "start_time": "2022-07-30T12:54:49.462Z"
   },
   {
    "duration": 39,
    "start_time": "2022-07-30T12:54:49.482Z"
   },
   {
    "duration": 14,
    "start_time": "2022-07-30T12:54:49.523Z"
   },
   {
    "duration": 16,
    "start_time": "2022-07-30T12:54:49.539Z"
   },
   {
    "duration": 22,
    "start_time": "2022-07-30T12:54:49.556Z"
   },
   {
    "duration": 51,
    "start_time": "2022-07-30T12:54:49.581Z"
   },
   {
    "duration": 19,
    "start_time": "2022-07-30T12:54:49.634Z"
   },
   {
    "duration": 245,
    "start_time": "2022-07-30T12:54:49.655Z"
   },
   {
    "duration": 16,
    "start_time": "2022-07-30T12:54:49.901Z"
   },
   {
    "duration": 104,
    "start_time": "2022-07-30T12:54:49.919Z"
   },
   {
    "duration": 23,
    "start_time": "2022-07-30T12:54:50.026Z"
   },
   {
    "duration": 217,
    "start_time": "2022-07-30T12:54:50.050Z"
   },
   {
    "duration": 21,
    "start_time": "2022-07-30T12:54:50.268Z"
   },
   {
    "duration": 151,
    "start_time": "2022-07-30T12:54:50.290Z"
   },
   {
    "duration": 186,
    "start_time": "2022-07-30T12:54:50.442Z"
   },
   {
    "duration": 16,
    "start_time": "2022-07-30T12:54:50.630Z"
   },
   {
    "duration": 53,
    "start_time": "2022-07-30T12:54:50.648Z"
   },
   {
    "duration": 210,
    "start_time": "2022-07-30T12:54:50.703Z"
   },
   {
    "duration": 16,
    "start_time": "2022-07-30T12:54:50.915Z"
   },
   {
    "duration": 222,
    "start_time": "2022-07-30T12:54:50.932Z"
   },
   {
    "duration": 2863,
    "start_time": "2022-07-30T12:54:51.156Z"
   },
   {
    "duration": 68,
    "start_time": "2022-07-30T12:54:54.022Z"
   },
   {
    "duration": 19,
    "start_time": "2022-07-30T12:54:54.098Z"
   },
   {
    "duration": 19,
    "start_time": "2022-07-30T12:54:54.118Z"
   },
   {
    "duration": 9,
    "start_time": "2022-07-30T12:54:54.140Z"
   },
   {
    "duration": 16,
    "start_time": "2022-07-30T12:54:54.152Z"
   },
   {
    "duration": 37,
    "start_time": "2022-07-30T12:54:54.170Z"
   },
   {
    "duration": 12,
    "start_time": "2022-07-30T12:54:54.211Z"
   },
   {
    "duration": 10,
    "start_time": "2022-07-30T12:54:54.225Z"
   },
   {
    "duration": 12,
    "start_time": "2022-07-30T12:54:54.237Z"
   },
   {
    "duration": 14,
    "start_time": "2022-07-30T12:54:54.251Z"
   },
   {
    "duration": 12,
    "start_time": "2022-07-30T12:54:54.267Z"
   },
   {
    "duration": 44,
    "start_time": "2022-07-30T12:54:54.280Z"
   },
   {
    "duration": 10,
    "start_time": "2022-07-30T12:54:54.325Z"
   },
   {
    "duration": 10,
    "start_time": "2022-07-30T12:54:54.337Z"
   },
   {
    "duration": 12,
    "start_time": "2022-07-30T12:54:54.348Z"
   },
   {
    "duration": 33,
    "start_time": "2022-07-30T12:54:54.362Z"
   },
   {
    "duration": 12,
    "start_time": "2022-07-30T12:54:54.396Z"
   },
   {
    "duration": 1633,
    "start_time": "2022-07-31T11:14:17.002Z"
   },
   {
    "duration": 1504,
    "start_time": "2022-07-31T11:15:55.557Z"
   },
   {
    "duration": 162,
    "start_time": "2022-07-31T11:15:57.063Z"
   },
   {
    "duration": 26,
    "start_time": "2022-07-31T11:15:57.233Z"
   },
   {
    "duration": 9,
    "start_time": "2022-07-31T11:15:57.261Z"
   },
   {
    "duration": 25,
    "start_time": "2022-07-31T11:15:57.271Z"
   },
   {
    "duration": 27,
    "start_time": "2022-07-31T11:15:57.298Z"
   },
   {
    "duration": 40,
    "start_time": "2022-07-31T11:15:57.327Z"
   },
   {
    "duration": 8,
    "start_time": "2022-07-31T11:15:57.369Z"
   },
   {
    "duration": 24,
    "start_time": "2022-07-31T11:15:57.379Z"
   },
   {
    "duration": 22,
    "start_time": "2022-07-31T11:15:57.406Z"
   },
   {
    "duration": 17,
    "start_time": "2022-07-31T11:15:57.432Z"
   },
   {
    "duration": 9,
    "start_time": "2022-07-31T11:15:57.450Z"
   },
   {
    "duration": 51,
    "start_time": "2022-07-31T11:15:57.460Z"
   },
   {
    "duration": 7,
    "start_time": "2022-07-31T11:15:57.514Z"
   },
   {
    "duration": 31,
    "start_time": "2022-07-31T11:15:57.523Z"
   },
   {
    "duration": 8,
    "start_time": "2022-07-31T11:15:57.556Z"
   },
   {
    "duration": 18,
    "start_time": "2022-07-31T11:15:57.566Z"
   },
   {
    "duration": 10,
    "start_time": "2022-07-31T11:15:57.586Z"
   },
   {
    "duration": 23,
    "start_time": "2022-07-31T11:15:57.598Z"
   },
   {
    "duration": 24,
    "start_time": "2022-07-31T11:15:57.625Z"
   },
   {
    "duration": 14,
    "start_time": "2022-07-31T11:15:57.651Z"
   },
   {
    "duration": 51,
    "start_time": "2022-07-31T11:15:57.666Z"
   },
   {
    "duration": 113,
    "start_time": "2022-07-31T11:15:57.718Z"
   },
   {
    "duration": 17,
    "start_time": "2022-07-31T11:15:57.833Z"
   },
   {
    "duration": 236,
    "start_time": "2022-07-31T11:15:57.852Z"
   },
   {
    "duration": 24,
    "start_time": "2022-07-31T11:15:58.090Z"
   },
   {
    "duration": 107,
    "start_time": "2022-07-31T11:15:58.133Z"
   },
   {
    "duration": 22,
    "start_time": "2022-07-31T11:15:58.244Z"
   },
   {
    "duration": 242,
    "start_time": "2022-07-31T11:15:58.268Z"
   },
   {
    "duration": 15,
    "start_time": "2022-07-31T11:15:58.514Z"
   },
   {
    "duration": 162,
    "start_time": "2022-07-31T11:15:58.531Z"
   },
   {
    "duration": 220,
    "start_time": "2022-07-31T11:15:58.695Z"
   },
   {
    "duration": 13,
    "start_time": "2022-07-31T11:15:58.919Z"
   },
   {
    "duration": 26,
    "start_time": "2022-07-31T11:15:58.934Z"
   },
   {
    "duration": 174,
    "start_time": "2022-07-31T11:15:58.961Z"
   },
   {
    "duration": 17,
    "start_time": "2022-07-31T11:15:59.137Z"
   },
   {
    "duration": 244,
    "start_time": "2022-07-31T11:15:59.155Z"
   },
   {
    "duration": 2559,
    "start_time": "2022-07-31T11:15:59.405Z"
   },
   {
    "duration": 68,
    "start_time": "2022-07-31T11:16:01.965Z"
   },
   {
    "duration": 18,
    "start_time": "2022-07-31T11:16:02.037Z"
   },
   {
    "duration": 20,
    "start_time": "2022-07-31T11:16:02.058Z"
   },
   {
    "duration": 8,
    "start_time": "2022-07-31T11:16:02.081Z"
   },
   {
    "duration": 20,
    "start_time": "2022-07-31T11:16:02.090Z"
   },
   {
    "duration": 47,
    "start_time": "2022-07-31T11:16:02.111Z"
   },
   {
    "duration": 7,
    "start_time": "2022-07-31T11:16:02.160Z"
   },
   {
    "duration": 16,
    "start_time": "2022-07-31T11:16:02.169Z"
   },
   {
    "duration": 12,
    "start_time": "2022-07-31T11:16:02.187Z"
   },
   {
    "duration": 45,
    "start_time": "2022-07-31T11:16:02.201Z"
   },
   {
    "duration": 17,
    "start_time": "2022-07-31T11:16:02.247Z"
   },
   {
    "duration": 14,
    "start_time": "2022-07-31T11:16:02.266Z"
   },
   {
    "duration": 14,
    "start_time": "2022-07-31T11:16:02.283Z"
   },
   {
    "duration": 22,
    "start_time": "2022-07-31T11:16:02.299Z"
   },
   {
    "duration": 17,
    "start_time": "2022-07-31T11:16:02.329Z"
   },
   {
    "duration": 27,
    "start_time": "2022-07-31T11:16:02.348Z"
   },
   {
    "duration": 10,
    "start_time": "2022-07-31T11:16:02.377Z"
   },
   {
    "duration": 6,
    "start_time": "2022-07-31T11:25:44.265Z"
   },
   {
    "duration": 2719,
    "start_time": "2022-07-31T11:27:19.281Z"
   },
   {
    "duration": 122,
    "start_time": "2022-07-31T11:29:28.347Z"
   },
   {
    "duration": 6,
    "start_time": "2022-07-31T11:29:30.345Z"
   },
   {
    "duration": 25,
    "start_time": "2022-07-31T11:29:31.191Z"
   },
   {
    "duration": 13,
    "start_time": "2022-07-31T11:29:46.847Z"
   },
   {
    "duration": 13,
    "start_time": "2022-07-31T11:30:03.864Z"
   },
   {
    "duration": 2751,
    "start_time": "2022-07-31T11:30:07.820Z"
   },
   {
    "duration": 13,
    "start_time": "2022-07-31T11:30:52.471Z"
   },
   {
    "duration": 207,
    "start_time": "2022-07-31T11:31:00.681Z"
   },
   {
    "duration": 231,
    "start_time": "2022-07-31T11:31:30.288Z"
   },
   {
    "duration": 227,
    "start_time": "2022-07-31T11:31:53.031Z"
   },
   {
    "duration": 157,
    "start_time": "2022-07-31T11:33:28.995Z"
   },
   {
    "duration": 151,
    "start_time": "2022-07-31T11:33:37.747Z"
   },
   {
    "duration": 40,
    "start_time": "2022-07-31T12:13:34.470Z"
   },
   {
    "duration": 6,
    "start_time": "2022-07-31T12:13:51.792Z"
   },
   {
    "duration": 1472,
    "start_time": "2022-07-31T12:18:17.507Z"
   },
   {
    "duration": 84,
    "start_time": "2022-07-31T12:18:18.981Z"
   },
   {
    "duration": 26,
    "start_time": "2022-07-31T12:18:19.067Z"
   },
   {
    "duration": 29,
    "start_time": "2022-07-31T12:18:19.095Z"
   },
   {
    "duration": 44,
    "start_time": "2022-07-31T12:18:19.128Z"
   },
   {
    "duration": 17,
    "start_time": "2022-07-31T12:18:19.174Z"
   },
   {
    "duration": 30,
    "start_time": "2022-07-31T12:18:19.193Z"
   },
   {
    "duration": 13,
    "start_time": "2022-07-31T12:18:19.229Z"
   },
   {
    "duration": 25,
    "start_time": "2022-07-31T12:18:19.244Z"
   },
   {
    "duration": 17,
    "start_time": "2022-07-31T12:18:19.272Z"
   },
   {
    "duration": 17,
    "start_time": "2022-07-31T12:18:19.306Z"
   },
   {
    "duration": 25,
    "start_time": "2022-07-31T12:18:19.328Z"
   },
   {
    "duration": 22,
    "start_time": "2022-07-31T12:18:19.356Z"
   },
   {
    "duration": 4,
    "start_time": "2022-07-31T12:18:19.379Z"
   },
   {
    "duration": 23,
    "start_time": "2022-07-31T12:18:19.385Z"
   },
   {
    "duration": 11,
    "start_time": "2022-07-31T12:18:19.413Z"
   },
   {
    "duration": 20,
    "start_time": "2022-07-31T12:18:19.426Z"
   },
   {
    "duration": 10,
    "start_time": "2022-07-31T12:18:19.448Z"
   },
   {
    "duration": 13,
    "start_time": "2022-07-31T12:18:19.460Z"
   },
   {
    "duration": 43,
    "start_time": "2022-07-31T12:18:19.476Z"
   },
   {
    "duration": 27,
    "start_time": "2022-07-31T12:18:19.520Z"
   },
   {
    "duration": 17,
    "start_time": "2022-07-31T12:18:19.548Z"
   },
   {
    "duration": 78,
    "start_time": "2022-07-31T12:18:19.566Z"
   },
   {
    "duration": 17,
    "start_time": "2022-07-31T12:18:19.646Z"
   },
   {
    "duration": 228,
    "start_time": "2022-07-31T12:18:19.665Z"
   },
   {
    "duration": 30,
    "start_time": "2022-07-31T12:18:19.895Z"
   },
   {
    "duration": 149,
    "start_time": "2022-07-31T12:18:19.927Z"
   },
   {
    "duration": 48,
    "start_time": "2022-07-31T12:18:20.083Z"
   },
   {
    "duration": 252,
    "start_time": "2022-07-31T12:18:20.144Z"
   },
   {
    "duration": 29,
    "start_time": "2022-07-31T12:18:20.397Z"
   },
   {
    "duration": 152,
    "start_time": "2022-07-31T12:18:20.435Z"
   },
   {
    "duration": 209,
    "start_time": "2022-07-31T12:18:20.589Z"
   },
   {
    "duration": 15,
    "start_time": "2022-07-31T12:18:20.804Z"
   },
   {
    "duration": 29,
    "start_time": "2022-07-31T12:18:20.821Z"
   },
   {
    "duration": 180,
    "start_time": "2022-07-31T12:18:20.852Z"
   },
   {
    "duration": 23,
    "start_time": "2022-07-31T12:18:21.034Z"
   },
   {
    "duration": 261,
    "start_time": "2022-07-31T12:18:21.059Z"
   },
   {
    "duration": 2539,
    "start_time": "2022-07-31T12:18:21.323Z"
   },
   {
    "duration": 50,
    "start_time": "2022-07-31T12:18:23.864Z"
   },
   {
    "duration": 24,
    "start_time": "2022-07-31T12:18:23.918Z"
   },
   {
    "duration": 14,
    "start_time": "2022-07-31T12:18:23.945Z"
   },
   {
    "duration": 6,
    "start_time": "2022-07-31T12:18:23.961Z"
   },
   {
    "duration": 18,
    "start_time": "2022-07-31T12:18:23.968Z"
   },
   {
    "duration": 42,
    "start_time": "2022-07-31T12:18:23.988Z"
   },
   {
    "duration": 9,
    "start_time": "2022-07-31T12:18:24.032Z"
   },
   {
    "duration": 11,
    "start_time": "2022-07-31T12:18:24.044Z"
   },
   {
    "duration": 14,
    "start_time": "2022-07-31T12:18:24.057Z"
   },
   {
    "duration": 57,
    "start_time": "2022-07-31T12:18:24.073Z"
   },
   {
    "duration": 37,
    "start_time": "2022-07-31T12:18:24.134Z"
   },
   {
    "duration": 66,
    "start_time": "2022-07-31T12:18:24.173Z"
   },
   {
    "duration": 97,
    "start_time": "2022-07-31T12:18:24.242Z"
   },
   {
    "duration": 60,
    "start_time": "2022-07-31T12:18:24.342Z"
   },
   {
    "duration": 50,
    "start_time": "2022-07-31T12:18:24.404Z"
   },
   {
    "duration": 49,
    "start_time": "2022-07-31T12:18:24.456Z"
   },
   {
    "duration": 16,
    "start_time": "2022-07-31T12:18:24.514Z"
   },
   {
    "duration": 32,
    "start_time": "2022-07-31T12:18:24.532Z"
   },
   {
    "duration": 217,
    "start_time": "2022-07-31T12:18:24.566Z"
   },
   {
    "duration": 30,
    "start_time": "2022-07-31T12:18:24.785Z"
   },
   {
    "duration": 1367,
    "start_time": "2022-07-31T12:22:48.467Z"
   },
   {
    "duration": 72,
    "start_time": "2022-07-31T12:22:49.836Z"
   },
   {
    "duration": 28,
    "start_time": "2022-07-31T12:22:49.911Z"
   },
   {
    "duration": 9,
    "start_time": "2022-07-31T12:22:49.941Z"
   },
   {
    "duration": 26,
    "start_time": "2022-07-31T12:22:49.951Z"
   },
   {
    "duration": 41,
    "start_time": "2022-07-31T12:22:49.979Z"
   },
   {
    "duration": 15,
    "start_time": "2022-07-31T12:22:50.022Z"
   },
   {
    "duration": 12,
    "start_time": "2022-07-31T12:22:50.038Z"
   },
   {
    "duration": 26,
    "start_time": "2022-07-31T12:22:50.052Z"
   },
   {
    "duration": 38,
    "start_time": "2022-07-31T12:22:50.081Z"
   },
   {
    "duration": 9,
    "start_time": "2022-07-31T12:22:50.121Z"
   },
   {
    "duration": 27,
    "start_time": "2022-07-31T12:22:50.132Z"
   },
   {
    "duration": 23,
    "start_time": "2022-07-31T12:22:50.161Z"
   },
   {
    "duration": 5,
    "start_time": "2022-07-31T12:22:50.186Z"
   },
   {
    "duration": 20,
    "start_time": "2022-07-31T12:22:50.193Z"
   },
   {
    "duration": 25,
    "start_time": "2022-07-31T12:22:50.215Z"
   },
   {
    "duration": 19,
    "start_time": "2022-07-31T12:22:50.242Z"
   },
   {
    "duration": 11,
    "start_time": "2022-07-31T12:22:50.263Z"
   },
   {
    "duration": 14,
    "start_time": "2022-07-31T12:22:50.276Z"
   },
   {
    "duration": 23,
    "start_time": "2022-07-31T12:22:50.292Z"
   },
   {
    "duration": 18,
    "start_time": "2022-07-31T12:22:50.316Z"
   },
   {
    "duration": 17,
    "start_time": "2022-07-31T12:22:50.336Z"
   },
   {
    "duration": 83,
    "start_time": "2022-07-31T12:22:50.354Z"
   },
   {
    "duration": 15,
    "start_time": "2022-07-31T12:22:50.439Z"
   },
   {
    "duration": 215,
    "start_time": "2022-07-31T12:22:50.456Z"
   },
   {
    "duration": 12,
    "start_time": "2022-07-31T12:22:50.673Z"
   },
   {
    "duration": 123,
    "start_time": "2022-07-31T12:22:50.687Z"
   },
   {
    "duration": 26,
    "start_time": "2022-07-31T12:22:50.814Z"
   },
   {
    "duration": 230,
    "start_time": "2022-07-31T12:22:50.842Z"
   },
   {
    "duration": 13,
    "start_time": "2022-07-31T12:22:51.074Z"
   },
   {
    "duration": 170,
    "start_time": "2022-07-31T12:22:51.089Z"
   },
   {
    "duration": 222,
    "start_time": "2022-07-31T12:22:51.261Z"
   },
   {
    "duration": 24,
    "start_time": "2022-07-31T12:22:51.485Z"
   },
   {
    "duration": 22,
    "start_time": "2022-07-31T12:22:51.516Z"
   },
   {
    "duration": 186,
    "start_time": "2022-07-31T12:22:51.540Z"
   },
   {
    "duration": 25,
    "start_time": "2022-07-31T12:22:51.727Z"
   },
   {
    "duration": 238,
    "start_time": "2022-07-31T12:22:51.754Z"
   },
   {
    "duration": 2065,
    "start_time": "2022-07-31T12:22:51.993Z"
   },
   {
    "duration": 45,
    "start_time": "2022-07-31T12:22:54.060Z"
   },
   {
    "duration": 22,
    "start_time": "2022-07-31T12:22:54.107Z"
   },
   {
    "duration": 25,
    "start_time": "2022-07-31T12:22:54.131Z"
   },
   {
    "duration": 9,
    "start_time": "2022-07-31T12:22:54.158Z"
   },
   {
    "duration": 21,
    "start_time": "2022-07-31T12:22:54.169Z"
   },
   {
    "duration": 31,
    "start_time": "2022-07-31T12:22:54.192Z"
   },
   {
    "duration": 7,
    "start_time": "2022-07-31T12:22:54.225Z"
   },
   {
    "duration": 14,
    "start_time": "2022-07-31T12:22:54.234Z"
   },
   {
    "duration": 12,
    "start_time": "2022-07-31T12:22:54.250Z"
   },
   {
    "duration": 16,
    "start_time": "2022-07-31T12:22:54.263Z"
   },
   {
    "duration": 20,
    "start_time": "2022-07-31T12:22:54.310Z"
   },
   {
    "duration": 10,
    "start_time": "2022-07-31T12:22:54.332Z"
   },
   {
    "duration": 11,
    "start_time": "2022-07-31T12:22:54.343Z"
   },
   {
    "duration": 8,
    "start_time": "2022-07-31T12:22:54.356Z"
   },
   {
    "duration": 14,
    "start_time": "2022-07-31T12:22:54.365Z"
   },
   {
    "duration": 56,
    "start_time": "2022-07-31T12:22:54.380Z"
   },
   {
    "duration": 14,
    "start_time": "2022-07-31T12:22:54.438Z"
   },
   {
    "duration": 22,
    "start_time": "2022-07-31T12:22:54.454Z"
   },
   {
    "duration": 218,
    "start_time": "2022-07-31T12:22:54.477Z"
   },
   {
    "duration": 11,
    "start_time": "2022-07-31T12:22:54.703Z"
   },
   {
    "duration": 17,
    "start_time": "2022-07-31T12:23:15.402Z"
   },
   {
    "duration": 90,
    "start_time": "2022-07-31T12:23:25.261Z"
   },
   {
    "duration": 22,
    "start_time": "2022-07-31T12:23:43.576Z"
   },
   {
    "duration": 11,
    "start_time": "2022-07-31T12:31:35.972Z"
   },
   {
    "duration": 24,
    "start_time": "2022-07-31T12:32:49.164Z"
   },
   {
    "duration": 15,
    "start_time": "2022-07-31T12:33:21.299Z"
   },
   {
    "duration": 10,
    "start_time": "2022-07-31T12:34:22.076Z"
   },
   {
    "duration": 27,
    "start_time": "2022-07-31T12:35:03.796Z"
   },
   {
    "duration": 133,
    "start_time": "2022-07-31T12:36:08.404Z"
   },
   {
    "duration": 1414,
    "start_time": "2022-07-31T12:36:19.836Z"
   },
   {
    "duration": 74,
    "start_time": "2022-07-31T12:36:21.252Z"
   },
   {
    "duration": 30,
    "start_time": "2022-07-31T12:36:21.331Z"
   },
   {
    "duration": 9,
    "start_time": "2022-07-31T12:36:21.363Z"
   },
   {
    "duration": 53,
    "start_time": "2022-07-31T12:36:21.375Z"
   },
   {
    "duration": 14,
    "start_time": "2022-07-31T12:36:21.429Z"
   },
   {
    "duration": 23,
    "start_time": "2022-07-31T12:36:21.445Z"
   },
   {
    "duration": 9,
    "start_time": "2022-07-31T12:36:21.470Z"
   },
   {
    "duration": 51,
    "start_time": "2022-07-31T12:36:21.481Z"
   },
   {
    "duration": 23,
    "start_time": "2022-07-31T12:36:21.534Z"
   },
   {
    "duration": 9,
    "start_time": "2022-07-31T12:36:21.559Z"
   },
   {
    "duration": 18,
    "start_time": "2022-07-31T12:36:21.570Z"
   },
   {
    "duration": 31,
    "start_time": "2022-07-31T12:36:21.605Z"
   },
   {
    "duration": 8,
    "start_time": "2022-07-31T12:36:21.640Z"
   },
   {
    "duration": 14,
    "start_time": "2022-07-31T12:36:21.649Z"
   },
   {
    "duration": 15,
    "start_time": "2022-07-31T12:36:21.665Z"
   },
   {
    "duration": 36,
    "start_time": "2022-07-31T12:36:21.682Z"
   },
   {
    "duration": 16,
    "start_time": "2022-07-31T12:36:21.721Z"
   },
   {
    "duration": 17,
    "start_time": "2022-07-31T12:36:21.739Z"
   },
   {
    "duration": 18,
    "start_time": "2022-07-31T12:36:21.759Z"
   },
   {
    "duration": 47,
    "start_time": "2022-07-31T12:36:21.779Z"
   },
   {
    "duration": 49,
    "start_time": "2022-07-31T12:36:21.828Z"
   },
   {
    "duration": 44,
    "start_time": "2022-07-31T12:36:21.879Z"
   },
   {
    "duration": 214,
    "start_time": "2022-07-31T12:36:21.925Z"
   },
   {
    "duration": 14,
    "start_time": "2022-07-31T12:36:22.141Z"
   },
   {
    "duration": 122,
    "start_time": "2022-07-31T12:36:22.157Z"
   },
   {
    "duration": 37,
    "start_time": "2022-07-31T12:36:22.281Z"
   },
   {
    "duration": 223,
    "start_time": "2022-07-31T12:36:22.320Z"
   },
   {
    "duration": 11,
    "start_time": "2022-07-31T12:36:22.545Z"
   },
   {
    "duration": 170,
    "start_time": "2022-07-31T12:36:22.558Z"
   },
   {
    "duration": 205,
    "start_time": "2022-07-31T12:36:22.730Z"
   },
   {
    "duration": 12,
    "start_time": "2022-07-31T12:36:22.936Z"
   },
   {
    "duration": 26,
    "start_time": "2022-07-31T12:36:22.950Z"
   },
   {
    "duration": 192,
    "start_time": "2022-07-31T12:36:22.978Z"
   },
   {
    "duration": 17,
    "start_time": "2022-07-31T12:36:23.172Z"
   },
   {
    "duration": 234,
    "start_time": "2022-07-31T12:36:23.211Z"
   },
   {
    "duration": 3349,
    "start_time": "2022-07-31T12:36:23.447Z"
   },
   {
    "duration": 66,
    "start_time": "2022-07-31T12:36:26.798Z"
   },
   {
    "duration": 13,
    "start_time": "2022-07-31T12:36:26.867Z"
   },
   {
    "duration": 32,
    "start_time": "2022-07-31T12:36:26.884Z"
   },
   {
    "duration": 28,
    "start_time": "2022-07-31T12:36:26.922Z"
   },
   {
    "duration": 10,
    "start_time": "2022-07-31T12:36:26.952Z"
   },
   {
    "duration": 13,
    "start_time": "2022-07-31T12:36:26.966Z"
   },
   {
    "duration": 39,
    "start_time": "2022-07-31T12:36:26.981Z"
   },
   {
    "duration": 12,
    "start_time": "2022-07-31T12:36:27.023Z"
   },
   {
    "duration": 10,
    "start_time": "2022-07-31T12:36:27.037Z"
   },
   {
    "duration": 14,
    "start_time": "2022-07-31T12:36:27.049Z"
   },
   {
    "duration": 8,
    "start_time": "2022-07-31T12:36:27.065Z"
   },
   {
    "duration": 40,
    "start_time": "2022-07-31T12:36:27.075Z"
   },
   {
    "duration": 40,
    "start_time": "2022-07-31T12:36:27.118Z"
   },
   {
    "duration": 5,
    "start_time": "2022-07-31T12:36:27.160Z"
   },
   {
    "duration": 13,
    "start_time": "2022-07-31T12:36:27.167Z"
   },
   {
    "duration": 224,
    "start_time": "2022-07-31T12:36:27.182Z"
   },
   {
    "duration": 13,
    "start_time": "2022-07-31T12:36:27.417Z"
   },
   {
    "duration": 20,
    "start_time": "2022-07-31T12:37:07.200Z"
   },
   {
    "duration": 313,
    "start_time": "2022-07-31T12:49:50.236Z"
   },
   {
    "duration": 252,
    "start_time": "2022-07-31T12:50:26.891Z"
   },
   {
    "duration": 147,
    "start_time": "2022-07-31T12:51:40.797Z"
   },
   {
    "duration": 221,
    "start_time": "2022-07-31T12:53:10.900Z"
   },
   {
    "duration": 182,
    "start_time": "2022-07-31T12:54:29.319Z"
   },
   {
    "duration": 5,
    "start_time": "2022-07-31T12:54:42.644Z"
   },
   {
    "duration": 132,
    "start_time": "2022-07-31T12:54:44.899Z"
   },
   {
    "duration": 117,
    "start_time": "2022-07-31T12:55:57.650Z"
   },
   {
    "duration": 132,
    "start_time": "2022-07-31T12:56:04.519Z"
   },
   {
    "duration": 241,
    "start_time": "2022-07-31T12:57:57.408Z"
   },
   {
    "duration": 64,
    "start_time": "2022-08-01T09:33:35.678Z"
   },
   {
    "duration": 1632,
    "start_time": "2022-08-01T09:33:41.798Z"
   },
   {
    "duration": 124,
    "start_time": "2022-08-01T09:33:43.432Z"
   },
   {
    "duration": 26,
    "start_time": "2022-08-01T09:33:43.558Z"
   },
   {
    "duration": 10,
    "start_time": "2022-08-01T09:33:43.586Z"
   },
   {
    "duration": 33,
    "start_time": "2022-08-01T09:33:43.598Z"
   },
   {
    "duration": 13,
    "start_time": "2022-08-01T09:33:43.633Z"
   },
   {
    "duration": 12,
    "start_time": "2022-08-01T09:33:43.648Z"
   },
   {
    "duration": 7,
    "start_time": "2022-08-01T09:33:43.661Z"
   },
   {
    "duration": 50,
    "start_time": "2022-08-01T09:33:43.669Z"
   },
   {
    "duration": 15,
    "start_time": "2022-08-01T09:33:43.722Z"
   },
   {
    "duration": 6,
    "start_time": "2022-08-01T09:33:43.739Z"
   },
   {
    "duration": 11,
    "start_time": "2022-08-01T09:33:43.747Z"
   },
   {
    "duration": 14,
    "start_time": "2022-08-01T09:33:43.760Z"
   },
   {
    "duration": 36,
    "start_time": "2022-08-01T09:33:43.775Z"
   },
   {
    "duration": 10,
    "start_time": "2022-08-01T09:33:43.813Z"
   },
   {
    "duration": 6,
    "start_time": "2022-08-01T09:33:43.825Z"
   },
   {
    "duration": 17,
    "start_time": "2022-08-01T09:33:43.833Z"
   },
   {
    "duration": 10,
    "start_time": "2022-08-01T09:33:43.852Z"
   },
   {
    "duration": 11,
    "start_time": "2022-08-01T09:33:43.864Z"
   },
   {
    "duration": 42,
    "start_time": "2022-08-01T09:33:43.876Z"
   },
   {
    "duration": 16,
    "start_time": "2022-08-01T09:33:43.920Z"
   },
   {
    "duration": 47,
    "start_time": "2022-08-01T09:33:43.938Z"
   },
   {
    "duration": 107,
    "start_time": "2022-08-01T09:33:43.987Z"
   },
   {
    "duration": 24,
    "start_time": "2022-08-01T09:33:52.911Z"
   },
   {
    "duration": 76,
    "start_time": "2022-08-01T09:34:28.403Z"
   },
   {
    "duration": 19,
    "start_time": "2022-08-01T09:34:40.005Z"
   },
   {
    "duration": 15,
    "start_time": "2022-08-01T09:39:17.206Z"
   },
   {
    "duration": 45,
    "start_time": "2022-08-01T09:39:21.549Z"
   },
   {
    "duration": 393,
    "start_time": "2022-08-01T09:39:56.521Z"
   },
   {
    "duration": 23,
    "start_time": "2022-08-01T09:40:08.253Z"
   },
   {
    "duration": 1616,
    "start_time": "2022-08-01T09:40:30.771Z"
   },
   {
    "duration": 90,
    "start_time": "2022-08-01T09:40:32.390Z"
   },
   {
    "duration": 29,
    "start_time": "2022-08-01T09:40:32.483Z"
   },
   {
    "duration": 14,
    "start_time": "2022-08-01T09:40:32.515Z"
   },
   {
    "duration": 35,
    "start_time": "2022-08-01T09:40:32.531Z"
   },
   {
    "duration": 45,
    "start_time": "2022-08-01T09:40:32.568Z"
   },
   {
    "duration": 14,
    "start_time": "2022-08-01T09:40:32.615Z"
   },
   {
    "duration": 20,
    "start_time": "2022-08-01T09:40:32.631Z"
   },
   {
    "duration": 36,
    "start_time": "2022-08-01T09:40:32.654Z"
   },
   {
    "duration": 19,
    "start_time": "2022-08-01T09:40:32.712Z"
   },
   {
    "duration": 14,
    "start_time": "2022-08-01T09:40:32.733Z"
   },
   {
    "duration": 22,
    "start_time": "2022-08-01T09:40:32.749Z"
   },
   {
    "duration": 37,
    "start_time": "2022-08-01T09:40:32.773Z"
   },
   {
    "duration": 6,
    "start_time": "2022-08-01T09:40:32.813Z"
   },
   {
    "duration": 19,
    "start_time": "2022-08-01T09:40:32.821Z"
   },
   {
    "duration": 11,
    "start_time": "2022-08-01T09:40:32.842Z"
   },
   {
    "duration": 35,
    "start_time": "2022-08-01T09:40:32.855Z"
   },
   {
    "duration": 18,
    "start_time": "2022-08-01T09:40:32.909Z"
   },
   {
    "duration": 14,
    "start_time": "2022-08-01T09:40:32.930Z"
   },
   {
    "duration": 34,
    "start_time": "2022-08-01T09:40:32.946Z"
   },
   {
    "duration": 36,
    "start_time": "2022-08-01T09:40:32.982Z"
   },
   {
    "duration": 96,
    "start_time": "2022-08-01T09:40:33.021Z"
   },
   {
    "duration": 20,
    "start_time": "2022-08-01T09:40:33.120Z"
   },
   {
    "duration": 69,
    "start_time": "2022-08-01T09:40:42.567Z"
   },
   {
    "duration": 38,
    "start_time": "2022-08-01T09:41:44.048Z"
   },
   {
    "duration": 3,
    "start_time": "2022-08-01T09:48:02.321Z"
   },
   {
    "duration": 96,
    "start_time": "2022-08-01T09:48:02.338Z"
   },
   {
    "duration": 22,
    "start_time": "2022-08-01T09:48:02.436Z"
   },
   {
    "duration": 12,
    "start_time": "2022-08-01T09:48:02.460Z"
   },
   {
    "duration": 49,
    "start_time": "2022-08-01T09:48:02.474Z"
   },
   {
    "duration": 18,
    "start_time": "2022-08-01T09:48:02.525Z"
   },
   {
    "duration": 12,
    "start_time": "2022-08-01T09:48:02.545Z"
   },
   {
    "duration": 9,
    "start_time": "2022-08-01T09:48:02.559Z"
   },
   {
    "duration": 63,
    "start_time": "2022-08-01T09:48:02.570Z"
   },
   {
    "duration": 15,
    "start_time": "2022-08-01T09:48:02.851Z"
   },
   {
    "duration": 7,
    "start_time": "2022-08-01T09:48:02.871Z"
   },
   {
    "duration": 11,
    "start_time": "2022-08-01T09:48:02.896Z"
   },
   {
    "duration": 19,
    "start_time": "2022-08-01T09:48:02.926Z"
   },
   {
    "duration": 4,
    "start_time": "2022-08-01T09:48:02.953Z"
   },
   {
    "duration": 9,
    "start_time": "2022-08-01T09:48:02.975Z"
   },
   {
    "duration": 7,
    "start_time": "2022-08-01T09:48:02.990Z"
   },
   {
    "duration": 25,
    "start_time": "2022-08-01T09:48:03.010Z"
   },
   {
    "duration": 12,
    "start_time": "2022-08-01T09:48:03.037Z"
   },
   {
    "duration": 13,
    "start_time": "2022-08-01T09:48:03.051Z"
   },
   {
    "duration": 44,
    "start_time": "2022-08-01T09:48:03.069Z"
   },
   {
    "duration": 24,
    "start_time": "2022-08-01T09:48:03.115Z"
   },
   {
    "duration": 72,
    "start_time": "2022-08-01T09:48:03.141Z"
   },
   {
    "duration": 47,
    "start_time": "2022-08-01T09:48:03.217Z"
   },
   {
    "duration": 19,
    "start_time": "2022-08-01T09:48:03.266Z"
   },
   {
    "duration": 304,
    "start_time": "2022-08-01T09:48:03.287Z"
   },
   {
    "duration": 28,
    "start_time": "2022-08-01T09:48:03.593Z"
   },
   {
    "duration": 150,
    "start_time": "2022-08-01T09:48:03.624Z"
   },
   {
    "duration": 35,
    "start_time": "2022-08-01T09:48:03.776Z"
   },
   {
    "duration": 284,
    "start_time": "2022-08-01T09:48:03.815Z"
   },
   {
    "duration": 19,
    "start_time": "2022-08-01T09:48:04.101Z"
   },
   {
    "duration": 203,
    "start_time": "2022-08-01T09:48:04.122Z"
   },
   {
    "duration": 194,
    "start_time": "2022-08-01T09:50:47.361Z"
   },
   {
    "duration": 18,
    "start_time": "2022-08-01T09:50:59.036Z"
   },
   {
    "duration": 194,
    "start_time": "2022-08-01T09:52:47.091Z"
   },
   {
    "duration": 250,
    "start_time": "2022-08-01T09:56:03.141Z"
   },
   {
    "duration": 122,
    "start_time": "2022-08-01T10:04:26.955Z"
   },
   {
    "duration": 83,
    "start_time": "2022-08-01T10:04:46.776Z"
   },
   {
    "duration": 16,
    "start_time": "2022-08-01T10:04:53.725Z"
   },
   {
    "duration": 297,
    "start_time": "2022-08-01T10:05:31.791Z"
   },
   {
    "duration": 17,
    "start_time": "2022-08-01T10:06:28.153Z"
   },
   {
    "duration": 18,
    "start_time": "2022-08-01T10:06:33.526Z"
   },
   {
    "duration": 17,
    "start_time": "2022-08-01T10:06:56.086Z"
   },
   {
    "duration": 18,
    "start_time": "2022-08-01T10:07:14.425Z"
   },
   {
    "duration": 1070,
    "start_time": "2022-08-01T10:10:40.201Z"
   },
   {
    "duration": 1169,
    "start_time": "2022-08-01T10:11:00.696Z"
   },
   {
    "duration": 1102,
    "start_time": "2022-08-01T10:11:28.181Z"
   },
   {
    "duration": 1277,
    "start_time": "2022-08-01T10:11:38.250Z"
   },
   {
    "duration": 1100,
    "start_time": "2022-08-01T10:12:13.810Z"
   },
   {
    "duration": 261,
    "start_time": "2022-08-01T10:12:18.153Z"
   },
   {
    "duration": 1277,
    "start_time": "2022-08-01T10:13:22.137Z"
   },
   {
    "duration": 153,
    "start_time": "2022-08-01T10:15:22.136Z"
   },
   {
    "duration": 250,
    "start_time": "2022-08-01T10:15:28.660Z"
   },
   {
    "duration": 229,
    "start_time": "2022-08-01T10:15:49.741Z"
   },
   {
    "duration": 1820,
    "start_time": "2022-08-01T10:16:20.836Z"
   },
   {
    "duration": 11085,
    "start_time": "2022-08-01T10:16:33.310Z"
   },
   {
    "duration": 42,
    "start_time": "2022-08-01T12:09:30.068Z"
   },
   {
    "duration": 1402,
    "start_time": "2022-08-01T12:09:36.353Z"
   },
   {
    "duration": 237,
    "start_time": "2022-08-01T12:09:37.757Z"
   },
   {
    "duration": 27,
    "start_time": "2022-08-01T12:09:37.995Z"
   },
   {
    "duration": 8,
    "start_time": "2022-08-01T12:09:38.023Z"
   },
   {
    "duration": 23,
    "start_time": "2022-08-01T12:09:38.033Z"
   },
   {
    "duration": 28,
    "start_time": "2022-08-01T12:09:38.058Z"
   },
   {
    "duration": 11,
    "start_time": "2022-08-01T12:09:38.087Z"
   },
   {
    "duration": 7,
    "start_time": "2022-08-01T12:09:38.099Z"
   },
   {
    "duration": 20,
    "start_time": "2022-08-01T12:09:38.107Z"
   },
   {
    "duration": 13,
    "start_time": "2022-08-01T12:09:38.129Z"
   },
   {
    "duration": 32,
    "start_time": "2022-08-01T12:09:38.144Z"
   },
   {
    "duration": 7,
    "start_time": "2022-08-01T12:09:38.178Z"
   },
   {
    "duration": 11,
    "start_time": "2022-08-01T12:09:38.186Z"
   },
   {
    "duration": 6,
    "start_time": "2022-08-01T12:09:38.199Z"
   },
   {
    "duration": 9,
    "start_time": "2022-08-01T12:09:38.207Z"
   },
   {
    "duration": 6,
    "start_time": "2022-08-01T12:09:38.217Z"
   },
   {
    "duration": 15,
    "start_time": "2022-08-01T12:09:38.224Z"
   },
   {
    "duration": 36,
    "start_time": "2022-08-01T12:09:38.241Z"
   },
   {
    "duration": 10,
    "start_time": "2022-08-01T12:09:38.278Z"
   },
   {
    "duration": 20,
    "start_time": "2022-08-01T12:09:38.289Z"
   },
   {
    "duration": 15,
    "start_time": "2022-08-01T12:09:38.310Z"
   },
   {
    "duration": 54,
    "start_time": "2022-08-01T12:09:38.327Z"
   },
   {
    "duration": 33,
    "start_time": "2022-08-01T12:09:38.383Z"
   },
   {
    "duration": 14,
    "start_time": "2022-08-01T12:09:38.418Z"
   },
   {
    "duration": 226,
    "start_time": "2022-08-01T12:09:38.433Z"
   },
   {
    "duration": 20,
    "start_time": "2022-08-01T12:09:38.661Z"
   },
   {
    "duration": 130,
    "start_time": "2022-08-01T12:09:38.683Z"
   },
   {
    "duration": 23,
    "start_time": "2022-08-01T12:09:38.815Z"
   },
   {
    "duration": 200,
    "start_time": "2022-08-01T12:09:48.178Z"
   },
   {
    "duration": 202,
    "start_time": "2022-08-01T12:11:39.854Z"
   },
   {
    "duration": 1207,
    "start_time": "2022-08-01T12:12:26.848Z"
   },
   {
    "duration": 61,
    "start_time": "2022-08-01T12:12:28.058Z"
   },
   {
    "duration": 20,
    "start_time": "2022-08-01T12:12:28.121Z"
   },
   {
    "duration": 9,
    "start_time": "2022-08-01T12:12:28.142Z"
   },
   {
    "duration": 31,
    "start_time": "2022-08-01T12:12:28.153Z"
   },
   {
    "duration": 12,
    "start_time": "2022-08-01T12:12:28.186Z"
   },
   {
    "duration": 12,
    "start_time": "2022-08-01T12:12:28.199Z"
   },
   {
    "duration": 6,
    "start_time": "2022-08-01T12:12:28.212Z"
   },
   {
    "duration": 17,
    "start_time": "2022-08-01T12:12:28.220Z"
   },
   {
    "duration": 40,
    "start_time": "2022-08-01T12:12:28.239Z"
   },
   {
    "duration": 5,
    "start_time": "2022-08-01T12:12:28.281Z"
   },
   {
    "duration": 9,
    "start_time": "2022-08-01T12:12:28.287Z"
   },
   {
    "duration": 12,
    "start_time": "2022-08-01T12:12:28.297Z"
   },
   {
    "duration": 4,
    "start_time": "2022-08-01T12:12:28.311Z"
   },
   {
    "duration": 8,
    "start_time": "2022-08-01T12:12:28.316Z"
   },
   {
    "duration": 16,
    "start_time": "2022-08-01T12:12:28.326Z"
   },
   {
    "duration": 34,
    "start_time": "2022-08-01T12:12:28.343Z"
   },
   {
    "duration": 8,
    "start_time": "2022-08-01T12:12:28.378Z"
   },
   {
    "duration": 9,
    "start_time": "2022-08-01T12:12:28.388Z"
   },
   {
    "duration": 22,
    "start_time": "2022-08-01T12:12:28.399Z"
   },
   {
    "duration": 19,
    "start_time": "2022-08-01T12:12:28.423Z"
   },
   {
    "duration": 48,
    "start_time": "2022-08-01T12:12:28.444Z"
   },
   {
    "duration": 33,
    "start_time": "2022-08-01T12:12:28.493Z"
   },
   {
    "duration": 13,
    "start_time": "2022-08-01T12:12:28.528Z"
   },
   {
    "duration": 218,
    "start_time": "2022-08-01T12:12:28.543Z"
   },
   {
    "duration": 19,
    "start_time": "2022-08-01T12:12:28.763Z"
   },
   {
    "duration": 125,
    "start_time": "2022-08-01T12:12:28.784Z"
   },
   {
    "duration": 21,
    "start_time": "2022-08-01T12:12:28.910Z"
   },
   {
    "duration": 212,
    "start_time": "2022-08-01T12:12:28.932Z"
   },
   {
    "duration": 10,
    "start_time": "2022-08-01T12:12:29.145Z"
   },
   {
    "duration": 1169,
    "start_time": "2022-08-01T12:12:29.156Z"
   },
   {
    "duration": 199,
    "start_time": "2022-08-01T12:12:30.327Z"
   },
   {
    "duration": 10,
    "start_time": "2022-08-01T12:12:30.528Z"
   },
   {
    "duration": 20,
    "start_time": "2022-08-01T12:12:30.540Z"
   },
   {
    "duration": 74,
    "start_time": "2022-08-01T12:12:30.572Z"
   },
   {
    "duration": 29,
    "start_time": "2022-08-01T12:12:30.647Z"
   },
   {
    "duration": 222,
    "start_time": "2022-08-01T12:12:30.677Z"
   },
   {
    "duration": 2325,
    "start_time": "2022-08-01T12:12:30.901Z"
   },
   {
    "duration": 33,
    "start_time": "2022-08-01T12:12:33.228Z"
   },
   {
    "duration": 9,
    "start_time": "2022-08-01T12:12:33.263Z"
   },
   {
    "duration": 13,
    "start_time": "2022-08-01T12:12:33.276Z"
   },
   {
    "duration": 24,
    "start_time": "2022-08-01T12:12:33.290Z"
   },
   {
    "duration": 9,
    "start_time": "2022-08-01T12:12:33.316Z"
   },
   {
    "duration": 14,
    "start_time": "2022-08-01T12:12:33.327Z"
   },
   {
    "duration": 13,
    "start_time": "2022-08-01T12:12:33.343Z"
   },
   {
    "duration": 22,
    "start_time": "2022-08-01T12:12:33.357Z"
   },
   {
    "duration": 6,
    "start_time": "2022-08-01T12:12:33.381Z"
   },
   {
    "duration": 12,
    "start_time": "2022-08-01T12:12:33.388Z"
   },
   {
    "duration": 20,
    "start_time": "2022-08-01T12:12:33.401Z"
   },
   {
    "duration": 12,
    "start_time": "2022-08-01T12:12:33.422Z"
   },
   {
    "duration": 23,
    "start_time": "2022-08-01T12:12:33.436Z"
   },
   {
    "duration": 21,
    "start_time": "2022-08-01T12:12:33.460Z"
   },
   {
    "duration": 192,
    "start_time": "2022-08-01T12:12:33.483Z"
   },
   {
    "duration": 9,
    "start_time": "2022-08-01T12:12:33.676Z"
   },
   {
    "duration": 1093,
    "start_time": "2022-08-01T12:14:23.748Z"
   },
   {
    "duration": 1157,
    "start_time": "2022-08-01T12:15:35.568Z"
   },
   {
    "duration": 200,
    "start_time": "2022-08-01T12:17:21.296Z"
   },
   {
    "duration": 103,
    "start_time": "2022-08-01T12:18:10.053Z"
   },
   {
    "duration": 12,
    "start_time": "2022-08-01T12:18:22.097Z"
   },
   {
    "duration": 1184,
    "start_time": "2022-08-01T12:18:36.484Z"
   },
   {
    "duration": 62,
    "start_time": "2022-08-01T12:18:37.670Z"
   },
   {
    "duration": 21,
    "start_time": "2022-08-01T12:18:37.733Z"
   },
   {
    "duration": 7,
    "start_time": "2022-08-01T12:18:37.756Z"
   },
   {
    "duration": 24,
    "start_time": "2022-08-01T12:18:37.764Z"
   },
   {
    "duration": 13,
    "start_time": "2022-08-01T12:18:37.789Z"
   },
   {
    "duration": 9,
    "start_time": "2022-08-01T12:18:37.804Z"
   },
   {
    "duration": 6,
    "start_time": "2022-08-01T12:18:37.815Z"
   },
   {
    "duration": 19,
    "start_time": "2022-08-01T12:18:37.822Z"
   },
   {
    "duration": 42,
    "start_time": "2022-08-01T12:18:37.843Z"
   },
   {
    "duration": 7,
    "start_time": "2022-08-01T12:18:37.887Z"
   },
   {
    "duration": 10,
    "start_time": "2022-08-01T12:18:37.896Z"
   },
   {
    "duration": 18,
    "start_time": "2022-08-01T12:18:37.908Z"
   },
   {
    "duration": 3,
    "start_time": "2022-08-01T12:18:37.928Z"
   },
   {
    "duration": 8,
    "start_time": "2022-08-01T12:18:37.933Z"
   },
   {
    "duration": 6,
    "start_time": "2022-08-01T12:18:37.943Z"
   },
   {
    "duration": 16,
    "start_time": "2022-08-01T12:18:37.973Z"
   },
   {
    "duration": 9,
    "start_time": "2022-08-01T12:18:37.991Z"
   },
   {
    "duration": 21,
    "start_time": "2022-08-01T12:18:38.002Z"
   },
   {
    "duration": 11,
    "start_time": "2022-08-01T12:18:38.025Z"
   },
   {
    "duration": 36,
    "start_time": "2022-08-01T12:18:38.038Z"
   },
   {
    "duration": 39,
    "start_time": "2022-08-01T12:18:38.076Z"
   },
   {
    "duration": 31,
    "start_time": "2022-08-01T12:18:38.117Z"
   },
   {
    "duration": 37,
    "start_time": "2022-08-01T12:18:38.149Z"
   },
   {
    "duration": 212,
    "start_time": "2022-08-01T12:18:38.188Z"
   },
   {
    "duration": 11,
    "start_time": "2022-08-01T12:18:38.401Z"
   },
   {
    "duration": 131,
    "start_time": "2022-08-01T12:18:38.414Z"
   },
   {
    "duration": 27,
    "start_time": "2022-08-01T12:18:38.549Z"
   },
   {
    "duration": 213,
    "start_time": "2022-08-01T12:18:38.578Z"
   },
   {
    "duration": 11,
    "start_time": "2022-08-01T12:18:38.793Z"
   },
   {
    "duration": 1272,
    "start_time": "2022-08-01T12:18:38.805Z"
   },
   {
    "duration": 209,
    "start_time": "2022-08-01T12:18:40.078Z"
   },
   {
    "duration": 10,
    "start_time": "2022-08-01T12:18:40.289Z"
   },
   {
    "duration": 17,
    "start_time": "2022-08-01T12:18:40.300Z"
   },
   {
    "duration": 90,
    "start_time": "2022-08-01T12:18:40.318Z"
   },
   {
    "duration": 14,
    "start_time": "2022-08-01T12:18:40.410Z"
   },
   {
    "duration": 228,
    "start_time": "2022-08-01T12:18:40.425Z"
   },
   {
    "duration": 2412,
    "start_time": "2022-08-01T12:18:40.654Z"
   },
   {
    "duration": 33,
    "start_time": "2022-08-01T12:18:43.068Z"
   },
   {
    "duration": 7,
    "start_time": "2022-08-01T12:18:43.103Z"
   },
   {
    "duration": 11,
    "start_time": "2022-08-01T12:18:43.111Z"
   },
   {
    "duration": 18,
    "start_time": "2022-08-01T12:18:43.123Z"
   },
   {
    "duration": 7,
    "start_time": "2022-08-01T12:18:43.143Z"
   },
   {
    "duration": 30,
    "start_time": "2022-08-01T12:18:43.151Z"
   },
   {
    "duration": 10,
    "start_time": "2022-08-01T12:18:43.183Z"
   },
   {
    "duration": 10,
    "start_time": "2022-08-01T12:18:43.195Z"
   },
   {
    "duration": 6,
    "start_time": "2022-08-01T12:18:43.207Z"
   },
   {
    "duration": 10,
    "start_time": "2022-08-01T12:18:43.214Z"
   },
   {
    "duration": 7,
    "start_time": "2022-08-01T12:18:43.226Z"
   },
   {
    "duration": 11,
    "start_time": "2022-08-01T12:18:43.234Z"
   },
   {
    "duration": 47,
    "start_time": "2022-08-01T12:18:43.246Z"
   },
   {
    "duration": 11,
    "start_time": "2022-08-01T12:18:43.294Z"
   },
   {
    "duration": 193,
    "start_time": "2022-08-01T12:18:43.306Z"
   },
   {
    "duration": 10,
    "start_time": "2022-08-01T12:18:43.500Z"
   },
   {
    "duration": 178,
    "start_time": "2022-08-01T12:20:24.499Z"
   },
   {
    "duration": 1451,
    "start_time": "2022-08-01T15:03:42.810Z"
   },
   {
    "duration": 244,
    "start_time": "2022-08-01T15:03:44.264Z"
   },
   {
    "duration": 25,
    "start_time": "2022-08-01T15:03:44.510Z"
   },
   {
    "duration": 22,
    "start_time": "2022-08-01T15:03:44.537Z"
   },
   {
    "duration": 50,
    "start_time": "2022-08-01T15:03:44.561Z"
   },
   {
    "duration": 13,
    "start_time": "2022-08-01T15:03:44.613Z"
   },
   {
    "duration": 20,
    "start_time": "2022-08-01T15:03:44.627Z"
   },
   {
    "duration": 6,
    "start_time": "2022-08-01T15:03:44.649Z"
   },
   {
    "duration": 41,
    "start_time": "2022-08-01T15:03:44.657Z"
   },
   {
    "duration": 26,
    "start_time": "2022-08-01T15:03:44.700Z"
   },
   {
    "duration": 14,
    "start_time": "2022-08-01T15:03:44.728Z"
   },
   {
    "duration": 13,
    "start_time": "2022-08-01T15:03:44.744Z"
   },
   {
    "duration": 16,
    "start_time": "2022-08-01T15:03:44.759Z"
   },
   {
    "duration": 4,
    "start_time": "2022-08-01T15:03:44.778Z"
   },
   {
    "duration": 25,
    "start_time": "2022-08-01T15:03:44.783Z"
   },
   {
    "duration": 7,
    "start_time": "2022-08-01T15:03:44.809Z"
   },
   {
    "duration": 27,
    "start_time": "2022-08-01T15:03:44.818Z"
   },
   {
    "duration": 10,
    "start_time": "2022-08-01T15:03:44.847Z"
   },
   {
    "duration": 25,
    "start_time": "2022-08-01T15:03:44.859Z"
   },
   {
    "duration": 27,
    "start_time": "2022-08-01T15:03:44.885Z"
   },
   {
    "duration": 28,
    "start_time": "2022-08-01T15:03:44.914Z"
   },
   {
    "duration": 69,
    "start_time": "2022-08-01T15:03:44.943Z"
   },
   {
    "duration": 36,
    "start_time": "2022-08-01T15:03:45.014Z"
   },
   {
    "duration": 14,
    "start_time": "2022-08-01T15:03:45.051Z"
   },
   {
    "duration": 228,
    "start_time": "2022-08-01T15:03:45.066Z"
   },
   {
    "duration": 11,
    "start_time": "2022-08-01T15:03:45.295Z"
   },
   {
    "duration": 141,
    "start_time": "2022-08-01T15:03:45.307Z"
   },
   {
    "duration": 25,
    "start_time": "2022-08-01T15:03:45.449Z"
   },
   {
    "duration": 230,
    "start_time": "2022-08-01T15:03:45.476Z"
   },
   {
    "duration": 11,
    "start_time": "2022-08-01T15:03:45.707Z"
   },
   {
    "duration": 1418,
    "start_time": "2022-08-01T15:03:45.720Z"
   },
   {
    "duration": 215,
    "start_time": "2022-08-01T15:03:47.140Z"
   },
   {
    "duration": 10,
    "start_time": "2022-08-01T15:03:47.357Z"
   },
   {
    "duration": 21,
    "start_time": "2022-08-01T15:03:47.368Z"
   },
   {
    "duration": 95,
    "start_time": "2022-08-01T15:03:47.390Z"
   },
   {
    "duration": 14,
    "start_time": "2022-08-01T15:03:47.487Z"
   },
   {
    "duration": 234,
    "start_time": "2022-08-01T15:03:47.503Z"
   },
   {
    "duration": 2492,
    "start_time": "2022-08-01T15:03:47.738Z"
   },
   {
    "duration": 37,
    "start_time": "2022-08-01T15:03:50.231Z"
   },
   {
    "duration": 12,
    "start_time": "2022-08-01T15:03:50.270Z"
   },
   {
    "duration": 11,
    "start_time": "2022-08-01T15:03:50.286Z"
   },
   {
    "duration": 41,
    "start_time": "2022-08-01T15:03:50.299Z"
   },
   {
    "duration": 10,
    "start_time": "2022-08-01T15:03:50.342Z"
   },
   {
    "duration": 11,
    "start_time": "2022-08-01T15:03:50.354Z"
   },
   {
    "duration": 13,
    "start_time": "2022-08-01T15:03:50.366Z"
   },
   {
    "duration": 12,
    "start_time": "2022-08-01T15:03:50.381Z"
   },
   {
    "duration": 8,
    "start_time": "2022-08-01T15:03:50.395Z"
   },
   {
    "duration": 37,
    "start_time": "2022-08-01T15:03:50.405Z"
   },
   {
    "duration": 8,
    "start_time": "2022-08-01T15:03:50.444Z"
   },
   {
    "duration": 11,
    "start_time": "2022-08-01T15:03:50.453Z"
   },
   {
    "duration": 22,
    "start_time": "2022-08-01T15:03:50.466Z"
   },
   {
    "duration": 10,
    "start_time": "2022-08-01T15:03:50.490Z"
   },
   {
    "duration": 259,
    "start_time": "2022-08-01T15:03:50.502Z"
   },
   {
    "duration": 11,
    "start_time": "2022-08-01T15:03:50.764Z"
   },
   {
    "duration": 1187,
    "start_time": "2022-08-01T15:08:42.497Z"
   },
   {
    "duration": 65,
    "start_time": "2022-08-01T15:08:43.686Z"
   },
   {
    "duration": 22,
    "start_time": "2022-08-01T15:08:43.752Z"
   },
   {
    "duration": 8,
    "start_time": "2022-08-01T15:08:43.775Z"
   },
   {
    "duration": 24,
    "start_time": "2022-08-01T15:08:43.785Z"
   },
   {
    "duration": 33,
    "start_time": "2022-08-01T15:08:43.810Z"
   },
   {
    "duration": 14,
    "start_time": "2022-08-01T15:08:43.844Z"
   },
   {
    "duration": 14,
    "start_time": "2022-08-01T15:08:43.860Z"
   },
   {
    "duration": 23,
    "start_time": "2022-08-01T15:08:43.876Z"
   },
   {
    "duration": 14,
    "start_time": "2022-08-01T15:08:43.901Z"
   },
   {
    "duration": 21,
    "start_time": "2022-08-01T15:08:43.917Z"
   },
   {
    "duration": 9,
    "start_time": "2022-08-01T15:08:43.939Z"
   },
   {
    "duration": 12,
    "start_time": "2022-08-01T15:08:43.950Z"
   },
   {
    "duration": 4,
    "start_time": "2022-08-01T15:08:43.965Z"
   },
   {
    "duration": 8,
    "start_time": "2022-08-01T15:08:43.970Z"
   },
   {
    "duration": 6,
    "start_time": "2022-08-01T15:08:43.979Z"
   },
   {
    "duration": 54,
    "start_time": "2022-08-01T15:08:43.987Z"
   },
   {
    "duration": 10,
    "start_time": "2022-08-01T15:08:44.042Z"
   },
   {
    "duration": 11,
    "start_time": "2022-08-01T15:08:44.054Z"
   },
   {
    "duration": 11,
    "start_time": "2022-08-01T15:08:44.066Z"
   },
   {
    "duration": 15,
    "start_time": "2022-08-01T15:08:44.079Z"
   },
   {
    "duration": 68,
    "start_time": "2022-08-01T15:08:44.095Z"
   },
   {
    "duration": 36,
    "start_time": "2022-08-01T15:08:44.164Z"
   },
   {
    "duration": 15,
    "start_time": "2022-08-01T15:08:44.202Z"
   },
   {
    "duration": 217,
    "start_time": "2022-08-01T15:08:44.236Z"
   },
   {
    "duration": 11,
    "start_time": "2022-08-01T15:08:44.455Z"
   },
   {
    "duration": 135,
    "start_time": "2022-08-01T15:08:44.468Z"
   },
   {
    "duration": 33,
    "start_time": "2022-08-01T15:08:44.605Z"
   },
   {
    "duration": 235,
    "start_time": "2022-08-01T15:08:44.639Z"
   },
   {
    "duration": 10,
    "start_time": "2022-08-01T15:08:44.875Z"
   },
   {
    "duration": 1273,
    "start_time": "2022-08-01T15:08:44.886Z"
   },
   {
    "duration": 222,
    "start_time": "2022-08-01T15:08:46.161Z"
   },
   {
    "duration": 11,
    "start_time": "2022-08-01T15:08:46.384Z"
   },
   {
    "duration": 19,
    "start_time": "2022-08-01T15:08:46.396Z"
   },
   {
    "duration": 92,
    "start_time": "2022-08-01T15:08:46.417Z"
   },
   {
    "duration": 29,
    "start_time": "2022-08-01T15:08:46.511Z"
   },
   {
    "duration": 227,
    "start_time": "2022-08-01T15:08:46.541Z"
   },
   {
    "duration": 1861,
    "start_time": "2022-08-01T15:08:46.769Z"
   },
   {
    "duration": 36,
    "start_time": "2022-08-01T15:08:48.631Z"
   },
   {
    "duration": 8,
    "start_time": "2022-08-01T15:08:48.668Z"
   },
   {
    "duration": 8,
    "start_time": "2022-08-01T15:08:48.680Z"
   },
   {
    "duration": 19,
    "start_time": "2022-08-01T15:08:48.690Z"
   },
   {
    "duration": 33,
    "start_time": "2022-08-01T15:08:48.710Z"
   },
   {
    "duration": 8,
    "start_time": "2022-08-01T15:08:48.745Z"
   },
   {
    "duration": 11,
    "start_time": "2022-08-01T15:08:48.755Z"
   },
   {
    "duration": 11,
    "start_time": "2022-08-01T15:08:48.768Z"
   },
   {
    "duration": 8,
    "start_time": "2022-08-01T15:08:48.780Z"
   },
   {
    "duration": 10,
    "start_time": "2022-08-01T15:08:48.790Z"
   },
   {
    "duration": 37,
    "start_time": "2022-08-01T15:08:48.801Z"
   },
   {
    "duration": 11,
    "start_time": "2022-08-01T15:08:48.840Z"
   },
   {
    "duration": 33,
    "start_time": "2022-08-01T15:08:48.853Z"
   },
   {
    "duration": 12,
    "start_time": "2022-08-01T15:08:48.888Z"
   },
   {
    "duration": 272,
    "start_time": "2022-08-01T15:08:48.902Z"
   },
   {
    "duration": 10,
    "start_time": "2022-08-01T15:08:49.175Z"
   },
   {
    "duration": 1335,
    "start_time": "2022-08-01T16:36:40.198Z"
   },
   {
    "duration": 66,
    "start_time": "2022-08-01T16:36:41.536Z"
   },
   {
    "duration": 23,
    "start_time": "2022-08-01T16:36:41.604Z"
   },
   {
    "duration": 9,
    "start_time": "2022-08-01T16:36:41.629Z"
   },
   {
    "duration": 27,
    "start_time": "2022-08-01T16:36:41.639Z"
   },
   {
    "duration": 38,
    "start_time": "2022-08-01T16:36:41.668Z"
   },
   {
    "duration": 15,
    "start_time": "2022-08-01T16:36:41.708Z"
   },
   {
    "duration": 8,
    "start_time": "2022-08-01T16:36:41.725Z"
   },
   {
    "duration": 21,
    "start_time": "2022-08-01T16:36:41.734Z"
   },
   {
    "duration": 53,
    "start_time": "2022-08-01T16:36:41.758Z"
   },
   {
    "duration": 8,
    "start_time": "2022-08-01T16:36:41.814Z"
   },
   {
    "duration": 10,
    "start_time": "2022-08-01T16:36:41.823Z"
   },
   {
    "duration": 14,
    "start_time": "2022-08-01T16:36:41.835Z"
   },
   {
    "duration": 5,
    "start_time": "2022-08-01T16:36:41.851Z"
   },
   {
    "duration": 47,
    "start_time": "2022-08-01T16:36:41.858Z"
   },
   {
    "duration": 7,
    "start_time": "2022-08-01T16:36:41.907Z"
   },
   {
    "duration": 20,
    "start_time": "2022-08-01T16:36:41.915Z"
   },
   {
    "duration": 10,
    "start_time": "2022-08-01T16:36:41.937Z"
   },
   {
    "duration": 13,
    "start_time": "2022-08-01T16:36:41.949Z"
   },
   {
    "duration": 44,
    "start_time": "2022-08-01T16:36:41.964Z"
   },
   {
    "duration": 22,
    "start_time": "2022-08-01T16:36:42.009Z"
   },
   {
    "duration": 47,
    "start_time": "2022-08-01T16:36:42.032Z"
   },
   {
    "duration": 53,
    "start_time": "2022-08-01T16:36:42.080Z"
   },
   {
    "duration": 17,
    "start_time": "2022-08-01T16:36:42.135Z"
   },
   {
    "duration": 481,
    "start_time": "2022-08-01T16:36:42.154Z"
   },
   {
    "duration": 68,
    "start_time": "2022-08-01T16:36:42.637Z"
   },
   {
    "duration": 317,
    "start_time": "2022-08-01T16:36:42.707Z"
   },
   {
    "duration": 77,
    "start_time": "2022-08-01T16:36:43.028Z"
   },
   {
    "duration": 499,
    "start_time": "2022-08-01T16:36:43.107Z"
   },
   {
    "duration": 11,
    "start_time": "2022-08-01T16:36:43.608Z"
   },
   {
    "duration": 1746,
    "start_time": "2022-08-01T16:36:43.620Z"
   },
   {
    "duration": 239,
    "start_time": "2022-08-01T16:36:45.368Z"
   },
   {
    "duration": 12,
    "start_time": "2022-08-01T16:36:45.609Z"
   },
   {
    "duration": 19,
    "start_time": "2022-08-01T16:36:45.623Z"
   },
   {
    "duration": 112,
    "start_time": "2022-08-01T16:36:45.644Z"
   },
   {
    "duration": 19,
    "start_time": "2022-08-01T16:36:45.758Z"
   },
   {
    "duration": 268,
    "start_time": "2022-08-01T16:36:45.778Z"
   },
   {
    "duration": 2423,
    "start_time": "2022-08-01T16:36:46.049Z"
   },
   {
    "duration": 40,
    "start_time": "2022-08-01T16:36:48.475Z"
   },
   {
    "duration": 11,
    "start_time": "2022-08-01T16:36:48.518Z"
   },
   {
    "duration": 12,
    "start_time": "2022-08-01T16:36:48.531Z"
   },
   {
    "duration": 25,
    "start_time": "2022-08-01T16:36:48.544Z"
   },
   {
    "duration": 35,
    "start_time": "2022-08-01T16:36:48.571Z"
   },
   {
    "duration": 9,
    "start_time": "2022-08-01T16:36:48.608Z"
   },
   {
    "duration": 12,
    "start_time": "2022-08-01T16:36:48.619Z"
   },
   {
    "duration": 14,
    "start_time": "2022-08-01T16:36:48.632Z"
   },
   {
    "duration": 12,
    "start_time": "2022-08-01T16:36:48.648Z"
   },
   {
    "duration": 43,
    "start_time": "2022-08-01T16:36:48.662Z"
   },
   {
    "duration": 8,
    "start_time": "2022-08-01T16:36:48.708Z"
   },
   {
    "duration": 15,
    "start_time": "2022-08-01T16:36:48.718Z"
   },
   {
    "duration": 29,
    "start_time": "2022-08-01T16:36:48.735Z"
   },
   {
    "duration": 45,
    "start_time": "2022-08-01T16:36:48.765Z"
   },
   {
    "duration": 244,
    "start_time": "2022-08-01T16:36:48.812Z"
   },
   {
    "duration": 13,
    "start_time": "2022-08-01T16:36:49.057Z"
   },
   {
    "duration": 1357,
    "start_time": "2022-08-01T16:39:41.194Z"
   },
   {
    "duration": 65,
    "start_time": "2022-08-01T16:39:42.553Z"
   },
   {
    "duration": 23,
    "start_time": "2022-08-01T16:39:42.619Z"
   },
   {
    "duration": 27,
    "start_time": "2022-08-01T16:39:42.644Z"
   },
   {
    "duration": 36,
    "start_time": "2022-08-01T16:39:42.673Z"
   },
   {
    "duration": 29,
    "start_time": "2022-08-01T16:39:42.710Z"
   },
   {
    "duration": 19,
    "start_time": "2022-08-01T16:39:42.741Z"
   },
   {
    "duration": 25,
    "start_time": "2022-08-01T16:39:42.763Z"
   },
   {
    "duration": 32,
    "start_time": "2022-08-01T16:39:42.790Z"
   },
   {
    "duration": 17,
    "start_time": "2022-08-01T16:39:42.824Z"
   },
   {
    "duration": 18,
    "start_time": "2022-08-01T16:39:42.843Z"
   },
   {
    "duration": 24,
    "start_time": "2022-08-01T16:39:42.863Z"
   },
   {
    "duration": 35,
    "start_time": "2022-08-01T16:39:42.889Z"
   },
   {
    "duration": 10,
    "start_time": "2022-08-01T16:39:42.928Z"
   },
   {
    "duration": 26,
    "start_time": "2022-08-01T16:39:42.940Z"
   },
   {
    "duration": 16,
    "start_time": "2022-08-01T16:39:42.968Z"
   },
   {
    "duration": 37,
    "start_time": "2022-08-01T16:39:42.986Z"
   },
   {
    "duration": 21,
    "start_time": "2022-08-01T16:39:43.026Z"
   },
   {
    "duration": 63,
    "start_time": "2022-08-01T16:39:43.049Z"
   },
   {
    "duration": 39,
    "start_time": "2022-08-01T16:39:43.115Z"
   },
   {
    "duration": 67,
    "start_time": "2022-08-01T16:39:43.156Z"
   },
   {
    "duration": 102,
    "start_time": "2022-08-01T16:39:43.226Z"
   },
   {
    "duration": 87,
    "start_time": "2022-08-01T16:39:43.330Z"
   },
   {
    "duration": 18,
    "start_time": "2022-08-01T16:39:43.419Z"
   },
   {
    "duration": 511,
    "start_time": "2022-08-01T16:39:43.439Z"
   },
   {
    "duration": 61,
    "start_time": "2022-08-01T16:39:43.952Z"
   },
   {
    "duration": 299,
    "start_time": "2022-08-01T16:39:44.014Z"
   },
   {
    "duration": 22,
    "start_time": "2022-08-01T16:39:44.315Z"
   },
   {
    "duration": 492,
    "start_time": "2022-08-01T16:39:44.339Z"
   },
   {
    "duration": 21,
    "start_time": "2022-08-01T16:39:44.833Z"
   },
   {
    "duration": 1453,
    "start_time": "2022-08-01T16:39:44.905Z"
   },
   {
    "duration": 257,
    "start_time": "2022-08-01T16:39:46.360Z"
   },
   {
    "duration": 14,
    "start_time": "2022-08-01T16:39:46.619Z"
   },
   {
    "duration": 40,
    "start_time": "2022-08-01T16:39:46.635Z"
   },
   {
    "duration": 118,
    "start_time": "2022-08-01T16:39:46.677Z"
   },
   {
    "duration": 20,
    "start_time": "2022-08-01T16:39:46.805Z"
   },
   {
    "duration": 263,
    "start_time": "2022-08-01T16:39:46.826Z"
   },
   {
    "duration": 1861,
    "start_time": "2022-08-01T16:39:47.102Z"
   },
   {
    "duration": 44,
    "start_time": "2022-08-01T16:39:48.965Z"
   },
   {
    "duration": 79,
    "start_time": "2022-08-01T16:39:49.010Z"
   },
   {
    "duration": 32,
    "start_time": "2022-08-01T16:39:49.093Z"
   },
   {
    "duration": 34,
    "start_time": "2022-08-01T16:39:49.127Z"
   },
   {
    "duration": 10,
    "start_time": "2022-08-01T16:39:49.163Z"
   },
   {
    "duration": 19,
    "start_time": "2022-08-01T16:39:49.175Z"
   },
   {
    "duration": 28,
    "start_time": "2022-08-01T16:39:49.197Z"
   },
   {
    "duration": 16,
    "start_time": "2022-08-01T16:39:49.227Z"
   },
   {
    "duration": 10,
    "start_time": "2022-08-01T16:39:49.245Z"
   },
   {
    "duration": 16,
    "start_time": "2022-08-01T16:39:49.256Z"
   },
   {
    "duration": 10,
    "start_time": "2022-08-01T16:39:49.274Z"
   },
   {
    "duration": 24,
    "start_time": "2022-08-01T16:39:49.286Z"
   },
   {
    "duration": 25,
    "start_time": "2022-08-01T16:39:49.313Z"
   },
   {
    "duration": 11,
    "start_time": "2022-08-01T16:39:49.340Z"
   },
   {
    "duration": 251,
    "start_time": "2022-08-01T16:39:49.353Z"
   },
   {
    "duration": 13,
    "start_time": "2022-08-01T16:39:49.606Z"
   },
   {
    "duration": 1435,
    "start_time": "2022-08-01T17:16:12.163Z"
   },
   {
    "duration": 228,
    "start_time": "2022-08-01T17:16:13.601Z"
   },
   {
    "duration": 25,
    "start_time": "2022-08-01T17:16:13.830Z"
   },
   {
    "duration": 14,
    "start_time": "2022-08-01T17:16:13.857Z"
   },
   {
    "duration": 49,
    "start_time": "2022-08-01T17:16:13.873Z"
   },
   {
    "duration": 37,
    "start_time": "2022-08-01T17:16:13.924Z"
   },
   {
    "duration": 20,
    "start_time": "2022-08-01T17:16:13.963Z"
   },
   {
    "duration": 10,
    "start_time": "2022-08-01T17:16:13.985Z"
   },
   {
    "duration": 31,
    "start_time": "2022-08-01T17:16:13.997Z"
   },
   {
    "duration": 16,
    "start_time": "2022-08-01T17:16:14.029Z"
   },
   {
    "duration": 7,
    "start_time": "2022-08-01T17:16:14.047Z"
   },
   {
    "duration": 10,
    "start_time": "2022-08-01T17:16:14.056Z"
   },
   {
    "duration": 13,
    "start_time": "2022-08-01T17:16:14.068Z"
   },
   {
    "duration": 4,
    "start_time": "2022-08-01T17:16:14.100Z"
   },
   {
    "duration": 9,
    "start_time": "2022-08-01T17:16:14.106Z"
   },
   {
    "duration": 6,
    "start_time": "2022-08-01T17:16:14.116Z"
   },
   {
    "duration": 14,
    "start_time": "2022-08-01T17:16:14.123Z"
   },
   {
    "duration": 9,
    "start_time": "2022-08-01T17:16:14.139Z"
   },
   {
    "duration": 10,
    "start_time": "2022-08-01T17:16:14.150Z"
   },
   {
    "duration": 42,
    "start_time": "2022-08-01T17:16:14.161Z"
   },
   {
    "duration": 16,
    "start_time": "2022-08-01T17:16:14.205Z"
   },
   {
    "duration": 43,
    "start_time": "2022-08-01T17:16:14.222Z"
   },
   {
    "duration": 52,
    "start_time": "2022-08-01T17:16:14.267Z"
   },
   {
    "duration": 16,
    "start_time": "2022-08-01T17:16:22.582Z"
   },
   {
    "duration": 99,
    "start_time": "2022-08-01T17:17:29.629Z"
   },
   {
    "duration": 221,
    "start_time": "2022-08-01T17:17:41.784Z"
   },
   {
    "duration": 204,
    "start_time": "2022-08-01T17:17:54.306Z"
   },
   {
    "duration": 216,
    "start_time": "2022-08-01T17:19:13.975Z"
   },
   {
    "duration": 10,
    "start_time": "2022-08-01T17:25:36.260Z"
   },
   {
    "duration": 1170,
    "start_time": "2022-08-01T17:25:42.933Z"
   },
   {
    "duration": 61,
    "start_time": "2022-08-01T17:25:44.105Z"
   },
   {
    "duration": 21,
    "start_time": "2022-08-01T17:25:44.167Z"
   },
   {
    "duration": 7,
    "start_time": "2022-08-01T17:25:44.190Z"
   },
   {
    "duration": 21,
    "start_time": "2022-08-01T17:25:44.199Z"
   },
   {
    "duration": 11,
    "start_time": "2022-08-01T17:25:44.221Z"
   },
   {
    "duration": 10,
    "start_time": "2022-08-01T17:25:44.233Z"
   },
   {
    "duration": 6,
    "start_time": "2022-08-01T17:25:44.245Z"
   },
   {
    "duration": 19,
    "start_time": "2022-08-01T17:25:44.252Z"
   },
   {
    "duration": 14,
    "start_time": "2022-08-01T17:25:44.300Z"
   },
   {
    "duration": 7,
    "start_time": "2022-08-01T17:25:44.315Z"
   },
   {
    "duration": 6,
    "start_time": "2022-08-01T17:25:44.324Z"
   },
   {
    "duration": 12,
    "start_time": "2022-08-01T17:25:44.332Z"
   },
   {
    "duration": 3,
    "start_time": "2022-08-01T17:25:44.346Z"
   },
   {
    "duration": 9,
    "start_time": "2022-08-01T17:25:44.350Z"
   },
   {
    "duration": 41,
    "start_time": "2022-08-01T17:25:44.360Z"
   },
   {
    "duration": 14,
    "start_time": "2022-08-01T17:25:44.402Z"
   },
   {
    "duration": 9,
    "start_time": "2022-08-01T17:25:44.417Z"
   },
   {
    "duration": 9,
    "start_time": "2022-08-01T17:25:44.427Z"
   },
   {
    "duration": 15,
    "start_time": "2022-08-01T17:25:44.437Z"
   },
   {
    "duration": 19,
    "start_time": "2022-08-01T17:25:44.454Z"
   },
   {
    "duration": 65,
    "start_time": "2022-08-01T17:25:44.474Z"
   },
   {
    "duration": 33,
    "start_time": "2022-08-01T17:25:44.541Z"
   },
   {
    "duration": 31,
    "start_time": "2022-08-01T17:25:44.576Z"
   },
   {
    "duration": 214,
    "start_time": "2022-08-01T17:25:44.609Z"
   },
   {
    "duration": 11,
    "start_time": "2022-08-01T17:25:44.824Z"
   },
   {
    "duration": 130,
    "start_time": "2022-08-01T17:25:44.836Z"
   },
   {
    "duration": 19,
    "start_time": "2022-08-01T17:25:44.970Z"
   },
   {
    "duration": 226,
    "start_time": "2022-08-01T17:25:45.000Z"
   },
   {
    "duration": 13,
    "start_time": "2022-08-01T17:25:45.228Z"
   },
   {
    "duration": 1233,
    "start_time": "2022-08-01T17:25:45.243Z"
   },
   {
    "duration": 208,
    "start_time": "2022-08-01T17:25:46.478Z"
   },
   {
    "duration": 17,
    "start_time": "2022-08-01T17:25:46.688Z"
   },
   {
    "duration": 17,
    "start_time": "2022-08-01T17:25:46.706Z"
   },
   {
    "duration": 86,
    "start_time": "2022-08-01T17:25:46.725Z"
   },
   {
    "duration": 14,
    "start_time": "2022-08-01T17:25:46.813Z"
   },
   {
    "duration": 226,
    "start_time": "2022-08-01T17:25:46.829Z"
   },
   {
    "duration": 2630,
    "start_time": "2022-08-01T17:25:47.057Z"
   },
   {
    "duration": 35,
    "start_time": "2022-08-01T17:25:49.689Z"
   },
   {
    "duration": 9,
    "start_time": "2022-08-01T17:25:49.726Z"
   },
   {
    "duration": 30,
    "start_time": "2022-08-01T17:25:49.737Z"
   },
   {
    "duration": 30,
    "start_time": "2022-08-01T17:25:49.769Z"
   },
   {
    "duration": 8,
    "start_time": "2022-08-01T17:25:49.801Z"
   },
   {
    "duration": 15,
    "start_time": "2022-08-01T17:25:49.810Z"
   },
   {
    "duration": 18,
    "start_time": "2022-08-01T17:25:49.826Z"
   },
   {
    "duration": 14,
    "start_time": "2022-08-01T17:25:49.846Z"
   },
   {
    "duration": 16,
    "start_time": "2022-08-01T17:25:49.862Z"
   },
   {
    "duration": 15,
    "start_time": "2022-08-01T17:25:49.880Z"
   },
   {
    "duration": 18,
    "start_time": "2022-08-01T17:25:49.896Z"
   },
   {
    "duration": 22,
    "start_time": "2022-08-01T17:25:49.916Z"
   },
   {
    "duration": 23,
    "start_time": "2022-08-01T17:25:49.939Z"
   },
   {
    "duration": 11,
    "start_time": "2022-08-01T17:25:49.963Z"
   },
   {
    "duration": 201,
    "start_time": "2022-08-01T17:25:49.975Z"
   },
   {
    "duration": 9,
    "start_time": "2022-08-01T17:25:50.178Z"
   },
   {
    "duration": 203,
    "start_time": "2022-08-01T17:26:53.050Z"
   },
   {
    "duration": 309,
    "start_time": "2022-08-01T17:27:03.320Z"
   },
   {
    "duration": 213,
    "start_time": "2022-08-01T17:27:25.221Z"
   },
   {
    "duration": 237,
    "start_time": "2022-08-01T17:27:33.674Z"
   },
   {
    "duration": 208,
    "start_time": "2022-08-01T17:27:58.410Z"
   },
   {
    "duration": 216,
    "start_time": "2022-08-01T17:28:09.753Z"
   },
   {
    "duration": 238,
    "start_time": "2022-08-01T17:28:14.689Z"
   },
   {
    "duration": 1217,
    "start_time": "2022-08-01T17:28:36.474Z"
   },
   {
    "duration": 61,
    "start_time": "2022-08-01T17:28:37.693Z"
   },
   {
    "duration": 21,
    "start_time": "2022-08-01T17:28:37.756Z"
   },
   {
    "duration": 7,
    "start_time": "2022-08-01T17:28:37.779Z"
   },
   {
    "duration": 25,
    "start_time": "2022-08-01T17:28:37.787Z"
   },
   {
    "duration": 10,
    "start_time": "2022-08-01T17:28:37.814Z"
   },
   {
    "duration": 9,
    "start_time": "2022-08-01T17:28:37.826Z"
   },
   {
    "duration": 6,
    "start_time": "2022-08-01T17:28:37.837Z"
   },
   {
    "duration": 18,
    "start_time": "2022-08-01T17:28:37.845Z"
   },
   {
    "duration": 44,
    "start_time": "2022-08-01T17:28:37.865Z"
   },
   {
    "duration": 7,
    "start_time": "2022-08-01T17:28:37.910Z"
   },
   {
    "duration": 9,
    "start_time": "2022-08-01T17:28:37.918Z"
   },
   {
    "duration": 12,
    "start_time": "2022-08-01T17:28:37.928Z"
   },
   {
    "duration": 4,
    "start_time": "2022-08-01T17:28:37.941Z"
   },
   {
    "duration": 9,
    "start_time": "2022-08-01T17:28:37.947Z"
   },
   {
    "duration": 12,
    "start_time": "2022-08-01T17:28:37.957Z"
   },
   {
    "duration": 42,
    "start_time": "2022-08-01T17:28:37.970Z"
   },
   {
    "duration": 10,
    "start_time": "2022-08-01T17:28:38.014Z"
   },
   {
    "duration": 9,
    "start_time": "2022-08-01T17:28:38.026Z"
   },
   {
    "duration": 18,
    "start_time": "2022-08-01T17:28:38.037Z"
   },
   {
    "duration": 16,
    "start_time": "2022-08-01T17:28:38.057Z"
   },
   {
    "duration": 65,
    "start_time": "2022-08-01T17:28:38.074Z"
   },
   {
    "duration": 37,
    "start_time": "2022-08-01T17:28:38.141Z"
   },
   {
    "duration": 27,
    "start_time": "2022-08-01T17:28:38.180Z"
   },
   {
    "duration": 205,
    "start_time": "2022-08-01T17:28:41.837Z"
   },
   {
    "duration": 231,
    "start_time": "2022-08-01T17:29:14.238Z"
   },
   {
    "duration": 1145,
    "start_time": "2022-08-01T17:29:28.562Z"
   },
   {
    "duration": 62,
    "start_time": "2022-08-01T17:29:29.708Z"
   },
   {
    "duration": 21,
    "start_time": "2022-08-01T17:29:29.772Z"
   },
   {
    "duration": 7,
    "start_time": "2022-08-01T17:29:29.795Z"
   },
   {
    "duration": 22,
    "start_time": "2022-08-01T17:29:29.804Z"
   },
   {
    "duration": 10,
    "start_time": "2022-08-01T17:29:29.827Z"
   },
   {
    "duration": 9,
    "start_time": "2022-08-01T17:29:29.839Z"
   },
   {
    "duration": 10,
    "start_time": "2022-08-01T17:29:29.850Z"
   },
   {
    "duration": 40,
    "start_time": "2022-08-01T17:29:29.862Z"
   },
   {
    "duration": 14,
    "start_time": "2022-08-01T17:29:29.904Z"
   },
   {
    "duration": 6,
    "start_time": "2022-08-01T17:29:29.919Z"
   },
   {
    "duration": 10,
    "start_time": "2022-08-01T17:29:29.926Z"
   },
   {
    "duration": 12,
    "start_time": "2022-08-01T17:29:29.938Z"
   },
   {
    "duration": 4,
    "start_time": "2022-08-01T17:29:29.951Z"
   },
   {
    "duration": 8,
    "start_time": "2022-08-01T17:29:29.957Z"
   },
   {
    "duration": 37,
    "start_time": "2022-08-01T17:29:29.967Z"
   },
   {
    "duration": 27,
    "start_time": "2022-08-01T17:29:30.006Z"
   },
   {
    "duration": 9,
    "start_time": "2022-08-01T17:29:30.035Z"
   },
   {
    "duration": 9,
    "start_time": "2022-08-01T17:29:30.046Z"
   },
   {
    "duration": 13,
    "start_time": "2022-08-01T17:29:30.056Z"
   },
   {
    "duration": 15,
    "start_time": "2022-08-01T17:29:30.071Z"
   },
   {
    "duration": 43,
    "start_time": "2022-08-01T17:29:30.100Z"
   },
   {
    "duration": 40,
    "start_time": "2022-08-01T17:29:30.145Z"
   },
   {
    "duration": 22,
    "start_time": "2022-08-01T17:29:30.187Z"
   },
   {
    "duration": 222,
    "start_time": "2022-08-01T17:29:30.211Z"
   },
   {
    "duration": 11,
    "start_time": "2022-08-01T17:29:30.435Z"
   },
   {
    "duration": 145,
    "start_time": "2022-08-01T17:29:30.448Z"
   },
   {
    "duration": 22,
    "start_time": "2022-08-01T17:29:30.600Z"
   },
   {
    "duration": 260,
    "start_time": "2022-08-01T17:29:30.623Z"
   },
   {
    "duration": 16,
    "start_time": "2022-08-01T17:29:30.885Z"
   },
   {
    "duration": 1328,
    "start_time": "2022-08-01T17:29:30.903Z"
   },
   {
    "duration": 229,
    "start_time": "2022-08-01T17:29:32.233Z"
   },
   {
    "duration": 10,
    "start_time": "2022-08-01T17:29:32.464Z"
   },
   {
    "duration": 29,
    "start_time": "2022-08-01T17:29:32.475Z"
   },
   {
    "duration": 73,
    "start_time": "2022-08-01T17:29:32.506Z"
   },
   {
    "duration": 29,
    "start_time": "2022-08-01T17:29:32.580Z"
   },
   {
    "duration": 254,
    "start_time": "2022-08-01T17:29:32.611Z"
   },
   {
    "duration": 1836,
    "start_time": "2022-08-01T17:29:32.867Z"
   },
   {
    "duration": 36,
    "start_time": "2022-08-01T17:29:34.704Z"
   },
   {
    "duration": 8,
    "start_time": "2022-08-01T17:29:34.742Z"
   },
   {
    "duration": 11,
    "start_time": "2022-08-01T17:29:34.751Z"
   },
   {
    "duration": 45,
    "start_time": "2022-08-01T17:29:34.764Z"
   },
   {
    "duration": 9,
    "start_time": "2022-08-01T17:29:34.810Z"
   },
   {
    "duration": 12,
    "start_time": "2022-08-01T17:29:34.820Z"
   },
   {
    "duration": 17,
    "start_time": "2022-08-01T17:29:34.833Z"
   },
   {
    "duration": 11,
    "start_time": "2022-08-01T17:29:34.851Z"
   },
   {
    "duration": 8,
    "start_time": "2022-08-01T17:29:34.864Z"
   },
   {
    "duration": 28,
    "start_time": "2022-08-01T17:29:34.874Z"
   },
   {
    "duration": 6,
    "start_time": "2022-08-01T17:29:34.903Z"
   },
   {
    "duration": 10,
    "start_time": "2022-08-01T17:29:34.911Z"
   },
   {
    "duration": 22,
    "start_time": "2022-08-01T17:29:34.923Z"
   },
   {
    "duration": 11,
    "start_time": "2022-08-01T17:29:34.947Z"
   },
   {
    "duration": 269,
    "start_time": "2022-08-01T17:29:34.960Z"
   },
   {
    "duration": 12,
    "start_time": "2022-08-01T17:29:35.231Z"
   },
   {
    "duration": 229,
    "start_time": "2022-08-01T17:30:00.579Z"
   },
   {
    "duration": 1134,
    "start_time": "2022-08-01T17:30:06.058Z"
   },
   {
    "duration": 60,
    "start_time": "2022-08-01T17:30:07.194Z"
   },
   {
    "duration": 22,
    "start_time": "2022-08-01T17:30:07.255Z"
   },
   {
    "duration": 9,
    "start_time": "2022-08-01T17:30:07.279Z"
   },
   {
    "duration": 25,
    "start_time": "2022-08-01T17:30:07.289Z"
   },
   {
    "duration": 16,
    "start_time": "2022-08-01T17:30:07.316Z"
   },
   {
    "duration": 14,
    "start_time": "2022-08-01T17:30:07.334Z"
   },
   {
    "duration": 12,
    "start_time": "2022-08-01T17:30:07.350Z"
   },
   {
    "duration": 37,
    "start_time": "2022-08-01T17:30:07.364Z"
   },
   {
    "duration": 15,
    "start_time": "2022-08-01T17:30:07.404Z"
   },
   {
    "duration": 6,
    "start_time": "2022-08-01T17:30:07.420Z"
   },
   {
    "duration": 15,
    "start_time": "2022-08-01T17:30:07.428Z"
   },
   {
    "duration": 13,
    "start_time": "2022-08-01T17:30:07.445Z"
   },
   {
    "duration": 4,
    "start_time": "2022-08-01T17:30:07.460Z"
   },
   {
    "duration": 10,
    "start_time": "2022-08-01T17:30:07.465Z"
   },
   {
    "duration": 29,
    "start_time": "2022-08-01T17:30:07.476Z"
   },
   {
    "duration": 16,
    "start_time": "2022-08-01T17:30:07.507Z"
   },
   {
    "duration": 8,
    "start_time": "2022-08-01T17:30:07.525Z"
   },
   {
    "duration": 16,
    "start_time": "2022-08-01T17:30:07.534Z"
   },
   {
    "duration": 10,
    "start_time": "2022-08-01T17:30:07.552Z"
   },
   {
    "duration": 37,
    "start_time": "2022-08-01T17:30:07.564Z"
   },
   {
    "duration": 40,
    "start_time": "2022-08-01T17:30:07.602Z"
   },
   {
    "duration": 33,
    "start_time": "2022-08-01T17:30:07.643Z"
   },
   {
    "duration": 31,
    "start_time": "2022-08-01T17:30:07.678Z"
   },
   {
    "duration": 212,
    "start_time": "2022-08-01T17:30:07.711Z"
   },
   {
    "duration": 11,
    "start_time": "2022-08-01T17:30:07.924Z"
   },
   {
    "duration": 136,
    "start_time": "2022-08-01T17:30:07.936Z"
   },
   {
    "duration": 31,
    "start_time": "2022-08-01T17:30:08.075Z"
   },
   {
    "duration": 242,
    "start_time": "2022-08-01T17:30:08.108Z"
   },
   {
    "duration": 10,
    "start_time": "2022-08-01T17:30:08.351Z"
   },
   {
    "duration": 1278,
    "start_time": "2022-08-01T17:30:08.362Z"
   },
   {
    "duration": 232,
    "start_time": "2022-08-01T17:30:09.642Z"
   },
   {
    "duration": 10,
    "start_time": "2022-08-01T17:30:09.875Z"
   },
   {
    "duration": 28,
    "start_time": "2022-08-01T17:30:09.886Z"
   },
   {
    "duration": 69,
    "start_time": "2022-08-01T17:30:09.915Z"
   },
   {
    "duration": 24,
    "start_time": "2022-08-01T17:30:09.986Z"
   },
   {
    "duration": 247,
    "start_time": "2022-08-01T17:30:10.011Z"
   },
   {
    "duration": 1956,
    "start_time": "2022-08-01T17:30:10.260Z"
   },
   {
    "duration": 92,
    "start_time": "2022-08-01T17:30:12.217Z"
   },
   {
    "duration": 10,
    "start_time": "2022-08-01T17:30:12.310Z"
   },
   {
    "duration": 11,
    "start_time": "2022-08-01T17:30:12.321Z"
   },
   {
    "duration": 68,
    "start_time": "2022-08-01T17:30:12.334Z"
   },
   {
    "duration": 9,
    "start_time": "2022-08-01T17:30:12.403Z"
   },
   {
    "duration": 13,
    "start_time": "2022-08-01T17:30:12.413Z"
   },
   {
    "duration": 23,
    "start_time": "2022-08-01T17:30:12.428Z"
   },
   {
    "duration": 10,
    "start_time": "2022-08-01T17:30:12.501Z"
   },
   {
    "duration": 10,
    "start_time": "2022-08-01T17:30:12.513Z"
   },
   {
    "duration": 10,
    "start_time": "2022-08-01T17:30:12.525Z"
   },
   {
    "duration": 11,
    "start_time": "2022-08-01T17:30:12.536Z"
   },
   {
    "duration": 57,
    "start_time": "2022-08-01T17:30:12.548Z"
   },
   {
    "duration": 25,
    "start_time": "2022-08-01T17:30:12.607Z"
   },
   {
    "duration": 11,
    "start_time": "2022-08-01T17:30:12.633Z"
   },
   {
    "duration": 556,
    "start_time": "2022-08-01T17:30:12.645Z"
   },
   {
    "duration": 11,
    "start_time": "2022-08-01T17:30:13.202Z"
   },
   {
    "duration": 255,
    "start_time": "2022-08-01T17:31:00.957Z"
   },
   {
    "duration": 232,
    "start_time": "2022-08-01T17:31:10.644Z"
   },
   {
    "duration": 233,
    "start_time": "2022-08-01T17:35:01.416Z"
   },
   {
    "duration": 228,
    "start_time": "2022-08-01T17:35:17.695Z"
   },
   {
    "duration": 12,
    "start_time": "2022-08-01T17:40:21.602Z"
   },
   {
    "duration": 16,
    "start_time": "2022-08-01T17:40:32.520Z"
   },
   {
    "duration": 16,
    "start_time": "2022-08-01T17:40:53.553Z"
   },
   {
    "duration": 17,
    "start_time": "2022-08-01T17:41:50.995Z"
   },
   {
    "duration": 109,
    "start_time": "2022-08-01T17:42:16.465Z"
   },
   {
    "duration": 366,
    "start_time": "2022-08-01T17:42:49.177Z"
   },
   {
    "duration": 84,
    "start_time": "2022-08-01T17:43:45.457Z"
   },
   {
    "duration": 308,
    "start_time": "2022-08-01T17:43:50.105Z"
   },
   {
    "duration": 1164,
    "start_time": "2022-08-01T17:48:59.327Z"
   },
   {
    "duration": 63,
    "start_time": "2022-08-01T17:49:00.493Z"
   },
   {
    "duration": 21,
    "start_time": "2022-08-01T17:49:00.558Z"
   },
   {
    "duration": 17,
    "start_time": "2022-08-01T17:49:00.581Z"
   },
   {
    "duration": 27,
    "start_time": "2022-08-01T17:49:00.600Z"
   },
   {
    "duration": 12,
    "start_time": "2022-08-01T17:49:00.629Z"
   },
   {
    "duration": 15,
    "start_time": "2022-08-01T17:49:00.643Z"
   },
   {
    "duration": 12,
    "start_time": "2022-08-01T17:49:00.660Z"
   },
   {
    "duration": 34,
    "start_time": "2022-08-01T17:49:00.673Z"
   },
   {
    "duration": 20,
    "start_time": "2022-08-01T17:49:00.709Z"
   },
   {
    "duration": 6,
    "start_time": "2022-08-01T17:49:00.730Z"
   },
   {
    "duration": 21,
    "start_time": "2022-08-01T17:49:00.738Z"
   },
   {
    "duration": 25,
    "start_time": "2022-08-01T17:49:00.760Z"
   },
   {
    "duration": 18,
    "start_time": "2022-08-01T17:49:00.786Z"
   },
   {
    "duration": 23,
    "start_time": "2022-08-01T17:49:00.806Z"
   },
   {
    "duration": 29,
    "start_time": "2022-08-01T17:49:00.831Z"
   },
   {
    "duration": 28,
    "start_time": "2022-08-01T17:49:00.862Z"
   },
   {
    "duration": 9,
    "start_time": "2022-08-01T17:49:00.892Z"
   },
   {
    "duration": 29,
    "start_time": "2022-08-01T17:49:00.903Z"
   },
   {
    "duration": 21,
    "start_time": "2022-08-01T17:49:00.934Z"
   },
   {
    "duration": 44,
    "start_time": "2022-08-01T17:49:00.956Z"
   },
   {
    "duration": 71,
    "start_time": "2022-08-01T17:49:01.001Z"
   },
   {
    "duration": 36,
    "start_time": "2022-08-01T17:49:01.074Z"
   },
   {
    "duration": 25,
    "start_time": "2022-08-01T17:49:01.112Z"
   },
   {
    "duration": 217,
    "start_time": "2022-08-01T17:49:01.139Z"
   },
   {
    "duration": 11,
    "start_time": "2022-08-01T17:49:01.359Z"
   },
   {
    "duration": 172,
    "start_time": "2022-08-01T17:49:01.372Z"
   },
   {
    "duration": 21,
    "start_time": "2022-08-01T17:49:01.549Z"
   },
   {
    "duration": 259,
    "start_time": "2022-08-01T17:49:01.572Z"
   },
   {
    "duration": 10,
    "start_time": "2022-08-01T17:49:01.832Z"
   },
   {
    "duration": 1301,
    "start_time": "2022-08-01T17:49:01.844Z"
   },
   {
    "duration": 15,
    "start_time": "2022-08-01T17:49:03.147Z"
   },
   {
    "duration": 330,
    "start_time": "2022-08-01T17:49:03.164Z"
   },
   {
    "duration": 12,
    "start_time": "2022-08-01T17:49:03.495Z"
   },
   {
    "duration": 84,
    "start_time": "2022-08-01T17:49:03.508Z"
   },
   {
    "duration": 78,
    "start_time": "2022-08-01T17:49:03.594Z"
   },
   {
    "duration": 14,
    "start_time": "2022-08-01T17:49:03.674Z"
   },
   {
    "duration": 325,
    "start_time": "2022-08-01T17:49:03.690Z"
   },
   {
    "duration": 2381,
    "start_time": "2022-08-01T17:49:04.017Z"
   },
   {
    "duration": 37,
    "start_time": "2022-08-01T17:49:06.399Z"
   },
   {
    "duration": 11,
    "start_time": "2022-08-01T17:49:06.438Z"
   },
   {
    "duration": 11,
    "start_time": "2022-08-01T17:49:06.450Z"
   },
   {
    "duration": 41,
    "start_time": "2022-08-01T17:49:06.462Z"
   },
   {
    "duration": 20,
    "start_time": "2022-08-01T17:49:06.505Z"
   },
   {
    "duration": 24,
    "start_time": "2022-08-01T17:49:06.526Z"
   },
   {
    "duration": 15,
    "start_time": "2022-08-01T17:49:06.551Z"
   },
   {
    "duration": 12,
    "start_time": "2022-08-01T17:49:06.568Z"
   },
   {
    "duration": 18,
    "start_time": "2022-08-01T17:49:06.581Z"
   },
   {
    "duration": 20,
    "start_time": "2022-08-01T17:49:06.600Z"
   },
   {
    "duration": 17,
    "start_time": "2022-08-01T17:49:06.622Z"
   },
   {
    "duration": 20,
    "start_time": "2022-08-01T17:49:06.640Z"
   },
   {
    "duration": 32,
    "start_time": "2022-08-01T17:49:06.662Z"
   },
   {
    "duration": 11,
    "start_time": "2022-08-01T17:49:06.695Z"
   },
   {
    "duration": 224,
    "start_time": "2022-08-01T17:49:06.707Z"
   },
   {
    "duration": 11,
    "start_time": "2022-08-01T17:49:06.933Z"
   },
   {
    "duration": 239,
    "start_time": "2022-08-01T17:50:24.428Z"
   },
   {
    "duration": 1191,
    "start_time": "2022-08-01T18:30:35.402Z"
   },
   {
    "duration": 64,
    "start_time": "2022-08-01T18:30:36.594Z"
   },
   {
    "duration": 23,
    "start_time": "2022-08-01T18:30:36.659Z"
   },
   {
    "duration": 7,
    "start_time": "2022-08-01T18:30:36.684Z"
   },
   {
    "duration": 26,
    "start_time": "2022-08-01T18:30:36.692Z"
   },
   {
    "duration": 12,
    "start_time": "2022-08-01T18:30:36.720Z"
   },
   {
    "duration": 20,
    "start_time": "2022-08-01T18:30:36.733Z"
   },
   {
    "duration": 8,
    "start_time": "2022-08-01T18:30:36.754Z"
   },
   {
    "duration": 39,
    "start_time": "2022-08-01T18:30:36.763Z"
   },
   {
    "duration": 18,
    "start_time": "2022-08-01T18:30:36.805Z"
   },
   {
    "duration": 7,
    "start_time": "2022-08-01T18:30:36.825Z"
   },
   {
    "duration": 11,
    "start_time": "2022-08-01T18:30:36.834Z"
   },
   {
    "duration": 13,
    "start_time": "2022-08-01T18:30:36.847Z"
   },
   {
    "duration": 3,
    "start_time": "2022-08-01T18:30:36.862Z"
   },
   {
    "duration": 39,
    "start_time": "2022-08-01T18:30:36.867Z"
   },
   {
    "duration": 5,
    "start_time": "2022-08-01T18:30:36.908Z"
   },
   {
    "duration": 24,
    "start_time": "2022-08-01T18:30:36.915Z"
   },
   {
    "duration": 9,
    "start_time": "2022-08-01T18:30:36.940Z"
   },
   {
    "duration": 10,
    "start_time": "2022-08-01T18:30:36.950Z"
   },
   {
    "duration": 9,
    "start_time": "2022-08-01T18:30:36.962Z"
   },
   {
    "duration": 36,
    "start_time": "2022-08-01T18:30:36.973Z"
   },
   {
    "duration": 40,
    "start_time": "2022-08-01T18:30:37.011Z"
   },
   {
    "duration": 48,
    "start_time": "2022-08-01T18:30:37.053Z"
   },
   {
    "duration": 14,
    "start_time": "2022-08-01T18:30:37.103Z"
   },
   {
    "duration": 225,
    "start_time": "2022-08-01T18:30:37.119Z"
   },
   {
    "duration": 11,
    "start_time": "2022-08-01T18:30:37.346Z"
   },
   {
    "duration": 143,
    "start_time": "2022-08-01T18:30:37.359Z"
   },
   {
    "duration": 21,
    "start_time": "2022-08-01T18:30:37.506Z"
   },
   {
    "duration": 259,
    "start_time": "2022-08-01T18:30:37.528Z"
   },
   {
    "duration": 15,
    "start_time": "2022-08-01T18:30:37.788Z"
   },
   {
    "duration": 1425,
    "start_time": "2022-08-01T18:30:37.805Z"
   },
   {
    "duration": 19,
    "start_time": "2022-08-01T18:30:39.232Z"
   },
   {
    "duration": 345,
    "start_time": "2022-08-01T18:30:39.252Z"
   },
   {
    "duration": 11,
    "start_time": "2022-08-01T18:30:39.600Z"
   },
   {
    "duration": 22,
    "start_time": "2022-08-01T18:30:39.613Z"
   },
   {
    "duration": 100,
    "start_time": "2022-08-01T18:30:39.637Z"
   },
   {
    "duration": 16,
    "start_time": "2022-08-01T18:30:39.739Z"
   },
   {
    "duration": 275,
    "start_time": "2022-08-01T18:30:39.757Z"
   },
   {
    "duration": 2485,
    "start_time": "2022-08-01T18:30:40.034Z"
   },
   {
    "duration": 35,
    "start_time": "2022-08-01T18:30:42.521Z"
   },
   {
    "duration": 8,
    "start_time": "2022-08-01T18:30:42.558Z"
   },
   {
    "duration": 10,
    "start_time": "2022-08-01T18:30:42.568Z"
   },
   {
    "duration": 37,
    "start_time": "2022-08-01T18:30:42.580Z"
   },
   {
    "duration": 8,
    "start_time": "2022-08-01T18:30:42.618Z"
   },
   {
    "duration": 12,
    "start_time": "2022-08-01T18:30:42.628Z"
   },
   {
    "duration": 12,
    "start_time": "2022-08-01T18:30:42.641Z"
   },
   {
    "duration": 12,
    "start_time": "2022-08-01T18:30:42.655Z"
   },
   {
    "duration": 10,
    "start_time": "2022-08-01T18:30:42.668Z"
   },
   {
    "duration": 28,
    "start_time": "2022-08-01T18:30:42.680Z"
   },
   {
    "duration": 9,
    "start_time": "2022-08-01T18:30:42.710Z"
   },
   {
    "duration": 11,
    "start_time": "2022-08-01T18:30:42.720Z"
   },
   {
    "duration": 22,
    "start_time": "2022-08-01T18:30:42.733Z"
   },
   {
    "duration": 10,
    "start_time": "2022-08-01T18:30:42.756Z"
   },
   {
    "duration": 258,
    "start_time": "2022-08-01T18:30:42.767Z"
   },
   {
    "duration": 10,
    "start_time": "2022-08-01T18:30:43.026Z"
   }
  ],
  "kernelspec": {
   "display_name": "Python 3 (ipykernel)",
   "language": "python",
   "name": "python3"
  },
  "language_info": {
   "codemirror_mode": {
    "name": "ipython",
    "version": 3
   },
   "file_extension": ".py",
   "mimetype": "text/x-python",
   "name": "python",
   "nbconvert_exporter": "python",
   "pygments_lexer": "ipython3",
   "version": "3.9.7"
  },
  "toc": {
   "base_numbering": 1,
   "nav_menu": {},
   "number_sections": true,
   "sideBar": true,
   "skip_h1_title": true,
   "title_cell": "Table of Contents",
   "title_sidebar": "Contents",
   "toc_cell": false,
   "toc_position": {
    "height": "calc(100% - 180px)",
    "left": "10px",
    "top": "150px",
    "width": "366.391px"
   },
   "toc_section_display": true,
   "toc_window_display": false
  }
 },
 "nbformat": 4,
 "nbformat_minor": 2
}
